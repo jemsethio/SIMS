{
 "cells": [
  {
   "cell_type": "code",
   "execution_count": 1,
   "metadata": {
    "collapsed": true
   },
   "outputs": [],
   "source": [
    "import pandas as pd"
   ]
  },
  {
   "cell_type": "code",
   "execution_count": null,
   "metadata": {
    "collapsed": true
   },
   "outputs": [],
   "source": [
    "dpath "
   ]
  },
  {
   "cell_type": "code",
   "execution_count": 5,
   "metadata": {
    "collapsed": true
   },
   "outputs": [],
   "source": [
    "data = pd.read_excel('/Users/nicolasf/operational/clidesc/WorldBank/data/station_list_Solomon.xlsx', index_col=0)"
   ]
  },
  {
   "cell_type": "code",
   "execution_count": 6,
   "metadata": {
    "collapsed": false
   },
   "outputs": [
    {
     "data": {
      "text/html": [
       "<div>\n",
       "<table border=\"1\" class=\"dataframe\">\n",
       "  <thead>\n",
       "    <tr style=\"text-align: right;\">\n",
       "      <th></th>\n",
       "      <th>index</th>\n",
       "      <th>id</th>\n",
       "      <th>station_no</th>\n",
       "      <th>status_id</th>\n",
       "      <th>time_zone</th>\n",
       "      <th>id_aero</th>\n",
       "      <th>id_imo</th>\n",
       "      <th>id_marine</th>\n",
       "      <th>id_wmo</th>\n",
       "      <th>id_hydro</th>\n",
       "      <th>...</th>\n",
       "      <th>catchment</th>\n",
       "      <th>authority</th>\n",
       "      <th>lu_0_100m</th>\n",
       "      <th>lu_100m_1km</th>\n",
       "      <th>lu_1km_10km</th>\n",
       "      <th>soil_type</th>\n",
       "      <th>surface_type</th>\n",
       "      <th>critical_river_height</th>\n",
       "      <th>location_datum</th>\n",
       "      <th>location_epsg</th>\n",
       "    </tr>\n",
       "  </thead>\n",
       "  <tbody>\n",
       "    <tr>\n",
       "      <th>0</th>\n",
       "      <td>0</td>\n",
       "      <td>38</td>\n",
       "      <td>CENT0010</td>\n",
       "      <td>2</td>\n",
       "      <td>SB</td>\n",
       "      <td>NaN</td>\n",
       "      <td>NaN</td>\n",
       "      <td>NaN</td>\n",
       "      <td>NaN</td>\n",
       "      <td>NaN</td>\n",
       "      <td>...</td>\n",
       "      <td>NaN</td>\n",
       "      <td>Livers Company Limited</td>\n",
       "      <td>NaN</td>\n",
       "      <td>NaN</td>\n",
       "      <td>NaN</td>\n",
       "      <td>NaN</td>\n",
       "      <td>NaN</td>\n",
       "      <td>NaN</td>\n",
       "      <td>NaN</td>\n",
       "      <td>NaN</td>\n",
       "    </tr>\n",
       "    <tr>\n",
       "      <th>1</th>\n",
       "      <td>1</td>\n",
       "      <td>29</td>\n",
       "      <td>CHOI0010</td>\n",
       "      <td>1</td>\n",
       "      <td>SB</td>\n",
       "      <td>NaN</td>\n",
       "      <td>NaN</td>\n",
       "      <td>NaN</td>\n",
       "      <td>91502.0</td>\n",
       "      <td>NaN</td>\n",
       "      <td>...</td>\n",
       "      <td>NaN</td>\n",
       "      <td>SIMS</td>\n",
       "      <td>NaN</td>\n",
       "      <td>NaN</td>\n",
       "      <td>NaN</td>\n",
       "      <td>NaN</td>\n",
       "      <td>NaN</td>\n",
       "      <td>NaN</td>\n",
       "      <td>NaN</td>\n",
       "      <td>NaN</td>\n",
       "    </tr>\n",
       "    <tr>\n",
       "      <th>2</th>\n",
       "      <td>2</td>\n",
       "      <td>39</td>\n",
       "      <td>CHOI0020</td>\n",
       "      <td>2</td>\n",
       "      <td>SB</td>\n",
       "      <td>NaN</td>\n",
       "      <td>NaN</td>\n",
       "      <td>NaN</td>\n",
       "      <td>NaN</td>\n",
       "      <td>NaN</td>\n",
       "      <td>...</td>\n",
       "      <td>NaN</td>\n",
       "      <td>Traders</td>\n",
       "      <td>NaN</td>\n",
       "      <td>NaN</td>\n",
       "      <td>NaN</td>\n",
       "      <td>NaN</td>\n",
       "      <td>NaN</td>\n",
       "      <td>NaN</td>\n",
       "      <td>NaN</td>\n",
       "      <td>NaN</td>\n",
       "    </tr>\n",
       "    <tr>\n",
       "      <th>3</th>\n",
       "      <td>3</td>\n",
       "      <td>35</td>\n",
       "      <td>CHOI0030</td>\n",
       "      <td>2</td>\n",
       "      <td>SB</td>\n",
       "      <td>NaN</td>\n",
       "      <td>NaN</td>\n",
       "      <td>NaN</td>\n",
       "      <td>NaN</td>\n",
       "      <td>NaN</td>\n",
       "      <td>...</td>\n",
       "      <td>NaN</td>\n",
       "      <td>SIMS</td>\n",
       "      <td>NaN</td>\n",
       "      <td>NaN</td>\n",
       "      <td>NaN</td>\n",
       "      <td>NaN</td>\n",
       "      <td>NaN</td>\n",
       "      <td>NaN</td>\n",
       "      <td>NaN</td>\n",
       "      <td>NaN</td>\n",
       "    </tr>\n",
       "    <tr>\n",
       "      <th>4</th>\n",
       "      <td>4</td>\n",
       "      <td>130</td>\n",
       "      <td>CHOI0032</td>\n",
       "      <td>3</td>\n",
       "      <td>SB</td>\n",
       "      <td>NaN</td>\n",
       "      <td>NaN</td>\n",
       "      <td>NaN</td>\n",
       "      <td>NaN</td>\n",
       "      <td>NaN</td>\n",
       "      <td>...</td>\n",
       "      <td>NaN</td>\n",
       "      <td>NaN</td>\n",
       "      <td>NaN</td>\n",
       "      <td>NaN</td>\n",
       "      <td>NaN</td>\n",
       "      <td>NaN</td>\n",
       "      <td>NaN</td>\n",
       "      <td>NaN</td>\n",
       "      <td>NaN</td>\n",
       "      <td>NaN</td>\n",
       "    </tr>\n",
       "  </tbody>\n",
       "</table>\n",
       "<p>5 rows × 35 columns</p>\n",
       "</div>"
      ],
      "text/plain": [
       "   index   id station_no  status_id time_zone id_aero  id_imo  id_marine  \\\n",
       "0      0   38   CENT0010          2        SB     NaN     NaN        NaN   \n",
       "1      1   29   CHOI0010          1        SB     NaN     NaN        NaN   \n",
       "2      2   39   CHOI0020          2        SB     NaN     NaN        NaN   \n",
       "3      3   35   CHOI0030          2        SB     NaN     NaN        NaN   \n",
       "4      4  130   CHOI0032          3        SB     NaN     NaN        NaN   \n",
       "\n",
       "    id_wmo  id_hydro      ...        catchment               authority  \\\n",
       "0      NaN       NaN      ...              NaN  Livers Company Limited   \n",
       "1  91502.0       NaN      ...              NaN                    SIMS   \n",
       "2      NaN       NaN      ...              NaN                 Traders   \n",
       "3      NaN       NaN      ...              NaN                    SIMS   \n",
       "4      NaN       NaN      ...              NaN                     NaN   \n",
       "\n",
       "   lu_0_100m lu_100m_1km lu_1km_10km soil_type surface_type  \\\n",
       "0        NaN         NaN         NaN       NaN          NaN   \n",
       "1        NaN         NaN         NaN       NaN          NaN   \n",
       "2        NaN         NaN         NaN       NaN          NaN   \n",
       "3        NaN         NaN         NaN       NaN          NaN   \n",
       "4        NaN         NaN         NaN       NaN          NaN   \n",
       "\n",
       "   critical_river_height  location_datum  location_epsg  \n",
       "0                    NaN             NaN            NaN  \n",
       "1                    NaN             NaN            NaN  \n",
       "2                    NaN             NaN            NaN  \n",
       "3                    NaN             NaN            NaN  \n",
       "4                    NaN             NaN            NaN  \n",
       "\n",
       "[5 rows x 35 columns]"
      ]
     },
     "execution_count": 6,
     "metadata": {},
     "output_type": "execute_result"
    }
   ],
   "source": [
    "data.head()"
   ]
  },
  {
   "cell_type": "code",
   "execution_count": 8,
   "metadata": {
    "collapsed": false
   },
   "outputs": [],
   "source": [
    "data = data.loc[:,['name_primary','name_secondary','latitude','longitude']]"
   ]
  },
  {
   "cell_type": "code",
   "execution_count": 11,
   "metadata": {
    "collapsed": false
   },
   "outputs": [
    {
     "data": {
      "text/html": [
       "<div>\n",
       "<table border=\"1\" class=\"dataframe\">\n",
       "  <thead>\n",
       "    <tr style=\"text-align: right;\">\n",
       "      <th></th>\n",
       "      <th>name_primary</th>\n",
       "      <th>name_secondary</th>\n",
       "      <th>latitude</th>\n",
       "      <th>longitude</th>\n",
       "    </tr>\n",
       "  </thead>\n",
       "  <tbody>\n",
       "    <tr>\n",
       "      <th>37</th>\n",
       "      <td>Seghe</td>\n",
       "      <td>NaN</td>\n",
       "      <td>-8.5667</td>\n",
       "      <td>157.8833</td>\n",
       "    </tr>\n",
       "    <tr>\n",
       "      <th>38</th>\n",
       "      <td>Uepi</td>\n",
       "      <td>NaN</td>\n",
       "      <td>-8.4167</td>\n",
       "      <td>157.9500</td>\n",
       "    </tr>\n",
       "    <tr>\n",
       "      <th>39</th>\n",
       "      <td>Batuna</td>\n",
       "      <td>NaN</td>\n",
       "      <td>-6.5833</td>\n",
       "      <td>158.1167</td>\n",
       "    </tr>\n",
       "    <tr>\n",
       "      <th>40</th>\n",
       "      <td>Gibiri</td>\n",
       "      <td>AutoRain</td>\n",
       "      <td>-7.7058</td>\n",
       "      <td>156.7256</td>\n",
       "    </tr>\n",
       "    <tr>\n",
       "      <th>41</th>\n",
       "      <td>Mbeulah</td>\n",
       "      <td>AutoRain</td>\n",
       "      <td>-8.2632</td>\n",
       "      <td>157.4279</td>\n",
       "    </tr>\n",
       "  </tbody>\n",
       "</table>\n",
       "</div>"
      ],
      "text/plain": [
       "   name_primary name_secondary  latitude  longitude\n",
       "37        Seghe            NaN   -8.5667   157.8833\n",
       "38         Uepi            NaN   -8.4167   157.9500\n",
       "39       Batuna            NaN   -6.5833   158.1167\n",
       "40       Gibiri       AutoRain   -7.7058   156.7256\n",
       "41      Mbeulah       AutoRain   -8.2632   157.4279"
      ]
     },
     "execution_count": 11,
     "metadata": {},
     "output_type": "execute_result"
    }
   ],
   "source": [
    "data.tail()"
   ]
  },
  {
   "cell_type": "code",
   "execution_count": 12,
   "metadata": {
    "collapsed": true
   },
   "outputs": [],
   "source": [
    "data.to_csv('/Users/nicolasf/operational/clidesc/WorldBank/data/station_list_Solomon_lat_lon.csv')"
   ]
  },
  {
   "cell_type": "code",
   "execution_count": null,
   "metadata": {
    "collapsed": true
   },
   "outputs": [],
   "source": []
  }
 ],
 "metadata": {
  "kernelspec": {
   "display_name": "Python 3",
   "language": "python",
   "name": "python3"
  },
  "language_info": {
   "codemirror_mode": {
    "name": "ipython",
    "version": 3
   },
   "file_extension": ".py",
   "mimetype": "text/x-python",
   "name": "python",
   "nbconvert_exporter": "python",
   "pygments_lexer": "ipython3",
   "version": "3.5.2"
  }
 },
 "nbformat": 4,
 "nbformat_minor": 0
}
