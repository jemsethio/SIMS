{
 "cells": [
  {
   "cell_type": "markdown",
   "metadata": {},
   "source": [
    "### TRMM PNG monitoring"
   ]
  },
  {
   "cell_type": "code",
   "execution_count": 1,
   "metadata": {
    "collapsed": true
   },
   "outputs": [],
   "source": [
    "%matplotlib inline\n",
    "from matplotlib import pyplot as plt\n",
    "from mpl_toolkits.basemap import Basemap as bm\n",
    "from mpl_toolkits.basemap import maskoceans, interp"
   ]
  },
  {
   "cell_type": "code",
   "execution_count": 2,
   "metadata": {
    "collapsed": true
   },
   "outputs": [],
   "source": [
    "import numpy as np\n",
    "import pandas as pd\n",
    "import xarray as xray\n",
    "from netCDF4 import MFDataset\n",
    "from datetime import datetime, timedelta\n",
    "from glob import glob\n",
    "import palettable\n",
    "import folium\n",
    "from folium.map import FeatureGroup"
   ]
  },
  {
   "cell_type": "code",
   "execution_count": 3,
   "metadata": {
    "collapsed": false
   },
   "outputs": [],
   "source": [
    "import io\n",
    "import base64"
   ]
  },
  {
   "cell_type": "code",
   "execution_count": 4,
   "metadata": {
    "collapsed": true
   },
   "outputs": [],
   "source": [
    "import warnings\n",
    "warnings.simplefilter(action = \"ignore\", category = FutureWarning)"
   ]
  },
  {
   "cell_type": "code",
   "execution_count": 5,
   "metadata": {
    "collapsed": true
   },
   "outputs": [],
   "source": [
    "dpath = '/Users/nicolasf/data/TRMM/daily/'\n",
    "climpath = '/Users/nicolasf/data/TRMM/climatology/daily/2001_2015/'"
   ]
  },
  {
   "cell_type": "code",
   "execution_count": 6,
   "metadata": {
    "collapsed": true
   },
   "outputs": [],
   "source": [
    "def read_netcdfs(files, dim, transform_func=None):\n",
    "    def process_one_path(path):\n",
    "        # use a context manager, to ensure the file gets closed after use\n",
    "        with xray.open_dataset(path) as ds:\n",
    "            # transform_func should do some sort of selection or\n",
    "            # aggregation\n",
    "            if transform_func is not None:\n",
    "                ds = transform_func(ds)\n",
    "            # load all data from the transformed dataset, to ensure we can\n",
    "            # use it after closing each original file\n",
    "            ds.load()\n",
    "            return ds\n",
    "\n",
    "    #paths = sorted(glob(files))\n",
    "    datasets = [process_one_path(p) for p in files]\n",
    "    combined = xray.concat(datasets, dim)\n",
    "    return combined"
   ]
  },
  {
   "cell_type": "markdown",
   "metadata": {},
   "source": [
    "### set up the domain "
   ]
  },
  {
   "cell_type": "code",
   "execution_count": 7,
   "metadata": {
    "collapsed": true
   },
   "outputs": [],
   "source": [
    "domain = {'latmin':-13, 'lonmin':155., 'latmax':-5, 'lonmax':168.}"
   ]
  },
  {
   "cell_type": "markdown",
   "metadata": {},
   "source": [
    "### original resolution of the dataset"
   ]
  },
  {
   "cell_type": "code",
   "execution_count": 8,
   "metadata": {
    "collapsed": true
   },
   "outputs": [],
   "source": [
    "res = 0.25 "
   ]
  },
  {
   "cell_type": "markdown",
   "metadata": {},
   "source": [
    "### factor by which the resolution will be increased"
   ]
  },
  {
   "cell_type": "code",
   "execution_count": 9,
   "metadata": {
    "collapsed": true
   },
   "outputs": [],
   "source": [
    "interp_factor = 30"
   ]
  },
  {
   "cell_type": "markdown",
   "metadata": {},
   "source": [
    "### get the current TRMM date"
   ]
  },
  {
   "cell_type": "code",
   "execution_count": 10,
   "metadata": {
    "collapsed": true
   },
   "outputs": [],
   "source": [
    "today = datetime.utcnow()"
   ]
  },
  {
   "cell_type": "code",
   "execution_count": 11,
   "metadata": {
    "collapsed": false
   },
   "outputs": [
    {
     "data": {
      "text/plain": [
       "datetime.datetime(2016, 8, 8, 22, 41, 28, 543256)"
      ]
     },
     "execution_count": 11,
     "metadata": {},
     "output_type": "execute_result"
    }
   ],
   "source": [
    "today"
   ]
  },
  {
   "cell_type": "markdown",
   "metadata": {},
   "source": [
    "### lag is the lag in days"
   ]
  },
  {
   "cell_type": "code",
   "execution_count": 12,
   "metadata": {
    "collapsed": true
   },
   "outputs": [],
   "source": [
    "lag = 2"
   ]
  },
  {
   "cell_type": "code",
   "execution_count": 13,
   "metadata": {
    "collapsed": false
   },
   "outputs": [],
   "source": [
    "trmm_date = today - timedelta(days=lag)"
   ]
  },
  {
   "cell_type": "code",
   "execution_count": null,
   "metadata": {
    "collapsed": false
   },
   "outputs": [
    {
     "data": {
      "text/plain": [
       "datetime.datetime(2016, 8, 6, 22, 41, 28, 543256)"
      ]
     },
     "execution_count": 14,
     "metadata": {},
     "output_type": "execute_result"
    }
   ],
   "source": [
    "trmm_date"
   ]
  },
  {
   "cell_type": "markdown",
   "metadata": {},
   "source": [
    "### set up the map"
   ]
  },
  {
   "cell_type": "code",
   "execution_count": null,
   "metadata": {
    "collapsed": true
   },
   "outputs": [],
   "source": [
    "m = bm(projection='cyl', llcrnrlon=domain['lonmin']+0.25, \\\n",
    "              llcrnrlat=domain['latmin']+0.25, \\\n",
    "              urcrnrlon=domain['lonmax']-0.25, \\\n",
    "              urcrnrlat=domain['latmax']-0.25, resolution='f')"
   ]
  },
  {
   "cell_type": "code",
   "execution_count": null,
   "metadata": {
    "collapsed": true
   },
   "outputs": [],
   "source": [
    "# m = bm(projection='cyl', llcrnrlon=domain['lonmin'], \\\n",
    "#               llcrnrlat=domain['latmin'], \\\n",
    "#               urcrnrlon=domain['lonmax'], \\\n",
    "#               urcrnrlat=domain['latmax'], resolution='f')"
   ]
  },
  {
   "cell_type": "markdown",
   "metadata": {},
   "source": [
    "### ndays is the number of days to retrieve (i.e. last 30 days, last 60 days, etc)"
   ]
  },
  {
   "cell_type": "code",
   "execution_count": null,
   "metadata": {
    "collapsed": true
   },
   "outputs": [],
   "source": [
    "ndays = 90"
   ]
  },
  {
   "cell_type": "markdown",
   "metadata": {},
   "source": [
    "### creates the list of days "
   ]
  },
  {
   "cell_type": "code",
   "execution_count": null,
   "metadata": {
    "collapsed": true
   },
   "outputs": [],
   "source": [
    "realtime = pd.date_range(start=trmm_date - timedelta(days=ndays-1), end=trmm_date)"
   ]
  },
  {
   "cell_type": "code",
   "execution_count": null,
   "metadata": {
    "collapsed": false
   },
   "outputs": [],
   "source": [
    "realtime"
   ]
  },
  {
   "cell_type": "code",
   "execution_count": null,
   "metadata": {
    "collapsed": false
   },
   "outputs": [],
   "source": [
    "print(\"calculating realtime data for {:%Y-%m-%d} to {:%Y-%m-%d}\".format(realtime[0], realtime[-1]))"
   ]
  },
  {
   "cell_type": "code",
   "execution_count": null,
   "metadata": {
    "collapsed": true
   },
   "outputs": [],
   "source": [
    "lfiles = []\n",
    "for d in realtime: \n",
    "    fname  = dpath + \"3B42RT_daily.{}.nc\".format(d.strftime(\"%Y.%m.%d\"))\n",
    "    lfiles.append(fname)"
   ]
  },
  {
   "cell_type": "markdown",
   "metadata": {},
   "source": [
    "### reads the files"
   ]
  },
  {
   "cell_type": "code",
   "execution_count": null,
   "metadata": {
    "collapsed": false
   },
   "outputs": [],
   "source": [
    "dset_realtime = read_netcdfs(lfiles, 'time')"
   ]
  },
  {
   "cell_type": "markdown",
   "metadata": {},
   "source": [
    "### selects the domain"
   ]
  },
  {
   "cell_type": "code",
   "execution_count": null,
   "metadata": {
    "collapsed": false
   },
   "outputs": [],
   "source": [
    "dset_realtime = dset_realtime.sel(lat=slice(domain['latmin'], domain['latmax']), \\\n",
    "                                  lon=slice(domain['lonmin'], domain['lonmax']))"
   ]
  },
  {
   "cell_type": "markdown",
   "metadata": {},
   "source": [
    "### reads the climatology"
   ]
  },
  {
   "cell_type": "code",
   "execution_count": null,
   "metadata": {
    "collapsed": true
   },
   "outputs": [],
   "source": [
    "clim_files = []\n",
    "for d in realtime: \n",
    "    fname  = climpath + \"3B42_daily.{}.nc\".format(d.strftime(\"%m.%d\"))\n",
    "    clim_files.append(fname)"
   ]
  },
  {
   "cell_type": "code",
   "execution_count": null,
   "metadata": {
    "collapsed": false
   },
   "outputs": [],
   "source": [
    "dset_clim = read_netcdfs(clim_files, 'time')"
   ]
  },
  {
   "cell_type": "markdown",
   "metadata": {},
   "source": [
    "### selects the domain"
   ]
  },
  {
   "cell_type": "code",
   "execution_count": null,
   "metadata": {
    "collapsed": true
   },
   "outputs": [],
   "source": [
    "dset_clim = dset_clim.sel(lat=slice(domain['latmin'], domain['latmax']), \\\n",
    "                          lon=slice(domain['lonmin'], domain['lonmax']))"
   ]
  },
  {
   "cell_type": "markdown",
   "metadata": {},
   "source": [
    "### calculates the averages and cumulative rainfall"
   ]
  },
  {
   "cell_type": "code",
   "execution_count": null,
   "metadata": {
    "collapsed": true
   },
   "outputs": [],
   "source": [
    "clim_ave = dset_clim.mean('time')\n",
    "clim_sum = dset_clim.sum('time')"
   ]
  },
  {
   "cell_type": "code",
   "execution_count": null,
   "metadata": {
    "collapsed": true
   },
   "outputs": [],
   "source": [
    "realtime_ave = dset_realtime.mean('time')\n",
    "realtime_sum = dset_realtime.sum('time')"
   ]
  },
  {
   "cell_type": "code",
   "execution_count": null,
   "metadata": {
    "collapsed": false
   },
   "outputs": [],
   "source": [
    "realtime_ave"
   ]
  },
  {
   "cell_type": "code",
   "execution_count": null,
   "metadata": {
    "collapsed": false
   },
   "outputs": [],
   "source": [
    "realtime_ave['clim'] = (['lat','lon'], clim_ave['trmm'].data)\n",
    "realtime_sum['clim'] = (['lat','lon'], clim_sum['trmm'].data)"
   ]
  },
  {
   "cell_type": "markdown",
   "metadata": {},
   "source": [
    "### calculates the anomalies"
   ]
  },
  {
   "cell_type": "code",
   "execution_count": null,
   "metadata": {
    "collapsed": true
   },
   "outputs": [],
   "source": [
    "raw = realtime_sum['trmm']"
   ]
  },
  {
   "cell_type": "code",
   "execution_count": null,
   "metadata": {
    "collapsed": true
   },
   "outputs": [],
   "source": [
    "anoms = realtime_sum['trmm'] - realtime_sum['clim']"
   ]
  },
  {
   "cell_type": "code",
   "execution_count": null,
   "metadata": {
    "collapsed": true
   },
   "outputs": [],
   "source": [
    "anomsp = ((realtime_sum['trmm'] - realtime_sum['clim']) / realtime_sum['clim']) * 100."
   ]
  },
  {
   "cell_type": "code",
   "execution_count": null,
   "metadata": {
    "collapsed": true
   },
   "outputs": [],
   "source": [
    "pp = realtime_sum['trmm'] / realtime_sum['clim'] * 100."
   ]
  },
  {
   "cell_type": "markdown",
   "metadata": {},
   "source": [
    "### gets the cmap"
   ]
  },
  {
   "cell_type": "code",
   "execution_count": null,
   "metadata": {
    "collapsed": true
   },
   "outputs": [],
   "source": [
    "cmap_anoms = palettable.colorbrewer.diverging.BrBG_11.mpl_colormap"
   ]
  },
  {
   "cell_type": "markdown",
   "metadata": {},
   "source": [
    "### set up the dictionnary with the cities and their coordinates "
   ]
  },
  {
   "cell_type": "markdown",
   "metadata": {},
   "source": [
    "The coordinates can be viewed on geohack, follow the links on the right of the wikipedia page for the \n",
    "corresponding city"
   ]
  },
  {
   "cell_type": "code",
   "execution_count": null,
   "metadata": {
    "collapsed": true
   },
   "outputs": [],
   "source": [
    "# cities = {}\n",
    "# cities['Port Moresby'] = (-9.513639, 147.218806)\n",
    "# cities['Lae'] = (-6.73333, 147)\n",
    "# cities['Alotau'] = (-10.316667, 150.433333)\n",
    "# cities['Daru'] = (-9.083333, 143.2)\n",
    "# cities['Madang'] = (-5.216667, 145.8)\n",
    "# cities['Wewak'] = (-3.55, 143.633333)"
   ]
  },
  {
   "cell_type": "code",
   "execution_count": null,
   "metadata": {
    "collapsed": true
   },
   "outputs": [],
   "source": [
    "def round_10(x, how='down'):\n",
    "    import math\n",
    "    if how == 'up': \n",
    "        return int(math.ceil(x / 10.0)) * 10\n",
    "    elif how == 'down': \n",
    "        return int(math.floor(x / 10.0)) * 10"
   ]
  },
  {
   "cell_type": "code",
   "execution_count": null,
   "metadata": {
    "collapsed": false
   },
   "outputs": [],
   "source": [
    "def plot_cities(ax, cities): \n",
    "    for k in cities: \n",
    "        ax.plot(cities[k][1],cities[k][0], 'ro', transform=ax.transData)\n",
    "        ax.text(cities[k][1]+0.1,cities[k][0]+0.01, k, transform=ax.transData, \\\n",
    "                fontsize=14, color='#0B0B61')"
   ]
  },
  {
   "cell_type": "code",
   "execution_count": null,
   "metadata": {
    "collapsed": true
   },
   "outputs": [],
   "source": [
    "def get_limits(Dataarray, robust=True, robust_percentile=2, center=None): \n",
    "        # ravel and removes nans for calculation of intervals etc\n",
    "        calc_data = Dataarray.data\n",
    "        calc_data = np.ravel(calc_data[np.isfinite(calc_data)])\n",
    "\n",
    "        # the following is borrowed from xray\n",
    "        # see: plot.py in xray/xray/plot\n",
    "        vmin = np.percentile(calc_data, robust_percentile) if robust else calc_data.min()\n",
    "        vmax = np.percentile(calc_data, 100 - robust_percentile) if robust else calc_data.max()\n",
    "\n",
    "        del(calc_data)\n",
    "\n",
    "        # Simple heuristics for whether these data should  have a divergent map\n",
    "        divergent = ((vmin < 0) and (vmax > 0)) or center is not None\n",
    "\n",
    "        # Now set center to 0 so math below makes sense\n",
    "        if center is None:\n",
    "            center = 0\n",
    "\n",
    "        # A divergent map should be symmetric around the center value\n",
    "        if divergent:\n",
    "            vlim = max(abs(vmin - center), abs(vmax - center))\n",
    "            vmin, vmax = -vlim, vlim\n",
    "\n",
    "        # Now add in the centering value and set the limits\n",
    "        vmin += center\n",
    "        vmax += center\n",
    "        \n",
    "        vmin = round_10(vmin)\n",
    "        if center == 0: \n",
    "            vmax = round_10(vmax, how='up')\n",
    "        else: \n",
    "            vmax = round_10(vmax)\n",
    "            \n",
    "        \n",
    "        step = round_10((vmax - vmin) / 12)\n",
    "\n",
    "        return (vmin, vmax, step)"
   ]
  },
  {
   "cell_type": "code",
   "execution_count": null,
   "metadata": {
    "collapsed": true
   },
   "outputs": [],
   "source": [
    "def plot_map(m, Dataarray, vmin=None, vmax=None, step=None, title=\"\", units=\"\", draw_cities=True, \\\n",
    "             cmap=plt.get_cmap('Blues'), mask_oceans=True, extend='max'): \n",
    "    \n",
    "    lon = Dataarray.lon\n",
    "    lat = Dataarray.lat\n",
    "    \n",
    "    nlats = interp_factor * len(lat)\n",
    "    nlons = interp_factor * len(lon)\n",
    "    \n",
    "    lons = np.linspace(float(min(lon)),float(max(lon)),nlons)\n",
    "    lats = np.linspace(float(min(lat)),float(max(lat)),nlats)\n",
    "    \n",
    "    lons, lats = np.meshgrid(lons, lats)\n",
    "    \n",
    "    offset = np.diff(lons)[0][0] / 2.\n",
    "#     offset=0\n",
    "\n",
    "    x, y = m(lons-offset, lats-offset)\n",
    "    \n",
    "    if vmin is None or vmax is None or step is None: \n",
    "        vmin, vmax, step = get_limits(Dataarray)\n",
    "        \n",
    "    if ((vmin < 0) and (vmax > 0)): \n",
    "        ticks_range = list(np.arange(vmin, 0, step)) + list(np.arange(vmin, 0, step)[::-1]*-1)\n",
    "        ticks_range = np.array(ticks_range)\n",
    "    else: \n",
    "        ticks_range = np.arange(vmin, vmax+step, step)\n",
    "            \n",
    "    interp_array = interp(Dataarray.data,lon.data.flatten(),lat.data.flatten(),lons,lats,order=1)\n",
    "    \n",
    "    if mask_oceans: \n",
    "        # interpolate land/sea mask to topo grid, mask ocean values.\n",
    "        interp_array_m = maskoceans(lons, lats, interp_array, resolution='f', grid=1.25)\n",
    "    else: \n",
    "        interp_array_m = interp_array\n",
    "    # make contour plot (ocean values will be masked)\n",
    "    \n",
    "    f, ax = plt.subplots(figsize=(20,20 * np.divide(*interp_array_m.shape)))\n",
    "    f.subplots_adjust(left=0.1)\n",
    "\n",
    "    m.ax = ax\n",
    "    m.drawcoastlines(color='k')\n",
    "    m.drawcountries(linewidth=1)\n",
    "\n",
    "    meridians = np.arange(155., 170., 2.5)\n",
    "    parallels = np.arange(-15., -5., 2.5)\n",
    "\n",
    "    m.drawparallels(parallels, labels=[1,0,0,0], fontsize=18, linewidth=0.8, color='.8')\n",
    "    m.drawmeridians(meridians, labels=[0,0,0,1], fontsize=18, linewidth=0.8, color='.8')\n",
    "\n",
    "    m.drawrivers(color='steelblue')\n",
    "\n",
    "    im=m.contourf(x,y,interp_array_m,np.arange(vmin, vmax+step, step), cmap=cmap, extend=extend)\n",
    "\n",
    "    m.drawmapboundary(fill_color='steelblue')\n",
    "    \n",
    "    # add the copyright blob\n",
    "    text = u'\\N{Copyright Sign}' + ' Solomon Islands Meteorological Services \\n http://met.gov.sb'\n",
    "    ax.text(0.71,0.935, text, transform = ax.transAxes, fontdict={'size':14}, bbox=dict(facecolor='w', alpha=0.5))\n",
    "    \n",
    "    # set up the colorbar\n",
    "    cb = m.colorbar(im, location='right', \\\n",
    "                    ticks=ticks_range, \\\n",
    "                    size=\"3%\", \\\n",
    "                    boundaries=ticks_range,\\\n",
    "                    drawedges=True, \n",
    "                    extend=extend)\n",
    "    [l.set_fontsize(18) for l in cb.ax.get_yticklabels()]; \n",
    "    cb.set_label(units, fontsize=20)\n",
    "    \n",
    "    ax.set_title(title, fontsize=24)\n",
    "\n",
    "#     plot_cities(ax, cities)\n",
    "    \n",
    "    return f"
   ]
  },
  {
   "cell_type": "markdown",
   "metadata": {},
   "source": [
    "### plots the long term climatology"
   ]
  },
  {
   "cell_type": "code",
   "execution_count": null,
   "metadata": {
    "collapsed": false
   },
   "outputs": [],
   "source": [
    "title = 'Normal rainfall amounts (2000-2015) for the last {} days [{:%d %B} to {:%d %B}]\\n\\\n",
    "source: TRMM / TMPA-RT 3B42RT Rainfall estimates'\\\n",
    ".format(ndays, realtime[0],realtime[-1])"
   ]
  },
  {
   "cell_type": "code",
   "execution_count": null,
   "metadata": {
    "collapsed": true
   },
   "outputs": [],
   "source": [
    "vmin, vmax, step = get_limits(realtime_sum['clim'])"
   ]
  },
  {
   "cell_type": "code",
   "execution_count": null,
   "metadata": {
    "collapsed": false
   },
   "outputs": [],
   "source": [
    "f = plot_map(m, realtime_sum['clim'], title=title, units=\"mm\", draw_cities=True, \\\n",
    "             cmap=plt.get_cmap('BuGn'), extend='both', mask_oceans=False)"
   ]
  },
  {
   "cell_type": "code",
   "execution_count": null,
   "metadata": {
    "collapsed": false
   },
   "outputs": [],
   "source": [
    "f.savefig('../images/realtime_maskocean_CLIM_{}.png'.format(ndays), dpi=200)"
   ]
  },
  {
   "cell_type": "code",
   "execution_count": null,
   "metadata": {
    "collapsed": true
   },
   "outputs": [],
   "source": [
    "!open ../images/realtime_maskocean_CLIM_30.png"
   ]
  },
  {
   "cell_type": "markdown",
   "metadata": {},
   "source": [
    "### plots the last N days observed rainfall"
   ]
  },
  {
   "cell_type": "code",
   "execution_count": null,
   "metadata": {
    "collapsed": false
   },
   "outputs": [],
   "source": [
    "title = 'Observed rainfall amounts for the last {} days [{:%d %B %Y} to {:%d %B %Y}]\\n\\\n",
    "source: TRMM / TMPA-RT 3B42RT Rainfall estimates'\\\n",
    ".format(ndays, realtime[0],realtime[-1])"
   ]
  },
  {
   "cell_type": "code",
   "execution_count": null,
   "metadata": {
    "collapsed": false
   },
   "outputs": [],
   "source": [
    "f = plot_map(m, raw, vmin=vmin, vmax=vmax, step=step, title=title, units='mm', draw_cities=True, \\\n",
    "             cmap=plt.get_cmap('BuGn'), extend='both', mask_oceans=False)"
   ]
  },
  {
   "cell_type": "code",
   "execution_count": null,
   "metadata": {
    "collapsed": false
   },
   "outputs": [],
   "source": [
    "f.savefig('../images/realtime_maskocean_OBS_{}.png'.format(ndays), dpi=200)"
   ]
  },
  {
   "cell_type": "markdown",
   "metadata": {},
   "source": [
    "### plots the anomalies in mm"
   ]
  },
  {
   "cell_type": "code",
   "execution_count": null,
   "metadata": {
    "collapsed": true
   },
   "outputs": [],
   "source": [
    "title = 'Rainfall anomalies amounts for the last {} days [{:%d %B %Y} to {:%d %B %Y}]\\n\\\n",
    "source: TRMM / TMPA-RT 3B42RT Rainfall estimates'\\\n",
    ".format(ndays, realtime[0],realtime[-1])"
   ]
  },
  {
   "cell_type": "code",
   "execution_count": null,
   "metadata": {
    "collapsed": false
   },
   "outputs": [],
   "source": [
    "if ndays == 90: \n",
    "    f = plot_map(m, anoms, title=title, units='mm', draw_cities=True, cmap=cmap_anoms, \\\n",
    "                 vmin=-900, vmax=900, step=100, extend='both', mask_oceans=False)\n",
    "if ndays == 60: \n",
    "    f = plot_map(m, anoms, title=title, units='mm', draw_cities=True, cmap=cmap_anoms, \\\n",
    "                 vmin=-600, vmax=600, step=60, extend='both', mask_oceans=False)\n",
    "if ndays == 30: \n",
    "    f = plot_map(m, anoms, title=title, units='mm', draw_cities=True, cmap=cmap_anoms, \\\n",
    "             vmin=-400, vmax=400, step=30, extend='both', mask_oceans=False)"
   ]
  },
  {
   "cell_type": "code",
   "execution_count": null,
   "metadata": {
    "collapsed": false
   },
   "outputs": [],
   "source": [
    "f.savefig('../images/last{}days_maskocean_anoms_mm.png'.format(ndays), dpi=200)"
   ]
  },
  {
   "cell_type": "code",
   "execution_count": null,
   "metadata": {
    "collapsed": true
   },
   "outputs": [],
   "source": [
    "title = 'Percentage of normal rainfall for the last {} days [{:%d %B %Y} to {:%d %B %Y}]\\n\\\n",
    "source: TRMM / TMPA-RT 3B42RT Rainfall estimates'\\\n",
    ".format(ndays, realtime[0],realtime[-1])"
   ]
  },
  {
   "cell_type": "code",
   "execution_count": null,
   "metadata": {
    "collapsed": false
   },
   "outputs": [],
   "source": [
    "f = plot_map(m, pp, vmin=10, vmax=190, step=10, title=title, units='% normal', \\\n",
    "             draw_cities=True, cmap=cmap_anoms, extend='both', mask_oceans=False)"
   ]
  },
  {
   "cell_type": "code",
   "execution_count": null,
   "metadata": {
    "collapsed": false
   },
   "outputs": [],
   "source": [
    "f.savefig('../images/last{}days_maskocean_anoms_percent_normal.png'.format(ndays), dpi=200)"
   ]
  },
  {
   "cell_type": "code",
   "execution_count": null,
   "metadata": {
    "collapsed": true
   },
   "outputs": [],
   "source": [
    "title = 'Rainfall anomalies (percent. point) for the last {} days [{:%d %B %Y} to {:%d %B %Y}]\\n\\\n",
    "source: TRMM / TMPA-RT 3B42RT Rainfall estimates'\\\n",
    ".format(ndays, realtime[0],realtime[-1])"
   ]
  },
  {
   "cell_type": "code",
   "execution_count": null,
   "metadata": {
    "collapsed": false
   },
   "outputs": [],
   "source": [
    "f = plot_map(m, anomsp, title=title, units='percent. point anomalies (%)', draw_cities=True, \\\n",
    "             cmap=cmap_anoms, extend='both', mask_oceans=False)"
   ]
  },
  {
   "cell_type": "code",
   "execution_count": null,
   "metadata": {
    "collapsed": false
   },
   "outputs": [],
   "source": [
    "f.savefig('../images/last{}days_maskocean_anoms_pp.png'.format(ndays), dpi=200)"
   ]
  },
  {
   "cell_type": "markdown",
   "metadata": {},
   "source": [
    "### plots the virtual stations"
   ]
  },
  {
   "cell_type": "code",
   "execution_count": null,
   "metadata": {
    "collapsed": true
   },
   "outputs": [],
   "source": [
    "Virtual_Stations = pd.read_csv('../data/station_list_Solomon_lat_lon.csv', index_col=0)"
   ]
  },
  {
   "cell_type": "code",
   "execution_count": null,
   "metadata": {
    "collapsed": false
   },
   "outputs": [],
   "source": [
    "Virtual_Stations.tail()"
   ]
  },
  {
   "cell_type": "code",
   "execution_count": null,
   "metadata": {
    "collapsed": false
   },
   "outputs": [],
   "source": [
    "dsums = {}\n",
    "\n",
    "for i, row in Virtual_Stations.iterrows(): \n",
    "    stn_name = row['name_primary']\n",
    "    lat_V = row['latitude']\n",
    "    lon_V = row['longitude']\n",
    "\n",
    "    \n",
    "    clim_ts = dset_clim.sel(lat=lat_V, lon=lon_V, method='nearest')['trmm']\n",
    "    realtime_ts = dset_realtime.sel(lat=lat_V, lon=lon_V, method='nearest')['trmm']\n",
    "    df_ts = realtime_ts.to_dataframe()[['trmm']]\n",
    "    df_ts.loc[:,'clim'] = clim_ts.data\n",
    "    df_ts.columns = ['observed','climatology']\n",
    "\n",
    "\n",
    "    f = plt.figure(figsize=(12,5))\n",
    "    ax1 = f.add_axes([0.1,0.25,0.7,0.7])\n",
    "\n",
    "    ax1.plot(df_ts['climatology'].index, df_ts['climatology'], color='g', label='clim.')\n",
    "    ax1.plot(df_ts['observed'].index, df_ts['observed'], color='b', label='obs.')\n",
    "\n",
    "    ax1.fill_between(df_ts['climatology'].index, 0, df_ts['climatology'], color='g', alpha=0.6, label='clim.')\n",
    "    ax1.fill_between(df_ts['observed'].index, 0, df_ts['observed'], color='b', alpha=0.6, label='obs.')\n",
    "\n",
    "    [l.set_rotation(90) for l in ax1.xaxis.get_ticklabels()]\n",
    "    [l.set_fontsize(12) for l in ax1.xaxis.get_ticklabels()]\n",
    "    [l.set_fontsize(12) for l in ax1.yaxis.get_ticklabels()]\n",
    "\n",
    "    ax1.legend(fontsize=12)\n",
    "\n",
    "    ax1.set_xticks(df_ts['climatology'].index[np.arange(1,len(df_ts-5), 5)])\n",
    "\n",
    "    ax1.set_ylabel(\"mm\", fontsize=12)\n",
    "    ax1.grid('on')\n",
    "\n",
    "    ax1.set_title('Last {} days, TRMM / TMPA_RT 3B42RT Virtual Station {}: LAT: {}, LON: {}'\\\n",
    "                 .format(ndays, stn_name, realtime_ts.lat.data, realtime_ts.lon.data), fontsize=12)\n",
    "\n",
    "    # calculates the sum\n",
    "\n",
    "    sums = df_ts.sum()\n",
    "\n",
    "    # plots the cumulative rainfall as barplots\n",
    "\n",
    "    ax2 = f.add_axes([0.8,0.25,0.14,0.7])\n",
    "    ax2.bar(np.arange(0.5,2.5), sums.values, width=0.7, color=['b','g'], alpha=0.6, align='center')\n",
    "    ax2.set_xticks([0.5, 1.5])\n",
    "    ax2.set_xticklabels(['obs.', 'clim.'], fontsize=12)\n",
    "    ax2.yaxis.tick_right()\n",
    "    ax2.set_ylabel(\"mm\", fontsize=12)\n",
    "    ax2.yaxis.set_label_position(\"right\")\n",
    "    # ax2.set_yticks(None)\n",
    "    ax2.set_title(\"{:4.1f} % of normal\".format(np.divide(*sums.values) * 100), fontdict={'weight':'bold'})\n",
    "    [l.set_fontsize(12) for l in ax2.yaxis.get_ticklabels()]\n",
    "\n",
    "    stn_name_f = stn_name.replace(\" \",\"_\")\n",
    "\n",
    "    dsums[stn_name] = sums\n",
    "\n",
    "    f.savefig('../images/Virtual_Station_{}_{}ndays.png'.format(stn_name_f, ndays), dpi=100)\n",
    "    \n",
    "    plt.close(f)"
   ]
  },
  {
   "cell_type": "code",
   "execution_count": null,
   "metadata": {
    "collapsed": false
   },
   "outputs": [],
   "source": [
    "df_dsums = pd.DataFrame(dsums)"
   ]
  },
  {
   "cell_type": "code",
   "execution_count": null,
   "metadata": {
    "collapsed": false
   },
   "outputs": [],
   "source": [
    "df_dsums = df_dsums.T"
   ]
  },
  {
   "cell_type": "code",
   "execution_count": null,
   "metadata": {
    "collapsed": false
   },
   "outputs": [],
   "source": [
    "df_dsums = df_dsums.astype(np.int)"
   ]
  },
  {
   "cell_type": "code",
   "execution_count": null,
   "metadata": {
    "collapsed": false
   },
   "outputs": [],
   "source": [
    "df_dsums.head()"
   ]
  },
  {
   "cell_type": "code",
   "execution_count": null,
   "metadata": {
    "collapsed": true
   },
   "outputs": [],
   "source": []
  }
 ],
 "metadata": {
  "kernelspec": {
   "display_name": "Python 3",
   "language": "python",
   "name": "python3"
  },
  "language_info": {
   "codemirror_mode": {
    "name": "ipython",
    "version": 3
   },
   "file_extension": ".py",
   "mimetype": "text/x-python",
   "name": "python",
   "nbconvert_exporter": "python",
   "pygments_lexer": "ipython3",
   "version": "3.5.2"
  },
  "latex_envs": {
   "bibliofile": "biblio.bib",
   "cite_by": "apalike",
   "current_citInitial": 1,
   "eqLabelWithNumbers": true,
   "eqNumInitial": 0
  }
 },
 "nbformat": 4,
 "nbformat_minor": 0
}
