{
 "cells": [
  {
   "cell_type": "markdown",
   "metadata": {},
   "source": [
    "### TRMM PNG monitoring"
   ]
  },
  {
   "cell_type": "code",
   "execution_count": 1,
   "metadata": {
    "collapsed": true
   },
   "outputs": [],
   "source": [
    "%matplotlib inline\n",
    "from matplotlib import pyplot as plt"
   ]
  },
  {
   "cell_type": "code",
   "execution_count": 2,
   "metadata": {
    "collapsed": false
   },
   "outputs": [],
   "source": [
    "import numpy as np\n",
    "import pandas as pd\n",
    "import xarray as xray\n",
    "from netCDF4 import MFDataset\n",
    "from datetime import datetime, timedelta\n",
    "from glob import glob\n",
    "import palettable\n",
    "import folium\n",
    "from folium.map import FeatureGroup"
   ]
  },
  {
   "cell_type": "code",
   "execution_count": 3,
   "metadata": {
    "collapsed": true
   },
   "outputs": [],
   "source": [
    "domain = {'latmin':-13, 'lonmin':155., 'latmax':-5, 'lonmax':168.}"
   ]
  },
  {
   "cell_type": "code",
   "execution_count": 4,
   "metadata": {
    "collapsed": true
   },
   "outputs": [],
   "source": [
    "import warnings\n",
    "warnings.simplefilter(action = \"ignore\", category = FutureWarning)"
   ]
  },
  {
   "cell_type": "code",
   "execution_count": 5,
   "metadata": {
    "collapsed": true
   },
   "outputs": [],
   "source": [
    "def read_netcdfs(files, dim, transform_func=None):\n",
    "    def process_one_path(path):\n",
    "        # use a context manager, to ensure the file gets closed after use\n",
    "        with xray.open_dataset(path) as ds:\n",
    "            # transform_func shdset_clim = dset_clim.sel(lat=slice(domain['latmin'], domain['latmax']), could do some sort of selection or\n",
    "            # aggregation\n",
    "            if transform_func is not None:\n",
    "                ds = transform_func(ds)\n",
    "            # load all data from the transformed dataset, to ensure we can\n",
    "            # use it after closing each original file\n",
    "            ds.load()\n",
    "            return ds\n",
    "\n",
    "    #paths = sorted(glob(files))\n",
    "    datasets = [process_one_path(p) for p in files]\n",
    "    combined = xray.concat(datasets, dim)\n",
    "    return combined"
   ]
  },
  {
   "cell_type": "code",
   "execution_count": 6,
   "metadata": {
    "collapsed": true
   },
   "outputs": [],
   "source": [
    "dpath = '/Volumes/GDATA/data/TRMM/daily/'\n",
    "climpath = '/Volumes/GDATA/data/TRMM/climatology/daily/2001_2015/'"
   ]
  },
  {
   "cell_type": "code",
   "execution_count": 7,
   "metadata": {
    "collapsed": false
   },
   "outputs": [],
   "source": [
    "today = datetime.utcnow()"
   ]
  },
  {
   "cell_type": "code",
   "execution_count": 8,
   "metadata": {
    "collapsed": true
   },
   "outputs": [],
   "source": [
    "lag = 2"
   ]
  },
  {
   "cell_type": "code",
   "execution_count": 9,
   "metadata": {
    "collapsed": true
   },
   "outputs": [],
   "source": [
    "trmm_date = today - timedelta(days=lag)"
   ]
  },
  {
   "cell_type": "code",
   "execution_count": 10,
   "metadata": {
    "collapsed": false
   },
   "outputs": [
    {
     "name": "stdout",
     "output_type": "stream",
     "text": [
      "2017-01-10 00:46:37.804183\n"
     ]
    }
   ],
   "source": [
    "print(trmm_date)"
   ]
  },
  {
   "cell_type": "code",
   "execution_count": 11,
   "metadata": {
    "collapsed": true
   },
   "outputs": [],
   "source": [
    "ndays = 90"
   ]
  },
  {
   "cell_type": "code",
   "execution_count": 12,
   "metadata": {
    "collapsed": true
   },
   "outputs": [],
   "source": [
    "realtime = pd.date_range(start=trmm_date - timedelta(days=ndays-1), end=trmm_date)"
   ]
  },
  {
   "cell_type": "code",
   "execution_count": 13,
   "metadata": {
    "collapsed": true
   },
   "outputs": [],
   "source": [
    "lfiles = []\n",
    "for d in realtime: \n",
    "    fname  = dpath + \"3B42RT_daily.{}.nc\".format(d.strftime(\"%Y.%m.%d\"))\n",
    "    lfiles.append(fname)"
   ]
  },
  {
   "cell_type": "code",
   "execution_count": 14,
   "metadata": {
    "collapsed": false
   },
   "outputs": [],
   "source": [
    "dset_realtime = read_netcdfs(lfiles, 'time')"
   ]
  },
  {
   "cell_type": "code",
   "execution_count": 15,
   "metadata": {
    "collapsed": true
   },
   "outputs": [],
   "source": [
    "dset_realtime = dset_realtime.sel(lat=slice(domain['latmin'], domain['latmax']), \\\n",
    "                                  lon=slice(domain['lonmin'], domain['lonmax']))"
   ]
  },
  {
   "cell_type": "code",
   "execution_count": 16,
   "metadata": {
    "collapsed": true
   },
   "outputs": [],
   "source": [
    "clim_files = []\n",
    "for d in realtime: \n",
    "    fname  = climpath + \"3B42_daily.{}.nc\".format(d.strftime(\"%m.%d\"))\n",
    "    clim_files.append(fname)"
   ]
  },
  {
   "cell_type": "code",
   "execution_count": 17,
   "metadata": {
    "collapsed": true
   },
   "outputs": [],
   "source": [
    "dset_clim = read_netcdfs(clim_files, 'time')"
   ]
  },
  {
   "cell_type": "code",
   "execution_count": 18,
   "metadata": {
    "collapsed": true
   },
   "outputs": [],
   "source": [
    "dset_clim = dset_clim.sel(lat=slice(domain['latmin'], domain['latmax']), \\\n",
    "                          lon=slice(domain['lonmin'], domain['lonmax']))"
   ]
  },
  {
   "cell_type": "code",
   "execution_count": 19,
   "metadata": {
    "collapsed": false
   },
   "outputs": [
    {
     "data": {
      "text/plain": [
       "<xarray.Dataset>\n",
       "Dimensions:  (lat: 32, lon: 52, time: 90)\n",
       "Coordinates:\n",
       "  * lon      (lon) float32 155.125 155.375 155.625 155.875 156.125 156.375 ...\n",
       "  * lat      (lat) float32 -12.875 -12.625 -12.375 -12.125 -11.875 -11.625 ...\n",
       "  * time     (time) int64 0 1 2 3 4 5 6 7 8 9 10 11 12 13 14 15 16 17 18 19 ...\n",
       "Data variables:\n",
       "    trmm     (time, lat, lon) float64 8.242 9.102 9.812 13.09 10.54 11.12 ..."
      ]
     },
     "execution_count": 19,
     "metadata": {},
     "output_type": "execute_result"
    }
   ],
   "source": [
    "dset_clim"
   ]
  },
  {
   "cell_type": "markdown",
   "metadata": {},
   "source": [
    "### reads in the location for the virtual stations"
   ]
  },
  {
   "cell_type": "code",
   "execution_count": 20,
   "metadata": {
    "collapsed": true
   },
   "outputs": [],
   "source": [
    "Virtual_Stations = pd.read_csv('../data/station_list_Solomon_lat_lon.csv', index_col=0)"
   ]
  },
  {
   "cell_type": "code",
   "execution_count": 21,
   "metadata": {
    "collapsed": false
   },
   "outputs": [
    {
     "data": {
      "text/html": [
       "<div>\n",
       "<table border=\"1\" class=\"dataframe\">\n",
       "  <thead>\n",
       "    <tr style=\"text-align: right;\">\n",
       "      <th></th>\n",
       "      <th>name_primary</th>\n",
       "      <th>name_secondary</th>\n",
       "      <th>latitude</th>\n",
       "      <th>longitude</th>\n",
       "    </tr>\n",
       "  </thead>\n",
       "  <tbody>\n",
       "    <tr>\n",
       "      <th>33</th>\n",
       "      <td>Gizo</td>\n",
       "      <td>NaN</td>\n",
       "      <td>-8.1000</td>\n",
       "      <td>156.8500</td>\n",
       "    </tr>\n",
       "    <tr>\n",
       "      <th>36</th>\n",
       "      <td>Barora</td>\n",
       "      <td>NaN</td>\n",
       "      <td>-8.0333</td>\n",
       "      <td>157.5833</td>\n",
       "    </tr>\n",
       "    <tr>\n",
       "      <th>37</th>\n",
       "      <td>Seghe</td>\n",
       "      <td>NaN</td>\n",
       "      <td>-8.5667</td>\n",
       "      <td>157.8833</td>\n",
       "    </tr>\n",
       "    <tr>\n",
       "      <th>40</th>\n",
       "      <td>Gibiri</td>\n",
       "      <td>AutoRain</td>\n",
       "      <td>-7.7058</td>\n",
       "      <td>156.7256</td>\n",
       "    </tr>\n",
       "    <tr>\n",
       "      <th>41</th>\n",
       "      <td>Mbeulah</td>\n",
       "      <td>AutoRain</td>\n",
       "      <td>-8.2632</td>\n",
       "      <td>157.4279</td>\n",
       "    </tr>\n",
       "  </tbody>\n",
       "</table>\n",
       "</div>"
      ],
      "text/plain": [
       "   name_primary name_secondary  latitude  longitude\n",
       "33         Gizo            NaN   -8.1000   156.8500\n",
       "36       Barora            NaN   -8.0333   157.5833\n",
       "37        Seghe            NaN   -8.5667   157.8833\n",
       "40       Gibiri       AutoRain   -7.7058   156.7256\n",
       "41      Mbeulah       AutoRain   -8.2632   157.4279"
      ]
     },
     "execution_count": 21,
     "metadata": {},
     "output_type": "execute_result"
    }
   ],
   "source": [
    "Virtual_Stations.tail()"
   ]
  },
  {
   "cell_type": "code",
   "execution_count": 22,
   "metadata": {
    "collapsed": false
   },
   "outputs": [],
   "source": [
    "dsums = {}\n",
    "\n",
    "for i, row in Virtual_Stations.iterrows(): \n",
    "    stn_name = row['name_primary']\n",
    "    lat_V = row['latitude']\n",
    "    lon_V = row['longitude']\n",
    "\n",
    "    \n",
    "    clim_ts = dset_clim.sel(lat=lat_V, lon=lon_V, method='nearest')['trmm']\n",
    "    realtime_ts = dset_realtime.sel(lat=lat_V, lon=lon_V, method='nearest')['trmm']\n",
    "    df_ts = realtime_ts.to_dataframe()[['trmm']]\n",
    "    df_ts.loc[:,'clim'] = clim_ts.data\n",
    "    df_ts.columns = ['observed','climatology']\n",
    "    sums = df_ts.sum()\n",
    "    dsums[stn_name] = sums"
   ]
  },
  {
   "cell_type": "code",
   "execution_count": 23,
   "metadata": {
    "collapsed": false
   },
   "outputs": [],
   "source": [
    "df_dsums = pd.DataFrame(dsums)"
   ]
  },
  {
   "cell_type": "code",
   "execution_count": 24,
   "metadata": {
    "collapsed": false
   },
   "outputs": [],
   "source": [
    "df_dsums = df_dsums.T"
   ]
  },
  {
   "cell_type": "code",
   "execution_count": 25,
   "metadata": {
    "collapsed": false
   },
   "outputs": [],
   "source": [
    "df_dsums = df_dsums.astype(np.int)"
   ]
  },
  {
   "cell_type": "code",
   "execution_count": 26,
   "metadata": {
    "collapsed": false
   },
   "outputs": [
    {
     "data": {
      "text/html": [
       "<div>\n",
       "<table border=\"1\" class=\"dataframe\">\n",
       "  <thead>\n",
       "    <tr style=\"text-align: right;\">\n",
       "      <th></th>\n",
       "      <th>observed</th>\n",
       "      <th>climatology</th>\n",
       "    </tr>\n",
       "  </thead>\n",
       "  <tbody>\n",
       "    <tr>\n",
       "      <th>Afio</th>\n",
       "      <td>793</td>\n",
       "      <td>663</td>\n",
       "    </tr>\n",
       "    <tr>\n",
       "      <th>Atoifi</th>\n",
       "      <td>1132</td>\n",
       "      <td>857</td>\n",
       "    </tr>\n",
       "    <tr>\n",
       "      <th>Atori</th>\n",
       "      <td>1061</td>\n",
       "      <td>767</td>\n",
       "    </tr>\n",
       "    <tr>\n",
       "      <th>Avu Avu</th>\n",
       "      <td>739</td>\n",
       "      <td>684</td>\n",
       "    </tr>\n",
       "    <tr>\n",
       "      <th>Barora</th>\n",
       "      <td>930</td>\n",
       "      <td>702</td>\n",
       "    </tr>\n",
       "  </tbody>\n",
       "</table>\n",
       "</div>"
      ],
      "text/plain": [
       "         observed  climatology\n",
       "Afio          793          663\n",
       "Atoifi       1132          857\n",
       "Atori        1061          767\n",
       "Avu Avu       739          684\n",
       "Barora        930          702"
      ]
     },
     "execution_count": 26,
     "metadata": {},
     "output_type": "execute_result"
    }
   ],
   "source": [
    "df_dsums.head()"
   ]
  },
  {
   "cell_type": "code",
   "execution_count": 27,
   "metadata": {
    "collapsed": true
   },
   "outputs": [],
   "source": [
    "cities = {}\n",
    "for i, row in Virtual_Stations.iterrows():         \n",
    "    stn_name = row['name_primary']\n",
    "    lat_V = row['latitude']\n",
    "    lon_V = row['longitude']\n",
    "    cities[stn_name] = (lat_V, lon_V)"
   ]
  },
  {
   "cell_type": "markdown",
   "metadata": {},
   "source": [
    "## map with Folium"
   ]
  },
  {
   "cell_type": "code",
   "execution_count": 28,
   "metadata": {
    "collapsed": false
   },
   "outputs": [
    {
     "data": {
      "text/html": [
       "<div>\n",
       "<table border=\"1\" class=\"dataframe\">\n",
       "  <thead>\n",
       "    <tr style=\"text-align: right;\">\n",
       "      <th></th>\n",
       "      <th>name_primary</th>\n",
       "      <th>name_secondary</th>\n",
       "      <th>latitude</th>\n",
       "      <th>longitude</th>\n",
       "    </tr>\n",
       "  </thead>\n",
       "  <tbody>\n",
       "    <tr>\n",
       "      <th>33</th>\n",
       "      <td>Gizo</td>\n",
       "      <td>NaN</td>\n",
       "      <td>-8.1000</td>\n",
       "      <td>156.8500</td>\n",
       "    </tr>\n",
       "    <tr>\n",
       "      <th>36</th>\n",
       "      <td>Barora</td>\n",
       "      <td>NaN</td>\n",
       "      <td>-8.0333</td>\n",
       "      <td>157.5833</td>\n",
       "    </tr>\n",
       "    <tr>\n",
       "      <th>37</th>\n",
       "      <td>Seghe</td>\n",
       "      <td>NaN</td>\n",
       "      <td>-8.5667</td>\n",
       "      <td>157.8833</td>\n",
       "    </tr>\n",
       "    <tr>\n",
       "      <th>40</th>\n",
       "      <td>Gibiri</td>\n",
       "      <td>AutoRain</td>\n",
       "      <td>-7.7058</td>\n",
       "      <td>156.7256</td>\n",
       "    </tr>\n",
       "    <tr>\n",
       "      <th>41</th>\n",
       "      <td>Mbeulah</td>\n",
       "      <td>AutoRain</td>\n",
       "      <td>-8.2632</td>\n",
       "      <td>157.4279</td>\n",
       "    </tr>\n",
       "  </tbody>\n",
       "</table>\n",
       "</div>"
      ],
      "text/plain": [
       "   name_primary name_secondary  latitude  longitude\n",
       "33         Gizo            NaN   -8.1000   156.8500\n",
       "36       Barora            NaN   -8.0333   157.5833\n",
       "37        Seghe            NaN   -8.5667   157.8833\n",
       "40       Gibiri       AutoRain   -7.7058   156.7256\n",
       "41      Mbeulah       AutoRain   -8.2632   157.4279"
      ]
     },
     "execution_count": 28,
     "metadata": {},
     "output_type": "execute_result"
    }
   ],
   "source": [
    "Virtual_Stations.tail()"
   ]
  },
  {
   "cell_type": "code",
   "execution_count": 29,
   "metadata": {
    "collapsed": false
   },
   "outputs": [],
   "source": [
    "fmap = folium.Map(location=[-9, 163], zoom_start=6, min_lon = 0., max_lon = 360., detect_retina=True)"
   ]
  },
  {
   "cell_type": "markdown",
   "metadata": {},
   "source": [
    "### add the background layers"
   ]
  },
  {
   "cell_type": "code",
   "execution_count": 30,
   "metadata": {
    "collapsed": true
   },
   "outputs": [],
   "source": [
    "add = '/tile/{z}/{y}/{x}'\n",
    "\n",
    "ESRI = {}\n",
    "ESRI['World Imagery'] = 'http://server.arcgisonline.com/ArcGIS/rest/services/World_Imagery/MapServer'\n",
    "ESRI['World Topography'] = 'http://services.arcgisonline.com/arcgis/rest/services/World_Topo_Map/MapServer'\n",
    "ESRI['Street Map'] = 'http://services.arcgisonline.com/arcgis/rest/services/World_Street_Map/MapServer'\n",
    "\n",
    "for tile_name in ['World Imagery','World Topography','Street Map']:\n",
    "    tile_url = ESRI[tile_name]\n",
    "    tile_url += add\n",
    "    fmap.add_tile_layer(name=tile_name,\n",
    "                     tiles=tile_url, attr='ESRI')"
   ]
  },
  {
   "cell_type": "markdown",
   "metadata": {},
   "source": [
    "### create a feature group which will include the stations markers "
   ]
  },
  {
   "cell_type": "code",
   "execution_count": 31,
   "metadata": {
    "collapsed": false
   },
   "outputs": [],
   "source": [
    "Solomon_stations = FeatureGroup(name='Show Solomon Islands Stations')"
   ]
  },
  {
   "cell_type": "code",
   "execution_count": 32,
   "metadata": {
    "collapsed": false
   },
   "outputs": [],
   "source": [
    "size_icon = (188, 325)"
   ]
  },
  {
   "cell_type": "markdown",
   "metadata": {},
   "source": [
    "### loops over the stations "
   ]
  },
  {
   "cell_type": "code",
   "execution_count": 33,
   "metadata": {
    "collapsed": false
   },
   "outputs": [],
   "source": [
    "for i in Virtual_Stations.index:\n",
    "    \n",
    "    data = Virtual_Stations.ix[i]\n",
    "    \n",
    "    name_primary = data.name_primary\n",
    "    name_primary_f = name_primary.replace(\" \",\"_\").replace('  ','_').replace('(','_').replace(')','_')\n",
    "    \n",
    "    obs = df_dsums.ix[name_primary].values[0]\n",
    "    clim = df_dsums.ix[name_primary].values[1]\n",
    "    \n",
    "    anom = (obs / clim) * 100\n",
    "    \n",
    "    html = \"\"\"\n",
    "    <font face=\"verdana\">\n",
    "    <div align='center'><h4>\n",
    "    Last 90 days (to the {:%Y-%m-%d UTC}) estimates [TRMM/TMPA] for {}</h4>\n",
    "    observed = <b>{}</b> mm <br>\n",
    "    climatology = <b>{}</b> mm <br>\n",
    "    percent. of normal = <b>{:4.2f}<b> %\n",
    "    <br><br>\n",
    "    <a href=\"https://cdn.rawgit.com/nicolasfauchereau/SIMS/master/TRMM/www/Virtual_Station_{}_90ndays.html\" target=\"_blank\">click here for the time-series</a>\n",
    "    </font>\n",
    "    \"\"\".format(trmm_date, name_primary, obs, clim, anom, name_primary_f)\n",
    "        \n",
    "    iframe = folium.element.IFrame(html=html, width=300, height=200)\n",
    "    \n",
    "    popup = folium.Popup(iframe, max_width=600)\n",
    "    \n",
    "    if anom <= 40: \n",
    "        icon = folium.features.CustomIcon('https://raw.githubusercontent.com/nicolasfauchereau/SIMS/master/TRMM/images/icons/orange.png',\\\n",
    "                                         icon_size=(size_icon[0]*0.05, size_icon[1]*0.05))\n",
    "        marker = folium.map.Marker([data.latitude, data.longitude], icon=icon, popup=popup)   \n",
    "    elif (anom > 40) & (anom <= 80):\n",
    "        icon = folium.features.CustomIcon('https://raw.githubusercontent.com/nicolasfauchereau/SIMS/master/TRMM/images/icons/yellow.png',\\\n",
    "                                         icon_size=(size_icon[0]*0.1, size_icon[1]*0.1))\n",
    "        marker = folium.map.Marker([data.latitude, data.longitude], icon=icon, popup=popup)   \n",
    "    elif (anom > 80) & (anom < 120):\n",
    "        icon = folium.features.CustomIcon('https://raw.githubusercontent.com/nicolasfauchereau/SIMS/master/TRMM/images/icons/green.png',\\\n",
    "                                         icon_size=(size_icon[0]*0.15, size_icon[1]*0.15))\n",
    "        marker = folium.map.Marker([data.latitude, data.longitude], icon=icon, popup=popup)  \n",
    "    elif (anom >= 120) & (anom < 160):\n",
    "        icon = folium.features.CustomIcon('https://raw.githubusercontent.com/nicolasfauchereau/SIMS/master/TRMM/images/icons/blue.png',\\\n",
    "                                         icon_size=(size_icon[0]*0.2, size_icon[1]*0.2))\n",
    "        marker = folium.map.Marker([data.latitude, data.longitude], icon=icon, popup=popup)  \n",
    "    elif anom > 160:\n",
    "        icon = folium.features.CustomIcon('https://raw.githubusercontent.com/nicolasfauchereau/SIMS/master/TRMM/images/icons/deepblue.png',\\\n",
    "                                         icon_size=(size_icon[0]*0.25, size_icon[1]*0.25))\n",
    "        marker = folium.map.Marker([data.latitude, data.longitude], icon=icon, popup=popup)  \n",
    "    \n",
    "#     c = folium.CircleMarker(location=[data.latitude, data.longitude], popup=popup, color='red', fill_color='red', \\\n",
    "#                         fill_opacity=0.4, radius=5000)\n",
    "    \n",
    "#     c  = folium.Marker(location=[data.latitude, data.longitude], popup=popup)\n",
    "    \n",
    "    # add to fature group\n",
    "    Solomon_stations.add_children(marker)"
   ]
  },
  {
   "cell_type": "code",
   "execution_count": 34,
   "metadata": {
    "collapsed": false
   },
   "outputs": [],
   "source": [
    "fmap.add_children(Solomon_stations)\n",
    "fmap.add_children(folium.map.LayerControl());"
   ]
  },
  {
   "cell_type": "code",
   "execution_count": 35,
   "metadata": {
    "collapsed": true
   },
   "outputs": [],
   "source": [
    "fmap.save('./interactive_map_Solomon.html')"
   ]
  },
  {
   "cell_type": "code",
   "execution_count": 36,
   "metadata": {
    "collapsed": false
   },
   "outputs": [
    {
     "data": {
      "text/html": [
       "<div style=\"width:100%;\"><div style=\"position:relative;width:100%;height:0;padding-bottom:60%;\"><iframe src=\"data:text/html;base64,CiAgICAgICAgPCFET0NUWVBFIGh0bWw+CiAgICAgICAgPGhlYWQ+CiAgICAgICAgICAgIAogICAgICAgIAogICAgICAgICAgICA8bWV0YSBodHRwLWVxdWl2PSJjb250ZW50LXR5cGUiIGNvbnRlbnQ9InRleHQvaHRtbDsgY2hhcnNldD1VVEYtOCIgLz4KICAgICAgICAKICAgICAgICAgICAgCiAgICAgICAgCiAgICAgICAgICAgIDxzY3JpcHQgc3JjPSJodHRwczovL2NkbmpzLmNsb3VkZmxhcmUuY29tL2FqYXgvbGlicy9sZWFmbGV0LzAuNy4zL2xlYWZsZXQuanMiPjwvc2NyaXB0PgogICAgICAgIAogICAgICAgIAogICAgICAgIAogICAgICAgICAgICAKICAgICAgICAKICAgICAgICAgICAgPHNjcmlwdCBzcmM9Imh0dHBzOi8vYWpheC5nb29nbGVhcGlzLmNvbS9hamF4L2xpYnMvanF1ZXJ5LzEuMTEuMS9qcXVlcnkubWluLmpzIj48L3NjcmlwdD4KICAgICAgICAKICAgICAgICAKICAgICAgICAKICAgICAgICAgICAgCiAgICAgICAgCiAgICAgICAgICAgIDxzY3JpcHQgc3JjPSJodHRwczovL21heGNkbi5ib290c3RyYXBjZG4uY29tL2Jvb3RzdHJhcC8zLjIuMC9qcy9ib290c3RyYXAubWluLmpzIj48L3NjcmlwdD4KICAgICAgICAKICAgICAgICAKICAgICAgICAKICAgICAgICAgICAgCiAgICAgICAgCiAgICAgICAgICAgIDxzY3JpcHQgc3JjPSJodHRwczovL2NkbmpzLmNsb3VkZmxhcmUuY29tL2FqYXgvbGlicy9MZWFmbGV0LmF3ZXNvbWUtbWFya2Vycy8yLjAuMi9sZWFmbGV0LmF3ZXNvbWUtbWFya2Vycy5taW4uanMiPjwvc2NyaXB0PgogICAgICAgIAogICAgICAgIAogICAgICAgIAogICAgICAgICAgICAKICAgICAgICAKICAgICAgICAgICAgPHNjcmlwdCBzcmM9Imh0dHBzOi8vY2RuanMuY2xvdWRmbGFyZS5jb20vYWpheC9saWJzL2xlYWZsZXQubWFya2VyY2x1c3Rlci8wLjQuMC9sZWFmbGV0Lm1hcmtlcmNsdXN0ZXItc3JjLmpzIj48L3NjcmlwdD4KICAgICAgICAKICAgICAgICAKICAgICAgICAKICAgICAgICAgICAgCiAgICAgICAgCiAgICAgICAgICAgIDxzY3JpcHQgc3JjPSJodHRwczovL2NkbmpzLmNsb3VkZmxhcmUuY29tL2FqYXgvbGlicy9sZWFmbGV0Lm1hcmtlcmNsdXN0ZXIvMC40LjAvbGVhZmxldC5tYXJrZXJjbHVzdGVyLmpzIj48L3NjcmlwdD4KICAgICAgICAKICAgICAgICAKICAgICAgICAKICAgICAgICAgICAgCiAgICAgICAgCiAgICAgICAgICAgIDxsaW5rIHJlbD0ic3R5bGVzaGVldCIgaHJlZj0iaHR0cHM6Ly9jZG5qcy5jbG91ZGZsYXJlLmNvbS9hamF4L2xpYnMvbGVhZmxldC8wLjcuMy9sZWFmbGV0LmNzcyIgLz4KICAgICAgICAKICAgICAgICAKICAgICAgICAKICAgICAgICAgICAgCiAgICAgICAgCiAgICAgICAgICAgIDxsaW5rIHJlbD0ic3R5bGVzaGVldCIgaHJlZj0iaHR0cHM6Ly9tYXhjZG4uYm9vdHN0cmFwY2RuLmNvbS9ib290c3RyYXAvMy4yLjAvY3NzL2Jvb3RzdHJhcC5taW4uY3NzIiAvPgogICAgICAgIAogICAgICAgIAogICAgICAgIAogICAgICAgICAgICAKICAgICAgICAKICAgICAgICAgICAgPGxpbmsgcmVsPSJzdHlsZXNoZWV0IiBocmVmPSJodHRwczovL21heGNkbi5ib290c3RyYXBjZG4uY29tL2Jvb3RzdHJhcC8zLjIuMC9jc3MvYm9vdHN0cmFwLXRoZW1lLm1pbi5jc3MiIC8+CiAgICAgICAgCiAgICAgICAgCiAgICAgICAgCiAgICAgICAgICAgIAogICAgICAgIAogICAgICAgICAgICA8bGluayByZWw9InN0eWxlc2hlZXQiIGhyZWY9Imh0dHBzOi8vbWF4Y2RuLmJvb3RzdHJhcGNkbi5jb20vZm9udC1hd2Vzb21lLzQuMS4wL2Nzcy9mb250LWF3ZXNvbWUubWluLmNzcyIgLz4KICAgICAgICAKICAgICAgICAKICAgICAgICAKICAgICAgICAgICAgCiAgICAgICAgCiAgICAgICAgICAgIDxsaW5rIHJlbD0ic3R5bGVzaGVldCIgaHJlZj0iaHR0cHM6Ly9jZG5qcy5jbG91ZGZsYXJlLmNvbS9hamF4L2xpYnMvTGVhZmxldC5hd2Vzb21lLW1hcmtlcnMvMi4wLjIvbGVhZmxldC5hd2Vzb21lLW1hcmtlcnMuY3NzIiAvPgogICAgICAgIAogICAgICAgIAogICAgICAgIAogICAgICAgICAgICAKICAgICAgICAKICAgICAgICAgICAgPGxpbmsgcmVsPSJzdHlsZXNoZWV0IiBocmVmPSJodHRwczovL2NkbmpzLmNsb3VkZmxhcmUuY29tL2FqYXgvbGlicy9sZWFmbGV0Lm1hcmtlcmNsdXN0ZXIvMC40LjAvTWFya2VyQ2x1c3Rlci5EZWZhdWx0LmNzcyIgLz4KICAgICAgICAKICAgICAgICAKICAgICAgICAKICAgICAgICAgICAgCiAgICAgICAgCiAgICAgICAgICAgIDxsaW5rIHJlbD0ic3R5bGVzaGVldCIgaHJlZj0iaHR0cHM6Ly9jZG5qcy5jbG91ZGZsYXJlLmNvbS9hamF4L2xpYnMvbGVhZmxldC5tYXJrZXJjbHVzdGVyLzAuNC4wL01hcmtlckNsdXN0ZXIuY3NzIiAvPgogICAgICAgIAogICAgICAgIAogICAgICAgIAogICAgICAgICAgICAKICAgICAgICAKICAgICAgICAgICAgPGxpbmsgcmVsPSJzdHlsZXNoZWV0IiBocmVmPSJodHRwczovL3Jhdy5naXRodWJ1c2VyY29udGVudC5jb20vcHl0aG9uLXZpc3VhbGl6YXRpb24vZm9saXVtL21hc3Rlci9mb2xpdW0vdGVtcGxhdGVzL2xlYWZsZXQuYXdlc29tZS5yb3RhdGUuY3NzIiAvPgogICAgICAgIAogICAgICAgIAogICAgICAgIAogICAgICAgICAgICAKICAgICAgICAgICAgPHN0eWxlPgoKICAgICAgICAgICAgaHRtbCwgYm9keSB7CiAgICAgICAgICAgICAgICB3aWR0aDogMTAwJTsKICAgICAgICAgICAgICAgIGhlaWdodDogMTAwJTsKICAgICAgICAgICAgICAgIG1hcmdpbjogMDsKICAgICAgICAgICAgICAgIHBhZGRpbmc6IDA7CiAgICAgICAgICAgICAgICB9CgogICAgICAgICAgICAjbWFwIHsKICAgICAgICAgICAgICAgIHBvc2l0aW9uOmFic29sdXRlOwogICAgICAgICAgICAgICAgdG9wOjA7CiAgICAgICAgICAgICAgICBib3R0b206MDsKICAgICAgICAgICAgICAgIHJpZ2h0OjA7CiAgICAgICAgICAgICAgICBsZWZ0OjA7CiAgICAgICAgICAgICAgICB9CiAgICAgICAgICAgIDwvc3R5bGU+CiAgICAgICAgICAgIAogICAgICAgIAogICAgICAgICAgICAKICAgICAgICAgICAgPHN0eWxlPiAjbWFwXzNiMzhlZmEwNWJhMjQ3ODc5ODdmZDMzNzI2ZTIyZDVhIHsKICAgICAgICAgICAgICAgIHBvc2l0aW9uIDogcmVsYXRpdmU7CiAgICAgICAgICAgICAgICB3aWR0aCA6IDEwMC4wJTsKICAgICAgICAgICAgICAgIGhlaWdodDogMTAwLjAlOwogICAgICAgICAgICAgICAgbGVmdDogMC4wJTsKICAgICAgICAgICAgICAgIHRvcDogMC4wJTsKICAgICAgICAgICAgICAgIH0KICAgICAgICAgICAgPC9zdHlsZT4KICAgICAgICAKICAgICAgICAKICAgICAgICAKICAgICAgICA8L2hlYWQ+CiAgICAgICAgPGJvZHk+CiAgICAgICAgICAgIAogICAgICAgIAogICAgICAgICAgICAKICAgICAgICAgICAgPGRpdiBjbGFzcz0iZm9saXVtLW1hcCIgaWQ9Im1hcF8zYjM4ZWZhMDViYTI0Nzg3OTg3ZmQzMzcyNmUyMmQ1YSIgPjwvZGl2PgogICAgICAgIAogICAgICAgIAogICAgICAgIAogICAgICAgIDwvYm9keT4KICAgICAgICA8c2NyaXB0PgogICAgICAgICAgICAKICAgICAgICAKICAgICAgICAgICAgCgogICAgICAgICAgICB2YXIgc291dGhXZXN0ID0gTC5sYXRMbmcoLTkwLCAwLjApOwogICAgICAgICAgICB2YXIgbm9ydGhFYXN0ID0gTC5sYXRMbmcoOTAsIDM2MC4wKTsKICAgICAgICAgICAgdmFyIGJvdW5kcyA9IEwubGF0TG5nQm91bmRzKHNvdXRoV2VzdCwgbm9ydGhFYXN0KTsKCiAgICAgICAgICAgIHZhciBtYXBfM2IzOGVmYTA1YmEyNDc4Nzk4N2ZkMzM3MjZlMjJkNWEgPSBMLm1hcCgnbWFwXzNiMzhlZmEwNWJhMjQ3ODc5ODdmZDMzNzI2ZTIyZDVhJywgewogICAgICAgICAgICAgICAgICAgICAgICAgICAgICAgICAgICAgICAgICAgY2VudGVyOlstOSwxNjNdLAogICAgICAgICAgICAgICAgICAgICAgICAgICAgICAgICAgICAgICAgICAgem9vbTogNiwKICAgICAgICAgICAgICAgICAgICAgICAgICAgICAgICAgICAgICAgICAgIG1heEJvdW5kczogYm91bmRzLAogICAgICAgICAgICAgICAgICAgICAgICAgICAgICAgICAgICAgICAgICAgbGF5ZXJzOiBbXSwKICAgICAgICAgICAgICAgICAgICAgICAgICAgICAgICAgICAgICAgICAgIGNyczogTC5DUlMuRVBTRzM4NTcKICAgICAgICAgICAgICAgICAgICAgICAgICAgICAgICAgICAgICAgICB9KTsKICAgICAgICAgICAgCiAgICAgICAgCiAgICAgICAgCiAgICAgICAgICAgIAogICAgICAgICAgICB2YXIgdGlsZV9sYXllcl81MDE4YWMxYzY1YTU0MTI1ODc2YmVjY2JkYTk3NzBkOCA9IEwudGlsZUxheWVyKAogICAgICAgICAgICAgICAgJ2h0dHBzOi8ve3N9LnRpbGUub3BlbnN0cmVldG1hcC5vcmcve3p9L3t4fS97eX0ucG5nJywKICAgICAgICAgICAgICAgIHsKICAgICAgICAgICAgICAgICAgICBtYXhab29tOiAxOCwKICAgICAgICAgICAgICAgICAgICBtaW5ab29tOiAxLAogICAgICAgICAgICAgICAgICAgIGF0dHJpYnV0aW9uOiAnRGF0YSBieSA8YSBocmVmPSJodHRwOi8vb3BlbnN0cmVldG1hcC5vcmciPk9wZW5TdHJlZXRNYXA8L2E+LCB1bmRlciA8YSBocmVmPSJodHRwOi8vd3d3Lm9wZW5zdHJlZXRtYXAub3JnL2NvcHlyaWdodCI+T0RiTDwvYT4uJywKICAgICAgICAgICAgICAgICAgICBkZXRlY3RSZXRpbmE6IHRydWUKICAgICAgICAgICAgICAgICAgICB9CiAgICAgICAgICAgICAgICApLmFkZFRvKG1hcF8zYjM4ZWZhMDViYTI0Nzg3OTg3ZmQzMzcyNmUyMmQ1YSk7CgogICAgICAgIAogICAgICAgIAogICAgICAgICAgICAKICAgICAgICAgICAgdmFyIHRpbGVfbGF5ZXJfZjVkMzYyMjAyY2I5NGZiOWFkZmQ5MjQ1NjlkZjViMTEgPSBMLnRpbGVMYXllcigKICAgICAgICAgICAgICAgICdodHRwOi8vc2VydmVyLmFyY2dpc29ubGluZS5jb20vQXJjR0lTL3Jlc3Qvc2VydmljZXMvV29ybGRfSW1hZ2VyeS9NYXBTZXJ2ZXIvdGlsZS97en0ve3l9L3t4fScsCiAgICAgICAgICAgICAgICB7CiAgICAgICAgICAgICAgICAgICAgbWF4Wm9vbTogMTgsCiAgICAgICAgICAgICAgICAgICAgbWluWm9vbTogMSwKICAgICAgICAgICAgICAgICAgICBhdHRyaWJ1dGlvbjogJ0VTUkknLAogICAgICAgICAgICAgICAgICAgIGRldGVjdFJldGluYTogZmFsc2UKICAgICAgICAgICAgICAgICAgICB9CiAgICAgICAgICAgICAgICApLmFkZFRvKG1hcF8zYjM4ZWZhMDViYTI0Nzg3OTg3ZmQzMzcyNmUyMmQ1YSk7CgogICAgICAgIAogICAgICAgIAogICAgICAgICAgICAKICAgICAgICAgICAgdmFyIHRpbGVfbGF5ZXJfZjBmMjgzMTkzMWQzNDE2ZDk2MWRmYzZlMTQ3MzJhYTIgPSBMLnRpbGVMYXllcigKICAgICAgICAgICAgICAgICdodHRwOi8vc2VydmljZXMuYXJjZ2lzb25saW5lLmNvbS9hcmNnaXMvcmVzdC9zZXJ2aWNlcy9Xb3JsZF9Ub3BvX01hcC9NYXBTZXJ2ZXIvdGlsZS97en0ve3l9L3t4fScsCiAgICAgICAgICAgICAgICB7CiAgICAgICAgICAgICAgICAgICAgbWF4Wm9vbTogMTgsCiAgICAgICAgICAgICAgICAgICAgbWluWm9vbTogMSwKICAgICAgICAgICAgICAgICAgICBhdHRyaWJ1dGlvbjogJ0VTUkknLAogICAgICAgICAgICAgICAgICAgIGRldGVjdFJldGluYTogZmFsc2UKICAgICAgICAgICAgICAgICAgICB9CiAgICAgICAgICAgICAgICApLmFkZFRvKG1hcF8zYjM4ZWZhMDViYTI0Nzg3OTg3ZmQzMzcyNmUyMmQ1YSk7CgogICAgICAgIAogICAgICAgIAogICAgICAgICAgICAKICAgICAgICAgICAgdmFyIHRpbGVfbGF5ZXJfODI3ODA0NDQzZWU5NDNlNGI5YjY4ZjMyNjNjOTM2NzIgPSBMLnRpbGVMYXllcigKICAgICAgICAgICAgICAgICdodHRwOi8vc2VydmljZXMuYXJjZ2lzb25saW5lLmNvbS9hcmNnaXMvcmVzdC9zZXJ2aWNlcy9Xb3JsZF9TdHJlZXRfTWFwL01hcFNlcnZlci90aWxlL3t6fS97eX0ve3h9JywKICAgICAgICAgICAgICAgIHsKICAgICAgICAgICAgICAgICAgICBtYXhab29tOiAxOCwKICAgICAgICAgICAgICAgICAgICBtaW5ab29tOiAxLAogICAgICAgICAgICAgICAgICAgIGF0dHJpYnV0aW9uOiAnRVNSSScsCiAgICAgICAgICAgICAgICAgICAgZGV0ZWN0UmV0aW5hOiBmYWxzZQogICAgICAgICAgICAgICAgICAgIH0KICAgICAgICAgICAgICAgICkuYWRkVG8obWFwXzNiMzhlZmEwNWJhMjQ3ODc5ODdmZDMzNzI2ZTIyZDVhKTsKCiAgICAgICAgCiAgICAgICAgCiAgICAgICAgICAgIAogICAgICAgICAgICB2YXIgZmVhdHVyZV9ncm91cF81NDk2MWViNGFlOWM0MmRmYTkwMjdkNDc4YjQ2ZDVlYiA9IEwuZmVhdHVyZUdyb3VwKAogICAgICAgICAgICAgICAgKS5hZGRUbyhtYXBfM2IzOGVmYTA1YmEyNDc4Nzk4N2ZkMzM3MjZlMjJkNWEpOwogICAgICAgIAogICAgICAgIAogICAgICAgICAgICAKCiAgICAgICAgICAgIHZhciBtYXJrZXJfM2Y1M2Q0MjJlNzQzNGYwNjg4MjYyZTEzNDA5ZTdjNDggPSBMLm1hcmtlcigKICAgICAgICAgICAgICAgIFstOS4wNjY3LDE1OS4yMTY3XSwKICAgICAgICAgICAgICAgIHsKICAgICAgICAgICAgICAgICAgICBpY29uOiBuZXcgTC5JY29uLkRlZmF1bHQoKQogICAgICAgICAgICAgICAgICAgIH0KICAgICAgICAgICAgICAgICkKICAgICAgICAgICAgICAgIC5hZGRUbyhmZWF0dXJlX2dyb3VwXzU0OTYxZWI0YWU5YzQyZGZhOTAyN2Q0NzhiNDZkNWViKTsKICAgICAgICAgICAgCiAgICAgICAgCiAgICAgICAgICAgIAoKICAgICAgICAgICAgICAgIHZhciBjdXN0b21faWNvbl81YTZhN2VmOTE5ZTA0NWFhYWI3MTQ1YTJiY2U2MmFhZSA9IEwuaWNvbih7CiAgICAgICAgICAgICAgICAgICAgaWNvblVybDogJ2h0dHBzOi8vcmF3LmdpdGh1YnVzZXJjb250ZW50LmNvbS9uaWNvbGFzZmF1Y2hlcmVhdS9TSU1TL21hc3Rlci9UUk1NL2ltYWdlcy9pY29ucy9ncmVlbi5wbmcnLAogICAgICAgICAgICAgICAgICAgIGljb25TaXplOiBbMjguMiw0OC43NV0sCiAgICAgICAgICAgICAgICAgICAgCgogICAgICAgICAgICAgICAgICAgIAogICAgICAgICAgICAgICAgICAgIAogICAgICAgICAgICAgICAgICAgIAoKICAgICAgICAgICAgICAgICAgICAKICAgICAgICAgICAgICAgICAgICB9KTsKICAgICAgICAgICAgICAgIG1hcmtlcl8zZjUzZDQyMmU3NDM0ZjA2ODgyNjJlMTM0MDllN2M0OC5zZXRJY29uKGN1c3RvbV9pY29uXzVhNmE3ZWY5MTllMDQ1YWFhYjcxNDVhMmJjZTYyYWFlKTsKICAgICAgICAgICAgCiAgICAgICAgCiAgICAgICAgICAgIAogICAgICAgICAgICB2YXIgcG9wdXBfODQ3ODk3ODdmOWMxNGZmNjk0NGE1ZDcxNmEwY2JjZjkgPSBMLnBvcHVwKHttYXhXaWR0aDogJzYwMCd9KTsKCiAgICAgICAgICAgIAogICAgICAgICAgICAgICAgdmFyIGlfZnJhbWVfZTQ1MmUyMTc2NTY0NDhjNjllNzBlOWFmYzY5MWM1YWMgPSAkKCc8aWZyYW1lIHNyYz0iZGF0YTp0ZXh0L2h0bWw7YmFzZTY0LENpQWdJQ0FnSUNBZ0NpQWdJQ0FnSUNBZ0lDQWdJQW9nSUNBZ1BHWnZiblFnWm1GalpUMGlkbVZ5WkdGdVlTSStDaUFnSUNBOFpHbDJJR0ZzYVdkdVBTZGpaVzUwWlhJblBqeG9ORDRLSUNBZ0lFeGhjM1FnT1RBZ1pHRjVjeUFvZEc4Z2RHaGxJREl3TVRjdE1ERXRNVEFnVlZSREtTQmxjM1JwYldGMFpYTWdXMVJTVFUwdlZFMVFRVjBnWm05eUlGbGhibVJwYm1FOEwyZzBQZ29nSUNBZ2IySnpaWEoyWldRZ1BTQThZajQzTVRBOEwySStJRzF0SUR4aWNqNEtJQ0FnSUdOc2FXMWhkRzlzYjJkNUlEMGdQR0krTmpZMVBDOWlQaUJ0YlNBOFluSStDaUFnSUNCd1pYSmpaVzUwTGlCdlppQnViM0p0WVd3Z1BTQThZajR4TURZdU56YzhZajRnSlFvZ0lDQWdQR0p5UGp4aWNqNEtJQ0FnSUR4aElHaHlaV1k5SW1oMGRIQnpPaTh2WTJSdUxuSmhkMmRwZEM1amIyMHZibWxqYjJ4aGMyWmhkV05vWlhKbFlYVXZVMGxOVXk5dFlYTjBaWEl2VkZKTlRTOTNkM2N2Vm1seWRIVmhiRjlUZEdGMGFXOXVYMWxoYm1ScGJtRmZPVEJ1WkdGNWN5NW9kRzFzSWlCMFlYSm5aWFE5SWw5aWJHRnVheUkrWTJ4cFkyc2dhR1Z5WlNCbWIzSWdkR2hsSUhScGJXVXRjMlZ5YVdWelBDOWhQZ29nSUNBZ1BDOW1iMjUwUGdvZ0lDQWdDaUFnSUNBZ0lDQWdDaUFnSUNBZ0lDQWciIHdpZHRoPSIzMDAiIGhlaWdodD0iMjAwIj48L2lmcmFtZT4nKVswXTsKICAgICAgICAgICAgICAgIHBvcHVwXzg0Nzg5Nzg3ZjljMTRmZjY5NDRhNWQ3MTZhMGNiY2Y5LnNldENvbnRlbnQoaV9mcmFtZV9lNDUyZTIxNzY1NjQ0OGM2OWU3MGU5YWZjNjkxYzVhYyk7CiAgICAgICAgICAgIAoKICAgICAgICAgICAgbWFya2VyXzNmNTNkNDIyZTc0MzRmMDY4ODI2MmUxMzQwOWU3YzQ4LmJpbmRQb3B1cChwb3B1cF84NDc4OTc4N2Y5YzE0ZmY2OTQ0YTVkNzE2YTBjYmNmOSk7CgogICAgICAgICAgICAKICAgICAgICAKICAgICAgICAKICAgICAgICAgICAgCgogICAgICAgICAgICB2YXIgbWFya2VyX2U2N2ExNGNmYzMyODQyNWU5NDQ5NDRhYWIyMzY1NzYyID0gTC5tYXJrZXIoCiAgICAgICAgICAgICAgICBbLTYuNzExOTQ0LDE1Ni4zOTYxMTFdLAogICAgICAgICAgICAgICAgewogICAgICAgICAgICAgICAgICAgIGljb246IG5ldyBMLkljb24uRGVmYXVsdCgpCiAgICAgICAgICAgICAgICAgICAgfQogICAgICAgICAgICAgICAgKQogICAgICAgICAgICAgICAgLmFkZFRvKGZlYXR1cmVfZ3JvdXBfNTQ5NjFlYjRhZTljNDJkZmE5MDI3ZDQ3OGI0NmQ1ZWIpOwogICAgICAgICAgICAKICAgICAgICAKICAgICAgICAgICAgCgogICAgICAgICAgICAgICAgdmFyIGN1c3RvbV9pY29uXzUwMmQwMjg4Y2ZiYjQxZjQ4MGIzM2Y3ODQ1MTlkMDkxID0gTC5pY29uKHsKICAgICAgICAgICAgICAgICAgICBpY29uVXJsOiAnaHR0cHM6Ly9yYXcuZ2l0aHVidXNlcmNvbnRlbnQuY29tL25pY29sYXNmYXVjaGVyZWF1L1NJTVMvbWFzdGVyL1RSTU0vaW1hZ2VzL2ljb25zL2RlZXBibHVlLnBuZycsCiAgICAgICAgICAgICAgICAgICAgaWNvblNpemU6IFs0Ny4wLDgxLjI1XSwKICAgICAgICAgICAgICAgICAgICAKCiAgICAgICAgICAgICAgICAgICAgCiAgICAgICAgICAgICAgICAgICAgCiAgICAgICAgICAgICAgICAgICAgCgogICAgICAgICAgICAgICAgICAgIAogICAgICAgICAgICAgICAgICAgIH0pOwogICAgICAgICAgICAgICAgbWFya2VyX2U2N2ExNGNmYzMyODQyNWU5NDQ5NDRhYWIyMzY1NzYyLnNldEljb24oY3VzdG9tX2ljb25fNTAyZDAyODhjZmJiNDFmNDgwYjMzZjc4NDUxOWQwOTEpOwogICAgICAgICAgICAKICAgICAgICAKICAgICAgICAgICAgCiAgICAgICAgICAgIHZhciBwb3B1cF9kMjg3MWU1MGI4ZjE0NWVkOTAxNjEwZmUyOWQwZWY4MiA9IEwucG9wdXAoe21heFdpZHRoOiAnNjAwJ30pOwoKICAgICAgICAgICAgCiAgICAgICAgICAgICAgICB2YXIgaV9mcmFtZV8wMjQyYTJjMTM0OGQ0NDg1YjU5YTE0OTZhNjMxOTJmNyA9ICQoJzxpZnJhbWUgc3JjPSJkYXRhOnRleHQvaHRtbDtiYXNlNjQsQ2lBZ0lDQWdJQ0FnQ2lBZ0lDQWdJQ0FnSUNBZ0lBb2dJQ0FnUEdadmJuUWdabUZqWlQwaWRtVnlaR0Z1WVNJK0NpQWdJQ0E4WkdsMklHRnNhV2R1UFNkalpXNTBaWEluUGp4b05ENEtJQ0FnSUV4aGMzUWdPVEFnWkdGNWN5QW9kRzhnZEdobElESXdNVGN0TURFdE1UQWdWVlJES1NCbGMzUnBiV0YwWlhNZ1cxUlNUVTB2VkUxUVFWMGdabTl5SUVOb2IybHpkV1ZzSUVKaGVUd3ZhRFErQ2lBZ0lDQnZZbk5sY25abFpDQTlJRHhpUGpFeE1UWThMMkkrSUcxdElEeGljajRLSUNBZ0lHTnNhVzFoZEc5c2IyZDVJRDBnUEdJK05qZ3pQQzlpUGlCdGJTQThZbkkrQ2lBZ0lDQndaWEpqWlc1MExpQnZaaUJ1YjNKdFlXd2dQU0E4WWo0eE5qTXVOREE4WWo0Z0pRb2dJQ0FnUEdKeVBqeGljajRLSUNBZ0lEeGhJR2h5WldZOUltaDBkSEJ6T2k4dlkyUnVMbkpoZDJkcGRDNWpiMjB2Ym1samIyeGhjMlpoZFdOb1pYSmxZWFV2VTBsTlV5OXRZWE4wWlhJdlZGSk5UUzkzZDNjdlZtbHlkSFZoYkY5VGRHRjBhVzl1WDBOb2IybHpkV1ZzWDBKaGVWODVNRzVrWVhsekxtaDBiV3dpSUhSaGNtZGxkRDBpWDJKc1lXNXJJajVqYkdsamF5Qm9aWEpsSUdadmNpQjBhR1VnZEdsdFpTMXpaWEpwWlhNOEwyRStDaUFnSUNBOEwyWnZiblErQ2lBZ0lDQUtJQ0FnSUNBZ0lDQUtJQ0FnSUNBZ0lDQT0iIHdpZHRoPSIzMDAiIGhlaWdodD0iMjAwIj48L2lmcmFtZT4nKVswXTsKICAgICAgICAgICAgICAgIHBvcHVwX2QyODcxZTUwYjhmMTQ1ZWQ5MDE2MTBmZTI5ZDBlZjgyLnNldENvbnRlbnQoaV9mcmFtZV8wMjQyYTJjMTM0OGQ0NDg1YjU5YTE0OTZhNjMxOTJmNyk7CiAgICAgICAgICAgIAoKICAgICAgICAgICAgbWFya2VyX2U2N2ExNGNmYzMyODQyNWU5NDQ5NDRhYWIyMzY1NzYyLmJpbmRQb3B1cChwb3B1cF9kMjg3MWU1MGI4ZjE0NWVkOTAxNjEwZmUyOWQwZWY4Mik7CgogICAgICAgICAgICAKICAgICAgICAKICAgICAgICAKICAgICAgICAgICAgCgogICAgICAgICAgICB2YXIgbWFya2VyX2NhOTcwMzk2NWVjYzQ3MWNiOGU0Y2ZlOWRlNGZjZTk1ID0gTC5tYXJrZXIoCiAgICAgICAgICAgICAgICBbLTcuMDgzMywxNTYuNzVdLAogICAgICAgICAgICAgICAgewogICAgICAgICAgICAgICAgICAgIGljb246IG5ldyBMLkljb24uRGVmYXVsdCgpCiAgICAgICAgICAgICAgICAgICAgfQogICAgICAgICAgICAgICAgKQogICAgICAgICAgICAgICAgLmFkZFRvKGZlYXR1cmVfZ3JvdXBfNTQ5NjFlYjRhZTljNDJkZmE5MDI3ZDQ3OGI0NmQ1ZWIpOwogICAgICAgICAgICAKICAgICAgICAKICAgICAgICAgICAgCgogICAgICAgICAgICAgICAgdmFyIGN1c3RvbV9pY29uXzI2Mzk5ZWE3YjA2YzRkNmVhYzkwZjM4OTJiZjdkNzE1ID0gTC5pY29uKHsKICAgICAgICAgICAgICAgICAgICBpY29uVXJsOiAnaHR0cHM6Ly9yYXcuZ2l0aHVidXNlcmNvbnRlbnQuY29tL25pY29sYXNmYXVjaGVyZWF1L1NJTVMvbWFzdGVyL1RSTU0vaW1hZ2VzL2ljb25zL2JsdWUucG5nJywKICAgICAgICAgICAgICAgICAgICBpY29uU2l6ZTogWzM3LjYsNjUuMF0sCiAgICAgICAgICAgICAgICAgICAgCgogICAgICAgICAgICAgICAgICAgIAogICAgICAgICAgICAgICAgICAgIAogICAgICAgICAgICAgICAgICAgIAoKICAgICAgICAgICAgICAgICAgICAKICAgICAgICAgICAgICAgICAgICB9KTsKICAgICAgICAgICAgICAgIG1hcmtlcl9jYTk3MDM5NjVlY2M0NzFjYjhlNGNmZTlkZTRmY2U5NS5zZXRJY29uKGN1c3RvbV9pY29uXzI2Mzk5ZWE3YjA2YzRkNmVhYzkwZjM4OTJiZjdkNzE1KTsKICAgICAgICAgICAgCiAgICAgICAgCiAgICAgICAgICAgIAogICAgICAgICAgICB2YXIgcG9wdXBfMWRiMzcyNzZlNDNmNDk2MzhmMjc5OTJmNmI3YzQ3ODIgPSBMLnBvcHVwKHttYXhXaWR0aDogJzYwMCd9KTsKCiAgICAgICAgICAgIAogICAgICAgICAgICAgICAgdmFyIGlfZnJhbWVfMjNiMmNkM2FlYTc0NGQzNjliMzI4NjQzMGRkYmMxYzQgPSAkKCc8aWZyYW1lIHNyYz0iZGF0YTp0ZXh0L2h0bWw7YmFzZTY0LENpQWdJQ0FnSUNBZ0NpQWdJQ0FnSUNBZ0lDQWdJQW9nSUNBZ1BHWnZiblFnWm1GalpUMGlkbVZ5WkdGdVlTSStDaUFnSUNBOFpHbDJJR0ZzYVdkdVBTZGpaVzUwWlhJblBqeG9ORDRLSUNBZ0lFeGhjM1FnT1RBZ1pHRjVjeUFvZEc4Z2RHaGxJREl3TVRjdE1ERXRNVEFnVlZSREtTQmxjM1JwYldGMFpYTWdXMVJTVFUwdlZFMVFRVjBnWm05eUlGTmhjMkZ0ZFc1bloyRThMMmcwUGdvZ0lDQWdiMkp6WlhKMlpXUWdQU0E4WWo0NE9USThMMkkrSUcxdElEeGljajRLSUNBZ0lHTnNhVzFoZEc5c2IyZDVJRDBnUEdJK05qTTFQQzlpUGlCdGJTQThZbkkrQ2lBZ0lDQndaWEpqWlc1MExpQnZaaUJ1YjNKdFlXd2dQU0E4WWo0eE5EQXVORGM4WWo0Z0pRb2dJQ0FnUEdKeVBqeGljajRLSUNBZ0lEeGhJR2h5WldZOUltaDBkSEJ6T2k4dlkyUnVMbkpoZDJkcGRDNWpiMjB2Ym1samIyeGhjMlpoZFdOb1pYSmxZWFV2VTBsTlV5OXRZWE4wWlhJdlZGSk5UUzkzZDNjdlZtbHlkSFZoYkY5VGRHRjBhVzl1WDFOaGMyRnRkVzVuWjJGZk9UQnVaR0Y1Y3k1b2RHMXNJaUIwWVhKblpYUTlJbDlpYkdGdWF5SStZMnhwWTJzZ2FHVnlaU0JtYjNJZ2RHaGxJSFJwYldVdGMyVnlhV1Z6UEM5aFBnb2dJQ0FnUEM5bWIyNTBQZ29nSUNBZ0NpQWdJQ0FnSUNBZ0NpQWdJQ0FnSUNBZyIgd2lkdGg9IjMwMCIgaGVpZ2h0PSIyMDAiPjwvaWZyYW1lPicpWzBdOwogICAgICAgICAgICAgICAgcG9wdXBfMWRiMzcyNzZlNDNmNDk2MzhmMjc5OTJmNmI3YzQ3ODIuc2V0Q29udGVudChpX2ZyYW1lXzIzYjJjZDNhZWE3NDRkMzY5YjMyODY0MzBkZGJjMWM0KTsKICAgICAgICAgICAgCgogICAgICAgICAgICBtYXJrZXJfY2E5NzAzOTY1ZWNjNDcxY2I4ZTRjZmU5ZGU0ZmNlOTUuYmluZFBvcHVwKHBvcHVwXzFkYjM3Mjc2ZTQzZjQ5NjM4ZjI3OTkyZjZiN2M0NzgyKTsKCiAgICAgICAgICAgIAogICAgICAgIAogICAgICAgIAogICAgICAgICAgICAKCiAgICAgICAgICAgIHZhciBtYXJrZXJfNzNmYTljZjUwYzljNDlhZGFkNzE4NDk2MzIzMGY5YWMgPSBMLm1hcmtlcigKICAgICAgICAgICAgICAgIFstNy40NjksMTU3Ljc0MzRdLAogICAgICAgICAgICAgICAgewogICAgICAgICAgICAgICAgICAgIGljb246IG5ldyBMLkljb24uRGVmYXVsdCgpCiAgICAgICAgICAgICAgICAgICAgfQogICAgICAgICAgICAgICAgKQogICAgICAgICAgICAgICAgLmFkZFRvKGZlYXR1cmVfZ3JvdXBfNTQ5NjFlYjRhZTljNDJkZmE5MDI3ZDQ3OGI0NmQ1ZWIpOwogICAgICAgICAgICAKICAgICAgICAKICAgICAgICAgICAgCgogICAgICAgICAgICAgICAgdmFyIGN1c3RvbV9pY29uXzQwNmQ4YmE2ZjcxNTRiN2ViZTVhMjY5MmY4ZWFmM2YwID0gTC5pY29uKHsKICAgICAgICAgICAgICAgICAgICBpY29uVXJsOiAnaHR0cHM6Ly9yYXcuZ2l0aHVidXNlcmNvbnRlbnQuY29tL25pY29sYXNmYXVjaGVyZWF1L1NJTVMvbWFzdGVyL1RSTU0vaW1hZ2VzL2ljb25zL2JsdWUucG5nJywKICAgICAgICAgICAgICAgICAgICBpY29uU2l6ZTogWzM3LjYsNjUuMF0sCiAgICAgICAgICAgICAgICAgICAgCgogICAgICAgICAgICAgICAgICAgIAogICAgICAgICAgICAgICAgICAgIAogICAgICAgICAgICAgICAgICAgIAoKICAgICAgICAgICAgICAgICAgICAKICAgICAgICAgICAgICAgICAgICB9KTsKICAgICAgICAgICAgICAgIG1hcmtlcl83M2ZhOWNmNTBjOWM0OWFkYWQ3MTg0OTYzMjMwZjlhYy5zZXRJY29uKGN1c3RvbV9pY29uXzQwNmQ4YmE2ZjcxNTRiN2ViZTVhMjY5MmY4ZWFmM2YwKTsKICAgICAgICAgICAgCiAgICAgICAgCiAgICAgICAgICAgIAogICAgICAgICAgICB2YXIgcG9wdXBfYjY5ZTMyNWJmN2ZjNDY0YTgyM2NlYWRmNGExZjVhNTAgPSBMLnBvcHVwKHttYXhXaWR0aDogJzYwMCd9KTsKCiAgICAgICAgICAgIAogICAgICAgICAgICAgICAgdmFyIGlfZnJhbWVfMzBlOTU2MzVjM2VkNGIyYTgyOTZkMWZiZTUxOWUwOTQgPSAkKCc8aWZyYW1lIHNyYz0iZGF0YTp0ZXh0L2h0bWw7YmFzZTY0LENpQWdJQ0FnSUNBZ0NpQWdJQ0FnSUNBZ0lDQWdJQW9nSUNBZ1BHWnZiblFnWm1GalpUMGlkbVZ5WkdGdVlTSStDaUFnSUNBOFpHbDJJR0ZzYVdkdVBTZGpaVzUwWlhJblBqeG9ORDRLSUNBZ0lFeGhjM1FnT1RBZ1pHRjVjeUFvZEc4Z2RHaGxJREl3TVRjdE1ERXRNVEFnVlZSREtTQmxjM1JwYldGMFpYTWdXMVJTVFUwdlZFMVFRVjBnWm05eUlGZGhaMmx1WVR3dmFEUStDaUFnSUNCdlluTmxjblpsWkNBOUlEeGlQakV3TmpjOEwySStJRzF0SUR4aWNqNEtJQ0FnSUdOc2FXMWhkRzlzYjJkNUlEMGdQR0krTnpjeFBDOWlQaUJ0YlNBOFluSStDaUFnSUNCd1pYSmpaVzUwTGlCdlppQnViM0p0WVd3Z1BTQThZajR4TXpndU16azhZajRnSlFvZ0lDQWdQR0p5UGp4aWNqNEtJQ0FnSUR4aElHaHlaV1k5SW1oMGRIQnpPaTh2WTJSdUxuSmhkMmRwZEM1amIyMHZibWxqYjJ4aGMyWmhkV05vWlhKbFlYVXZVMGxOVXk5dFlYTjBaWEl2VkZKTlRTOTNkM2N2Vm1seWRIVmhiRjlUZEdGMGFXOXVYMWRoWjJsdVlWODVNRzVrWVhsekxtaDBiV3dpSUhSaGNtZGxkRDBpWDJKc1lXNXJJajVqYkdsamF5Qm9aWEpsSUdadmNpQjBhR1VnZEdsdFpTMXpaWEpwWlhNOEwyRStDaUFnSUNBOEwyWnZiblErQ2lBZ0lDQUtJQ0FnSUNBZ0lDQUtJQ0FnSUNBZ0lDQT0iIHdpZHRoPSIzMDAiIGhlaWdodD0iMjAwIj48L2lmcmFtZT4nKVswXTsKICAgICAgICAgICAgICAgIHBvcHVwX2I2OWUzMjViZjdmYzQ2NGE4MjNjZWFkZjRhMWY1YTUwLnNldENvbnRlbnQoaV9mcmFtZV8zMGU5NTYzNWMzZWQ0YjJhODI5NmQxZmJlNTE5ZTA5NCk7CiAgICAgICAgICAgIAoKICAgICAgICAgICAgbWFya2VyXzczZmE5Y2Y1MGM5YzQ5YWRhZDcxODQ5NjMyMzBmOWFjLmJpbmRQb3B1cChwb3B1cF9iNjllMzI1YmY3ZmM0NjRhODIzY2VhZGY0YTFmNWE1MCk7CgogICAgICAgICAgICAKICAgICAgICAKICAgICAgICAKICAgICAgICAgICAgCgogICAgICAgICAgICB2YXIgbWFya2VyXzAzNTEwODlkNDQ1ODRjMmY4MDEyMzU3NDIxMWQ4N2NkID0gTC5tYXJrZXIoCiAgICAgICAgICAgICAgICBbLTkuMjUsMTU5LjY1XSwKICAgICAgICAgICAgICAgIHsKICAgICAgICAgICAgICAgICAgICBpY29uOiBuZXcgTC5JY29uLkRlZmF1bHQoKQogICAgICAgICAgICAgICAgICAgIH0KICAgICAgICAgICAgICAgICkKICAgICAgICAgICAgICAgIC5hZGRUbyhmZWF0dXJlX2dyb3VwXzU0OTYxZWI0YWU5YzQyZGZhOTAyN2Q0NzhiNDZkNWViKTsKICAgICAgICAgICAgCiAgICAgICAgCiAgICAgICAgICAgIAoKICAgICAgICAgICAgICAgIHZhciBjdXN0b21faWNvbl9lZjM0MjEyNzNmODU0OTJhODVmYzc0YmUyMjM1N2IwMSA9IEwuaWNvbih7CiAgICAgICAgICAgICAgICAgICAgaWNvblVybDogJ2h0dHBzOi8vcmF3LmdpdGh1YnVzZXJjb250ZW50LmNvbS9uaWNvbGFzZmF1Y2hlcmVhdS9TSU1TL21hc3Rlci9UUk1NL2ltYWdlcy9pY29ucy9ibHVlLnBuZycsCiAgICAgICAgICAgICAgICAgICAgaWNvblNpemU6IFszNy42LDY1LjBdLAogICAgICAgICAgICAgICAgICAgIAoKICAgICAgICAgICAgICAgICAgICAKICAgICAgICAgICAgICAgICAgICAKICAgICAgICAgICAgICAgICAgICAKCiAgICAgICAgICAgICAgICAgICAgCiAgICAgICAgICAgICAgICAgICAgfSk7CiAgICAgICAgICAgICAgICBtYXJrZXJfMDM1MTA4OWQ0NDU4NGMyZjgwMTIzNTc0MjExZDg3Y2Quc2V0SWNvbihjdXN0b21faWNvbl9lZjM0MjEyNzNmODU0OTJhODVmYzc0YmUyMjM1N2IwMSk7CiAgICAgICAgICAgIAogICAgICAgIAogICAgICAgICAgICAKICAgICAgICAgICAgdmFyIHBvcHVwX2YzOWRjNjNlNjRjMDQyYzA5M2QwNTk1N2EwNWQxNjc4ID0gTC5wb3B1cCh7bWF4V2lkdGg6ICc2MDAnfSk7CgogICAgICAgICAgICAKICAgICAgICAgICAgICAgIHZhciBpX2ZyYW1lXzFiZGRkYmUyOWQzMTRjM2FiNjM1YTc1NmQ2ZGY4OWVlID0gJCgnPGlmcmFtZSBzcmM9ImRhdGE6dGV4dC9odG1sO2Jhc2U2NCxDaUFnSUNBZ0lDQWdDaUFnSUNBZ0lDQWdJQ0FnSUFvZ0lDQWdQR1p2Ym5RZ1ptRmpaVDBpZG1WeVpHRnVZU0krQ2lBZ0lDQThaR2wySUdGc2FXZHVQU2RqWlc1MFpYSW5QanhvTkQ0S0lDQWdJRXhoYzNRZ09UQWdaR0Y1Y3lBb2RHOGdkR2hsSURJd01UY3RNREV0TVRBZ1ZWUkRLU0JsYzNScGJXRjBaWE1nVzFSU1RVMHZWRTFRUVYwZ1ptOXlJRXRsYzJGdlBDOW9ORDRLSUNBZ0lHOWljMlZ5ZG1Wa0lEMGdQR0krTnpFNVBDOWlQaUJ0YlNBOFluSStDaUFnSUNCamJHbHRZWFJ2Ykc5bmVTQTlJRHhpUGpVMk1Ud3ZZajRnYlcwZ1BHSnlQZ29nSUNBZ2NHVnlZMlZ1ZEM0Z2IyWWdibTl5YldGc0lEMGdQR0krTVRJNExqRTJQR0krSUNVS0lDQWdJRHhpY2o0OFluSStDaUFnSUNBOFlTQm9jbVZtUFNKb2RIUndjem92TDJOa2JpNXlZWGRuYVhRdVkyOXRMMjVwWTI5c1lYTm1ZWFZqYUdWeVpXRjFMMU5KVFZNdmJXRnpkR1Z5TDFSU1RVMHZkM2QzTDFacGNuUjFZV3hmVTNSaGRHbHZibDlMWlhOaGIxODVNRzVrWVhsekxtaDBiV3dpSUhSaGNtZGxkRDBpWDJKc1lXNXJJajVqYkdsamF5Qm9aWEpsSUdadmNpQjBhR1VnZEdsdFpTMXpaWEpwWlhNOEwyRStDaUFnSUNBOEwyWnZiblErQ2lBZ0lDQUtJQ0FnSUNBZ0lDQUtJQ0FnSUNBZ0lDQT0iIHdpZHRoPSIzMDAiIGhlaWdodD0iMjAwIj48L2lmcmFtZT4nKVswXTsKICAgICAgICAgICAgICAgIHBvcHVwX2YzOWRjNjNlNjRjMDQyYzA5M2QwNTk1N2EwNWQxNjc4LnNldENvbnRlbnQoaV9mcmFtZV8xYmRkZGJlMjlkMzE0YzNhYjYzNWE3NTZkNmRmODllZSk7CiAgICAgICAgICAgIAoKICAgICAgICAgICAgbWFya2VyXzAzNTEwODlkNDQ1ODRjMmY4MDEyMzU3NDIxMWQ4N2NkLmJpbmRQb3B1cChwb3B1cF9mMzlkYzYzZTY0YzA0MmMwOTNkMDU5NTdhMDVkMTY3OCk7CgogICAgICAgICAgICAKICAgICAgICAKICAgICAgICAKICAgICAgICAgICAgCgogICAgICAgICAgICB2YXIgbWFya2VyXzNhZmExY2U1NWIxYTQwMzY5MWU4M2MwNTQxMzNhZjY4ID0gTC5tYXJrZXIoCiAgICAgICAgICAgICAgICBbLTkuNDEsMTU5Ljk2XSwKICAgICAgICAgICAgICAgIHsKICAgICAgICAgICAgICAgICAgICBpY29uOiBuZXcgTC5JY29uLkRlZmF1bHQoKQogICAgICAgICAgICAgICAgICAgIH0KICAgICAgICAgICAgICAgICkKICAgICAgICAgICAgICAgIC5hZGRUbyhmZWF0dXJlX2dyb3VwXzU0OTYxZWI0YWU5YzQyZGZhOTAyN2Q0NzhiNDZkNWViKTsKICAgICAgICAgICAgCiAgICAgICAgCiAgICAgICAgICAgIAoKICAgICAgICAgICAgICAgIHZhciBjdXN0b21faWNvbl8zMTcwMzkzMWEzODk0OGEwYmZkNzZjN2VkNDJmOWJkZiA9IEwuaWNvbih7CiAgICAgICAgICAgICAgICAgICAgaWNvblVybDogJ2h0dHBzOi8vcmF3LmdpdGh1YnVzZXJjb250ZW50LmNvbS9uaWNvbGFzZmF1Y2hlcmVhdS9TSU1TL21hc3Rlci9UUk1NL2ltYWdlcy9pY29ucy9ibHVlLnBuZycsCiAgICAgICAgICAgICAgICAgICAgaWNvblNpemU6IFszNy42LDY1LjBdLAogICAgICAgICAgICAgICAgICAgIAoKICAgICAgICAgICAgICAgICAgICAKICAgICAgICAgICAgICAgICAgICAKICAgICAgICAgICAgICAgICAgICAKCiAgICAgICAgICAgICAgICAgICAgCiAgICAgICAgICAgICAgICAgICAgfSk7CiAgICAgICAgICAgICAgICBtYXJrZXJfM2FmYTFjZTU1YjFhNDAzNjkxZTgzYzA1NDEzM2FmNjguc2V0SWNvbihjdXN0b21faWNvbl8zMTcwMzkzMWEzODk0OGEwYmZkNzZjN2VkNDJmOWJkZik7CiAgICAgICAgICAgIAogICAgICAgIAogICAgICAgICAgICAKICAgICAgICAgICAgdmFyIHBvcHVwX2VmNDczMDQ5MTdmOTRlNDZiMTMyMjRjMTg1MDljYmJjID0gTC5wb3B1cCh7bWF4V2lkdGg6ICc2MDAnfSk7CgogICAgICAgICAgICAKICAgICAgICAgICAgICAgIHZhciBpX2ZyYW1lX2VkNmYwYjVlNGIwNDQ3ZTU4YTYxM2FmNDhlNDE2YzA1ID0gJCgnPGlmcmFtZSBzcmM9ImRhdGE6dGV4dC9odG1sO2Jhc2U2NCxDaUFnSUNBZ0lDQWdDaUFnSUNBZ0lDQWdJQ0FnSUFvZ0lDQWdQR1p2Ym5RZ1ptRmpaVDBpZG1WeVpHRnVZU0krQ2lBZ0lDQThaR2wySUdGc2FXZHVQU2RqWlc1MFpYSW5QanhvTkQ0S0lDQWdJRXhoYzNRZ09UQWdaR0Y1Y3lBb2RHOGdkR2hsSURJd01UY3RNREV0TVRBZ1ZWUkRLU0JsYzNScGJXRjBaWE1nVzFSU1RVMHZWRTFRUVYwZ1ptOXlJRWh2Ym1saGNtRWdLRlpoZG1GNVlTQlNhV1JuWlNrOEwyZzBQZ29nSUNBZ2IySnpaWEoyWldRZ1BTQThZajQyT1RjOEwySStJRzF0SUR4aWNqNEtJQ0FnSUdOc2FXMWhkRzlzYjJkNUlEMGdQR0krTlRRNVBDOWlQaUJ0YlNBOFluSStDaUFnSUNCd1pYSmpaVzUwTGlCdlppQnViM0p0WVd3Z1BTQThZajR4TWpZdU9UWThZajRnSlFvZ0lDQWdQR0p5UGp4aWNqNEtJQ0FnSUR4aElHaHlaV1k5SW1oMGRIQnpPaTh2WTJSdUxuSmhkMmRwZEM1amIyMHZibWxqYjJ4aGMyWmhkV05vWlhKbFlYVXZVMGxOVXk5dFlYTjBaWEl2VkZKTlRTOTNkM2N2Vm1seWRIVmhiRjlUZEdGMGFXOXVYMGh2Ym1saGNtRmZYMVpoZG1GNVlWOVNhV1JuWlY5Zk9UQnVaR0Y1Y3k1b2RHMXNJaUIwWVhKblpYUTlJbDlpYkdGdWF5SStZMnhwWTJzZ2FHVnlaU0JtYjNJZ2RHaGxJSFJwYldVdGMyVnlhV1Z6UEM5aFBnb2dJQ0FnUEM5bWIyNTBQZ29nSUNBZ0NpQWdJQ0FnSUNBZ0NpQWdJQ0FnSUNBZyIgd2lkdGg9IjMwMCIgaGVpZ2h0PSIyMDAiPjwvaWZyYW1lPicpWzBdOwogICAgICAgICAgICAgICAgcG9wdXBfZWY0NzMwNDkxN2Y5NGU0NmIxMzIyNGMxODUwOWNiYmMuc2V0Q29udGVudChpX2ZyYW1lX2VkNmYwYjVlNGIwNDQ3ZTU4YTYxM2FmNDhlNDE2YzA1KTsKICAgICAgICAgICAgCgogICAgICAgICAgICBtYXJrZXJfM2FmYTFjZTU1YjFhNDAzNjkxZTgzYzA1NDEzM2FmNjguYmluZFBvcHVwKHBvcHVwX2VmNDczMDQ5MTdmOTRlNDZiMTMyMjRjMTg1MDljYmJjKTsKCiAgICAgICAgICAgIAogICAgICAgIAogICAgICAgIAogICAgICAgICAgICAKCiAgICAgICAgICAgIHZhciBtYXJrZXJfZDA3MzQxYjBlM2U1NDM1ZGI4YWU2ODAyN2FiNWY1MTggPSBMLm1hcmtlcigKICAgICAgICAgICAgICAgIFstOS44NjkzLDE2MC40MTE1XSwKICAgICAgICAgICAgICAgIHsKICAgICAgICAgICAgICAgICAgICBpY29uOiBuZXcgTC5JY29uLkRlZmF1bHQoKQogICAgICAgICAgICAgICAgICAgIH0KICAgICAgICAgICAgICAgICkKICAgICAgICAgICAgICAgIC5hZGRUbyhmZWF0dXJlX2dyb3VwXzU0OTYxZWI0YWU5YzQyZGZhOTAyN2Q0NzhiNDZkNWViKTsKICAgICAgICAgICAgCiAgICAgICAgCiAgICAgICAgICAgIAoKICAgICAgICAgICAgICAgIHZhciBjdXN0b21faWNvbl8wYjBjZGViYjNlZjY0NDI4OWUwNGFlZGM5YzVjZGZmNiA9IEwuaWNvbih7CiAgICAgICAgICAgICAgICAgICAgaWNvblVybDogJ2h0dHBzOi8vcmF3LmdpdGh1YnVzZXJjb250ZW50LmNvbS9uaWNvbGFzZmF1Y2hlcmVhdS9TSU1TL21hc3Rlci9UUk1NL2ltYWdlcy9pY29ucy9ncmVlbi5wbmcnLAogICAgICAgICAgICAgICAgICAgIGljb25TaXplOiBbMjguMiw0OC43NV0sCiAgICAgICAgICAgICAgICAgICAgCgogICAgICAgICAgICAgICAgICAgIAogICAgICAgICAgICAgICAgICAgIAogICAgICAgICAgICAgICAgICAgIAoKICAgICAgICAgICAgICAgICAgICAKICAgICAgICAgICAgICAgICAgICB9KTsKICAgICAgICAgICAgICAgIG1hcmtlcl9kMDczNDFiMGUzZTU0MzVkYjhhZTY4MDI3YWI1ZjUxOC5zZXRJY29uKGN1c3RvbV9pY29uXzBiMGNkZWJiM2VmNjQ0Mjg5ZTA0YWVkYzljNWNkZmY2KTsKICAgICAgICAgICAgCiAgICAgICAgCiAgICAgICAgICAgIAogICAgICAgICAgICB2YXIgcG9wdXBfMjMzOWQ5MjNiMmE2NDgyMmFlYzE3ZGEyOGJiZjc1N2UgPSBMLnBvcHVwKHttYXhXaWR0aDogJzYwMCd9KTsKCiAgICAgICAgICAgIAogICAgICAgICAgICAgICAgdmFyIGlfZnJhbWVfZWViYTc1ODE1MjAwNDY3OWE1NDc3YTczOWJkYzBjM2EgPSAkKCc8aWZyYW1lIHNyYz0iZGF0YTp0ZXh0L2h0bWw7YmFzZTY0LENpQWdJQ0FnSUNBZ0NpQWdJQ0FnSUNBZ0lDQWdJQW9nSUNBZ1BHWnZiblFnWm1GalpUMGlkbVZ5WkdGdVlTSStDaUFnSUNBOFpHbDJJR0ZzYVdkdVBTZGpaVzUwWlhJblBqeG9ORDRLSUNBZ0lFeGhjM1FnT1RBZ1pHRjVjeUFvZEc4Z2RHaGxJREl3TVRjdE1ERXRNVEFnVlZSREtTQmxjM1JwYldGMFpYTWdXMVJTVFUwdlZFMVFRVjBnWm05eUlFRjJkU0JCZG5VOEwyZzBQZ29nSUNBZ2IySnpaWEoyWldRZ1BTQThZajQzTXprOEwySStJRzF0SUR4aWNqNEtJQ0FnSUdOc2FXMWhkRzlzYjJkNUlEMGdQR0krTmpnMFBDOWlQaUJ0YlNBOFluSStDaUFnSUNCd1pYSmpaVzUwTGlCdlppQnViM0p0WVd3Z1BTQThZajR4TURndU1EUThZajRnSlFvZ0lDQWdQR0p5UGp4aWNqNEtJQ0FnSUR4aElHaHlaV1k5SW1oMGRIQnpPaTh2WTJSdUxuSmhkMmRwZEM1amIyMHZibWxqYjJ4aGMyWmhkV05vWlhKbFlYVXZVMGxOVXk5dFlYTjBaWEl2VkZKTlRTOTNkM2N2Vm1seWRIVmhiRjlUZEdGMGFXOXVYMEYyZFY5QmRuVmZPVEJ1WkdGNWN5NW9kRzFzSWlCMFlYSm5aWFE5SWw5aWJHRnVheUkrWTJ4cFkyc2dhR1Z5WlNCbWIzSWdkR2hsSUhScGJXVXRjMlZ5YVdWelBDOWhQZ29nSUNBZ1BDOW1iMjUwUGdvZ0lDQWdDaUFnSUNBZ0lDQWdDaUFnSUNBZ0lDQWciIHdpZHRoPSIzMDAiIGhlaWdodD0iMjAwIj48L2lmcmFtZT4nKVswXTsKICAgICAgICAgICAgICAgIHBvcHVwXzIzMzlkOTIzYjJhNjQ4MjJhZWMxN2RhMjhiYmY3NTdlLnNldENvbnRlbnQoaV9mcmFtZV9lZWJhNzU4MTUyMDA0Njc5YTU0NzdhNzM5YmRjMGMzYSk7CiAgICAgICAgICAgIAoKICAgICAgICAgICAgbWFya2VyX2QwNzM0MWIwZTNlNTQzNWRiOGFlNjgwMjdhYjVmNTE4LmJpbmRQb3B1cChwb3B1cF8yMzM5ZDkyM2IyYTY0ODIyYWVjMTdkYTI4YmJmNzU3ZSk7CgogICAgICAgICAgICAKICAgICAgICAKICAgICAgICAKICAgICAgICAgICAgCgogICAgICAgICAgICB2YXIgbWFya2VyXzVjOTM3MDJlNWQzOTQzYWE4NDUyZTIyMmUxMzYyMWJkID0gTC5tYXJrZXIoCiAgICAgICAgICAgICAgICBbLTkuMjgzOCwxNTkuNzMyNF0sCiAgICAgICAgICAgICAgICB7CiAgICAgICAgICAgICAgICAgICAgaWNvbjogbmV3IEwuSWNvbi5EZWZhdWx0KCkKICAgICAgICAgICAgICAgICAgICB9CiAgICAgICAgICAgICAgICApCiAgICAgICAgICAgICAgICAuYWRkVG8oZmVhdHVyZV9ncm91cF81NDk2MWViNGFlOWM0MmRmYTkwMjdkNDc4YjQ2ZDVlYik7CiAgICAgICAgICAgIAogICAgICAgIAogICAgICAgICAgICAKCiAgICAgICAgICAgICAgICB2YXIgY3VzdG9tX2ljb25fNWYzMDgxMGVhMzNhNDk4MWFlMDA1YjIxOTM5ZTEzNzUgPSBMLmljb24oewogICAgICAgICAgICAgICAgICAgIGljb25Vcmw6ICdodHRwczovL3Jhdy5naXRodWJ1c2VyY29udGVudC5jb20vbmljb2xhc2ZhdWNoZXJlYXUvU0lNUy9tYXN0ZXIvVFJNTS9pbWFnZXMvaWNvbnMvZ3JlZW4ucG5nJywKICAgICAgICAgICAgICAgICAgICBpY29uU2l6ZTogWzI4LjIsNDguNzVdLAogICAgICAgICAgICAgICAgICAgIAoKICAgICAgICAgICAgICAgICAgICAKICAgICAgICAgICAgICAgICAgICAKICAgICAgICAgICAgICAgICAgICAKCiAgICAgICAgICAgICAgICAgICAgCiAgICAgICAgICAgICAgICAgICAgfSk7CiAgICAgICAgICAgICAgICBtYXJrZXJfNWM5MzcwMmU1ZDM5NDNhYTg0NTJlMjIyZTEzNjIxYmQuc2V0SWNvbihjdXN0b21faWNvbl81ZjMwODEwZWEzM2E0OTgxYWUwMDViMjE5MzllMTM3NSk7CiAgICAgICAgICAgIAogICAgICAgIAogICAgICAgICAgICAKICAgICAgICAgICAgdmFyIHBvcHVwX2RjZGVkOWUwODBkYjRhOTZiNThkNTI5Yjg4ODM5ZjUyID0gTC5wb3B1cCh7bWF4V2lkdGg6ICc2MDAnfSk7CgogICAgICAgICAgICAKICAgICAgICAgICAgICAgIHZhciBpX2ZyYW1lX2VkNWQ3MDRmNmU5NzRmMGVhN2UzNjMzMDgwY2Q5NWM0ID0gJCgnPGlmcmFtZSBzcmM9ImRhdGE6dGV4dC9odG1sO2Jhc2U2NCxDaUFnSUNBZ0lDQWdDaUFnSUNBZ0lDQWdJQ0FnSUFvZ0lDQWdQR1p2Ym5RZ1ptRmpaVDBpZG1WeVpHRnVZU0krQ2lBZ0lDQThaR2wySUdGc2FXZHVQU2RqWlc1MFpYSW5QanhvTkQ0S0lDQWdJRXhoYzNRZ09UQWdaR0Y1Y3lBb2RHOGdkR2hsSURJd01UY3RNREV0TVRBZ1ZWUkRLU0JsYzNScGJXRjBaWE1nVzFSU1RVMHZWRTFRUVYwZ1ptOXlJRXR2YUdsdFlYSmhiV0U4TDJnMFBnb2dJQ0FnYjJKelpYSjJaV1FnUFNBOFlqNDFOalk4TDJJK0lHMXRJRHhpY2o0S0lDQWdJR05zYVcxaGRHOXNiMmQ1SUQwZ1BHSStORGszUEM5aVBpQnRiU0E4WW5JK0NpQWdJQ0J3WlhKalpXNTBMaUJ2WmlCdWIzSnRZV3dnUFNBOFlqNHhNVE11T0RnOFlqNGdKUW9nSUNBZ1BHSnlQanhpY2o0S0lDQWdJRHhoSUdoeVpXWTlJbWgwZEhCek9pOHZZMlJ1TG5KaGQyZHBkQzVqYjIwdmJtbGpiMnhoYzJaaGRXTm9aWEpsWVhVdlUwbE5VeTl0WVhOMFpYSXZWRkpOVFM5M2QzY3ZWbWx5ZEhWaGJGOVRkR0YwYVc5dVgwdHZhR2x0WVhKaGJXRmZPVEJ1WkdGNWN5NW9kRzFzSWlCMFlYSm5aWFE5SWw5aWJHRnVheUkrWTJ4cFkyc2dhR1Z5WlNCbWIzSWdkR2hsSUhScGJXVXRjMlZ5YVdWelBDOWhQZ29nSUNBZ1BDOW1iMjUwUGdvZ0lDQWdDaUFnSUNBZ0lDQWdDaUFnSUNBZ0lDQWciIHdpZHRoPSIzMDAiIGhlaWdodD0iMjAwIj48L2lmcmFtZT4nKVswXTsKICAgICAgICAgICAgICAgIHBvcHVwX2RjZGVkOWUwODBkYjRhOTZiNThkNTI5Yjg4ODM5ZjUyLnNldENvbnRlbnQoaV9mcmFtZV9lZDVkNzA0ZjZlOTc0ZjBlYTdlMzYzMzA4MGNkOTVjNCk7CiAgICAgICAgICAgIAoKICAgICAgICAgICAgbWFya2VyXzVjOTM3MDJlNWQzOTQzYWE4NDUyZTIyMmUxMzYyMWJkLmJpbmRQb3B1cChwb3B1cF9kY2RlZDllMDgwZGI0YTk2YjU4ZDUyOWI4ODgzOWY1Mik7CgogICAgICAgICAgICAKICAgICAgICAKICAgICAgICAKICAgICAgICAgICAgCgogICAgICAgICAgICB2YXIgbWFya2VyXzI5YzAxZDUzN2Y2ZTRkMTFiOGUwMTE3MGQ3ZjMwZjcyID0gTC5tYXJrZXIoCiAgICAgICAgICAgICAgICBbLTkuNzI3NywxNTkuNzUxM10sCiAgICAgICAgICAgICAgICB7CiAgICAgICAgICAgICAgICAgICAgaWNvbjogbmV3IEwuSWNvbi5EZWZhdWx0KCkKICAgICAgICAgICAgICAgICAgICB9CiAgICAgICAgICAgICAgICApCiAgICAgICAgICAgICAgICAuYWRkVG8oZmVhdHVyZV9ncm91cF81NDk2MWViNGFlOWM0MmRmYTkwMjdkNDc4YjQ2ZDVlYik7CiAgICAgICAgICAgIAogICAgICAgIAogICAgICAgICAgICAKCiAgICAgICAgICAgICAgICB2YXIgY3VzdG9tX2ljb25fM2UzZTlmZWE2MDNlNDBhODgxMTE4MzY5N2FmMjg5ZDkgPSBMLmljb24oewogICAgICAgICAgICAgICAgICAgIGljb25Vcmw6ICdodHRwczovL3Jhdy5naXRodWJ1c2VyY29udGVudC5jb20vbmljb2xhc2ZhdWNoZXJlYXUvU0lNUy9tYXN0ZXIvVFJNTS9pbWFnZXMvaWNvbnMvYmx1ZS5wbmcnLAogICAgICAgICAgICAgICAgICAgIGljb25TaXplOiBbMzcuNiw2NS4wXSwKICAgICAgICAgICAgICAgICAgICAKCiAgICAgICAgICAgICAgICAgICAgCiAgICAgICAgICAgICAgICAgICAgCiAgICAgICAgICAgICAgICAgICAgCgogICAgICAgICAgICAgICAgICAgIAogICAgICAgICAgICAgICAgICAgIH0pOwogICAgICAgICAgICAgICAgbWFya2VyXzI5YzAxZDUzN2Y2ZTRkMTFiOGUwMTE3MGQ3ZjMwZjcyLnNldEljb24oY3VzdG9tX2ljb25fM2UzZTlmZWE2MDNlNDBhODgxMTE4MzY5N2FmMjg5ZDkpOwogICAgICAgICAgICAKICAgICAgICAKICAgICAgICAgICAgCiAgICAgICAgICAgIHZhciBwb3B1cF9mYTE0NDFjZmYyYjE0N2M1YmU3Y2VjZWJmNzk0NmMwYyA9IEwucG9wdXAoe21heFdpZHRoOiAnNjAwJ30pOwoKICAgICAgICAgICAgCiAgICAgICAgICAgICAgICB2YXIgaV9mcmFtZV9lMjM2YzVkOGY2ZDc0YTVmYTk4ZjYzNjc5NGQ4ZjY4YSA9ICQoJzxpZnJhbWUgc3JjPSJkYXRhOnRleHQvaHRtbDtiYXNlNjQsQ2lBZ0lDQWdJQ0FnQ2lBZ0lDQWdJQ0FnSUNBZ0lBb2dJQ0FnUEdadmJuUWdabUZqWlQwaWRtVnlaR0Z1WVNJK0NpQWdJQ0E4WkdsMklHRnNhV2R1UFNkalpXNTBaWEluUGp4b05ENEtJQ0FnSUV4aGMzUWdPVEFnWkdGNWN5QW9kRzhnZEdobElESXdNVGN0TURFdE1UQWdWVlJES1NCbGMzUnBiV0YwWlhNZ1cxUlNUVTB2VkUxUVFWMGdabTl5SUUxaWFYUnBQQzlvTkQ0S0lDQWdJRzlpYzJWeWRtVmtJRDBnUEdJK09EVTRQQzlpUGlCdGJTQThZbkkrQ2lBZ0lDQmpiR2x0WVhSdmJHOW5lU0E5SUR4aVBqWTVOend2WWo0Z2JXMGdQR0p5UGdvZ0lDQWdjR1Z5WTJWdWRDNGdiMllnYm05eWJXRnNJRDBnUEdJK01USXpMakV3UEdJK0lDVUtJQ0FnSUR4aWNqNDhZbkkrQ2lBZ0lDQThZU0JvY21WbVBTSm9kSFJ3Y3pvdkwyTmtiaTV5WVhkbmFYUXVZMjl0TDI1cFkyOXNZWE5tWVhWamFHVnlaV0YxTDFOSlRWTXZiV0Z6ZEdWeUwxUlNUVTB2ZDNkM0wxWnBjblIxWVd4ZlUzUmhkR2x2Ymw5TlltbDBhVjg1TUc1a1lYbHpMbWgwYld3aUlIUmhjbWRsZEQwaVgySnNZVzVySWo1amJHbGpheUJvWlhKbElHWnZjaUIwYUdVZ2RHbHRaUzF6WlhKcFpYTThMMkUrQ2lBZ0lDQThMMlp2Ym5RK0NpQWdJQ0FLSUNBZ0lDQWdJQ0FLSUNBZ0lDQWdJQ0E9IiB3aWR0aD0iMzAwIiBoZWlnaHQ9IjIwMCI+PC9pZnJhbWU+JylbMF07CiAgICAgICAgICAgICAgICBwb3B1cF9mYTE0NDFjZmYyYjE0N2M1YmU3Y2VjZWJmNzk0NmMwYy5zZXRDb250ZW50KGlfZnJhbWVfZTIzNmM1ZDhmNmQ3NGE1ZmE5OGY2MzY3OTRkOGY2OGEpOwogICAgICAgICAgICAKCiAgICAgICAgICAgIG1hcmtlcl8yOWMwMWQ1MzdmNmU0ZDExYjhlMDExNzBkN2YzMGY3Mi5iaW5kUG9wdXAocG9wdXBfZmExNDQxY2ZmMmIxNDdjNWJlN2NlY2ViZjc5NDZjMGMpOwoKICAgICAgICAgICAgCiAgICAgICAgCiAgICAgICAgCiAgICAgICAgICAgIAoKICAgICAgICAgICAgdmFyIG1hcmtlcl80YzQ4YmM3MjJkYTc0ZmY3OTI3ZDhiYWE3YmNhODdkZCA9IEwubWFya2VyKAogICAgICAgICAgICAgICAgWy05LjgzMzMsMTYwLjgxNjddLAogICAgICAgICAgICAgICAgewogICAgICAgICAgICAgICAgICAgIGljb246IG5ldyBMLkljb24uRGVmYXVsdCgpCiAgICAgICAgICAgICAgICAgICAgfQogICAgICAgICAgICAgICAgKQogICAgICAgICAgICAgICAgLmFkZFRvKGZlYXR1cmVfZ3JvdXBfNTQ5NjFlYjRhZTljNDJkZmE5MDI3ZDQ3OGI0NmQ1ZWIpOwogICAgICAgICAgICAKICAgICAgICAKICAgICAgICAgICAgCgogICAgICAgICAgICAgICAgdmFyIGN1c3RvbV9pY29uXzBlMTdlZDk0MGEzYjQ4Mzg5MzEyM2Q4YzQ2YWUyZDU2ID0gTC5pY29uKHsKICAgICAgICAgICAgICAgICAgICBpY29uVXJsOiAnaHR0cHM6Ly9yYXcuZ2l0aHVidXNlcmNvbnRlbnQuY29tL25pY29sYXNmYXVjaGVyZWF1L1NJTVMvbWFzdGVyL1RSTU0vaW1hZ2VzL2ljb25zL2dyZWVuLnBuZycsCiAgICAgICAgICAgICAgICAgICAgaWNvblNpemU6IFsyOC4yLDQ4Ljc1XSwKICAgICAgICAgICAgICAgICAgICAKCiAgICAgICAgICAgICAgICAgICAgCiAgICAgICAgICAgICAgICAgICAgCiAgICAgICAgICAgICAgICAgICAgCgogICAgICAgICAgICAgICAgICAgIAogICAgICAgICAgICAgICAgICAgIH0pOwogICAgICAgICAgICAgICAgbWFya2VyXzRjNDhiYzcyMmRhNzRmZjc5MjdkOGJhYTdiY2E4N2RkLnNldEljb24oY3VzdG9tX2ljb25fMGUxN2VkOTQwYTNiNDgzODkzMTIzZDhjNDZhZTJkNTYpOwogICAgICAgICAgICAKICAgICAgICAKICAgICAgICAgICAgCiAgICAgICAgICAgIHZhciBwb3B1cF83Nzc3MmU3YTM1NWQ0MGY3ODJlYzkzNjM5Zjk5OTg1YyA9IEwucG9wdXAoe21heFdpZHRoOiAnNjAwJ30pOwoKICAgICAgICAgICAgCiAgICAgICAgICAgICAgICB2YXIgaV9mcmFtZV8zNmE4ZmM2ZTI3YmU0YThjYTEyNWZjMjM0NWRmODRmYSA9ICQoJzxpZnJhbWUgc3JjPSJkYXRhOnRleHQvaHRtbDtiYXNlNjQsQ2lBZ0lDQWdJQ0FnQ2lBZ0lDQWdJQ0FnSUNBZ0lBb2dJQ0FnUEdadmJuUWdabUZqWlQwaWRtVnlaR0Z1WVNJK0NpQWdJQ0E4WkdsMklHRnNhV2R1UFNkalpXNTBaWEluUGp4b05ENEtJQ0FnSUV4aGMzUWdPVEFnWkdGNWN5QW9kRzhnZEdobElESXdNVGN0TURFdE1UQWdWVlJES1NCbGMzUnBiV0YwWlhNZ1cxUlNUVTB2VkUxUVFWMGdabTl5SUUxaGNtRjFJRHd2YURRK0NpQWdJQ0J2WW5ObGNuWmxaQ0E5SUR4aVBqYzFORHd2WWo0Z2JXMGdQR0p5UGdvZ0lDQWdZMnhwYldGMGIyeHZaM2tnUFNBOFlqNDJPVFE4TDJJK0lHMXRJRHhpY2o0S0lDQWdJSEJsY21ObGJuUXVJRzltSUc1dmNtMWhiQ0E5SUR4aVBqRXdPQzQyTlR4aVBpQWxDaUFnSUNBOFluSStQR0p5UGdvZ0lDQWdQR0VnYUhKbFpqMGlhSFIwY0hNNkx5OWpaRzR1Y21GM1oybDBMbU52YlM5dWFXTnZiR0Z6Wm1GMVkyaGxjbVZoZFM5VFNVMVRMMjFoYzNSbGNpOVVVazFOTDNkM2R5OVdhWEowZFdGc1gxTjBZWFJwYjI1ZlRXRnlZWFZmWHprd2JtUmhlWE11YUhSdGJDSWdkR0Z5WjJWMFBTSmZZbXhoYm1zaVBtTnNhV05ySUdobGNtVWdabTl5SUhSb1pTQjBhVzFsTFhObGNtbGxjend2WVQ0S0lDQWdJRHd2Wm05dWRENEtJQ0FnSUFvZ0lDQWdJQ0FnSUFvZ0lDQWdJQ0FnSUE9PSIgd2lkdGg9IjMwMCIgaGVpZ2h0PSIyMDAiPjwvaWZyYW1lPicpWzBdOwogICAgICAgICAgICAgICAgcG9wdXBfNzc3NzJlN2EzNTVkNDBmNzgyZWM5MzYzOWY5OTk4NWMuc2V0Q29udGVudChpX2ZyYW1lXzM2YThmYzZlMjdiZTRhOGNhMTI1ZmMyMzQ1ZGY4NGZhKTsKICAgICAgICAgICAgCgogICAgICAgICAgICBtYXJrZXJfNGM0OGJjNzIyZGE3NGZmNzkyN2Q4YmFhN2JjYTg3ZGQuYmluZFBvcHVwKHBvcHVwXzc3NzcyZTdhMzU1ZDQwZjc4MmVjOTM2MzlmOTk5ODVjKTsKCiAgICAgICAgICAgIAogICAgICAgIAogICAgICAgIAogICAgICAgICAgICAKCiAgICAgICAgICAgIHZhciBtYXJrZXJfNWMxYTcyZjY2OWRkNGM4ZjkwZTQzNzZlZmI5YjBiMmMgPSBMLm1hcmtlcigKICAgICAgICAgICAgICAgIFstNy41Njc4LDE1OC40MzgxXSwKICAgICAgICAgICAgICAgIHsKICAgICAgICAgICAgICAgICAgICBpY29uOiBuZXcgTC5JY29uLkRlZmF1bHQoKQogICAgICAgICAgICAgICAgICAgIH0KICAgICAgICAgICAgICAgICkKICAgICAgICAgICAgICAgIC5hZGRUbyhmZWF0dXJlX2dyb3VwXzU0OTYxZWI0YWU5YzQyZGZhOTAyN2Q0NzhiNDZkNWViKTsKICAgICAgICAgICAgCiAgICAgICAgCiAgICAgICAgICAgIAoKICAgICAgICAgICAgICAgIHZhciBjdXN0b21faWNvbl85ZGM0ZDlkMmY1MGM0N2MzOTU3NDBmYjU5NzgwMjAzMSA9IEwuaWNvbih7CiAgICAgICAgICAgICAgICAgICAgaWNvblVybDogJ2h0dHBzOi8vcmF3LmdpdGh1YnVzZXJjb250ZW50LmNvbS9uaWNvbGFzZmF1Y2hlcmVhdS9TSU1TL21hc3Rlci9UUk1NL2ltYWdlcy9pY29ucy9ibHVlLnBuZycsCiAgICAgICAgICAgICAgICAgICAgaWNvblNpemU6IFszNy42LDY1LjBdLAogICAgICAgICAgICAgICAgICAgIAoKICAgICAgICAgICAgICAgICAgICAKICAgICAgICAgICAgICAgICAgICAKICAgICAgICAgICAgICAgICAgICAKCiAgICAgICAgICAgICAgICAgICAgCiAgICAgICAgICAgICAgICAgICAgfSk7CiAgICAgICAgICAgICAgICBtYXJrZXJfNWMxYTcyZjY2OWRkNGM4ZjkwZTQzNzZlZmI5YjBiMmMuc2V0SWNvbihjdXN0b21faWNvbl85ZGM0ZDlkMmY1MGM0N2MzOTU3NDBmYjU5NzgwMjAzMSk7CiAgICAgICAgICAgIAogICAgICAgIAogICAgICAgICAgICAKICAgICAgICAgICAgdmFyIHBvcHVwXzIyMDhjNWQxNzcxYTQ1ZWRhZjliYTc1YzdkMjkyODI2ID0gTC5wb3B1cCh7bWF4V2lkdGg6ICc2MDAnfSk7CgogICAgICAgICAgICAKICAgICAgICAgICAgICAgIHZhciBpX2ZyYW1lXzliMmJjMTYxNWFjZTQwZDc4NmZlYjg4YjUyNzZlNTI0ID0gJCgnPGlmcmFtZSBzcmM9ImRhdGE6dGV4dC9odG1sO2Jhc2U2NCxDaUFnSUNBZ0lDQWdDaUFnSUNBZ0lDQWdJQ0FnSUFvZ0lDQWdQR1p2Ym5RZ1ptRmpaVDBpZG1WeVpHRnVZU0krQ2lBZ0lDQThaR2wySUdGc2FXZHVQU2RqWlc1MFpYSW5QanhvTkQ0S0lDQWdJRXhoYzNRZ09UQWdaR0Y1Y3lBb2RHOGdkR2hsSURJd01UY3RNREV0TVRBZ1ZWUkRLU0JsYzNScGJXRjBaWE1nVzFSU1RVMHZWRTFRUVYwZ1ptOXlJRXRwWVR3dmFEUStDaUFnSUNCdlluTmxjblpsWkNBOUlEeGlQamczTkR3dllqNGdiVzBnUEdKeVBnb2dJQ0FnWTJ4cGJXRjBiMnh2WjNrZ1BTQThZajQyTnpZOEwySStJRzF0SUR4aWNqNEtJQ0FnSUhCbGNtTmxiblF1SUc5bUlHNXZjbTFoYkNBOUlEeGlQakV5T1M0eU9UeGlQaUFsQ2lBZ0lDQThZbkkrUEdKeVBnb2dJQ0FnUEdFZ2FISmxaajBpYUhSMGNITTZMeTlqWkc0dWNtRjNaMmwwTG1OdmJTOXVhV052YkdGelptRjFZMmhsY21WaGRTOVRTVTFUTDIxaGMzUmxjaTlVVWsxTkwzZDNkeTlXYVhKMGRXRnNYMU4wWVhScGIyNWZTMmxoWHprd2JtUmhlWE11YUhSdGJDSWdkR0Z5WjJWMFBTSmZZbXhoYm1zaVBtTnNhV05ySUdobGNtVWdabTl5SUhSb1pTQjBhVzFsTFhObGNtbGxjend2WVQ0S0lDQWdJRHd2Wm05dWRENEtJQ0FnSUFvZ0lDQWdJQ0FnSUFvZ0lDQWdJQ0FnSUE9PSIgd2lkdGg9IjMwMCIgaGVpZ2h0PSIyMDAiPjwvaWZyYW1lPicpWzBdOwogICAgICAgICAgICAgICAgcG9wdXBfMjIwOGM1ZDE3NzFhNDVlZGFmOWJhNzVjN2QyOTI4MjYuc2V0Q29udGVudChpX2ZyYW1lXzliMmJjMTYxNWFjZTQwZDc4NmZlYjg4YjUyNzZlNTI0KTsKICAgICAgICAgICAgCgogICAgICAgICAgICBtYXJrZXJfNWMxYTcyZjY2OWRkNGM4ZjkwZTQzNzZlZmI5YjBiMmMuYmluZFBvcHVwKHBvcHVwXzIyMDhjNWQxNzcxYTQ1ZWRhZjliYTc1YzdkMjkyODI2KTsKCiAgICAgICAgICAgIAogICAgICAgIAogICAgICAgIAogICAgICAgICAgICAKCiAgICAgICAgICAgIHZhciBtYXJrZXJfNzE5Y2E0ODY0NTVlNDg3ZDg5M2Y3NWUwNzYwMDE4YWQgPSBMLm1hcmtlcigKICAgICAgICAgICAgICAgIFstOC4xMDM0LDE1OS41NzddLAogICAgICAgICAgICAgICAgewogICAgICAgICAgICAgICAgICAgIGljb246IG5ldyBMLkljb24uRGVmYXVsdCgpCiAgICAgICAgICAgICAgICAgICAgfQogICAgICAgICAgICAgICAgKQogICAgICAgICAgICAgICAgLmFkZFRvKGZlYXR1cmVfZ3JvdXBfNTQ5NjFlYjRhZTljNDJkZmE5MDI3ZDQ3OGI0NmQ1ZWIpOwogICAgICAgICAgICAKICAgICAgICAKICAgICAgICAgICAgCgogICAgICAgICAgICAgICAgdmFyIGN1c3RvbV9pY29uXzc0MDU0ZTRiNmE3NjQyNjJhODVlZGQwMGMzZDQzMzdiID0gTC5pY29uKHsKICAgICAgICAgICAgICAgICAgICBpY29uVXJsOiAnaHR0cHM6Ly9yYXcuZ2l0aHVidXNlcmNvbnRlbnQuY29tL25pY29sYXNmYXVjaGVyZWF1L1NJTVMvbWFzdGVyL1RSTU0vaW1hZ2VzL2ljb25zL2JsdWUucG5nJywKICAgICAgICAgICAgICAgICAgICBpY29uU2l6ZTogWzM3LjYsNjUuMF0sCiAgICAgICAgICAgICAgICAgICAgCgogICAgICAgICAgICAgICAgICAgIAogICAgICAgICAgICAgICAgICAgIAogICAgICAgICAgICAgICAgICAgIAoKICAgICAgICAgICAgICAgICAgICAKICAgICAgICAgICAgICAgICAgICB9KTsKICAgICAgICAgICAgICAgIG1hcmtlcl83MTljYTQ4NjQ1NWU0ODdkODkzZjc1ZTA3NjAwMThhZC5zZXRJY29uKGN1c3RvbV9pY29uXzc0MDU0ZTRiNmE3NjQyNjJhODVlZGQwMGMzZDQzMzdiKTsKICAgICAgICAgICAgCiAgICAgICAgCiAgICAgICAgICAgIAogICAgICAgICAgICB2YXIgcG9wdXBfZTg4N2VjODRjYzBiNDU2Yzk5ZjZjZDU1NjM1YTYyMDcgPSBMLnBvcHVwKHttYXhXaWR0aDogJzYwMCd9KTsKCiAgICAgICAgICAgIAogICAgICAgICAgICAgICAgdmFyIGlfZnJhbWVfY2E0Y2MxNWExMWRmNDg1OWIyMmMxZDhmNzI1NjFmOTUgPSAkKCc8aWZyYW1lIHNyYz0iZGF0YTp0ZXh0L2h0bWw7YmFzZTY0LENpQWdJQ0FnSUNBZ0NpQWdJQ0FnSUNBZ0lDQWdJQW9nSUNBZ1BHWnZiblFnWm1GalpUMGlkbVZ5WkdGdVlTSStDaUFnSUNBOFpHbDJJR0ZzYVdkdVBTZGpaVzUwWlhJblBqeG9ORDRLSUNBZ0lFeGhjM1FnT1RBZ1pHRjVjeUFvZEc4Z2RHaGxJREl3TVRjdE1ERXRNVEFnVlZSREtTQmxjM1JwYldGMFpYTWdXMVJTVFUwdlZFMVFRVjBnWm05eUlFWmxjbUU4TDJnMFBnb2dJQ0FnYjJKelpYSjJaV1FnUFNBOFlqNHhNREU1UEM5aVBpQnRiU0E4WW5JK0NpQWdJQ0JqYkdsdFlYUnZiRzluZVNBOUlEeGlQamMwTkR3dllqNGdiVzBnUEdKeVBnb2dJQ0FnY0dWeVkyVnVkQzRnYjJZZ2JtOXliV0ZzSUQwZ1BHSStNVE0yTGprMlBHSStJQ1VLSUNBZ0lEeGljajQ4WW5JK0NpQWdJQ0E4WVNCb2NtVm1QU0pvZEhSd2N6b3ZMMk5rYmk1eVlYZG5hWFF1WTI5dEwyNXBZMjlzWVhObVlYVmphR1Z5WldGMUwxTkpUVk12YldGemRHVnlMMVJTVFUwdmQzZDNMMVpwY25SMVlXeGZVM1JoZEdsdmJsOUdaWEpoWHprd2JtUmhlWE11YUhSdGJDSWdkR0Z5WjJWMFBTSmZZbXhoYm1zaVBtTnNhV05ySUdobGNtVWdabTl5SUhSb1pTQjBhVzFsTFhObGNtbGxjend2WVQ0S0lDQWdJRHd2Wm05dWRENEtJQ0FnSUFvZ0lDQWdJQ0FnSUFvZ0lDQWdJQ0FnSUE9PSIgd2lkdGg9IjMwMCIgaGVpZ2h0PSIyMDAiPjwvaWZyYW1lPicpWzBdOwogICAgICAgICAgICAgICAgcG9wdXBfZTg4N2VjODRjYzBiNDU2Yzk5ZjZjZDU1NjM1YTYyMDcuc2V0Q29udGVudChpX2ZyYW1lX2NhNGNjMTVhMTFkZjQ4NTliMjJjMWQ4ZjcyNTYxZjk1KTsKICAgICAgICAgICAgCgogICAgICAgICAgICBtYXJrZXJfNzE5Y2E0ODY0NTVlNDg3ZDg5M2Y3NWUwNzYwMDE4YWQuYmluZFBvcHVwKHBvcHVwX2U4ODdlYzg0Y2MwYjQ1NmM5OWY2Y2Q1NTYzNWE2MjA3KTsKCiAgICAgICAgICAgIAogICAgICAgIAogICAgICAgIAogICAgICAgICAgICAKCiAgICAgICAgICAgIHZhciBtYXJrZXJfYWE2ZjczMjA5Njc4NGU4NGI5NDVmOWNhMzNmYjEwZDcgPSBMLm1hcmtlcigKICAgICAgICAgICAgICAgIFstMTAuNDE2NywxNjEuODgzM10sCiAgICAgICAgICAgICAgICB7CiAgICAgICAgICAgICAgICAgICAgaWNvbjogbmV3IEwuSWNvbi5EZWZhdWx0KCkKICAgICAgICAgICAgICAgICAgICB9CiAgICAgICAgICAgICAgICApCiAgICAgICAgICAgICAgICAuYWRkVG8oZmVhdHVyZV9ncm91cF81NDk2MWViNGFlOWM0MmRmYTkwMjdkNDc4YjQ2ZDVlYik7CiAgICAgICAgICAgIAogICAgICAgIAogICAgICAgICAgICAKCiAgICAgICAgICAgICAgICB2YXIgY3VzdG9tX2ljb25fOTQyZWZlZmRkNTI1NDU0YmJlMmEzYzIzNzA2YWFmOTkgPSBMLmljb24oewogICAgICAgICAgICAgICAgICAgIGljb25Vcmw6ICdodHRwczovL3Jhdy5naXRodWJ1c2VyY29udGVudC5jb20vbmljb2xhc2ZhdWNoZXJlYXUvU0lNUy9tYXN0ZXIvVFJNTS9pbWFnZXMvaWNvbnMvZ3JlZW4ucG5nJywKICAgICAgICAgICAgICAgICAgICBpY29uU2l6ZTogWzI4LjIsNDguNzVdLAogICAgICAgICAgICAgICAgICAgIAoKICAgICAgICAgICAgICAgICAgICAKICAgICAgICAgICAgICAgICAgICAKICAgICAgICAgICAgICAgICAgICAKCiAgICAgICAgICAgICAgICAgICAgCiAgICAgICAgICAgICAgICAgICAgfSk7CiAgICAgICAgICAgICAgICBtYXJrZXJfYWE2ZjczMjA5Njc4NGU4NGI5NDVmOWNhMzNmYjEwZDcuc2V0SWNvbihjdXN0b21faWNvbl85NDJlZmVmZGQ1MjU0NTRiYmUyYTNjMjM3MDZhYWY5OSk7CiAgICAgICAgICAgIAogICAgICAgIAogICAgICAgICAgICAKICAgICAgICAgICAgdmFyIHBvcHVwXzg1Y2I2ZDNlMjQzYzQ0NDRiODg3MWI3OTc4Zjg5M2VhID0gTC5wb3B1cCh7bWF4V2lkdGg6ICc2MDAnfSk7CgogICAgICAgICAgICAKICAgICAgICAgICAgICAgIHZhciBpX2ZyYW1lX2UzOThjMGY4ZjVmYjQ2NjM5NzNmMzI5ZDRiODk0NjBiID0gJCgnPGlmcmFtZSBzcmM9ImRhdGE6dGV4dC9odG1sO2Jhc2U2NCxDaUFnSUNBZ0lDQWdDaUFnSUNBZ0lDQWdJQ0FnSUFvZ0lDQWdQR1p2Ym5RZ1ptRmpaVDBpZG1WeVpHRnVZU0krQ2lBZ0lDQThaR2wySUdGc2FXZHVQU2RqWlc1MFpYSW5QanhvTkQ0S0lDQWdJRXhoYzNRZ09UQWdaR0Y1Y3lBb2RHOGdkR2hsSURJd01UY3RNREV0TVRBZ1ZWUkRLU0JsYzNScGJXRjBaWE1nVzFSU1RVMHZWRTFRUVYwZ1ptOXlJRXRwY21FZ1MybHlZVHd2YURRK0NpQWdJQ0J2WW5ObGNuWmxaQ0E5SUR4aVBqWTBPRHd2WWo0Z2JXMGdQR0p5UGdvZ0lDQWdZMnhwYldGMGIyeHZaM2tnUFNBOFlqNDJOams4TDJJK0lHMXRJRHhpY2o0S0lDQWdJSEJsY21ObGJuUXVJRzltSUc1dmNtMWhiQ0E5SUR4aVBqazJMamcyUEdJK0lDVUtJQ0FnSUR4aWNqNDhZbkkrQ2lBZ0lDQThZU0JvY21WbVBTSm9kSFJ3Y3pvdkwyTmtiaTV5WVhkbmFYUXVZMjl0TDI1cFkyOXNZWE5tWVhWamFHVnlaV0YxTDFOSlRWTXZiV0Z6ZEdWeUwxUlNUVTB2ZDNkM0wxWnBjblIxWVd4ZlUzUmhkR2x2Ymw5TGFYSmhYMHRwY21GZk9UQnVaR0Y1Y3k1b2RHMXNJaUIwWVhKblpYUTlJbDlpYkdGdWF5SStZMnhwWTJzZ2FHVnlaU0JtYjNJZ2RHaGxJSFJwYldVdGMyVnlhV1Z6UEM5aFBnb2dJQ0FnUEM5bWIyNTBQZ29nSUNBZ0NpQWdJQ0FnSUNBZ0NpQWdJQ0FnSUNBZyIgd2lkdGg9IjMwMCIgaGVpZ2h0PSIyMDAiPjwvaWZyYW1lPicpWzBdOwogICAgICAgICAgICAgICAgcG9wdXBfODVjYjZkM2UyNDNjNDQ0NGI4ODcxYjc5NzhmODkzZWEuc2V0Q29udGVudChpX2ZyYW1lX2UzOThjMGY4ZjVmYjQ2NjM5NzNmMzI5ZDRiODk0NjBiKTsKICAgICAgICAgICAgCgogICAgICAgICAgICBtYXJrZXJfYWE2ZjczMjA5Njc4NGU4NGI5NDVmOWNhMzNmYjEwZDcuYmluZFBvcHVwKHBvcHVwXzg1Y2I2ZDNlMjQzYzQ0NDRiODg3MWI3OTc4Zjg5M2VhKTsKCiAgICAgICAgICAgIAogICAgICAgIAogICAgICAgIAogICAgICAgICAgICAKCiAgICAgICAgICAgIHZhciBtYXJrZXJfYjEwNWY2NTU2ZWZmNDEzODkwMmMyM2U1NGJlNWFjNzQgPSBMLm1hcmtlcigKICAgICAgICAgICAgICAgIFstMTAuMjAwMSwxNjEuMzMwOV0sCiAgICAgICAgICAgICAgICB7CiAgICAgICAgICAgICAgICAgICAgaWNvbjogbmV3IEwuSWNvbi5EZWZhdWx0KCkKICAgICAgICAgICAgICAgICAgICB9CiAgICAgICAgICAgICAgICApCiAgICAgICAgICAgICAgICAuYWRkVG8oZmVhdHVyZV9ncm91cF81NDk2MWViNGFlOWM0MmRmYTkwMjdkNDc4YjQ2ZDVlYik7CiAgICAgICAgICAgIAogICAgICAgIAogICAgICAgICAgICAKCiAgICAgICAgICAgICAgICB2YXIgY3VzdG9tX2ljb25fMzU0OTRjMjcwZTU5NDFkZjk1YTZkY2ZiOTcwMDZlZGQgPSBMLmljb24oewogICAgICAgICAgICAgICAgICAgIGljb25Vcmw6ICdodHRwczovL3Jhdy5naXRodWJ1c2VyY29udGVudC5jb20vbmljb2xhc2ZhdWNoZXJlYXUvU0lNUy9tYXN0ZXIvVFJNTS9pbWFnZXMvaWNvbnMvYmx1ZS5wbmcnLAogICAgICAgICAgICAgICAgICAgIGljb25TaXplOiBbMzcuNiw2NS4wXSwKICAgICAgICAgICAgICAgICAgICAKCiAgICAgICAgICAgICAgICAgICAgCiAgICAgICAgICAgICAgICAgICAgCiAgICAgICAgICAgICAgICAgICAgCgogICAgICAgICAgICAgICAgICAgIAogICAgICAgICAgICAgICAgICAgIH0pOwogICAgICAgICAgICAgICAgbWFya2VyX2IxMDVmNjU1NmVmZjQxMzg5MDJjMjNlNTRiZTVhYzc0LnNldEljb24oY3VzdG9tX2ljb25fMzU0OTRjMjcwZTU5NDFkZjk1YTZkY2ZiOTcwMDZlZGQpOwogICAgICAgICAgICAKICAgICAgICAKICAgICAgICAgICAgCiAgICAgICAgICAgIHZhciBwb3B1cF83YTZiNDIxYTAyOWM0OTRmYjYyY2VjMDdkMjNmN2E2MCA9IEwucG9wdXAoe21heFdpZHRoOiAnNjAwJ30pOwoKICAgICAgICAgICAgCiAgICAgICAgICAgICAgICB2YXIgaV9mcmFtZV8zNmZhMTk0NmZiYTc0MWYzOTFhOTZkYTZkOGFmNjQwNyA9ICQoJzxpZnJhbWUgc3JjPSJkYXRhOnRleHQvaHRtbDtiYXNlNjQsQ2lBZ0lDQWdJQ0FnQ2lBZ0lDQWdJQ0FnSUNBZ0lBb2dJQ0FnUEdadmJuUWdabUZqWlQwaWRtVnlaR0Z1WVNJK0NpQWdJQ0E4WkdsMklHRnNhV2R1UFNkalpXNTBaWEluUGp4b05ENEtJQ0FnSUV4aGMzUWdPVEFnWkdGNWN5QW9kRzhnZEdobElESXdNVGN0TURFdE1UQWdWVlJES1NCbGMzUnBiV0YwWlhNZ1cxUlNUVTB2VkUxUVFWMGdabTl5SUUxaGNtOTFJRUpoZVR3dmFEUStDaUFnSUNCdlluTmxjblpsWkNBOUlEeGlQamcwTXp3dllqNGdiVzBnUEdKeVBnb2dJQ0FnWTJ4cGJXRjBiMnh2WjNrZ1BTQThZajQyT1RjOEwySStJRzF0SUR4aWNqNEtJQ0FnSUhCbGNtTmxiblF1SUc5bUlHNXZjbTFoYkNBOUlEeGlQakV5TUM0NU5UeGlQaUFsQ2lBZ0lDQThZbkkrUEdKeVBnb2dJQ0FnUEdFZ2FISmxaajBpYUhSMGNITTZMeTlqWkc0dWNtRjNaMmwwTG1OdmJTOXVhV052YkdGelptRjFZMmhsY21WaGRTOVRTVTFUTDIxaGMzUmxjaTlVVWsxTkwzZDNkeTlXYVhKMGRXRnNYMU4wWVhScGIyNWZUV0Z5YjNWZlFtRjVYemt3Ym1SaGVYTXVhSFJ0YkNJZ2RHRnlaMlYwUFNKZllteGhibXNpUG1Oc2FXTnJJR2hsY21VZ1ptOXlJSFJvWlNCMGFXMWxMWE5sY21sbGN6d3ZZVDRLSUNBZ0lEd3ZabTl1ZEQ0S0lDQWdJQW9nSUNBZ0lDQWdJQW9nSUNBZ0lDQWdJQT09IiB3aWR0aD0iMzAwIiBoZWlnaHQ9IjIwMCI+PC9pZnJhbWU+JylbMF07CiAgICAgICAgICAgICAgICBwb3B1cF83YTZiNDIxYTAyOWM0OTRmYjYyY2VjMDdkMjNmN2E2MC5zZXRDb250ZW50KGlfZnJhbWVfMzZmYTE5NDZmYmE3NDFmMzkxYTk2ZGE2ZDhhZjY0MDcpOwogICAgICAgICAgICAKCiAgICAgICAgICAgIG1hcmtlcl9iMTA1ZjY1NTZlZmY0MTM4OTAyYzIzZTU0YmU1YWM3NC5iaW5kUG9wdXAocG9wdXBfN2E2YjQyMWEwMjljNDk0ZmI2MmNlYzA3ZDIzZjdhNjApOwoKICAgICAgICAgICAgCiAgICAgICAgCiAgICAgICAgCiAgICAgICAgICAgIAoKICAgICAgICAgICAgdmFyIG1hcmtlcl8yMTU3Zjk0M2Q4MWQ0N2Q0YWI4YzcyODc2N2UyZDk5YiA9IEwubWFya2VyKAogICAgICAgICAgICAgICAgWy0xMC44NDc5LDE2Mi40NTQ3XSwKICAgICAgICAgICAgICAgIHsKICAgICAgICAgICAgICAgICAgICBpY29uOiBuZXcgTC5JY29uLkRlZmF1bHQoKQogICAgICAgICAgICAgICAgICAgIH0KICAgICAgICAgICAgICAgICkKICAgICAgICAgICAgICAgIC5hZGRUbyhmZWF0dXJlX2dyb3VwXzU0OTYxZWI0YWU5YzQyZGZhOTAyN2Q0NzhiNDZkNWViKTsKICAgICAgICAgICAgCiAgICAgICAgCiAgICAgICAgICAgIAoKICAgICAgICAgICAgICAgIHZhciBjdXN0b21faWNvbl9mZjUxZWUxMTc2ZGE0NGFiYjYzNzMxZjNlNGQwYzRjZiA9IEwuaWNvbih7CiAgICAgICAgICAgICAgICAgICAgaWNvblVybDogJ2h0dHBzOi8vcmF3LmdpdGh1YnVzZXJjb250ZW50LmNvbS9uaWNvbGFzZmF1Y2hlcmVhdS9TSU1TL21hc3Rlci9UUk1NL2ltYWdlcy9pY29ucy9ncmVlbi5wbmcnLAogICAgICAgICAgICAgICAgICAgIGljb25TaXplOiBbMjguMiw0OC43NV0sCiAgICAgICAgICAgICAgICAgICAgCgogICAgICAgICAgICAgICAgICAgIAogICAgICAgICAgICAgICAgICAgIAogICAgICAgICAgICAgICAgICAgIAoKICAgICAgICAgICAgICAgICAgICAKICAgICAgICAgICAgICAgICAgICB9KTsKICAgICAgICAgICAgICAgIG1hcmtlcl8yMTU3Zjk0M2Q4MWQ0N2Q0YWI4YzcyODc2N2UyZDk5Yi5zZXRJY29uKGN1c3RvbV9pY29uX2ZmNTFlZTExNzZkYTQ0YWJiNjM3MzFmM2U0ZDBjNGNmKTsKICAgICAgICAgICAgCiAgICAgICAgCiAgICAgICAgICAgIAogICAgICAgICAgICB2YXIgcG9wdXBfYjc2N2ZjNzEyOTMzNGNjNThjNTliNjIzM2RkODJmNDEgPSBMLnBvcHVwKHttYXhXaWR0aDogJzYwMCd9KTsKCiAgICAgICAgICAgIAogICAgICAgICAgICAgICAgdmFyIGlfZnJhbWVfMzI0ZDBjMzg5NjYxNGM5MWFkNzM5MDkxY2ViZGY4YTIgPSAkKCc8aWZyYW1lIHNyYz0iZGF0YTp0ZXh0L2h0bWw7YmFzZTY0LENpQWdJQ0FnSUNBZ0NpQWdJQ0FnSUNBZ0lDQWdJQW9nSUNBZ1BHWnZiblFnWm1GalpUMGlkbVZ5WkdGdVlTSStDaUFnSUNBOFpHbDJJR0ZzYVdkdVBTZGpaVzUwWlhJblBqeG9ORDRLSUNBZ0lFeGhjM1FnT1RBZ1pHRjVjeUFvZEc4Z2RHaGxJREl3TVRjdE1ERXRNVEFnVlZSREtTQmxjM1JwYldGMFpYTWdXMVJTVFUwdlZFMVFRVjBnWm05eUlGTmhiblJoSUVGdVlUd3ZhRFErQ2lBZ0lDQnZZbk5sY25abFpDQTlJRHhpUGpZNU5Ud3ZZajRnYlcwZ1BHSnlQZ29nSUNBZ1kyeHBiV0YwYjJ4dloza2dQU0E4WWo0M056azhMMkkrSUcxdElEeGljajRLSUNBZ0lIQmxjbU5sYm5RdUlHOW1JRzV2Y20xaGJDQTlJRHhpUGpnNUxqSXlQR0krSUNVS0lDQWdJRHhpY2o0OFluSStDaUFnSUNBOFlTQm9jbVZtUFNKb2RIUndjem92TDJOa2JpNXlZWGRuYVhRdVkyOXRMMjVwWTI5c1lYTm1ZWFZqYUdWeVpXRjFMMU5KVFZNdmJXRnpkR1Z5TDFSU1RVMHZkM2QzTDFacGNuUjFZV3hmVTNSaGRHbHZibDlUWVc1MFlWOUJibUZmT1RCdVpHRjVjeTVvZEcxc0lpQjBZWEpuWlhROUlsOWliR0Z1YXlJK1kyeHBZMnNnYUdWeVpTQm1iM0lnZEdobElIUnBiV1V0YzJWeWFXVnpQQzloUGdvZ0lDQWdQQzltYjI1MFBnb2dJQ0FnQ2lBZ0lDQWdJQ0FnQ2lBZ0lDQWdJQ0FnIiB3aWR0aD0iMzAwIiBoZWlnaHQ9IjIwMCI+PC9pZnJhbWU+JylbMF07CiAgICAgICAgICAgICAgICBwb3B1cF9iNzY3ZmM3MTI5MzM0Y2M1OGM1OWI2MjMzZGQ4MmY0MS5zZXRDb250ZW50KGlfZnJhbWVfMzI0ZDBjMzg5NjYxNGM5MWFkNzM5MDkxY2ViZGY4YTIpOwogICAgICAgICAgICAKCiAgICAgICAgICAgIG1hcmtlcl8yMTU3Zjk0M2Q4MWQ0N2Q0YWI4YzcyODc2N2UyZDk5Yi5iaW5kUG9wdXAocG9wdXBfYjc2N2ZjNzEyOTMzNGNjNThjNTliNjIzM2RkODJmNDEpOwoKICAgICAgICAgICAgCiAgICAgICAgCiAgICAgICAgCiAgICAgICAgICAgIAoKICAgICAgICAgICAgdmFyIG1hcmtlcl84NDEwMjBhYjBmMmQ0NzJiYjJjN2ZlN2M5YjllZjlhMiA9IEwubWFya2VyKAogICAgICAgICAgICAgICAgWy04LjMzMzMsMTYwLjYxNjddLAogICAgICAgICAgICAgICAgewogICAgICAgICAgICAgICAgICAgIGljb246IG5ldyBMLkljb24uRGVmYXVsdCgpCiAgICAgICAgICAgICAgICAgICAgfQogICAgICAgICAgICAgICAgKQogICAgICAgICAgICAgICAgLmFkZFRvKGZlYXR1cmVfZ3JvdXBfNTQ5NjFlYjRhZTljNDJkZmE5MDI3ZDQ3OGI0NmQ1ZWIpOwogICAgICAgICAgICAKICAgICAgICAKICAgICAgICAgICAgCgogICAgICAgICAgICAgICAgdmFyIGN1c3RvbV9pY29uXzViYzAyYmM5OTcwZDQyZGY5MDRiMTczNzVlOGE0MGZmID0gTC5pY29uKHsKICAgICAgICAgICAgICAgICAgICBpY29uVXJsOiAnaHR0cHM6Ly9yYXcuZ2l0aHVidXNlcmNvbnRlbnQuY29tL25pY29sYXNmYXVjaGVyZWF1L1NJTVMvbWFzdGVyL1RSTU0vaW1hZ2VzL2ljb25zL2JsdWUucG5nJywKICAgICAgICAgICAgICAgICAgICBpY29uU2l6ZTogWzM3LjYsNjUuMF0sCiAgICAgICAgICAgICAgICAgICAgCgogICAgICAgICAgICAgICAgICAgIAogICAgICAgICAgICAgICAgICAgIAogICAgICAgICAgICAgICAgICAgIAoKICAgICAgICAgICAgICAgICAgICAKICAgICAgICAgICAgICAgICAgICB9KTsKICAgICAgICAgICAgICAgIG1hcmtlcl84NDEwMjBhYjBmMmQ0NzJiYjJjN2ZlN2M5YjllZjlhMi5zZXRJY29uKGN1c3RvbV9pY29uXzViYzAyYmM5OTcwZDQyZGY5MDRiMTczNzVlOGE0MGZmKTsKICAgICAgICAgICAgCiAgICAgICAgCiAgICAgICAgICAgIAogICAgICAgICAgICB2YXIgcG9wdXBfM2NlNWViNjkwZDAwNGJhNzllYzk4YTMxODAwNzI1NDUgPSBMLnBvcHVwKHttYXhXaWR0aDogJzYwMCd9KTsKCiAgICAgICAgICAgIAogICAgICAgICAgICAgICAgdmFyIGlfZnJhbWVfZWMxZDUwMDBhNzFhNDBiYWI3ZGNmZGYzOTQyNzY5ZWYgPSAkKCc8aWZyYW1lIHNyYz0iZGF0YTp0ZXh0L2h0bWw7YmFzZTY0LENpQWdJQ0FnSUNBZ0NpQWdJQ0FnSUNBZ0lDQWdJQW9nSUNBZ1BHWnZiblFnWm1GalpUMGlkbVZ5WkdGdVlTSStDaUFnSUNBOFpHbDJJR0ZzYVdkdVBTZGpaVzUwWlhJblBqeG9ORDRLSUNBZ0lFeGhjM1FnT1RBZ1pHRjVjeUFvZEc4Z2RHaGxJREl3TVRjdE1ERXRNVEFnVlZSREtTQmxjM1JwYldGMFpYTWdXMVJTVFUwdlZFMVFRVjBnWm05eUlFMWhiSFVuZFR3dmFEUStDaUFnSUNCdlluTmxjblpsWkNBOUlEeGlQams0TVR3dllqNGdiVzBnUEdKeVBnb2dJQ0FnWTJ4cGJXRjBiMnh2WjNrZ1BTQThZajQyTmpFOEwySStJRzF0SUR4aWNqNEtJQ0FnSUhCbGNtTmxiblF1SUc5bUlHNXZjbTFoYkNBOUlEeGlQakUwT0M0ME1UeGlQaUFsQ2lBZ0lDQThZbkkrUEdKeVBnb2dJQ0FnUEdFZ2FISmxaajBpYUhSMGNITTZMeTlqWkc0dWNtRjNaMmwwTG1OdmJTOXVhV052YkdGelptRjFZMmhsY21WaGRTOVRTVTFUTDIxaGMzUmxjaTlVVWsxTkwzZDNkeTlXYVhKMGRXRnNYMU4wWVhScGIyNWZUV0ZzZFNkMVh6a3dibVJoZVhNdWFIUnRiQ0lnZEdGeVoyVjBQU0pmWW14aGJtc2lQbU5zYVdOcklHaGxjbVVnWm05eUlIUm9aU0IwYVcxbExYTmxjbWxsY3p3dllUNEtJQ0FnSUR3dlptOXVkRDRLSUNBZ0lBb2dJQ0FnSUNBZ0lBb2dJQ0FnSUNBZ0lBPT0iIHdpZHRoPSIzMDAiIGhlaWdodD0iMjAwIj48L2lmcmFtZT4nKVswXTsKICAgICAgICAgICAgICAgIHBvcHVwXzNjZTVlYjY5MGQwMDRiYTc5ZWM5OGEzMTgwMDcyNTQ1LnNldENvbnRlbnQoaV9mcmFtZV9lYzFkNTAwMGE3MWE0MGJhYjdkY2ZkZjM5NDI3NjllZik7CiAgICAgICAgICAgIAoKICAgICAgICAgICAgbWFya2VyXzg0MTAyMGFiMGYyZDQ3MmJiMmM3ZmU3YzliOWVmOWEyLmJpbmRQb3B1cChwb3B1cF8zY2U1ZWI2OTBkMDA0YmE3OWVjOThhMzE4MDA3MjU0NSk7CgogICAgICAgICAgICAKICAgICAgICAKICAgICAgICAKICAgICAgICAgICAgCgogICAgICAgICAgICB2YXIgbWFya2VyXzg5NmUzYzMxMTQzMTQ2NDViNmY3YjQyMDA4YjIzNjk5ID0gTC5tYXJrZXIoCiAgICAgICAgICAgICAgICBbLTguNzM5MiwxNjAuOTMzOV0sCiAgICAgICAgICAgICAgICB7CiAgICAgICAgICAgICAgICAgICAgaWNvbjogbmV3IEwuSWNvbi5EZWZhdWx0KCkKICAgICAgICAgICAgICAgICAgICB9CiAgICAgICAgICAgICAgICApCiAgICAgICAgICAgICAgICAuYWRkVG8oZmVhdHVyZV9ncm91cF81NDk2MWViNGFlOWM0MmRmYTkwMjdkNDc4YjQ2ZDVlYik7CiAgICAgICAgICAgIAogICAgICAgIAogICAgICAgICAgICAKCiAgICAgICAgICAgICAgICB2YXIgY3VzdG9tX2ljb25fNjE5NzA5MWE2YmQ5NDg5OTllMDU3ZWMxZDgyMTE2NTkgPSBMLmljb24oewogICAgICAgICAgICAgICAgICAgIGljb25Vcmw6ICdodHRwczovL3Jhdy5naXRodWJ1c2VyY29udGVudC5jb20vbmljb2xhc2ZhdWNoZXJlYXUvU0lNUy9tYXN0ZXIvVFJNTS9pbWFnZXMvaWNvbnMvYmx1ZS5wbmcnLAogICAgICAgICAgICAgICAgICAgIGljb25TaXplOiBbMzcuNiw2NS4wXSwKICAgICAgICAgICAgICAgICAgICAKCiAgICAgICAgICAgICAgICAgICAgCiAgICAgICAgICAgICAgICAgICAgCiAgICAgICAgICAgICAgICAgICAgCgogICAgICAgICAgICAgICAgICAgIAogICAgICAgICAgICAgICAgICAgIH0pOwogICAgICAgICAgICAgICAgbWFya2VyXzg5NmUzYzMxMTQzMTQ2NDViNmY3YjQyMDA4YjIzNjk5LnNldEljb24oY3VzdG9tX2ljb25fNjE5NzA5MWE2YmQ5NDg5OTllMDU3ZWMxZDgyMTE2NTkpOwogICAgICAgICAgICAKICAgICAgICAKICAgICAgICAgICAgCiAgICAgICAgICAgIHZhciBwb3B1cF9hZjZjMzkzZTdiZjE0NTliYTU3MjM0Njk3MDk0ZTM1ZiA9IEwucG9wdXAoe21heFdpZHRoOiAnNjAwJ30pOwoKICAgICAgICAgICAgCiAgICAgICAgICAgICAgICB2YXIgaV9mcmFtZV9lNWNhYTE1MGQxN2U0OWY4Yjk0ZmQ0NjdjYTc3M2UwZSA9ICQoJzxpZnJhbWUgc3JjPSJkYXRhOnRleHQvaHRtbDtiYXNlNjQsQ2lBZ0lDQWdJQ0FnQ2lBZ0lDQWdJQ0FnSUNBZ0lBb2dJQ0FnUEdadmJuUWdabUZqWlQwaWRtVnlaR0Z1WVNJK0NpQWdJQ0E4WkdsMklHRnNhV2R1UFNkalpXNTBaWEluUGp4b05ENEtJQ0FnSUV4aGMzUWdPVEFnWkdGNWN5QW9kRzhnZEdobElESXdNVGN0TURFdE1UQWdWVlJES1NCbGMzUnBiV0YwWlhNZ1cxUlNUVTB2VkUxUVFWMGdabTl5SUVGMGIzSnBQQzlvTkQ0S0lDQWdJRzlpYzJWeWRtVmtJRDBnUEdJK01UQTJNVHd2WWo0Z2JXMGdQR0p5UGdvZ0lDQWdZMnhwYldGMGIyeHZaM2tnUFNBOFlqNDNOamM4TDJJK0lHMXRJRHhpY2o0S0lDQWdJSEJsY21ObGJuUXVJRzltSUc1dmNtMWhiQ0E5SUR4aVBqRXpPQzR6TXp4aVBpQWxDaUFnSUNBOFluSStQR0p5UGdvZ0lDQWdQR0VnYUhKbFpqMGlhSFIwY0hNNkx5OWpaRzR1Y21GM1oybDBMbU52YlM5dWFXTnZiR0Z6Wm1GMVkyaGxjbVZoZFM5VFNVMVRMMjFoYzNSbGNpOVVVazFOTDNkM2R5OVdhWEowZFdGc1gxTjBZWFJwYjI1ZlFYUnZjbWxmT1RCdVpHRjVjeTVvZEcxc0lpQjBZWEpuWlhROUlsOWliR0Z1YXlJK1kyeHBZMnNnYUdWeVpTQm1iM0lnZEdobElIUnBiV1V0YzJWeWFXVnpQQzloUGdvZ0lDQWdQQzltYjI1MFBnb2dJQ0FnQ2lBZ0lDQWdJQ0FnQ2lBZ0lDQWdJQ0FnIiB3aWR0aD0iMzAwIiBoZWlnaHQ9IjIwMCI+PC9pZnJhbWU+JylbMF07CiAgICAgICAgICAgICAgICBwb3B1cF9hZjZjMzkzZTdiZjE0NTliYTU3MjM0Njk3MDk0ZTM1Zi5zZXRDb250ZW50KGlfZnJhbWVfZTVjYWExNTBkMTdlNDlmOGI5NGZkNDY3Y2E3NzNlMGUpOwogICAgICAgICAgICAKCiAgICAgICAgICAgIG1hcmtlcl84OTZlM2MzMTE0MzE0NjQ1YjZmN2I0MjAwOGIyMzY5OS5iaW5kUG9wdXAocG9wdXBfYWY2YzM5M2U3YmYxNDU5YmE1NzIzNDY5NzA5NGUzNWYpOwoKICAgICAgICAgICAgCiAgICAgICAgCiAgICAgICAgCiAgICAgICAgICAgIAoKICAgICAgICAgICAgdmFyIG1hcmtlcl8wNGYzNmQ2ZDJkMjc0MTg3YTU5MzhhZTIzZGNhOTg4NyA9IEwubWFya2VyKAogICAgICAgICAgICAgICAgWy04LjYxNjcsMTYwLjY1XSwKICAgICAgICAgICAgICAgIHsKICAgICAgICAgICAgICAgICAgICBpY29uOiBuZXcgTC5JY29uLkRlZmF1bHQoKQogICAgICAgICAgICAgICAgICAgIH0KICAgICAgICAgICAgICAgICkKICAgICAgICAgICAgICAgIC5hZGRUbyhmZWF0dXJlX2dyb3VwXzU0OTYxZWI0YWU5YzQyZGZhOTAyN2Q0NzhiNDZkNWViKTsKICAgICAgICAgICAgCiAgICAgICAgCiAgICAgICAgICAgIAoKICAgICAgICAgICAgICAgIHZhciBjdXN0b21faWNvbl8yMmQ2MDMzMzY1YmQ0N2EwODIyYTk3ODFmZDk2NjRlNSA9IEwuaWNvbih7CiAgICAgICAgICAgICAgICAgICAgaWNvblVybDogJ2h0dHBzOi8vcmF3LmdpdGh1YnVzZXJjb250ZW50LmNvbS9uaWNvbGFzZmF1Y2hlcmVhdS9TSU1TL21hc3Rlci9UUk1NL2ltYWdlcy9pY29ucy9ibHVlLnBuZycsCiAgICAgICAgICAgICAgICAgICAgaWNvblNpemU6IFszNy42LDY1LjBdLAogICAgICAgICAgICAgICAgICAgIAoKICAgICAgICAgICAgICAgICAgICAKICAgICAgICAgICAgICAgICAgICAKICAgICAgICAgICAgICAgICAgICAKCiAgICAgICAgICAgICAgICAgICAgCiAgICAgICAgICAgICAgICAgICAgfSk7CiAgICAgICAgICAgICAgICBtYXJrZXJfMDRmMzZkNmQyZDI3NDE4N2E1OTM4YWUyM2RjYTk4ODcuc2V0SWNvbihjdXN0b21faWNvbl8yMmQ2MDMzMzY1YmQ0N2EwODIyYTk3ODFmZDk2NjRlNSk7CiAgICAgICAgICAgIAogICAgICAgIAogICAgICAgICAgICAKICAgICAgICAgICAgdmFyIHBvcHVwXzU0ZDdiODY1Njk0MzRiNmM5ZWVmNjI0YTgwZTQxNzNhID0gTC5wb3B1cCh7bWF4V2lkdGg6ICc2MDAnfSk7CgogICAgICAgICAgICAKICAgICAgICAgICAgICAgIHZhciBpX2ZyYW1lXzFkYTliZTZhZjNjOTRkMGJiNGQwNDA4MWZiZWMxMmViID0gJCgnPGlmcmFtZSBzcmM9ImRhdGE6dGV4dC9odG1sO2Jhc2U2NCxDaUFnSUNBZ0lDQWdDaUFnSUNBZ0lDQWdJQ0FnSUFvZ0lDQWdQR1p2Ym5RZ1ptRmpaVDBpZG1WeVpHRnVZU0krQ2lBZ0lDQThaR2wySUdGc2FXZHVQU2RqWlc1MFpYSW5QanhvTkQ0S0lDQWdJRXhoYzNRZ09UQWdaR0Y1Y3lBb2RHOGdkR2hsSURJd01UY3RNREV0TVRBZ1ZWUkRLU0JsYzNScGJXRjBaWE1nVzFSU1RVMHZWRTFRUVYwZ1ptOXlJRVp2ZEdVOEwyZzBQZ29nSUNBZ2IySnpaWEoyWldRZ1BTQThZajQ1TWpROEwySStJRzF0SUR4aWNqNEtJQ0FnSUdOc2FXMWhkRzlzYjJkNUlEMGdQR0krTmpFNVBDOWlQaUJ0YlNBOFluSStDaUFnSUNCd1pYSmpaVzUwTGlCdlppQnViM0p0WVd3Z1BTQThZajR4TkRrdU1qYzhZajRnSlFvZ0lDQWdQR0p5UGp4aWNqNEtJQ0FnSUR4aElHaHlaV1k5SW1oMGRIQnpPaTh2WTJSdUxuSmhkMmRwZEM1amIyMHZibWxqYjJ4aGMyWmhkV05vWlhKbFlYVXZVMGxOVXk5dFlYTjBaWEl2VkZKTlRTOTNkM2N2Vm1seWRIVmhiRjlUZEdGMGFXOXVYMFp2ZEdWZk9UQnVaR0Y1Y3k1b2RHMXNJaUIwWVhKblpYUTlJbDlpYkdGdWF5SStZMnhwWTJzZ2FHVnlaU0JtYjNJZ2RHaGxJSFJwYldVdGMyVnlhV1Z6UEM5aFBnb2dJQ0FnUEM5bWIyNTBQZ29nSUNBZ0NpQWdJQ0FnSUNBZ0NpQWdJQ0FnSUNBZyIgd2lkdGg9IjMwMCIgaGVpZ2h0PSIyMDAiPjwvaWZyYW1lPicpWzBdOwogICAgICAgICAgICAgICAgcG9wdXBfNTRkN2I4NjU2OTQzNGI2YzllZWY2MjRhODBlNDE3M2Euc2V0Q29udGVudChpX2ZyYW1lXzFkYTliZTZhZjNjOTRkMGJiNGQwNDA4MWZiZWMxMmViKTsKICAgICAgICAgICAgCgogICAgICAgICAgICBtYXJrZXJfMDRmMzZkNmQyZDI3NDE4N2E1OTM4YWUyM2RjYTk4ODcuYmluZFBvcHVwKHBvcHVwXzU0ZDdiODY1Njk0MzRiNmM5ZWVmNjI0YTgwZTQxNzNhKTsKCiAgICAgICAgICAgIAogICAgICAgIAogICAgICAgIAogICAgICAgICAgICAKCiAgICAgICAgICAgIHZhciBtYXJrZXJfYzY5ZGUxNGU1NDJkNGY5MWI0NDJiMzRhMzZjMjk2OTEgPSBMLm1hcmtlcigKICAgICAgICAgICAgICAgIFstOC44NSwxNjEuMF0sCiAgICAgICAgICAgICAgICB7CiAgICAgICAgICAgICAgICAgICAgaWNvbjogbmV3IEwuSWNvbi5EZWZhdWx0KCkKICAgICAgICAgICAgICAgICAgICB9CiAgICAgICAgICAgICAgICApCiAgICAgICAgICAgICAgICAuYWRkVG8oZmVhdHVyZV9ncm91cF81NDk2MWViNGFlOWM0MmRmYTkwMjdkNDc4YjQ2ZDVlYik7CiAgICAgICAgICAgIAogICAgICAgIAogICAgICAgICAgICAKCiAgICAgICAgICAgICAgICB2YXIgY3VzdG9tX2ljb25fMzg5ZWE3ODUxODRkNDZjZjljNjNmMDZhYzMxZWZlMmYgPSBMLmljb24oewogICAgICAgICAgICAgICAgICAgIGljb25Vcmw6ICdodHRwczovL3Jhdy5naXRodWJ1c2VyY29udGVudC5jb20vbmljb2xhc2ZhdWNoZXJlYXUvU0lNUy9tYXN0ZXIvVFJNTS9pbWFnZXMvaWNvbnMvYmx1ZS5wbmcnLAogICAgICAgICAgICAgICAgICAgIGljb25TaXplOiBbMzcuNiw2NS4wXSwKICAgICAgICAgICAgICAgICAgICAKCiAgICAgICAgICAgICAgICAgICAgCiAgICAgICAgICAgICAgICAgICAgCiAgICAgICAgICAgICAgICAgICAgCgogICAgICAgICAgICAgICAgICAgIAogICAgICAgICAgICAgICAgICAgIH0pOwogICAgICAgICAgICAgICAgbWFya2VyX2M2OWRlMTRlNTQyZDRmOTFiNDQyYjM0YTM2YzI5NjkxLnNldEljb24oY3VzdG9tX2ljb25fMzg5ZWE3ODUxODRkNDZjZjljNjNmMDZhYzMxZWZlMmYpOwogICAgICAgICAgICAKICAgICAgICAKICAgICAgICAgICAgCiAgICAgICAgICAgIHZhciBwb3B1cF8xZjUwYWU4NTA4YTc0MmUwOGYyYmM3MDE2ZTIxNzZhNCA9IEwucG9wdXAoe21heFdpZHRoOiAnNjAwJ30pOwoKICAgICAgICAgICAgCiAgICAgICAgICAgICAgICB2YXIgaV9mcmFtZV83YzQyYmM1MDE3MzM0YjQ0ODcxMWY3MDc4YzZlOTFmYSA9ICQoJzxpZnJhbWUgc3JjPSJkYXRhOnRleHQvaHRtbDtiYXNlNjQsQ2lBZ0lDQWdJQ0FnQ2lBZ0lDQWdJQ0FnSUNBZ0lBb2dJQ0FnUEdadmJuUWdabUZqWlQwaWRtVnlaR0Z1WVNJK0NpQWdJQ0E4WkdsMklHRnNhV2R1UFNkalpXNTBaWEluUGp4b05ENEtJQ0FnSUV4aGMzUWdPVEFnWkdGNWN5QW9kRzhnZEdobElESXdNVGN0TURFdE1UQWdWVlJES1NCbGMzUnBiV0YwWlhNZ1cxUlNUVTB2VkUxUVFWMGdabTl5SUVGMGIybG1hVHd2YURRK0NpQWdJQ0J2WW5ObGNuWmxaQ0E5SUR4aVBqRXhNekk4TDJJK0lHMXRJRHhpY2o0S0lDQWdJR05zYVcxaGRHOXNiMmQ1SUQwZ1BHSStPRFUzUEM5aVBpQnRiU0E4WW5JK0NpQWdJQ0J3WlhKalpXNTBMaUJ2WmlCdWIzSnRZV3dnUFNBOFlqNHhNekl1TURrOFlqNGdKUW9nSUNBZ1BHSnlQanhpY2o0S0lDQWdJRHhoSUdoeVpXWTlJbWgwZEhCek9pOHZZMlJ1TG5KaGQyZHBkQzVqYjIwdmJtbGpiMnhoYzJaaGRXTm9aWEpsWVhVdlUwbE5VeTl0WVhOMFpYSXZWRkpOVFM5M2QzY3ZWbWx5ZEhWaGJGOVRkR0YwYVc5dVgwRjBiMmxtYVY4NU1HNWtZWGx6TG1oMGJXd2lJSFJoY21kbGREMGlYMkpzWVc1cklqNWpiR2xqYXlCb1pYSmxJR1p2Y2lCMGFHVWdkR2x0WlMxelpYSnBaWE04TDJFK0NpQWdJQ0E4TDJadmJuUStDaUFnSUNBS0lDQWdJQ0FnSUNBS0lDQWdJQ0FnSUNBPSIgd2lkdGg9IjMwMCIgaGVpZ2h0PSIyMDAiPjwvaWZyYW1lPicpWzBdOwogICAgICAgICAgICAgICAgcG9wdXBfMWY1MGFlODUwOGE3NDJlMDhmMmJjNzAxNmUyMTc2YTQuc2V0Q29udGVudChpX2ZyYW1lXzdjNDJiYzUwMTczMzRiNDQ4NzExZjcwNzhjNmU5MWZhKTsKICAgICAgICAgICAgCgogICAgICAgICAgICBtYXJrZXJfYzY5ZGUxNGU1NDJkNGY5MWI0NDJiMzRhMzZjMjk2OTEuYmluZFBvcHVwKHBvcHVwXzFmNTBhZTg1MDhhNzQyZTA4ZjJiYzcwMTZlMjE3NmE0KTsKCiAgICAgICAgICAgIAogICAgICAgIAogICAgICAgIAogICAgICAgICAgICAKCiAgICAgICAgICAgIHZhciBtYXJrZXJfZTNlMmUyZjU4ZDA0NGZjMWEwOTg5YjFhN2NlZTU1OGEgPSBMLm1hcmtlcigKICAgICAgICAgICAgICAgIFstOS4zMTY3LDE2MS4wODMzXSwKICAgICAgICAgICAgICAgIHsKICAgICAgICAgICAgICAgICAgICBpY29uOiBuZXcgTC5JY29uLkRlZmF1bHQoKQogICAgICAgICAgICAgICAgICAgIH0KICAgICAgICAgICAgICAgICkKICAgICAgICAgICAgICAgIC5hZGRUbyhmZWF0dXJlX2dyb3VwXzU0OTYxZWI0YWU5YzQyZGZhOTAyN2Q0NzhiNDZkNWViKTsKICAgICAgICAgICAgCiAgICAgICAgCiAgICAgICAgICAgIAoKICAgICAgICAgICAgICAgIHZhciBjdXN0b21faWNvbl9lOTU4ODNlYjMxZjI0OTIyOGNmNGQ1M2RjMGM2ZmQyMyA9IEwuaWNvbih7CiAgICAgICAgICAgICAgICAgICAgaWNvblVybDogJ2h0dHBzOi8vcmF3LmdpdGh1YnVzZXJjb250ZW50LmNvbS9uaWNvbGFzZmF1Y2hlcmVhdS9TSU1TL21hc3Rlci9UUk1NL2ltYWdlcy9pY29ucy9ncmVlbi5wbmcnLAogICAgICAgICAgICAgICAgICAgIGljb25TaXplOiBbMjguMiw0OC43NV0sCiAgICAgICAgICAgICAgICAgICAgCgogICAgICAgICAgICAgICAgICAgIAogICAgICAgICAgICAgICAgICAgIAogICAgICAgICAgICAgICAgICAgIAoKICAgICAgICAgICAgICAgICAgICAKICAgICAgICAgICAgICAgICAgICB9KTsKICAgICAgICAgICAgICAgIG1hcmtlcl9lM2UyZTJmNThkMDQ0ZmMxYTA5ODliMWE3Y2VlNTU4YS5zZXRJY29uKGN1c3RvbV9pY29uX2U5NTg4M2ViMzFmMjQ5MjI4Y2Y0ZDUzZGMwYzZmZDIzKTsKICAgICAgICAgICAgCiAgICAgICAgCiAgICAgICAgICAgIAogICAgICAgICAgICB2YXIgcG9wdXBfNGRjNmY2ODczMjYzNDg0ZWJhYmIyYmU5NGJhZmFhOTcgPSBMLnBvcHVwKHttYXhXaWR0aDogJzYwMCd9KTsKCiAgICAgICAgICAgIAogICAgICAgICAgICAgICAgdmFyIGlfZnJhbWVfOTIzZWZjNGMxODA5NGZhMmJmNjJjMTZjZGFiNTJhMTEgPSAkKCc8aWZyYW1lIHNyYz0iZGF0YTp0ZXh0L2h0bWw7YmFzZTY0LENpQWdJQ0FnSUNBZ0NpQWdJQ0FnSUNBZ0lDQWdJQW9nSUNBZ1BHWnZiblFnWm1GalpUMGlkbVZ5WkdGdVlTSStDaUFnSUNBOFpHbDJJR0ZzYVdkdVBTZGpaVzUwWlhJblBqeG9ORDRLSUNBZ0lFeGhjM1FnT1RBZ1pHRjVjeUFvZEc4Z2RHaGxJREl3TVRjdE1ERXRNVEFnVlZSREtTQmxjM1JwYldGMFpYTWdXMVJTVFUwdlZFMVFRVjBnWm05eUlGSnZhR2x1WVhKcFBDOW9ORDRLSUNBZ0lHOWljMlZ5ZG1Wa0lEMGdQR0krTnpVMVBDOWlQaUJ0YlNBOFluSStDaUFnSUNCamJHbHRZWFJ2Ykc5bmVTQTlJRHhpUGpZek16d3ZZajRnYlcwZ1BHSnlQZ29nSUNBZ2NHVnlZMlZ1ZEM0Z2IyWWdibTl5YldGc0lEMGdQR0krTVRFNUxqSTNQR0krSUNVS0lDQWdJRHhpY2o0OFluSStDaUFnSUNBOFlTQm9jbVZtUFNKb2RIUndjem92TDJOa2JpNXlZWGRuYVhRdVkyOXRMMjVwWTI5c1lYTm1ZWFZqYUdWeVpXRjFMMU5KVFZNdmJXRnpkR1Z5TDFSU1RVMHZkM2QzTDFacGNuUjFZV3hmVTNSaGRHbHZibDlTYjJocGJtRnlhVjg1TUc1a1lYbHpMbWgwYld3aUlIUmhjbWRsZEQwaVgySnNZVzVySWo1amJHbGpheUJvWlhKbElHWnZjaUIwYUdVZ2RHbHRaUzF6WlhKcFpYTThMMkUrQ2lBZ0lDQThMMlp2Ym5RK0NpQWdJQ0FLSUNBZ0lDQWdJQ0FLSUNBZ0lDQWdJQ0E9IiB3aWR0aD0iMzAwIiBoZWlnaHQ9IjIwMCI+PC9pZnJhbWU+JylbMF07CiAgICAgICAgICAgICAgICBwb3B1cF80ZGM2ZjY4NzMyNjM0ODRlYmFiYjJiZTk0YmFmYWE5Ny5zZXRDb250ZW50KGlfZnJhbWVfOTIzZWZjNGMxODA5NGZhMmJmNjJjMTZjZGFiNTJhMTEpOwogICAgICAgICAgICAKCiAgICAgICAgICAgIG1hcmtlcl9lM2UyZTJmNThkMDQ0ZmMxYTA5ODliMWE3Y2VlNTU4YS5iaW5kUG9wdXAocG9wdXBfNGRjNmY2ODczMjYzNDg0ZWJhYmIyYmU5NGJhZmFhOTcpOwoKICAgICAgICAgICAgCiAgICAgICAgCiAgICAgICAgCiAgICAgICAgICAgIAoKICAgICAgICAgICAgdmFyIG1hcmtlcl9lOWFmODhlZDgxYmE0ZDg5OTA5MGU4Nzg2MTlkYzJkMCA9IEwubWFya2VyKAogICAgICAgICAgICAgICAgWy04LjcwNDIsMTYwLjY4MjJdLAogICAgICAgICAgICAgICAgewogICAgICAgICAgICAgICAgICAgIGljb246IG5ldyBMLkljb24uRGVmYXVsdCgpCiAgICAgICAgICAgICAgICAgICAgfQogICAgICAgICAgICAgICAgKQogICAgICAgICAgICAgICAgLmFkZFRvKGZlYXR1cmVfZ3JvdXBfNTQ5NjFlYjRhZTljNDJkZmE5MDI3ZDQ3OGI0NmQ1ZWIpOwogICAgICAgICAgICAKICAgICAgICAKICAgICAgICAgICAgCgogICAgICAgICAgICAgICAgdmFyIGN1c3RvbV9pY29uX2Y4ODIwZjYzOGVmYzQ1ZWFhNzg1ODNjZmUzOTIzMjliID0gTC5pY29uKHsKICAgICAgICAgICAgICAgICAgICBpY29uVXJsOiAnaHR0cHM6Ly9yYXcuZ2l0aHVidXNlcmNvbnRlbnQuY29tL25pY29sYXNmYXVjaGVyZWF1L1NJTVMvbWFzdGVyL1RSTU0vaW1hZ2VzL2ljb25zL2JsdWUucG5nJywKICAgICAgICAgICAgICAgICAgICBpY29uU2l6ZTogWzM3LjYsNjUuMF0sCiAgICAgICAgICAgICAgICAgICAgCgogICAgICAgICAgICAgICAgICAgIAogICAgICAgICAgICAgICAgICAgIAogICAgICAgICAgICAgICAgICAgIAoKICAgICAgICAgICAgICAgICAgICAKICAgICAgICAgICAgICAgICAgICB9KTsKICAgICAgICAgICAgICAgIG1hcmtlcl9lOWFmODhlZDgxYmE0ZDg5OTA5MGU4Nzg2MTlkYzJkMC5zZXRJY29uKGN1c3RvbV9pY29uX2Y4ODIwZjYzOGVmYzQ1ZWFhNzg1ODNjZmUzOTIzMjliKTsKICAgICAgICAgICAgCiAgICAgICAgCiAgICAgICAgICAgIAogICAgICAgICAgICB2YXIgcG9wdXBfZDk3ZDBlNWUyZDlkNDU0ODgwNGEzZWZmNmFmZjc2ZTIgPSBMLnBvcHVwKHttYXhXaWR0aDogJzYwMCd9KTsKCiAgICAgICAgICAgIAogICAgICAgICAgICAgICAgdmFyIGlfZnJhbWVfMDNmNTc2MTMwNDQyNGE3YWI4M2ViYTEwYTlkZDdkMDkgPSAkKCc8aWZyYW1lIHNyYz0iZGF0YTp0ZXh0L2h0bWw7YmFzZTY0LENpQWdJQ0FnSUNBZ0NpQWdJQ0FnSUNBZ0lDQWdJQW9nSUNBZ1BHWnZiblFnWm1GalpUMGlkbVZ5WkdGdVlTSStDaUFnSUNBOFpHbDJJR0ZzYVdkdVBTZGpaVzUwWlhJblBqeG9ORDRLSUNBZ0lFeGhjM1FnT1RBZ1pHRjVjeUFvZEc4Z2RHaGxJREl3TVRjdE1ERXRNVEFnVlZSREtTQmxjM1JwYldGMFpYTWdXMVJTVFUwdlZFMVFRVjBnWm05eUlFZDNZWFZ1WVhKMUozVThMMmcwUGdvZ0lDQWdiMkp6WlhKMlpXUWdQU0E4WWo0NU1qUThMMkkrSUcxdElEeGljajRLSUNBZ0lHTnNhVzFoZEc5c2IyZDVJRDBnUEdJK05qRTVQQzlpUGlCdGJTQThZbkkrQ2lBZ0lDQndaWEpqWlc1MExpQnZaaUJ1YjNKdFlXd2dQU0E4WWo0eE5Ea3VNamM4WWo0Z0pRb2dJQ0FnUEdKeVBqeGljajRLSUNBZ0lEeGhJR2h5WldZOUltaDBkSEJ6T2k4dlkyUnVMbkpoZDJkcGRDNWpiMjB2Ym1samIyeGhjMlpoZFdOb1pYSmxZWFV2VTBsTlV5OXRZWE4wWlhJdlZGSk5UUzkzZDNjdlZtbHlkSFZoYkY5VGRHRjBhVzl1WDBkM1lYVnVZWEoxSjNWZk9UQnVaR0Y1Y3k1b2RHMXNJaUIwWVhKblpYUTlJbDlpYkdGdWF5SStZMnhwWTJzZ2FHVnlaU0JtYjNJZ2RHaGxJSFJwYldVdGMyVnlhV1Z6UEM5aFBnb2dJQ0FnUEM5bWIyNTBQZ29nSUNBZ0NpQWdJQ0FnSUNBZ0NpQWdJQ0FnSUNBZyIgd2lkdGg9IjMwMCIgaGVpZ2h0PSIyMDAiPjwvaWZyYW1lPicpWzBdOwogICAgICAgICAgICAgICAgcG9wdXBfZDk3ZDBlNWUyZDlkNDU0ODgwNGEzZWZmNmFmZjc2ZTIuc2V0Q29udGVudChpX2ZyYW1lXzAzZjU3NjEzMDQ0MjRhN2FiODNlYmExMGE5ZGQ3ZDA5KTsKICAgICAgICAgICAgCgogICAgICAgICAgICBtYXJrZXJfZTlhZjg4ZWQ4MWJhNGQ4OTkwOTBlODc4NjE5ZGMyZDAuYmluZFBvcHVwKHBvcHVwX2Q5N2QwZTVlMmQ5ZDQ1NDg4MDRhM2VmZjZhZmY3NmUyKTsKCiAgICAgICAgICAgIAogICAgICAgIAogICAgICAgIAogICAgICAgICAgICAKCiAgICAgICAgICAgIHZhciBtYXJrZXJfYTFhNjZlZjNkYzgyNDVjYzg5ZTIyYTYyNDkxYjQyZDQgPSBMLm1hcmtlcigKICAgICAgICAgICAgICAgIFstOS42MDk0LDE2MS40MDA4XSwKICAgICAgICAgICAgICAgIHsKICAgICAgICAgICAgICAgICAgICBpY29uOiBuZXcgTC5JY29uLkRlZmF1bHQoKQogICAgICAgICAgICAgICAgICAgIH0KICAgICAgICAgICAgICAgICkKICAgICAgICAgICAgICAgIC5hZGRUbyhmZWF0dXJlX2dyb3VwXzU0OTYxZWI0YWU5YzQyZGZhOTAyN2Q0NzhiNDZkNWViKTsKICAgICAgICAgICAgCiAgICAgICAgCiAgICAgICAgICAgIAoKICAgICAgICAgICAgICAgIHZhciBjdXN0b21faWNvbl9hOWRhYWFmZGUyN2Q0NzY3OTkyNmMzY2ZhMWYyYTE0YiA9IEwuaWNvbih7CiAgICAgICAgICAgICAgICAgICAgaWNvblVybDogJ2h0dHBzOi8vcmF3LmdpdGh1YnVzZXJjb250ZW50LmNvbS9uaWNvbGFzZmF1Y2hlcmVhdS9TSU1TL21hc3Rlci9UUk1NL2ltYWdlcy9pY29ucy9ncmVlbi5wbmcnLAogICAgICAgICAgICAgICAgICAgIGljb25TaXplOiBbMjguMiw0OC43NV0sCiAgICAgICAgICAgICAgICAgICAgCgogICAgICAgICAgICAgICAgICAgIAogICAgICAgICAgICAgICAgICAgIAogICAgICAgICAgICAgICAgICAgIAoKICAgICAgICAgICAgICAgICAgICAKICAgICAgICAgICAgICAgICAgICB9KTsKICAgICAgICAgICAgICAgIG1hcmtlcl9hMWE2NmVmM2RjODI0NWNjODllMjJhNjI0OTFiNDJkNC5zZXRJY29uKGN1c3RvbV9pY29uX2E5ZGFhYWZkZTI3ZDQ3Njc5OTI2YzNjZmExZjJhMTRiKTsKICAgICAgICAgICAgCiAgICAgICAgCiAgICAgICAgICAgIAogICAgICAgICAgICB2YXIgcG9wdXBfZWY1Y2YzNzUxYzY2NGY4NzlhZjU3Njc0MzZhZTY5ZmIgPSBMLnBvcHVwKHttYXhXaWR0aDogJzYwMCd9KTsKCiAgICAgICAgICAgIAogICAgICAgICAgICAgICAgdmFyIGlfZnJhbWVfNTRmYjViODExZWZiNDU0ODg1YjczNzU5YzMyM2YyZjkgPSAkKCc8aWZyYW1lIHNyYz0iZGF0YTp0ZXh0L2h0bWw7YmFzZTY0LENpQWdJQ0FnSUNBZ0NpQWdJQ0FnSUNBZ0lDQWdJQW9nSUNBZ1BHWnZiblFnWm1GalpUMGlkbVZ5WkdGdVlTSStDaUFnSUNBOFpHbDJJR0ZzYVdkdVBTZGpaVzUwWlhJblBqeG9ORDRLSUNBZ0lFeGhjM1FnT1RBZ1pHRjVjeUFvZEc4Z2RHaGxJREl3TVRjdE1ERXRNVEFnVlZSREtTQmxjM1JwYldGMFpYTWdXMVJTVFUwdlZFMVFRVjBnWm05eUlFRm1hVzg4TDJnMFBnb2dJQ0FnYjJKelpYSjJaV1FnUFNBOFlqNDNPVE04TDJJK0lHMXRJRHhpY2o0S0lDQWdJR05zYVcxaGRHOXNiMmQ1SUQwZ1BHSStOall6UEM5aVBpQnRiU0E4WW5JK0NpQWdJQ0J3WlhKalpXNTBMaUJ2WmlCdWIzSnRZV3dnUFNBOFlqNHhNVGt1TmpFOFlqNGdKUW9nSUNBZ1BHSnlQanhpY2o0S0lDQWdJRHhoSUdoeVpXWTlJbWgwZEhCek9pOHZZMlJ1TG5KaGQyZHBkQzVqYjIwdmJtbGpiMnhoYzJaaGRXTm9aWEpsWVhVdlUwbE5VeTl0WVhOMFpYSXZWRkpOVFM5M2QzY3ZWbWx5ZEhWaGJGOVRkR0YwYVc5dVgwRm1hVzlmT1RCdVpHRjVjeTVvZEcxc0lpQjBZWEpuWlhROUlsOWliR0Z1YXlJK1kyeHBZMnNnYUdWeVpTQm1iM0lnZEdobElIUnBiV1V0YzJWeWFXVnpQQzloUGdvZ0lDQWdQQzltYjI1MFBnb2dJQ0FnQ2lBZ0lDQWdJQ0FnQ2lBZ0lDQWdJQ0FnIiB3aWR0aD0iMzAwIiBoZWlnaHQ9IjIwMCI+PC9pZnJhbWU+JylbMF07CiAgICAgICAgICAgICAgICBwb3B1cF9lZjVjZjM3NTFjNjY0Zjg3OWFmNTc2NzQzNmFlNjlmYi5zZXRDb250ZW50KGlfZnJhbWVfNTRmYjViODExZWZiNDU0ODg1YjczNzU5YzMyM2YyZjkpOwogICAgICAgICAgICAKCiAgICAgICAgICAgIG1hcmtlcl9hMWE2NmVmM2RjODI0NWNjODllMjJhNjI0OTFiNDJkNC5iaW5kUG9wdXAocG9wdXBfZWY1Y2YzNzUxYzY2NGY4NzlhZjU3Njc0MzZhZTY5ZmIpOwoKICAgICAgICAgICAgCiAgICAgICAgCiAgICAgICAgCiAgICAgICAgICAgIAoKICAgICAgICAgICAgdmFyIG1hcmtlcl84OTdlZWE2ZmMwODA0ZmU3YTc3NDkwNjk3ZmQ5MTQwYiA9IEwubWFya2VyKAogICAgICAgICAgICAgICAgWy0xMC43MTY3LDE2NS44MzMzXSwKICAgICAgICAgICAgICAgIHsKICAgICAgICAgICAgICAgICAgICBpY29uOiBuZXcgTC5JY29uLkRlZmF1bHQoKQogICAgICAgICAgICAgICAgICAgIH0KICAgICAgICAgICAgICAgICkKICAgICAgICAgICAgICAgIC5hZGRUbyhmZWF0dXJlX2dyb3VwXzU0OTYxZWI0YWU5YzQyZGZhOTAyN2Q0NzhiNDZkNWViKTsKICAgICAgICAgICAgCiAgICAgICAgCiAgICAgICAgICAgIAoKICAgICAgICAgICAgICAgIHZhciBjdXN0b21faWNvbl81MTQ1ODQ2NmJhZTU0NjIyODIwNThjMzcwOTkxMjc3NCA9IEwuaWNvbih7CiAgICAgICAgICAgICAgICAgICAgaWNvblVybDogJ2h0dHBzOi8vcmF3LmdpdGh1YnVzZXJjb250ZW50LmNvbS9uaWNvbGFzZmF1Y2hlcmVhdS9TSU1TL21hc3Rlci9UUk1NL2ltYWdlcy9pY29ucy95ZWxsb3cucG5nJywKICAgICAgICAgICAgICAgICAgICBpY29uU2l6ZTogWzE4LjgsMzIuNV0sCiAgICAgICAgICAgICAgICAgICAgCgogICAgICAgICAgICAgICAgICAgIAogICAgICAgICAgICAgICAgICAgIAogICAgICAgICAgICAgICAgICAgIAoKICAgICAgICAgICAgICAgICAgICAKICAgICAgICAgICAgICAgICAgICB9KTsKICAgICAgICAgICAgICAgIG1hcmtlcl84OTdlZWE2ZmMwODA0ZmU3YTc3NDkwNjk3ZmQ5MTQwYi5zZXRJY29uKGN1c3RvbV9pY29uXzUxNDU4NDY2YmFlNTQ2MjI4MjA1OGMzNzA5OTEyNzc0KTsKICAgICAgICAgICAgCiAgICAgICAgCiAgICAgICAgICAgIAogICAgICAgICAgICB2YXIgcG9wdXBfY2JhZTAyOWE4Y2ZiNDg0ZDhlZjFhNzM3ZDM5YjAyMmYgPSBMLnBvcHVwKHttYXhXaWR0aDogJzYwMCd9KTsKCiAgICAgICAgICAgIAogICAgICAgICAgICAgICAgdmFyIGlfZnJhbWVfNmFmMTI4OGNhNzhkNDEyZWJhMmRlZGU5OWI0OWVmOWIgPSAkKCc8aWZyYW1lIHNyYz0iZGF0YTp0ZXh0L2h0bWw7YmFzZTY0LENpQWdJQ0FnSUNBZ0NpQWdJQ0FnSUNBZ0lDQWdJQW9nSUNBZ1BHWnZiblFnWm1GalpUMGlkbVZ5WkdGdVlTSStDaUFnSUNBOFpHbDJJR0ZzYVdkdVBTZGpaVzUwWlhJblBqeG9ORDRLSUNBZ0lFeGhjM1FnT1RBZ1pHRjVjeUFvZEc4Z2RHaGxJREl3TVRjdE1ERXRNVEFnVlZSREtTQmxjM1JwYldGMFpYTWdXMVJTVFUwdlZFMVFRVjBnWm05eUlFeGhkR0U4TDJnMFBnb2dJQ0FnYjJKelpYSjJaV1FnUFNBOFlqNDFOelU4TDJJK0lHMXRJRHhpY2o0S0lDQWdJR05zYVcxaGRHOXNiMmQ1SUQwZ1BHSStOekl4UEM5aVBpQnRiU0E4WW5JK0NpQWdJQ0J3WlhKalpXNTBMaUJ2WmlCdWIzSnRZV3dnUFNBOFlqNDNPUzQzTlR4aVBpQWxDaUFnSUNBOFluSStQR0p5UGdvZ0lDQWdQR0VnYUhKbFpqMGlhSFIwY0hNNkx5OWpaRzR1Y21GM1oybDBMbU52YlM5dWFXTnZiR0Z6Wm1GMVkyaGxjbVZoZFM5VFNVMVRMMjFoYzNSbGNpOVVVazFOTDNkM2R5OVdhWEowZFdGc1gxTjBZWFJwYjI1ZlRHRjBZVjg1TUc1a1lYbHpMbWgwYld3aUlIUmhjbWRsZEQwaVgySnNZVzVySWo1amJHbGpheUJvWlhKbElHWnZjaUIwYUdVZ2RHbHRaUzF6WlhKcFpYTThMMkUrQ2lBZ0lDQThMMlp2Ym5RK0NpQWdJQ0FLSUNBZ0lDQWdJQ0FLSUNBZ0lDQWdJQ0E9IiB3aWR0aD0iMzAwIiBoZWlnaHQ9IjIwMCI+PC9pZnJhbWU+JylbMF07CiAgICAgICAgICAgICAgICBwb3B1cF9jYmFlMDI5YThjZmI0ODRkOGVmMWE3MzdkMzliMDIyZi5zZXRDb250ZW50KGlfZnJhbWVfNmFmMTI4OGNhNzhkNDEyZWJhMmRlZGU5OWI0OWVmOWIpOwogICAgICAgICAgICAKCiAgICAgICAgICAgIG1hcmtlcl84OTdlZWE2ZmMwODA0ZmU3YTc3NDkwNjk3ZmQ5MTQwYi5iaW5kUG9wdXAocG9wdXBfY2JhZTAyOWE4Y2ZiNDg0ZDhlZjFhNzM3ZDM5YjAyMmYpOwoKICAgICAgICAgICAgCiAgICAgICAgCiAgICAgICAgCiAgICAgICAgICAgIAoKICAgICAgICAgICAgdmFyIG1hcmtlcl8xZDM5ZTFkZTExMjU0MzM5OTU3NWM3MTYyZTg2OTk2NiA9IEwubWFya2VyKAogICAgICAgICAgICAgICAgWy0xMS42NSwxNjYuOV0sCiAgICAgICAgICAgICAgICB7CiAgICAgICAgICAgICAgICAgICAgaWNvbjogbmV3IEwuSWNvbi5EZWZhdWx0KCkKICAgICAgICAgICAgICAgICAgICB9CiAgICAgICAgICAgICAgICApCiAgICAgICAgICAgICAgICAuYWRkVG8oZmVhdHVyZV9ncm91cF81NDk2MWViNGFlOWM0MmRmYTkwMjdkNDc4YjQ2ZDVlYik7CiAgICAgICAgICAgIAogICAgICAgIAogICAgICAgICAgICAKCiAgICAgICAgICAgICAgICB2YXIgY3VzdG9tX2ljb25fYWUyMThjOWQ3YTUwNGY3MTg4OGVlMGJjYThiOTRkNDEgPSBMLmljb24oewogICAgICAgICAgICAgICAgICAgIGljb25Vcmw6ICdodHRwczovL3Jhdy5naXRodWJ1c2VyY29udGVudC5jb20vbmljb2xhc2ZhdWNoZXJlYXUvU0lNUy9tYXN0ZXIvVFJNTS9pbWFnZXMvaWNvbnMveWVsbG93LnBuZycsCiAgICAgICAgICAgICAgICAgICAgaWNvblNpemU6IFsxOC44LDMyLjVdLAogICAgICAgICAgICAgICAgICAgIAoKICAgICAgICAgICAgICAgICAgICAKICAgICAgICAgICAgICAgICAgICAKICAgICAgICAgICAgICAgICAgICAKCiAgICAgICAgICAgICAgICAgICAgCiAgICAgICAgICAgICAgICAgICAgfSk7CiAgICAgICAgICAgICAgICBtYXJrZXJfMWQzOWUxZGUxMTI1NDMzOTk1NzVjNzE2MmU4Njk5NjYuc2V0SWNvbihjdXN0b21faWNvbl9hZTIxOGM5ZDdhNTA0ZjcxODg4ZWUwYmNhOGI5NGQ0MSk7CiAgICAgICAgICAgIAogICAgICAgIAogICAgICAgICAgICAKICAgICAgICAgICAgdmFyIHBvcHVwXzkzNDg2NGU0Mjc0YjRkNzZiYjgwMzNiOGFlNmJhZDgyID0gTC5wb3B1cCh7bWF4V2lkdGg6ICc2MDAnfSk7CgogICAgICAgICAgICAKICAgICAgICAgICAgICAgIHZhciBpX2ZyYW1lX2RmYThjYTViMDUzMjQ4NGRiMTk4ZjQxN2IwMzJjNjliID0gJCgnPGlmcmFtZSBzcmM9ImRhdGE6dGV4dC9odG1sO2Jhc2U2NCxDaUFnSUNBZ0lDQWdDaUFnSUNBZ0lDQWdJQ0FnSUFvZ0lDQWdQR1p2Ym5RZ1ptRmpaVDBpZG1WeVpHRnVZU0krQ2lBZ0lDQThaR2wySUdGc2FXZHVQU2RqWlc1MFpYSW5QanhvTkQ0S0lDQWdJRXhoYzNRZ09UQWdaR0Y1Y3lBb2RHOGdkR2hsSURJd01UY3RNREV0TVRBZ1ZWUkRLU0JsYzNScGJXRjBaWE1nVzFSU1RVMHZWRTFRUVYwZ1ptOXlJRlpoYm1scmIzSnZQQzlvTkQ0S0lDQWdJRzlpYzJWeWRtVmtJRDBnUEdJK05USXlQQzlpUGlCdGJTQThZbkkrQ2lBZ0lDQmpiR2x0WVhSdmJHOW5lU0E5SUR4aVBqa3hOVHd2WWo0Z2JXMGdQR0p5UGdvZ0lDQWdjR1Z5WTJWdWRDNGdiMllnYm05eWJXRnNJRDBnUEdJK05UY3VNRFU4WWo0Z0pRb2dJQ0FnUEdKeVBqeGljajRLSUNBZ0lEeGhJR2h5WldZOUltaDBkSEJ6T2k4dlkyUnVMbkpoZDJkcGRDNWpiMjB2Ym1samIyeGhjMlpoZFdOb1pYSmxZWFV2VTBsTlV5OXRZWE4wWlhJdlZGSk5UUzkzZDNjdlZtbHlkSFZoYkY5VGRHRjBhVzl1WDFaaGJtbHJiM0p2WHprd2JtUmhlWE11YUhSdGJDSWdkR0Z5WjJWMFBTSmZZbXhoYm1zaVBtTnNhV05ySUdobGNtVWdabTl5SUhSb1pTQjBhVzFsTFhObGNtbGxjend2WVQ0S0lDQWdJRHd2Wm05dWRENEtJQ0FnSUFvZ0lDQWdJQ0FnSUFvZ0lDQWdJQ0FnSUE9PSIgd2lkdGg9IjMwMCIgaGVpZ2h0PSIyMDAiPjwvaWZyYW1lPicpWzBdOwogICAgICAgICAgICAgICAgcG9wdXBfOTM0ODY0ZTQyNzRiNGQ3NmJiODAzM2I4YWU2YmFkODIuc2V0Q29udGVudChpX2ZyYW1lX2RmYThjYTViMDUzMjQ4NGRiMTk4ZjQxN2IwMzJjNjliKTsKICAgICAgICAgICAgCgogICAgICAgICAgICBtYXJrZXJfMWQzOWUxZGUxMTI1NDMzOTk1NzVjNzE2MmU4Njk5NjYuYmluZFBvcHVwKHBvcHVwXzkzNDg2NGU0Mjc0YjRkNzZiYjgwMzNiOGFlNmJhZDgyKTsKCiAgICAgICAgICAgIAogICAgICAgIAogICAgICAgIAogICAgICAgICAgICAKCiAgICAgICAgICAgIHZhciBtYXJrZXJfNTQzOGQxODE5OWVmNDc2OWFlM2I4MjVlZjZkMTU0YjMgPSBMLm1hcmtlcigKICAgICAgICAgICAgICAgIFstOC4xLDE1Ni44NV0sCiAgICAgICAgICAgICAgICB7CiAgICAgICAgICAgICAgICAgICAgaWNvbjogbmV3IEwuSWNvbi5EZWZhdWx0KCkKICAgICAgICAgICAgICAgICAgICB9CiAgICAgICAgICAgICAgICApCiAgICAgICAgICAgICAgICAuYWRkVG8oZmVhdHVyZV9ncm91cF81NDk2MWViNGFlOWM0MmRmYTkwMjdkNDc4YjQ2ZDVlYik7CiAgICAgICAgICAgIAogICAgICAgIAogICAgICAgICAgICAKCiAgICAgICAgICAgICAgICB2YXIgY3VzdG9tX2ljb25fYzYwZjc3MDI0YjhhNDYxNzk3MThjMDQ2MTI4ZGUxYmEgPSBMLmljb24oewogICAgICAgICAgICAgICAgICAgIGljb25Vcmw6ICdodHRwczovL3Jhdy5naXRodWJ1c2VyY29udGVudC5jb20vbmljb2xhc2ZhdWNoZXJlYXUvU0lNUy9tYXN0ZXIvVFJNTS9pbWFnZXMvaWNvbnMvYmx1ZS5wbmcnLAogICAgICAgICAgICAgICAgICAgIGljb25TaXplOiBbMzcuNiw2NS4wXSwKICAgICAgICAgICAgICAgICAgICAKCiAgICAgICAgICAgICAgICAgICAgCiAgICAgICAgICAgICAgICAgICAgCiAgICAgICAgICAgICAgICAgICAgCgogICAgICAgICAgICAgICAgICAgIAogICAgICAgICAgICAgICAgICAgIH0pOwogICAgICAgICAgICAgICAgbWFya2VyXzU0MzhkMTgxOTllZjQ3NjlhZTNiODI1ZWY2ZDE1NGIzLnNldEljb24oY3VzdG9tX2ljb25fYzYwZjc3MDI0YjhhNDYxNzk3MThjMDQ2MTI4ZGUxYmEpOwogICAgICAgICAgICAKICAgICAgICAKICAgICAgICAgICAgCiAgICAgICAgICAgIHZhciBwb3B1cF9hMTJhN2ZlMGNjYjk0Njk2YjgyYTFlNTUyNzViYjQ1YyA9IEwucG9wdXAoe21heFdpZHRoOiAnNjAwJ30pOwoKICAgICAgICAgICAgCiAgICAgICAgICAgICAgICB2YXIgaV9mcmFtZV9lN2M0ZDM4OGIzYmI0OWI1ODcwODJiNDkyMTU0MjY2ZSA9ICQoJzxpZnJhbWUgc3JjPSJkYXRhOnRleHQvaHRtbDtiYXNlNjQsQ2lBZ0lDQWdJQ0FnQ2lBZ0lDQWdJQ0FnSUNBZ0lBb2dJQ0FnUEdadmJuUWdabUZqWlQwaWRtVnlaR0Z1WVNJK0NpQWdJQ0E4WkdsMklHRnNhV2R1UFNkalpXNTBaWEluUGp4b05ENEtJQ0FnSUV4aGMzUWdPVEFnWkdGNWN5QW9kRzhnZEdobElESXdNVGN0TURFdE1UQWdWVlJES1NCbGMzUnBiV0YwWlhNZ1cxUlNUVTB2VkUxUVFWMGdabTl5SUVkcGVtODhMMmcwUGdvZ0lDQWdiMkp6WlhKMlpXUWdQU0E4WWo0NE16UThMMkkrSUcxdElEeGljajRLSUNBZ0lHTnNhVzFoZEc5c2IyZDVJRDBnUEdJK05UVXpQQzlpUGlCdGJTQThZbkkrQ2lBZ0lDQndaWEpqWlc1MExpQnZaaUJ1YjNKdFlXd2dQU0E4WWo0eE5UQXVPREU4WWo0Z0pRb2dJQ0FnUEdKeVBqeGljajRLSUNBZ0lEeGhJR2h5WldZOUltaDBkSEJ6T2k4dlkyUnVMbkpoZDJkcGRDNWpiMjB2Ym1samIyeGhjMlpoZFdOb1pYSmxZWFV2VTBsTlV5OXRZWE4wWlhJdlZGSk5UUzkzZDNjdlZtbHlkSFZoYkY5VGRHRjBhVzl1WDBkcGVtOWZPVEJ1WkdGNWN5NW9kRzFzSWlCMFlYSm5aWFE5SWw5aWJHRnVheUkrWTJ4cFkyc2dhR1Z5WlNCbWIzSWdkR2hsSUhScGJXVXRjMlZ5YVdWelBDOWhQZ29nSUNBZ1BDOW1iMjUwUGdvZ0lDQWdDaUFnSUNBZ0lDQWdDaUFnSUNBZ0lDQWciIHdpZHRoPSIzMDAiIGhlaWdodD0iMjAwIj48L2lmcmFtZT4nKVswXTsKICAgICAgICAgICAgICAgIHBvcHVwX2ExMmE3ZmUwY2NiOTQ2OTZiODJhMWU1NTI3NWJiNDVjLnNldENvbnRlbnQoaV9mcmFtZV9lN2M0ZDM4OGIzYmI0OWI1ODcwODJiNDkyMTU0MjY2ZSk7CiAgICAgICAgICAgIAoKICAgICAgICAgICAgbWFya2VyXzU0MzhkMTgxOTllZjQ3NjlhZTNiODI1ZWY2ZDE1NGIzLmJpbmRQb3B1cChwb3B1cF9hMTJhN2ZlMGNjYjk0Njk2YjgyYTFlNTUyNzViYjQ1Yyk7CgogICAgICAgICAgICAKICAgICAgICAKICAgICAgICAKICAgICAgICAgICAgCgogICAgICAgICAgICB2YXIgbWFya2VyXzViZTFlNGQxNTM3YTQ2YzI5YjlhYTllMmVlMjhmOTQ5ID0gTC5tYXJrZXIoCiAgICAgICAgICAgICAgICBbLTguMDMzMywxNTcuNTgzM10sCiAgICAgICAgICAgICAgICB7CiAgICAgICAgICAgICAgICAgICAgaWNvbjogbmV3IEwuSWNvbi5EZWZhdWx0KCkKICAgICAgICAgICAgICAgICAgICB9CiAgICAgICAgICAgICAgICApCiAgICAgICAgICAgICAgICAuYWRkVG8oZmVhdHVyZV9ncm91cF81NDk2MWViNGFlOWM0MmRmYTkwMjdkNDc4YjQ2ZDVlYik7CiAgICAgICAgICAgIAogICAgICAgIAogICAgICAgICAgICAKCiAgICAgICAgICAgICAgICB2YXIgY3VzdG9tX2ljb25fM2Q0MTQ4OGZkMjhiNDRkMzgwMjA4ODkwNmRiM2FlYTYgPSBMLmljb24oewogICAgICAgICAgICAgICAgICAgIGljb25Vcmw6ICdodHRwczovL3Jhdy5naXRodWJ1c2VyY29udGVudC5jb20vbmljb2xhc2ZhdWNoZXJlYXUvU0lNUy9tYXN0ZXIvVFJNTS9pbWFnZXMvaWNvbnMvYmx1ZS5wbmcnLAogICAgICAgICAgICAgICAgICAgIGljb25TaXplOiBbMzcuNiw2NS4wXSwKICAgICAgICAgICAgICAgICAgICAKCiAgICAgICAgICAgICAgICAgICAgCiAgICAgICAgICAgICAgICAgICAgCiAgICAgICAgICAgICAgICAgICAgCgogICAgICAgICAgICAgICAgICAgIAogICAgICAgICAgICAgICAgICAgIH0pOwogICAgICAgICAgICAgICAgbWFya2VyXzViZTFlNGQxNTM3YTQ2YzI5YjlhYTllMmVlMjhmOTQ5LnNldEljb24oY3VzdG9tX2ljb25fM2Q0MTQ4OGZkMjhiNDRkMzgwMjA4ODkwNmRiM2FlYTYpOwogICAgICAgICAgICAKICAgICAgICAKICAgICAgICAgICAgCiAgICAgICAgICAgIHZhciBwb3B1cF9kNWJlZDE0YjE0OGU0Mzk0ODI5MGYwZDA3MzVkZmU1NSA9IEwucG9wdXAoe21heFdpZHRoOiAnNjAwJ30pOwoKICAgICAgICAgICAgCiAgICAgICAgICAgICAgICB2YXIgaV9mcmFtZV8wNDgwNmJkYzg0MDY0NTM3OGQ4ZjU0ZjJkNmU1NTRkMCA9ICQoJzxpZnJhbWUgc3JjPSJkYXRhOnRleHQvaHRtbDtiYXNlNjQsQ2lBZ0lDQWdJQ0FnQ2lBZ0lDQWdJQ0FnSUNBZ0lBb2dJQ0FnUEdadmJuUWdabUZqWlQwaWRtVnlaR0Z1WVNJK0NpQWdJQ0E4WkdsMklHRnNhV2R1UFNkalpXNTBaWEluUGp4b05ENEtJQ0FnSUV4aGMzUWdPVEFnWkdGNWN5QW9kRzhnZEdobElESXdNVGN0TURFdE1UQWdWVlJES1NCbGMzUnBiV0YwWlhNZ1cxUlNUVTB2VkUxUVFWMGdabTl5SUVKaGNtOXlZVHd2YURRK0NpQWdJQ0J2WW5ObGNuWmxaQ0E5SUR4aVBqa3pNRHd2WWo0Z2JXMGdQR0p5UGdvZ0lDQWdZMnhwYldGMGIyeHZaM2tnUFNBOFlqNDNNREk4TDJJK0lHMXRJRHhpY2o0S0lDQWdJSEJsY21ObGJuUXVJRzltSUc1dmNtMWhiQ0E5SUR4aVBqRXpNaTQwT0R4aVBpQWxDaUFnSUNBOFluSStQR0p5UGdvZ0lDQWdQR0VnYUhKbFpqMGlhSFIwY0hNNkx5OWpaRzR1Y21GM1oybDBMbU52YlM5dWFXTnZiR0Z6Wm1GMVkyaGxjbVZoZFM5VFNVMVRMMjFoYzNSbGNpOVVVazFOTDNkM2R5OVdhWEowZFdGc1gxTjBZWFJwYjI1ZlFtRnliM0poWHprd2JtUmhlWE11YUhSdGJDSWdkR0Z5WjJWMFBTSmZZbXhoYm1zaVBtTnNhV05ySUdobGNtVWdabTl5SUhSb1pTQjBhVzFsTFhObGNtbGxjend2WVQ0S0lDQWdJRHd2Wm05dWRENEtJQ0FnSUFvZ0lDQWdJQ0FnSUFvZ0lDQWdJQ0FnSUE9PSIgd2lkdGg9IjMwMCIgaGVpZ2h0PSIyMDAiPjwvaWZyYW1lPicpWzBdOwogICAgICAgICAgICAgICAgcG9wdXBfZDViZWQxNGIxNDhlNDM5NDgyOTBmMGQwNzM1ZGZlNTUuc2V0Q29udGVudChpX2ZyYW1lXzA0ODA2YmRjODQwNjQ1Mzc4ZDhmNTRmMmQ2ZTU1NGQwKTsKICAgICAgICAgICAgCgogICAgICAgICAgICBtYXJrZXJfNWJlMWU0ZDE1MzdhNDZjMjliOWFhOWUyZWUyOGY5NDkuYmluZFBvcHVwKHBvcHVwX2Q1YmVkMTRiMTQ4ZTQzOTQ4MjkwZjBkMDczNWRmZTU1KTsKCiAgICAgICAgICAgIAogICAgICAgIAogICAgICAgIAogICAgICAgICAgICAKCiAgICAgICAgICAgIHZhciBtYXJrZXJfYmQ2MDU0Y2ZiZjQxNDA5NGI1Zjg5ZDAwYmY4YTIwZDggPSBMLm1hcmtlcigKICAgICAgICAgICAgICAgIFstOC41NjY3LDE1Ny44ODMzXSwKICAgICAgICAgICAgICAgIHsKICAgICAgICAgICAgICAgICAgICBpY29uOiBuZXcgTC5JY29uLkRlZmF1bHQoKQogICAgICAgICAgICAgICAgICAgIH0KICAgICAgICAgICAgICAgICkKICAgICAgICAgICAgICAgIC5hZGRUbyhmZWF0dXJlX2dyb3VwXzU0OTYxZWI0YWU5YzQyZGZhOTAyN2Q0NzhiNDZkNWViKTsKICAgICAgICAgICAgCiAgICAgICAgCiAgICAgICAgICAgIAoKICAgICAgICAgICAgICAgIHZhciBjdXN0b21faWNvbl84NjE1MDRjY2Q0YjI0MjA4OTUxNjE0MTJkOTYwYjU0ZiA9IEwuaWNvbih7CiAgICAgICAgICAgICAgICAgICAgaWNvblVybDogJ2h0dHBzOi8vcmF3LmdpdGh1YnVzZXJjb250ZW50LmNvbS9uaWNvbGFzZmF1Y2hlcmVhdS9TSU1TL21hc3Rlci9UUk1NL2ltYWdlcy9pY29ucy9ibHVlLnBuZycsCiAgICAgICAgICAgICAgICAgICAgaWNvblNpemU6IFszNy42LDY1LjBdLAogICAgICAgICAgICAgICAgICAgIAoKICAgICAgICAgICAgICAgICAgICAKICAgICAgICAgICAgICAgICAgICAKICAgICAgICAgICAgICAgICAgICAKCiAgICAgICAgICAgICAgICAgICAgCiAgICAgICAgICAgICAgICAgICAgfSk7CiAgICAgICAgICAgICAgICBtYXJrZXJfYmQ2MDU0Y2ZiZjQxNDA5NGI1Zjg5ZDAwYmY4YTIwZDguc2V0SWNvbihjdXN0b21faWNvbl84NjE1MDRjY2Q0YjI0MjA4OTUxNjE0MTJkOTYwYjU0Zik7CiAgICAgICAgICAgIAogICAgICAgIAogICAgICAgICAgICAKICAgICAgICAgICAgdmFyIHBvcHVwX2MzMmY3YWQ2MDFhMTRjMmM5YjJjNjc1MDJjOWQyOTcyID0gTC5wb3B1cCh7bWF4V2lkdGg6ICc2MDAnfSk7CgogICAgICAgICAgICAKICAgICAgICAgICAgICAgIHZhciBpX2ZyYW1lXzVmOGEwY2IwNzFlYjQ4NGI5OGI4NmY1YzY2YWUxMTM1ID0gJCgnPGlmcmFtZSBzcmM9ImRhdGE6dGV4dC9odG1sO2Jhc2U2NCxDaUFnSUNBZ0lDQWdDaUFnSUNBZ0lDQWdJQ0FnSUFvZ0lDQWdQR1p2Ym5RZ1ptRmpaVDBpZG1WeVpHRnVZU0krQ2lBZ0lDQThaR2wySUdGc2FXZHVQU2RqWlc1MFpYSW5QanhvTkQ0S0lDQWdJRXhoYzNRZ09UQWdaR0Y1Y3lBb2RHOGdkR2hsSURJd01UY3RNREV0TVRBZ1ZWUkRLU0JsYzNScGJXRjBaWE1nVzFSU1RVMHZWRTFRUVYwZ1ptOXlJRk5sWjJobFBDOW9ORDRLSUNBZ0lHOWljMlZ5ZG1Wa0lEMGdQR0krTnpjNFBDOWlQaUJ0YlNBOFluSStDaUFnSUNCamJHbHRZWFJ2Ykc5bmVTQTlJRHhpUGpZeE9Ed3ZZajRnYlcwZ1BHSnlQZ29nSUNBZ2NHVnlZMlZ1ZEM0Z2IyWWdibTl5YldGc0lEMGdQR0krTVRJMUxqZzVQR0krSUNVS0lDQWdJRHhpY2o0OFluSStDaUFnSUNBOFlTQm9jbVZtUFNKb2RIUndjem92TDJOa2JpNXlZWGRuYVhRdVkyOXRMMjVwWTI5c1lYTm1ZWFZqYUdWeVpXRjFMMU5KVFZNdmJXRnpkR1Z5TDFSU1RVMHZkM2QzTDFacGNuUjFZV3hmVTNSaGRHbHZibDlUWldkb1pWODVNRzVrWVhsekxtaDBiV3dpSUhSaGNtZGxkRDBpWDJKc1lXNXJJajVqYkdsamF5Qm9aWEpsSUdadmNpQjBhR1VnZEdsdFpTMXpaWEpwWlhNOEwyRStDaUFnSUNBOEwyWnZiblErQ2lBZ0lDQUtJQ0FnSUNBZ0lDQUtJQ0FnSUNBZ0lDQT0iIHdpZHRoPSIzMDAiIGhlaWdodD0iMjAwIj48L2lmcmFtZT4nKVswXTsKICAgICAgICAgICAgICAgIHBvcHVwX2MzMmY3YWQ2MDFhMTRjMmM5YjJjNjc1MDJjOWQyOTcyLnNldENvbnRlbnQoaV9mcmFtZV81ZjhhMGNiMDcxZWI0ODRiOThiODZmNWM2NmFlMTEzNSk7CiAgICAgICAgICAgIAoKICAgICAgICAgICAgbWFya2VyX2JkNjA1NGNmYmY0MTQwOTRiNWY4OWQwMGJmOGEyMGQ4LmJpbmRQb3B1cChwb3B1cF9jMzJmN2FkNjAxYTE0YzJjOWIyYzY3NTAyYzlkMjk3Mik7CgogICAgICAgICAgICAKICAgICAgICAKICAgICAgICAKICAgICAgICAgICAgCgogICAgICAgICAgICB2YXIgbWFya2VyXzJlYmI4MmE2ZWNiMzRjYmNhZjc1NmNmMGY5OTQ5NDA0ID0gTC5tYXJrZXIoCiAgICAgICAgICAgICAgICBbLTcuNzA1OCwxNTYuNzI1Nl0sCiAgICAgICAgICAgICAgICB7CiAgICAgICAgICAgICAgICAgICAgaWNvbjogbmV3IEwuSWNvbi5EZWZhdWx0KCkKICAgICAgICAgICAgICAgICAgICB9CiAgICAgICAgICAgICAgICApCiAgICAgICAgICAgICAgICAuYWRkVG8oZmVhdHVyZV9ncm91cF81NDk2MWViNGFlOWM0MmRmYTkwMjdkNDc4YjQ2ZDVlYik7CiAgICAgICAgICAgIAogICAgICAgIAogICAgICAgICAgICAKCiAgICAgICAgICAgICAgICB2YXIgY3VzdG9tX2ljb25fOGI3N2M1ZjE1NGMzNGY5NGIxYmI3NmYzZTM1NzMzNDEgPSBMLmljb24oewogICAgICAgICAgICAgICAgICAgIGljb25Vcmw6ICdodHRwczovL3Jhdy5naXRodWJ1c2VyY29udGVudC5jb20vbmljb2xhc2ZhdWNoZXJlYXUvU0lNUy9tYXN0ZXIvVFJNTS9pbWFnZXMvaWNvbnMvYmx1ZS5wbmcnLAogICAgICAgICAgICAgICAgICAgIGljb25TaXplOiBbMzcuNiw2NS4wXSwKICAgICAgICAgICAgICAgICAgICAKCiAgICAgICAgICAgICAgICAgICAgCiAgICAgICAgICAgICAgICAgICAgCiAgICAgICAgICAgICAgICAgICAgCgogICAgICAgICAgICAgICAgICAgIAogICAgICAgICAgICAgICAgICAgIH0pOwogICAgICAgICAgICAgICAgbWFya2VyXzJlYmI4MmE2ZWNiMzRjYmNhZjc1NmNmMGY5OTQ5NDA0LnNldEljb24oY3VzdG9tX2ljb25fOGI3N2M1ZjE1NGMzNGY5NGIxYmI3NmYzZTM1NzMzNDEpOwogICAgICAgICAgICAKICAgICAgICAKICAgICAgICAgICAgCiAgICAgICAgICAgIHZhciBwb3B1cF9jZjEyMTM1NTM3MjY0OTFlODhhZDVmY2ZhMzFmMzE0NiA9IEwucG9wdXAoe21heFdpZHRoOiAnNjAwJ30pOwoKICAgICAgICAgICAgCiAgICAgICAgICAgICAgICB2YXIgaV9mcmFtZV8zMWIwYjhhZGFlNGM0Y2E0ODEyOWFkZTgyMzNlNGUwZSA9ICQoJzxpZnJhbWUgc3JjPSJkYXRhOnRleHQvaHRtbDtiYXNlNjQsQ2lBZ0lDQWdJQ0FnQ2lBZ0lDQWdJQ0FnSUNBZ0lBb2dJQ0FnUEdadmJuUWdabUZqWlQwaWRtVnlaR0Z1WVNJK0NpQWdJQ0E4WkdsMklHRnNhV2R1UFNkalpXNTBaWEluUGp4b05ENEtJQ0FnSUV4aGMzUWdPVEFnWkdGNWN5QW9kRzhnZEdobElESXdNVGN0TURFdE1UQWdWVlJES1NCbGMzUnBiV0YwWlhNZ1cxUlNUVTB2VkUxUVFWMGdabTl5SUVkcFltbHlhVHd2YURRK0NpQWdJQ0J2WW5ObGNuWmxaQ0E5SUR4aVBqZzVNend2WWo0Z2JXMGdQR0p5UGdvZ0lDQWdZMnhwYldGMGIyeHZaM2tnUFNBOFlqNDFPVFU4TDJJK0lHMXRJRHhpY2o0S0lDQWdJSEJsY21ObGJuUXVJRzltSUc1dmNtMWhiQ0E5SUR4aVBqRTFNQzR3T0R4aVBpQWxDaUFnSUNBOFluSStQR0p5UGdvZ0lDQWdQR0VnYUhKbFpqMGlhSFIwY0hNNkx5OWpaRzR1Y21GM1oybDBMbU52YlM5dWFXTnZiR0Z6Wm1GMVkyaGxjbVZoZFM5VFNVMVRMMjFoYzNSbGNpOVVVazFOTDNkM2R5OVdhWEowZFdGc1gxTjBZWFJwYjI1ZlIybGlhWEpwWHprd2JtUmhlWE11YUhSdGJDSWdkR0Z5WjJWMFBTSmZZbXhoYm1zaVBtTnNhV05ySUdobGNtVWdabTl5SUhSb1pTQjBhVzFsTFhObGNtbGxjend2WVQ0S0lDQWdJRHd2Wm05dWRENEtJQ0FnSUFvZ0lDQWdJQ0FnSUFvZ0lDQWdJQ0FnSUE9PSIgd2lkdGg9IjMwMCIgaGVpZ2h0PSIyMDAiPjwvaWZyYW1lPicpWzBdOwogICAgICAgICAgICAgICAgcG9wdXBfY2YxMjEzNTUzNzI2NDkxZTg4YWQ1ZmNmYTMxZjMxNDYuc2V0Q29udGVudChpX2ZyYW1lXzMxYjBiOGFkYWU0YzRjYTQ4MTI5YWRlODIzM2U0ZTBlKTsKICAgICAgICAgICAgCgogICAgICAgICAgICBtYXJrZXJfMmViYjgyYTZlY2IzNGNiY2FmNzU2Y2YwZjk5NDk0MDQuYmluZFBvcHVwKHBvcHVwX2NmMTIxMzU1MzcyNjQ5MWU4OGFkNWZjZmEzMWYzMTQ2KTsKCiAgICAgICAgICAgIAogICAgICAgIAogICAgICAgIAogICAgICAgICAgICAKCiAgICAgICAgICAgIHZhciBtYXJrZXJfZDc5ZWExNjU5NGE4NDkzMmFjMWI0YTQ4NmVkNDMzZGUgPSBMLm1hcmtlcigKICAgICAgICAgICAgICAgIFstOC4yNjMyLDE1Ny40Mjc5XSwKICAgICAgICAgICAgICAgIHsKICAgICAgICAgICAgICAgICAgICBpY29uOiBuZXcgTC5JY29uLkRlZmF1bHQoKQogICAgICAgICAgICAgICAgICAgIH0KICAgICAgICAgICAgICAgICkKICAgICAgICAgICAgICAgIC5hZGRUbyhmZWF0dXJlX2dyb3VwXzU0OTYxZWI0YWU5YzQyZGZhOTAyN2Q0NzhiNDZkNWViKTsKICAgICAgICAgICAgCiAgICAgICAgCiAgICAgICAgICAgIAoKICAgICAgICAgICAgICAgIHZhciBjdXN0b21faWNvbl85ZWNlNzU0ZmI0NDI0NTc4OGQwNTU5MjAyMWMyMjQ1MyA9IEwuaWNvbih7CiAgICAgICAgICAgICAgICAgICAgaWNvblVybDogJ2h0dHBzOi8vcmF3LmdpdGh1YnVzZXJjb250ZW50LmNvbS9uaWNvbGFzZmF1Y2hlcmVhdS9TSU1TL21hc3Rlci9UUk1NL2ltYWdlcy9pY29ucy9ibHVlLnBuZycsCiAgICAgICAgICAgICAgICAgICAgaWNvblNpemU6IFszNy42LDY1LjBdLAogICAgICAgICAgICAgICAgICAgIAoKICAgICAgICAgICAgICAgICAgICAKICAgICAgICAgICAgICAgICAgICAKICAgICAgICAgICAgICAgICAgICAKCiAgICAgICAgICAgICAgICAgICAgCiAgICAgICAgICAgICAgICAgICAgfSk7CiAgICAgICAgICAgICAgICBtYXJrZXJfZDc5ZWExNjU5NGE4NDkzMmFjMWI0YTQ4NmVkNDMzZGUuc2V0SWNvbihjdXN0b21faWNvbl85ZWNlNzU0ZmI0NDI0NTc4OGQwNTU5MjAyMWMyMjQ1Myk7CiAgICAgICAgICAgIAogICAgICAgIAogICAgICAgICAgICAKICAgICAgICAgICAgdmFyIHBvcHVwXzQ3MTk5ODU3NmJkODRjMzJiZDhhYjM0NmU5NGM1NWNiID0gTC5wb3B1cCh7bWF4V2lkdGg6ICc2MDAnfSk7CgogICAgICAgICAgICAKICAgICAgICAgICAgICAgIHZhciBpX2ZyYW1lX2I0YWQ4YTAwM2I3ZTQ1Mjg5MmJlYmFiZDhkMmI1ZjY0ID0gJCgnPGlmcmFtZSBzcmM9ImRhdGE6dGV4dC9odG1sO2Jhc2U2NCxDaUFnSUNBZ0lDQWdDaUFnSUNBZ0lDQWdJQ0FnSUFvZ0lDQWdQR1p2Ym5RZ1ptRmpaVDBpZG1WeVpHRnVZU0krQ2lBZ0lDQThaR2wySUdGc2FXZHVQU2RqWlc1MFpYSW5QanhvTkQ0S0lDQWdJRXhoYzNRZ09UQWdaR0Y1Y3lBb2RHOGdkR2hsSURJd01UY3RNREV0TVRBZ1ZWUkRLU0JsYzNScGJXRjBaWE1nVzFSU1RVMHZWRTFRUVYwZ1ptOXlJRTFpWlhWc1lXZzhMMmcwUGdvZ0lDQWdiMkp6WlhKMlpXUWdQU0E4WWo0NU1EZzhMMkkrSUcxdElEeGljajRLSUNBZ0lHTnNhVzFoZEc5c2IyZDVJRDBnUEdJK05UZzNQQzlpUGlCdGJTQThZbkkrQ2lBZ0lDQndaWEpqWlc1MExpQnZaaUJ1YjNKdFlXd2dQU0E4WWo0eE5UUXVOamc4WWo0Z0pRb2dJQ0FnUEdKeVBqeGljajRLSUNBZ0lEeGhJR2h5WldZOUltaDBkSEJ6T2k4dlkyUnVMbkpoZDJkcGRDNWpiMjB2Ym1samIyeGhjMlpoZFdOb1pYSmxZWFV2VTBsTlV5OXRZWE4wWlhJdlZGSk5UUzkzZDNjdlZtbHlkSFZoYkY5VGRHRjBhVzl1WDAxaVpYVnNZV2hmT1RCdVpHRjVjeTVvZEcxc0lpQjBZWEpuWlhROUlsOWliR0Z1YXlJK1kyeHBZMnNnYUdWeVpTQm1iM0lnZEdobElIUnBiV1V0YzJWeWFXVnpQQzloUGdvZ0lDQWdQQzltYjI1MFBnb2dJQ0FnQ2lBZ0lDQWdJQ0FnQ2lBZ0lDQWdJQ0FnIiB3aWR0aD0iMzAwIiBoZWlnaHQ9IjIwMCI+PC9pZnJhbWU+JylbMF07CiAgICAgICAgICAgICAgICBwb3B1cF80NzE5OTg1NzZiZDg0YzMyYmQ4YWIzNDZlOTRjNTVjYi5zZXRDb250ZW50KGlfZnJhbWVfYjRhZDhhMDAzYjdlNDUyODkyYmViYWJkOGQyYjVmNjQpOwogICAgICAgICAgICAKCiAgICAgICAgICAgIG1hcmtlcl9kNzllYTE2NTk0YTg0OTMyYWMxYjRhNDg2ZWQ0MzNkZS5iaW5kUG9wdXAocG9wdXBfNDcxOTk4NTc2YmQ4NGMzMmJkOGFiMzQ2ZTk0YzU1Y2IpOwoKICAgICAgICAgICAgCiAgICAgICAgCiAgICAgICAgCiAgICAgICAgICAgIAogICAgICAgICAgICB2YXIgbGF5ZXJfY29udHJvbF8zZTFiOTNlYTc5ZTM0MDJmYjVjNGRlNGE3MTNjZmE1YyA9IHsKICAgICAgICAgICAgICAgIGJhc2VfbGF5ZXJzIDogeyAib3BlbnN0cmVldG1hcCIgOiB0aWxlX2xheWVyXzUwMThhYzFjNjVhNTQxMjU4NzZiZWNjYmRhOTc3MGQ4LCJXb3JsZCBJbWFnZXJ5IiA6IHRpbGVfbGF5ZXJfZjVkMzYyMjAyY2I5NGZiOWFkZmQ5MjQ1NjlkZjViMTEsIldvcmxkIFRvcG9ncmFwaHkiIDogdGlsZV9sYXllcl9mMGYyODMxOTMxZDM0MTZkOTYxZGZjNmUxNDczMmFhMiwiU3RyZWV0IE1hcCIgOiB0aWxlX2xheWVyXzgyNzgwNDQ0M2VlOTQzZTRiOWI2OGYzMjYzYzkzNjcyLCB9LAogICAgICAgICAgICAgICAgb3ZlcmxheXMgOiB7ICJTaG93IFNvbG9tb24gSXNsYW5kcyBTdGF0aW9ucyIgOiBmZWF0dXJlX2dyb3VwXzU0OTYxZWI0YWU5YzQyZGZhOTAyN2Q0NzhiNDZkNWViLCB9CiAgICAgICAgICAgICAgICB9OwogICAgICAgICAgICBMLmNvbnRyb2wubGF5ZXJzKAogICAgICAgICAgICAgICAgbGF5ZXJfY29udHJvbF8zZTFiOTNlYTc5ZTM0MDJmYjVjNGRlNGE3MTNjZmE1Yy5iYXNlX2xheWVycywKICAgICAgICAgICAgICAgIGxheWVyX2NvbnRyb2xfM2UxYjkzZWE3OWUzNDAyZmI1YzRkZTRhNzEzY2ZhNWMub3ZlcmxheXMKICAgICAgICAgICAgICAgICkuYWRkVG8obWFwXzNiMzhlZmEwNWJhMjQ3ODc5ODdmZDMzNzI2ZTIyZDVhKTsKICAgICAgICAKICAgICAgICAKICAgICAgICAKICAgICAgICA8L3NjcmlwdD4KICAgICAgICA=\" style=\"position:absolute;width:100%;height:100%;left:0;top:0;\"></iframe></div></div>"
      ],
      "text/plain": [
       "<folium.folium.Map at 0x112bb5400>"
      ]
     },
     "execution_count": 36,
     "metadata": {},
     "output_type": "execute_result"
    }
   ],
   "source": [
    "fmap"
   ]
  }
 ],
 "metadata": {
  "anaconda-cloud": {},
  "kernelspec": {
   "display_name": "Python [default]",
   "language": "python",
   "name": "python3"
  },
  "language_info": {
   "codemirror_mode": {
    "name": "ipython",
    "version": 3
   },
   "file_extension": ".py",
   "mimetype": "text/x-python",
   "name": "python",
   "nbconvert_exporter": "python",
   "pygments_lexer": "ipython3",
   "version": "3.5.2"
  },
  "latex_envs": {
   "bibliofile": "biblio.bib",
   "cite_by": "apalike",
   "current_citInitial": 1,
   "eqLabelWithNumbers": true,
   "eqNumInitial": 0
  },
  "nav_menu": {},
  "toc": {
   "colors": {
    "hover_highlight": "#DAA520",
    "running_highlight": "#FF0000",
    "selected_highlight": "#FFD700"
   },
   "moveMenuLeft": true,
   "nav_menu": {
    "height": "121px",
    "width": "252px"
   },
   "navigate_menu": true,
   "number_sections": true,
   "sideBar": true,
   "threshold": 6,
   "toc_cell": false,
   "toc_section_display": "block",
   "toc_window_display": false
  }
 },
 "nbformat": 4,
 "nbformat_minor": 0
}
