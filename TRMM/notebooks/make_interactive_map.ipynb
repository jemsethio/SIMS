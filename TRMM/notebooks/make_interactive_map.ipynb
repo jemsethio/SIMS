{
 "cells": [
  {
   "cell_type": "markdown",
   "metadata": {},
   "source": [
    "### TRMM PNG monitoring"
   ]
  },
  {
   "cell_type": "code",
   "execution_count": 1,
   "metadata": {
    "collapsed": true
   },
   "outputs": [],
   "source": [
    "%matplotlib inline\n",
    "from matplotlib import pyplot as plt"
   ]
  },
  {
   "cell_type": "code",
   "execution_count": 2,
   "metadata": {
    "collapsed": false
   },
   "outputs": [],
   "source": [
    "import numpy as np\n",
    "import pandas as pd\n",
    "import xarray as xray\n",
    "from netCDF4 import MFDataset\n",
    "from datetime import datetime, timedelta\n",
    "from glob import glob\n",
    "import palettable\n",
    "import folium\n",
    "from folium.map import FeatureGroup"
   ]
  },
  {
   "cell_type": "code",
   "execution_count": 3,
   "metadata": {
    "collapsed": true
   },
   "outputs": [],
   "source": [
    "domain = {'latmin':-13, 'lonmin':155., 'latmax':-5, 'lonmax':168.}"
   ]
  },
  {
   "cell_type": "code",
   "execution_count": 4,
   "metadata": {
    "collapsed": true
   },
   "outputs": [],
   "source": [
    "import warnings\n",
    "warnings.simplefilter(action = \"ignore\", category = FutureWarning)"
   ]
  },
  {
   "cell_type": "code",
   "execution_count": 5,
   "metadata": {
    "collapsed": true
   },
   "outputs": [],
   "source": [
    "def read_netcdfs(files, dim, transform_func=None):\n",
    "    def process_one_path(path):\n",
    "        # use a context manager, to ensure the file gets closed after use\n",
    "        with xray.open_dataset(path) as ds:\n",
    "            # transform_func shdset_clim = dset_clim.sel(lat=slice(domain['latmin'], domain['latmax']), could do some sort of selection or\n",
    "            # aggregation\n",
    "            if transform_func is not None:\n",
    "                ds = transform_func(ds)\n",
    "            # load all data from the transformed dataset, to ensure we can\n",
    "            # use it after closing each original file\n",
    "            ds.load()\n",
    "            return ds\n",
    "\n",
    "    #paths = sorted(glob(files))\n",
    "    datasets = [process_one_path(p) for p in files]\n",
    "    combined = xray.concat(datasets, dim)\n",
    "    return combined"
   ]
  },
  {
   "cell_type": "code",
   "execution_count": 6,
   "metadata": {
    "collapsed": true
   },
   "outputs": [],
   "source": [
    "dpath = '/Users/nicolasf/data/TRMM/daily/'\n",
    "climpath = '/Users/nicolasf/data/TRMM/climatology/daily/2001_2015/'"
   ]
  },
  {
   "cell_type": "code",
   "execution_count": 7,
   "metadata": {
    "collapsed": false
   },
   "outputs": [],
   "source": [
    "today = datetime.utcnow()"
   ]
  },
  {
   "cell_type": "code",
   "execution_count": 8,
   "metadata": {
    "collapsed": true
   },
   "outputs": [],
   "source": [
    "lag = 3"
   ]
  },
  {
   "cell_type": "code",
   "execution_count": 9,
   "metadata": {
    "collapsed": true
   },
   "outputs": [],
   "source": [
    "trmm_date = today - timedelta(days=lag)"
   ]
  },
  {
   "cell_type": "code",
   "execution_count": 10,
   "metadata": {
    "collapsed": true
   },
   "outputs": [],
   "source": [
    "ndays = 90"
   ]
  },
  {
   "cell_type": "code",
   "execution_count": 11,
   "metadata": {
    "collapsed": true
   },
   "outputs": [],
   "source": [
    "realtime = pd.date_range(start=trmm_date - timedelta(days=ndays-1), end=trmm_date)"
   ]
  },
  {
   "cell_type": "code",
   "execution_count": 12,
   "metadata": {
    "collapsed": true
   },
   "outputs": [],
   "source": [
    "lfiles = []\n",
    "for d in realtime: \n",
    "    fname  = dpath + \"3B42RT_daily.{}.nc\".format(d.strftime(\"%Y.%m.%d\"))\n",
    "    lfiles.append(fname)"
   ]
  },
  {
   "cell_type": "code",
   "execution_count": 13,
   "metadata": {
    "collapsed": true
   },
   "outputs": [],
   "source": [
    "dset_realtime = read_netcdfs(lfiles, 'time')"
   ]
  },
  {
   "cell_type": "code",
   "execution_count": 14,
   "metadata": {
    "collapsed": true
   },
   "outputs": [],
   "source": [
    "dset_realtime = dset_realtime.sel(lat=slice(domain['latmin'], domain['latmax']), \\\n",
    "                                  lon=slice(domain['lonmin'], domain['lonmax']))"
   ]
  },
  {
   "cell_type": "code",
   "execution_count": 15,
   "metadata": {
    "collapsed": true
   },
   "outputs": [],
   "source": [
    "clim_files = []\n",
    "for d in realtime: \n",
    "    fname  = climpath + \"3B42_daily.{}.nc\".format(d.strftime(\"%m.%d\"))\n",
    "    clim_files.append(fname)"
   ]
  },
  {
   "cell_type": "code",
   "execution_count": 16,
   "metadata": {
    "collapsed": true
   },
   "outputs": [],
   "source": [
    "dset_clim = read_netcdfs(clim_files, 'time')"
   ]
  },
  {
   "cell_type": "code",
   "execution_count": 17,
   "metadata": {
    "collapsed": true
   },
   "outputs": [],
   "source": [
    "dset_clim = dset_clim.sel(lat=slice(domain['latmin'], domain['latmax']), \\\n",
    "                          lon=slice(domain['lonmin'], domain['lonmax']))"
   ]
  },
  {
   "cell_type": "code",
   "execution_count": 18,
   "metadata": {
    "collapsed": false
   },
   "outputs": [
    {
     "data": {
      "text/plain": [
       "<xarray.Dataset>\n",
       "Dimensions:  (lat: 32, lon: 52, time: 90)\n",
       "Coordinates:\n",
       "  * lon      (lon) float32 155.125 155.375 155.625 155.875 156.125 156.375 ...\n",
       "  * lat      (lat) float32 -12.875 -12.625 -12.375 -12.125 -11.875 -11.625 ...\n",
       "  * time     (time) int64 0 1 2 3 4 5 6 7 8 9 10 11 12 13 14 15 16 17 18 19 ...\n",
       "Data variables:\n",
       "    trmm     (time, lat, lon) float64 6.891 7.087 8.437 8.698 8.149 8.316 ..."
      ]
     },
     "execution_count": 18,
     "metadata": {},
     "output_type": "execute_result"
    }
   ],
   "source": [
    "dset_clim"
   ]
  },
  {
   "cell_type": "markdown",
   "metadata": {},
   "source": [
    "### reads in the location for the virtual stations"
   ]
  },
  {
   "cell_type": "code",
   "execution_count": 19,
   "metadata": {
    "collapsed": true
   },
   "outputs": [],
   "source": [
    "Virtual_Stations = pd.read_csv('../data/station_list_Solomon_lat_lon.csv', index_col=0)"
   ]
  },
  {
   "cell_type": "code",
   "execution_count": 20,
   "metadata": {
    "collapsed": false
   },
   "outputs": [
    {
     "data": {
      "text/html": [
       "<div>\n",
       "<table border=\"1\" class=\"dataframe\">\n",
       "  <thead>\n",
       "    <tr style=\"text-align: right;\">\n",
       "      <th></th>\n",
       "      <th>name_primary</th>\n",
       "      <th>name_secondary</th>\n",
       "      <th>latitude</th>\n",
       "      <th>longitude</th>\n",
       "    </tr>\n",
       "  </thead>\n",
       "  <tbody>\n",
       "    <tr>\n",
       "      <th>33</th>\n",
       "      <td>Gizo</td>\n",
       "      <td>NaN</td>\n",
       "      <td>-8.1000</td>\n",
       "      <td>156.8500</td>\n",
       "    </tr>\n",
       "    <tr>\n",
       "      <th>36</th>\n",
       "      <td>Barora</td>\n",
       "      <td>NaN</td>\n",
       "      <td>-8.0333</td>\n",
       "      <td>157.5833</td>\n",
       "    </tr>\n",
       "    <tr>\n",
       "      <th>37</th>\n",
       "      <td>Seghe</td>\n",
       "      <td>NaN</td>\n",
       "      <td>-8.5667</td>\n",
       "      <td>157.8833</td>\n",
       "    </tr>\n",
       "    <tr>\n",
       "      <th>40</th>\n",
       "      <td>Gibiri</td>\n",
       "      <td>AutoRain</td>\n",
       "      <td>-7.7058</td>\n",
       "      <td>156.7256</td>\n",
       "    </tr>\n",
       "    <tr>\n",
       "      <th>41</th>\n",
       "      <td>Mbeulah</td>\n",
       "      <td>AutoRain</td>\n",
       "      <td>-8.2632</td>\n",
       "      <td>157.4279</td>\n",
       "    </tr>\n",
       "  </tbody>\n",
       "</table>\n",
       "</div>"
      ],
      "text/plain": [
       "   name_primary name_secondary  latitude  longitude\n",
       "33         Gizo            NaN   -8.1000   156.8500\n",
       "36       Barora            NaN   -8.0333   157.5833\n",
       "37        Seghe            NaN   -8.5667   157.8833\n",
       "40       Gibiri       AutoRain   -7.7058   156.7256\n",
       "41      Mbeulah       AutoRain   -8.2632   157.4279"
      ]
     },
     "execution_count": 20,
     "metadata": {},
     "output_type": "execute_result"
    }
   ],
   "source": [
    "Virtual_Stations.tail()"
   ]
  },
  {
   "cell_type": "code",
   "execution_count": 21,
   "metadata": {
    "collapsed": false
   },
   "outputs": [],
   "source": [
    "dsums = {}\n",
    "\n",
    "for i, row in Virtual_Stations.iterrows(): \n",
    "    stn_name = row['name_primary']\n",
    "    lat_V = row['latitude']\n",
    "    lon_V = row['longitude']\n",
    "\n",
    "    \n",
    "    clim_ts = dset_clim.sel(lat=lat_V, lon=lon_V, method='nearest')['trmm']\n",
    "    realtime_ts = dset_realtime.sel(lat=lat_V, lon=lon_V, method='nearest')['trmm']\n",
    "    df_ts = realtime_ts.to_dataframe()[['trmm']]\n",
    "    df_ts.loc[:,'clim'] = clim_ts.data\n",
    "    df_ts.columns = ['observed','climatology']\n",
    "    sums = df_ts.sum()\n",
    "    dsums[stn_name] = sums"
   ]
  },
  {
   "cell_type": "code",
   "execution_count": 22,
   "metadata": {
    "collapsed": false
   },
   "outputs": [],
   "source": [
    "df_dsums = pd.DataFrame(dsums)"
   ]
  },
  {
   "cell_type": "code",
   "execution_count": 23,
   "metadata": {
    "collapsed": false
   },
   "outputs": [],
   "source": [
    "df_dsums = df_dsums.T"
   ]
  },
  {
   "cell_type": "code",
   "execution_count": 24,
   "metadata": {
    "collapsed": false
   },
   "outputs": [],
   "source": [
    "df_dsums = df_dsums.astype(np.int)"
   ]
  },
  {
   "cell_type": "code",
   "execution_count": 25,
   "metadata": {
    "collapsed": false
   },
   "outputs": [
    {
     "data": {
      "text/html": [
       "<div>\n",
       "<table border=\"1\" class=\"dataframe\">\n",
       "  <thead>\n",
       "    <tr style=\"text-align: right;\">\n",
       "      <th></th>\n",
       "      <th>observed</th>\n",
       "      <th>climatology</th>\n",
       "    </tr>\n",
       "  </thead>\n",
       "  <tbody>\n",
       "    <tr>\n",
       "      <th>Afio</th>\n",
       "      <td>609</td>\n",
       "      <td>931</td>\n",
       "    </tr>\n",
       "    <tr>\n",
       "      <th>Atoifi</th>\n",
       "      <td>987</td>\n",
       "      <td>1148</td>\n",
       "    </tr>\n",
       "    <tr>\n",
       "      <th>Atori</th>\n",
       "      <td>688</td>\n",
       "      <td>967</td>\n",
       "    </tr>\n",
       "    <tr>\n",
       "      <th>Avu Avu</th>\n",
       "      <td>590</td>\n",
       "      <td>849</td>\n",
       "    </tr>\n",
       "    <tr>\n",
       "      <th>Barora</th>\n",
       "      <td>582</td>\n",
       "      <td>883</td>\n",
       "    </tr>\n",
       "  </tbody>\n",
       "</table>\n",
       "</div>"
      ],
      "text/plain": [
       "         observed  climatology\n",
       "Afio          609          931\n",
       "Atoifi        987         1148\n",
       "Atori         688          967\n",
       "Avu Avu       590          849\n",
       "Barora        582          883"
      ]
     },
     "execution_count": 25,
     "metadata": {},
     "output_type": "execute_result"
    }
   ],
   "source": [
    "df_dsums.head()"
   ]
  },
  {
   "cell_type": "code",
   "execution_count": 26,
   "metadata": {
    "collapsed": true
   },
   "outputs": [],
   "source": [
    "cities = {}\n",
    "for i, row in Virtual_Stations.iterrows():         \n",
    "    stn_name = row['name_primary']\n",
    "    lat_V = row['latitude']\n",
    "    lon_V = row['longitude']\n",
    "    cities[stn_name] = (lat_V, lon_V)"
   ]
  },
  {
   "cell_type": "markdown",
   "metadata": {},
   "source": [
    "## map with Folium"
   ]
  },
  {
   "cell_type": "code",
   "execution_count": 27,
   "metadata": {
    "collapsed": false
   },
   "outputs": [
    {
     "data": {
      "text/html": [
       "<div>\n",
       "<table border=\"1\" class=\"dataframe\">\n",
       "  <thead>\n",
       "    <tr style=\"text-align: right;\">\n",
       "      <th></th>\n",
       "      <th>name_primary</th>\n",
       "      <th>name_secondary</th>\n",
       "      <th>latitude</th>\n",
       "      <th>longitude</th>\n",
       "    </tr>\n",
       "  </thead>\n",
       "  <tbody>\n",
       "    <tr>\n",
       "      <th>33</th>\n",
       "      <td>Gizo</td>\n",
       "      <td>NaN</td>\n",
       "      <td>-8.1000</td>\n",
       "      <td>156.8500</td>\n",
       "    </tr>\n",
       "    <tr>\n",
       "      <th>36</th>\n",
       "      <td>Barora</td>\n",
       "      <td>NaN</td>\n",
       "      <td>-8.0333</td>\n",
       "      <td>157.5833</td>\n",
       "    </tr>\n",
       "    <tr>\n",
       "      <th>37</th>\n",
       "      <td>Seghe</td>\n",
       "      <td>NaN</td>\n",
       "      <td>-8.5667</td>\n",
       "      <td>157.8833</td>\n",
       "    </tr>\n",
       "    <tr>\n",
       "      <th>40</th>\n",
       "      <td>Gibiri</td>\n",
       "      <td>AutoRain</td>\n",
       "      <td>-7.7058</td>\n",
       "      <td>156.7256</td>\n",
       "    </tr>\n",
       "    <tr>\n",
       "      <th>41</th>\n",
       "      <td>Mbeulah</td>\n",
       "      <td>AutoRain</td>\n",
       "      <td>-8.2632</td>\n",
       "      <td>157.4279</td>\n",
       "    </tr>\n",
       "  </tbody>\n",
       "</table>\n",
       "</div>"
      ],
      "text/plain": [
       "   name_primary name_secondary  latitude  longitude\n",
       "33         Gizo            NaN   -8.1000   156.8500\n",
       "36       Barora            NaN   -8.0333   157.5833\n",
       "37        Seghe            NaN   -8.5667   157.8833\n",
       "40       Gibiri       AutoRain   -7.7058   156.7256\n",
       "41      Mbeulah       AutoRain   -8.2632   157.4279"
      ]
     },
     "execution_count": 27,
     "metadata": {},
     "output_type": "execute_result"
    }
   ],
   "source": [
    "Virtual_Stations.tail()"
   ]
  },
  {
   "cell_type": "code",
   "execution_count": 28,
   "metadata": {
    "collapsed": false
   },
   "outputs": [],
   "source": [
    "fmap = folium.Map(location=[-9, 163], zoom_start=6, min_lon = 0., max_lon = 360., detect_retina=True)"
   ]
  },
  {
   "cell_type": "markdown",
   "metadata": {},
   "source": [
    "### add the background layers"
   ]
  },
  {
   "cell_type": "code",
   "execution_count": 29,
   "metadata": {
    "collapsed": true
   },
   "outputs": [],
   "source": [
    "add = '/tile/{z}/{y}/{x}'\n",
    "\n",
    "ESRI = {}\n",
    "ESRI['World Imagery'] = 'http://server.arcgisonline.com/ArcGIS/rest/services/World_Imagery/MapServer'\n",
    "ESRI['World Topography'] = 'http://services.arcgisonline.com/arcgis/rest/services/World_Topo_Map/MapServer'\n",
    "ESRI['Street Map'] = 'http://services.arcgisonline.com/arcgis/rest/services/World_Street_Map/MapServer'\n",
    "\n",
    "for tile_name in ['World Imagery','World Topography','Street Map']:\n",
    "    tile_url = ESRI[tile_name]\n",
    "    tile_url += add\n",
    "    fmap.add_tile_layer(name=tile_name,\n",
    "                     tiles=tile_url, attr='ESRI')"
   ]
  },
  {
   "cell_type": "markdown",
   "metadata": {},
   "source": [
    "### create a feature group which will include the stations markers "
   ]
  },
  {
   "cell_type": "code",
   "execution_count": 30,
   "metadata": {
    "collapsed": false
   },
   "outputs": [],
   "source": [
    "Solomon_stations = FeatureGroup(name='Show Solomon Islands Stations')"
   ]
  },
  {
   "cell_type": "code",
   "execution_count": 31,
   "metadata": {
    "collapsed": false
   },
   "outputs": [],
   "source": [
    "size_icon = (188, 325)"
   ]
  },
  {
   "cell_type": "markdown",
   "metadata": {},
   "source": [
    "### loops over the stations "
   ]
  },
  {
   "cell_type": "code",
   "execution_count": 32,
   "metadata": {
    "collapsed": false
   },
   "outputs": [],
   "source": [
    "for i in Virtual_Stations.index:\n",
    "    \n",
    "    data = Virtual_Stations.ix[i]\n",
    "    \n",
    "    name_primary = data.name_primary\n",
    "    \n",
    "    obs = df_dsums.ix[name_primary].values[0]\n",
    "    clim = df_dsums.ix[name_primary].values[1]\n",
    "    \n",
    "    anom = (obs / clim) * 100\n",
    "    \n",
    "    html = \"\"\"\n",
    "    <font face=\"verdana\">\n",
    "    <div align='center'><h4>\n",
    "    Last 90 days estimates [TRMM/TMPA] for {}</h4>\n",
    "    observed = <b>{}</b> mm <br>\n",
    "    climatology = <b>{}</b> mm <br>\n",
    "    percent. of normal = <b>{:4.2f}<b> %\n",
    "    <br><br>\n",
    "    <a href=\"https://cdn.rawgit.com/nicolasfauchereau/SIMS/master/TRMM/www/Virtual_Station_{}_90ndays.html\" target=\"_blank\">click here for the time-series</a>\n",
    "    </font>\n",
    "    \"\"\".format(name_primary, obs, clim, anom, name_primary)\n",
    "        \n",
    "    iframe = folium.element.IFrame(html=html, width=300, height=200)\n",
    "    \n",
    "    popup = folium.Popup(iframe, max_width=600)\n",
    "    \n",
    "    if anom <= 40: \n",
    "        icon = folium.features.CustomIcon('https://raw.githubusercontent.com/nicolasfauchereau/SIMS/master/TRMM/images/icons/orange.png',\\\n",
    "                                         icon_size=(size_icon[0]*0.05, size_icon[1]*0.05))\n",
    "        marker = folium.map.Marker([data.latitude, data.longitude], icon=icon, popup=popup)   \n",
    "    elif (anom > 40) & (anom <= 80):\n",
    "        icon = folium.features.CustomIcon('https://raw.githubusercontent.com/nicolasfauchereau/SIMS/master/TRMM/images/icons/yellow.png',\\\n",
    "                                         icon_size=(size_icon[0]*0.1, size_icon[1]*0.1))\n",
    "        marker = folium.map.Marker([data.latitude, data.longitude], icon=icon, popup=popup)   \n",
    "    elif (anom > 80) & (anom < 120):\n",
    "        icon = folium.features.CustomIcon('https://raw.githubusercontent.com/nicolasfauchereau/SIMS/master/TRMM/images/icons/green.png',\\\n",
    "                                         icon_size=(size_icon[0]*0.15, size_icon[1]*0.15))\n",
    "        marker = folium.map.Marker([data.latitude, data.longitude], icon=icon, popup=popup)  \n",
    "    elif (anom >= 120) & (anom < 160):\n",
    "        icon = folium.features.CustomIcon('https://raw.githubusercontent.com/nicolasfauchereau/SIMS/master/TRMM/images/icons/blue.png',\\\n",
    "                                         icon_size=(size_icon[0]*0.2, size_icon[1]*0.2))\n",
    "        marker = folium.map.Marker([data.latitude, data.longitude], icon=icon, popup=popup)  \n",
    "    elif anom > 160:\n",
    "        icon = folium.features.CustomIcon('https://raw.githubusercontent.com/nicolasfauchereau/SIMS/master/TRMM/images/icons/deepblue.png',\\\n",
    "                                         icon_size=(size_icon[0]*0.25, size_icon[1]*0.25))\n",
    "        marker = folium.map.Marker([data.latitude, data.longitude], icon=icon, popup=popup)  \n",
    "    \n",
    "#     c = folium.CircleMarker(location=[data.latitude, data.longitude], popup=popup, color='red', fill_color='red', \\\n",
    "#                         fill_opacity=0.4, radius=5000)\n",
    "    \n",
    "#     c  = folium.Marker(location=[data.latitude, data.longitude], popup=popup)\n",
    "    \n",
    "    # add to fature group\n",
    "    Solomon_stations.add_children(marker)"
   ]
  },
  {
   "cell_type": "code",
   "execution_count": 33,
   "metadata": {
    "collapsed": false
   },
   "outputs": [
    {
     "data": {
      "text/html": [
       "<div style=\"width:100%;\"><div style=\"position:relative;width:100%;height:0;padding-bottom:60%;\"><iframe src=\"data:text/html;base64,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\" style=\"position:absolute;width:100%;height:100%;left:0;top:0;\"></iframe></div></div>"
      ],
      "text/plain": [
       "<folium.folium.Map at 0x11224fcc0>"
      ]
     },
     "execution_count": 33,
     "metadata": {},
     "output_type": "execute_result"
    }
   ],
   "source": [
    "fmap.add_children(Solomon_stations)\n",
    "fmap.add_children(folium.map.LayerControl())"
   ]
  },
  {
   "cell_type": "code",
   "execution_count": 34,
   "metadata": {
    "collapsed": true
   },
   "outputs": [],
   "source": [
    "fmap.save('./interactive_map_Solomon.html')"
   ]
  },
  {
   "cell_type": "code",
   "execution_count": 35,
   "metadata": {
    "collapsed": true
   },
   "outputs": [],
   "source": [
    "!open ./interactive_map_Solomon.html"
   ]
  },
  {
   "cell_type": "code",
   "execution_count": null,
   "metadata": {
    "collapsed": true
   },
   "outputs": [],
   "source": []
  }
 ],
 "metadata": {
  "anaconda-cloud": {},
  "kernelspec": {
   "display_name": "Python 3",
   "language": "python",
   "name": "python3"
  },
  "language_info": {
   "codemirror_mode": {
    "name": "ipython",
    "version": 3
   },
   "file_extension": ".py",
   "mimetype": "text/x-python",
   "name": "python",
   "nbconvert_exporter": "python",
   "pygments_lexer": "ipython3",
   "version": "3.5.2"
  },
  "latex_envs": {
   "bibliofile": "biblio.bib",
   "cite_by": "apalike",
   "current_citInitial": 1,
   "eqLabelWithNumbers": true,
   "eqNumInitial": 0
  }
 },
 "nbformat": 4,
 "nbformat_minor": 0
}
