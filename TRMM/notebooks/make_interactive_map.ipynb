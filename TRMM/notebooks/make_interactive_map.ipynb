{
 "cells": [
  {
   "cell_type": "markdown",
   "metadata": {},
   "source": [
    "### TRMM PNG monitoring"
   ]
  },
  {
   "cell_type": "code",
   "execution_count": 1,
   "metadata": {
    "collapsed": true
   },
   "outputs": [],
   "source": [
    "%matplotlib inline\n",
    "from matplotlib import pyplot as plt"
   ]
  },
  {
   "cell_type": "code",
   "execution_count": 2,
   "metadata": {
    "collapsed": false
   },
   "outputs": [],
   "source": [
    "import numpy as np\n",
    "import pandas as pd\n",
    "import xarray as xray\n",
    "from netCDF4 import MFDataset\n",
    "from datetime import datetime, timedelta\n",
    "from glob import glob\n",
    "import palettable\n",
    "import folium\n",
    "from folium.map import FeatureGroup"
   ]
  },
  {
   "cell_type": "code",
   "execution_count": 3,
   "metadata": {
    "collapsed": true
   },
   "outputs": [],
   "source": [
    "domain = {'latmin':-13, 'lonmin':155., 'latmax':-5, 'lonmax':168.}"
   ]
  },
  {
   "cell_type": "code",
   "execution_count": 4,
   "metadata": {
    "collapsed": true
   },
   "outputs": [],
   "source": [
    "import warnings\n",
    "warnings.simplefilter(action = \"ignore\", category = FutureWarning)"
   ]
  },
  {
   "cell_type": "code",
   "execution_count": 5,
   "metadata": {
    "collapsed": true
   },
   "outputs": [],
   "source": [
    "def read_netcdfs(files, dim, transform_func=None):\n",
    "    def process_one_path(path):\n",
    "        # use a context manager, to ensure the file gets closed after use\n",
    "        with xray.open_dataset(path) as ds:\n",
    "            # transform_func shdset_clim = dset_clim.sel(lat=slice(domain['latmin'], domain['latmax']), could do some sort of selection or\n",
    "            # aggregation\n",
    "            if transform_func is not None:\n",
    "                ds = transform_func(ds)\n",
    "            # load all data from the transformed dataset, to ensure we can\n",
    "            # use it after closing each original file\n",
    "            ds.load()\n",
    "            return ds\n",
    "\n",
    "    #paths = sorted(glob(files))\n",
    "    datasets = [process_one_path(p) for p in files]\n",
    "    combined = xray.concat(datasets, dim)\n",
    "    return combined"
   ]
  },
  {
   "cell_type": "code",
   "execution_count": 6,
   "metadata": {
    "collapsed": true
   },
   "outputs": [],
   "source": [
    "dpath = '/Users/nicolasf/data/TRMM/daily/'\n",
    "climpath = '/Users/nicolasf/data/TRMM/climatology/daily/2001_2015/'"
   ]
  },
  {
   "cell_type": "code",
   "execution_count": 7,
   "metadata": {
    "collapsed": false
   },
   "outputs": [],
   "source": [
    "today = datetime.utcnow()"
   ]
  },
  {
   "cell_type": "code",
   "execution_count": 8,
   "metadata": {
    "collapsed": true
   },
   "outputs": [],
   "source": [
    "lag = 1"
   ]
  },
  {
   "cell_type": "code",
   "execution_count": 9,
   "metadata": {
    "collapsed": true
   },
   "outputs": [],
   "source": [
    "trmm_date = today - timedelta(days=lag)"
   ]
  },
  {
   "cell_type": "code",
   "execution_count": 10,
   "metadata": {
    "collapsed": false
   },
   "outputs": [
    {
     "name": "stdout",
     "output_type": "stream",
     "text": [
      "2016-08-16 21:18:12.290198\n"
     ]
    }
   ],
   "source": [
    "print(trmm_date)"
   ]
  },
  {
   "cell_type": "code",
   "execution_count": 11,
   "metadata": {
    "collapsed": true
   },
   "outputs": [],
   "source": [
    "ndays = 90"
   ]
  },
  {
   "cell_type": "code",
   "execution_count": 12,
   "metadata": {
    "collapsed": true
   },
   "outputs": [],
   "source": [
    "realtime = pd.date_range(start=trmm_date - timedelta(days=ndays-1), end=trmm_date)"
   ]
  },
  {
   "cell_type": "code",
   "execution_count": 13,
   "metadata": {
    "collapsed": true
   },
   "outputs": [],
   "source": [
    "lfiles = []\n",
    "for d in realtime: \n",
    "    fname  = dpath + \"3B42RT_daily.{}.nc\".format(d.strftime(\"%Y.%m.%d\"))\n",
    "    lfiles.append(fname)"
   ]
  },
  {
   "cell_type": "code",
   "execution_count": 14,
   "metadata": {
    "collapsed": true
   },
   "outputs": [],
   "source": [
    "dset_realtime = read_netcdfs(lfiles, 'time')"
   ]
  },
  {
   "cell_type": "code",
   "execution_count": 15,
   "metadata": {
    "collapsed": true
   },
   "outputs": [],
   "source": [
    "dset_realtime = dset_realtime.sel(lat=slice(domain['latmin'], domain['latmax']), \\\n",
    "                                  lon=slice(domain['lonmin'], domain['lonmax']))"
   ]
  },
  {
   "cell_type": "code",
   "execution_count": 16,
   "metadata": {
    "collapsed": true
   },
   "outputs": [],
   "source": [
    "clim_files = []\n",
    "for d in realtime: \n",
    "    fname  = climpath + \"3B42_daily.{}.nc\".format(d.strftime(\"%m.%d\"))\n",
    "    clim_files.append(fname)"
   ]
  },
  {
   "cell_type": "code",
   "execution_count": 17,
   "metadata": {
    "collapsed": true
   },
   "outputs": [],
   "source": [
    "dset_clim = read_netcdfs(clim_files, 'time')"
   ]
  },
  {
   "cell_type": "code",
   "execution_count": 18,
   "metadata": {
    "collapsed": true
   },
   "outputs": [],
   "source": [
    "dset_clim = dset_clim.sel(lat=slice(domain['latmin'], domain['latmax']), \\\n",
    "                          lon=slice(domain['lonmin'], domain['lonmax']))"
   ]
  },
  {
   "cell_type": "code",
   "execution_count": 19,
   "metadata": {
    "collapsed": false
   },
   "outputs": [
    {
     "data": {
      "text/plain": [
       "<xarray.Dataset>\n",
       "Dimensions:  (lat: 32, lon: 52, time: 90)\n",
       "Coordinates:\n",
       "  * lon      (lon) float32 155.125 155.375 155.625 155.875 156.125 156.375 ...\n",
       "  * lat      (lat) float32 -12.875 -12.625 -12.375 -12.125 -11.875 -11.625 ...\n",
       "  * time     (time) int64 0 1 2 3 4 5 6 7 8 9 10 11 12 13 14 15 16 17 18 19 ...\n",
       "Data variables:\n",
       "    trmm     (time, lat, lon) float64 4.022 4.071 5.261 6.0 7.249 8.437 ..."
      ]
     },
     "execution_count": 19,
     "metadata": {},
     "output_type": "execute_result"
    }
   ],
   "source": [
    "dset_clim"
   ]
  },
  {
   "cell_type": "markdown",
   "metadata": {},
   "source": [
    "### reads in the location for the virtual stations"
   ]
  },
  {
   "cell_type": "code",
   "execution_count": 20,
   "metadata": {
    "collapsed": true
   },
   "outputs": [],
   "source": [
    "Virtual_Stations = pd.read_csv('../data/station_list_Solomon_lat_lon.csv', index_col=0)"
   ]
  },
  {
   "cell_type": "code",
   "execution_count": 21,
   "metadata": {
    "collapsed": false
   },
   "outputs": [
    {
     "data": {
      "text/html": [
       "<div>\n",
       "<table border=\"1\" class=\"dataframe\">\n",
       "  <thead>\n",
       "    <tr style=\"text-align: right;\">\n",
       "      <th></th>\n",
       "      <th>name_primary</th>\n",
       "      <th>name_secondary</th>\n",
       "      <th>latitude</th>\n",
       "      <th>longitude</th>\n",
       "    </tr>\n",
       "  </thead>\n",
       "  <tbody>\n",
       "    <tr>\n",
       "      <th>33</th>\n",
       "      <td>Gizo</td>\n",
       "      <td>NaN</td>\n",
       "      <td>-8.1000</td>\n",
       "      <td>156.8500</td>\n",
       "    </tr>\n",
       "    <tr>\n",
       "      <th>36</th>\n",
       "      <td>Barora</td>\n",
       "      <td>NaN</td>\n",
       "      <td>-8.0333</td>\n",
       "      <td>157.5833</td>\n",
       "    </tr>\n",
       "    <tr>\n",
       "      <th>37</th>\n",
       "      <td>Seghe</td>\n",
       "      <td>NaN</td>\n",
       "      <td>-8.5667</td>\n",
       "      <td>157.8833</td>\n",
       "    </tr>\n",
       "    <tr>\n",
       "      <th>40</th>\n",
       "      <td>Gibiri</td>\n",
       "      <td>AutoRain</td>\n",
       "      <td>-7.7058</td>\n",
       "      <td>156.7256</td>\n",
       "    </tr>\n",
       "    <tr>\n",
       "      <th>41</th>\n",
       "      <td>Mbeulah</td>\n",
       "      <td>AutoRain</td>\n",
       "      <td>-8.2632</td>\n",
       "      <td>157.4279</td>\n",
       "    </tr>\n",
       "  </tbody>\n",
       "</table>\n",
       "</div>"
      ],
      "text/plain": [
       "   name_primary name_secondary  latitude  longitude\n",
       "33         Gizo            NaN   -8.1000   156.8500\n",
       "36       Barora            NaN   -8.0333   157.5833\n",
       "37        Seghe            NaN   -8.5667   157.8833\n",
       "40       Gibiri       AutoRain   -7.7058   156.7256\n",
       "41      Mbeulah       AutoRain   -8.2632   157.4279"
      ]
     },
     "execution_count": 21,
     "metadata": {},
     "output_type": "execute_result"
    }
   ],
   "source": [
    "Virtual_Stations.tail()"
   ]
  },
  {
   "cell_type": "code",
   "execution_count": 22,
   "metadata": {
    "collapsed": false
   },
   "outputs": [],
   "source": [
    "dsums = {}\n",
    "\n",
    "for i, row in Virtual_Stations.iterrows(): \n",
    "    stn_name = row['name_primary']\n",
    "    lat_V = row['latitude']\n",
    "    lon_V = row['longitude']\n",
    "\n",
    "    \n",
    "    clim_ts = dset_clim.sel(lat=lat_V, lon=lon_V, method='nearest')['trmm']\n",
    "    realtime_ts = dset_realtime.sel(lat=lat_V, lon=lon_V, method='nearest')['trmm']\n",
    "    df_ts = realtime_ts.to_dataframe()[['trmm']]\n",
    "    df_ts.loc[:,'clim'] = clim_ts.data\n",
    "    df_ts.columns = ['observed','climatology']\n",
    "    sums = df_ts.sum()\n",
    "    dsums[stn_name] = sums"
   ]
  },
  {
   "cell_type": "code",
   "execution_count": 23,
   "metadata": {
    "collapsed": false
   },
   "outputs": [],
   "source": [
    "df_dsums = pd.DataFrame(dsums)"
   ]
  },
  {
   "cell_type": "code",
   "execution_count": 24,
   "metadata": {
    "collapsed": false
   },
   "outputs": [],
   "source": [
    "df_dsums = df_dsums.T"
   ]
  },
  {
   "cell_type": "code",
   "execution_count": 25,
   "metadata": {
    "collapsed": false
   },
   "outputs": [],
   "source": [
    "df_dsums = df_dsums.astype(np.int)"
   ]
  },
  {
   "cell_type": "code",
   "execution_count": 26,
   "metadata": {
    "collapsed": false
   },
   "outputs": [
    {
     "data": {
      "text/html": [
       "<div>\n",
       "<table border=\"1\" class=\"dataframe\">\n",
       "  <thead>\n",
       "    <tr style=\"text-align: right;\">\n",
       "      <th></th>\n",
       "      <th>observed</th>\n",
       "      <th>climatology</th>\n",
       "    </tr>\n",
       "  </thead>\n",
       "  <tbody>\n",
       "    <tr>\n",
       "      <th>Afio</th>\n",
       "      <td>609</td>\n",
       "      <td>908</td>\n",
       "    </tr>\n",
       "    <tr>\n",
       "      <th>Atoifi</th>\n",
       "      <td>1046</td>\n",
       "      <td>1108</td>\n",
       "    </tr>\n",
       "    <tr>\n",
       "      <th>Atori</th>\n",
       "      <td>649</td>\n",
       "      <td>944</td>\n",
       "    </tr>\n",
       "    <tr>\n",
       "      <th>Avu Avu</th>\n",
       "      <td>674</td>\n",
       "      <td>816</td>\n",
       "    </tr>\n",
       "    <tr>\n",
       "      <th>Barora</th>\n",
       "      <td>531</td>\n",
       "      <td>871</td>\n",
       "    </tr>\n",
       "  </tbody>\n",
       "</table>\n",
       "</div>"
      ],
      "text/plain": [
       "         observed  climatology\n",
       "Afio          609          908\n",
       "Atoifi       1046         1108\n",
       "Atori         649          944\n",
       "Avu Avu       674          816\n",
       "Barora        531          871"
      ]
     },
     "execution_count": 26,
     "metadata": {},
     "output_type": "execute_result"
    }
   ],
   "source": [
    "df_dsums.head()"
   ]
  },
  {
   "cell_type": "code",
   "execution_count": 27,
   "metadata": {
    "collapsed": true
   },
   "outputs": [],
   "source": [
    "cities = {}\n",
    "for i, row in Virtual_Stations.iterrows():         \n",
    "    stn_name = row['name_primary']\n",
    "    lat_V = row['latitude']\n",
    "    lon_V = row['longitude']\n",
    "    cities[stn_name] = (lat_V, lon_V)"
   ]
  },
  {
   "cell_type": "markdown",
   "metadata": {},
   "source": [
    "## map with Folium"
   ]
  },
  {
   "cell_type": "code",
   "execution_count": 28,
   "metadata": {
    "collapsed": false
   },
   "outputs": [
    {
     "data": {
      "text/html": [
       "<div>\n",
       "<table border=\"1\" class=\"dataframe\">\n",
       "  <thead>\n",
       "    <tr style=\"text-align: right;\">\n",
       "      <th></th>\n",
       "      <th>name_primary</th>\n",
       "      <th>name_secondary</th>\n",
       "      <th>latitude</th>\n",
       "      <th>longitude</th>\n",
       "    </tr>\n",
       "  </thead>\n",
       "  <tbody>\n",
       "    <tr>\n",
       "      <th>33</th>\n",
       "      <td>Gizo</td>\n",
       "      <td>NaN</td>\n",
       "      <td>-8.1000</td>\n",
       "      <td>156.8500</td>\n",
       "    </tr>\n",
       "    <tr>\n",
       "      <th>36</th>\n",
       "      <td>Barora</td>\n",
       "      <td>NaN</td>\n",
       "      <td>-8.0333</td>\n",
       "      <td>157.5833</td>\n",
       "    </tr>\n",
       "    <tr>\n",
       "      <th>37</th>\n",
       "      <td>Seghe</td>\n",
       "      <td>NaN</td>\n",
       "      <td>-8.5667</td>\n",
       "      <td>157.8833</td>\n",
       "    </tr>\n",
       "    <tr>\n",
       "      <th>40</th>\n",
       "      <td>Gibiri</td>\n",
       "      <td>AutoRain</td>\n",
       "      <td>-7.7058</td>\n",
       "      <td>156.7256</td>\n",
       "    </tr>\n",
       "    <tr>\n",
       "      <th>41</th>\n",
       "      <td>Mbeulah</td>\n",
       "      <td>AutoRain</td>\n",
       "      <td>-8.2632</td>\n",
       "      <td>157.4279</td>\n",
       "    </tr>\n",
       "  </tbody>\n",
       "</table>\n",
       "</div>"
      ],
      "text/plain": [
       "   name_primary name_secondary  latitude  longitude\n",
       "33         Gizo            NaN   -8.1000   156.8500\n",
       "36       Barora            NaN   -8.0333   157.5833\n",
       "37        Seghe            NaN   -8.5667   157.8833\n",
       "40       Gibiri       AutoRain   -7.7058   156.7256\n",
       "41      Mbeulah       AutoRain   -8.2632   157.4279"
      ]
     },
     "execution_count": 28,
     "metadata": {},
     "output_type": "execute_result"
    }
   ],
   "source": [
    "Virtual_Stations.tail()"
   ]
  },
  {
   "cell_type": "code",
   "execution_count": 29,
   "metadata": {
    "collapsed": false
   },
   "outputs": [],
   "source": [
    "fmap = folium.Map(location=[-9, 163], zoom_start=6, min_lon = 0., max_lon = 360., detect_retina=True)"
   ]
  },
  {
   "cell_type": "markdown",
   "metadata": {},
   "source": [
    "### add the background layers"
   ]
  },
  {
   "cell_type": "code",
   "execution_count": 30,
   "metadata": {
    "collapsed": true
   },
   "outputs": [],
   "source": [
    "add = '/tile/{z}/{y}/{x}'\n",
    "\n",
    "ESRI = {}\n",
    "ESRI['World Imagery'] = 'http://server.arcgisonline.com/ArcGIS/rest/services/World_Imagery/MapServer'\n",
    "ESRI['World Topography'] = 'http://services.arcgisonline.com/arcgis/rest/services/World_Topo_Map/MapServer'\n",
    "ESRI['Street Map'] = 'http://services.arcgisonline.com/arcgis/rest/services/World_Street_Map/MapServer'\n",
    "\n",
    "for tile_name in ['World Imagery','World Topography','Street Map']:\n",
    "    tile_url = ESRI[tile_name]\n",
    "    tile_url += add\n",
    "    fmap.add_tile_layer(name=tile_name,\n",
    "                     tiles=tile_url, attr='ESRI')"
   ]
  },
  {
   "cell_type": "markdown",
   "metadata": {},
   "source": [
    "### create a feature group which will include the stations markers "
   ]
  },
  {
   "cell_type": "code",
   "execution_count": 31,
   "metadata": {
    "collapsed": false
   },
   "outputs": [],
   "source": [
    "Solomon_stations = FeatureGroup(name='Show Solomon Islands Stations')"
   ]
  },
  {
   "cell_type": "code",
   "execution_count": 32,
   "metadata": {
    "collapsed": false
   },
   "outputs": [],
   "source": [
    "size_icon = (188, 325)"
   ]
  },
  {
   "cell_type": "markdown",
   "metadata": {},
   "source": [
    "### loops over the stations "
   ]
  },
  {
   "cell_type": "code",
   "execution_count": 33,
   "metadata": {
    "collapsed": false
   },
   "outputs": [],
   "source": [
    "for i in Virtual_Stations.index:\n",
    "    \n",
    "    data = Virtual_Stations.ix[i]\n",
    "    \n",
    "    name_primary = data.name_primary\n",
    "    \n",
    "    obs = df_dsums.ix[name_primary].values[0]\n",
    "    clim = df_dsums.ix[name_primary].values[1]\n",
    "    \n",
    "    anom = (obs / clim) * 100\n",
    "    \n",
    "    html = \"\"\"\n",
    "    <font face=\"verdana\">\n",
    "    <div align='center'><h4>\n",
    "    Last 90 days (to the {:%Y-%m-%d UTC}) estimates [TRMM/TMPA] for {}</h4>\n",
    "    observed = <b>{}</b> mm <br>\n",
    "    climatology = <b>{}</b> mm <br>\n",
    "    percent. of normal = <b>{:4.2f}<b> %\n",
    "    <br><br>\n",
    "    <a href=\"https://cdn.rawgit.com/nicolasfauchereau/SIMS/master/TRMM/www/Virtual_Station_{}_90ndays.html\" target=\"_blank\">click here for the time-series</a>\n",
    "    </font>\n",
    "    \"\"\".format(trmm_date, name_primary, obs, clim, anom, name_primary)\n",
    "        \n",
    "    iframe = folium.element.IFrame(html=html, width=300, height=200)\n",
    "    \n",
    "    popup = folium.Popup(iframe, max_width=600)\n",
    "    \n",
    "    if anom <= 40: \n",
    "        icon = folium.features.CustomIcon('https://raw.githubusercontent.com/nicolasfauchereau/SIMS/master/TRMM/images/icons/orange.png',\\\n",
    "                                         icon_size=(size_icon[0]*0.05, size_icon[1]*0.05))\n",
    "        marker = folium.map.Marker([data.latitude, data.longitude], icon=icon, popup=popup)   \n",
    "    elif (anom > 40) & (anom <= 80):\n",
    "        icon = folium.features.CustomIcon('https://raw.githubusercontent.com/nicolasfauchereau/SIMS/master/TRMM/images/icons/yellow.png',\\\n",
    "                                         icon_size=(size_icon[0]*0.1, size_icon[1]*0.1))\n",
    "        marker = folium.map.Marker([data.latitude, data.longitude], icon=icon, popup=popup)   \n",
    "    elif (anom > 80) & (anom < 120):\n",
    "        icon = folium.features.CustomIcon('https://raw.githubusercontent.com/nicolasfauchereau/SIMS/master/TRMM/images/icons/green.png',\\\n",
    "                                         icon_size=(size_icon[0]*0.15, size_icon[1]*0.15))\n",
    "        marker = folium.map.Marker([data.latitude, data.longitude], icon=icon, popup=popup)  \n",
    "    elif (anom >= 120) & (anom < 160):\n",
    "        icon = folium.features.CustomIcon('https://raw.githubusercontent.com/nicolasfauchereau/SIMS/master/TRMM/images/icons/blue.png',\\\n",
    "                                         icon_size=(size_icon[0]*0.2, size_icon[1]*0.2))\n",
    "        marker = folium.map.Marker([data.latitude, data.longitude], icon=icon, popup=popup)  \n",
    "    elif anom > 160:\n",
    "        icon = folium.features.CustomIcon('https://raw.githubusercontent.com/nicolasfauchereau/SIMS/master/TRMM/images/icons/deepblue.png',\\\n",
    "                                         icon_size=(size_icon[0]*0.25, size_icon[1]*0.25))\n",
    "        marker = folium.map.Marker([data.latitude, data.longitude], icon=icon, popup=popup)  \n",
    "    \n",
    "#     c = folium.CircleMarker(location=[data.latitude, data.longitude], popup=popup, color='red', fill_color='red', \\\n",
    "#                         fill_opacity=0.4, radius=5000)\n",
    "    \n",
    "#     c  = folium.Marker(location=[data.latitude, data.longitude], popup=popup)\n",
    "    \n",
    "    # add to fature group\n",
    "    Solomon_stations.add_children(marker)"
   ]
  },
  {
   "cell_type": "code",
   "execution_count": 34,
   "metadata": {
    "collapsed": false
   },
   "outputs": [
    {
     "data": {
      "text/html": [
       "<div style=\"width:100%;\"><div style=\"position:relative;width:100%;height:0;padding-bottom:60%;\"><iframe src=\"data:text/html;base64,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\" style=\"position:absolute;width:100%;height:100%;left:0;top:0;\"></iframe></div></div>"
      ],
      "text/plain": [
       "<folium.folium.Map at 0x1123ad1d0>"
      ]
     },
     "execution_count": 34,
     "metadata": {},
     "output_type": "execute_result"
    }
   ],
   "source": [
    "fmap.add_children(Solomon_stations)\n",
    "fmap.add_children(folium.map.LayerControl())"
   ]
  },
  {
   "cell_type": "code",
   "execution_count": 35,
   "metadata": {
    "collapsed": true
   },
   "outputs": [],
   "source": [
    "fmap.save('./interactive_map_Solomon.html')"
   ]
  },
  {
   "cell_type": "code",
   "execution_count": 36,
   "metadata": {
    "collapsed": true
   },
   "outputs": [],
   "source": [
    "!open ./interactive_map_Solomon.html"
   ]
  },
  {
   "cell_type": "code",
   "execution_count": null,
   "metadata": {
    "collapsed": true
   },
   "outputs": [],
   "source": []
  }
 ],
 "metadata": {
  "anaconda-cloud": {},
  "kernelspec": {
   "display_name": "Python 3",
   "language": "python",
   "name": "python3"
  },
  "language_info": {
   "codemirror_mode": {
    "name": "ipython",
    "version": 3
   },
   "file_extension": ".py",
   "mimetype": "text/x-python",
   "name": "python",
   "nbconvert_exporter": "python",
   "pygments_lexer": "ipython3",
   "version": "3.5.2"
  },
  "latex_envs": {
   "bibliofile": "biblio.bib",
   "cite_by": "apalike",
   "current_citInitial": 1,
   "eqLabelWithNumbers": true,
   "eqNumInitial": 0
  }
 },
 "nbformat": 4,
 "nbformat_minor": 0
}
