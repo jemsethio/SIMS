{
 "cells": [
  {
   "cell_type": "markdown",
   "metadata": {},
   "source": [
    "### TRMM PNG monitoring"
   ]
  },
  {
   "cell_type": "code",
   "execution_count": 1,
   "metadata": {
    "collapsed": true
   },
   "outputs": [],
   "source": [
    "%matplotlib inline\n",
    "from matplotlib import pyplot as plt"
   ]
  },
  {
   "cell_type": "code",
   "execution_count": 2,
   "metadata": {
    "collapsed": false
   },
   "outputs": [],
   "source": [
    "import numpy as np\n",
    "import pandas as pd\n",
    "import xarray as xray\n",
    "from netCDF4 import MFDataset\n",
    "from datetime import datetime, timedelta\n",
    "from glob import glob\n",
    "import palettable\n",
    "import folium\n",
    "from folium.map import FeatureGroup"
   ]
  },
  {
   "cell_type": "code",
   "execution_count": 3,
   "metadata": {
    "collapsed": true
   },
   "outputs": [],
   "source": [
    "domain = {'latmin':-13, 'lonmin':155., 'latmax':-5, 'lonmax':168.}"
   ]
  },
  {
   "cell_type": "code",
   "execution_count": 4,
   "metadata": {
    "collapsed": true
   },
   "outputs": [],
   "source": [
    "import warnings\n",
    "warnings.simplefilter(action = \"ignore\", category = FutureWarning)"
   ]
  },
  {
   "cell_type": "code",
   "execution_count": 5,
   "metadata": {
    "collapsed": true
   },
   "outputs": [],
   "source": [
    "def read_netcdfs(files, dim, transform_func=None):\n",
    "    def process_one_path(path):\n",
    "        # use a context manager, to ensure the file gets closed after use\n",
    "        with xray.open_dataset(path) as ds:\n",
    "            # transform_func shdset_clim = dset_clim.sel(lat=slice(domain['latmin'], domain['latmax']), could do some sort of selection or\n",
    "            # aggregation\n",
    "            if transform_func is not None:\n",
    "                ds = transform_func(ds)\n",
    "            # load all data from the transformed dataset, to ensure we can\n",
    "            # use it after closing each original file\n",
    "            ds.load()\n",
    "            return ds\n",
    "\n",
    "    #paths = sorted(glob(files))\n",
    "    datasets = [process_one_path(p) for p in files]\n",
    "    combined = xray.concat(datasets, dim)\n",
    "    return combined"
   ]
  },
  {
   "cell_type": "code",
   "execution_count": 6,
   "metadata": {
    "collapsed": true
   },
   "outputs": [],
   "source": [
    "dpath = '/Users/nicolasf/data/TRMM/daily/'\n",
    "climpath = '/Users/nicolasf/data/TRMM/climatology/daily/2001_2015/'"
   ]
  },
  {
   "cell_type": "code",
   "execution_count": 7,
   "metadata": {
    "collapsed": false
   },
   "outputs": [],
   "source": [
    "today = datetime.utcnow()"
   ]
  },
  {
   "cell_type": "code",
   "execution_count": 8,
   "metadata": {
    "collapsed": true
   },
   "outputs": [],
   "source": [
    "lag = 1"
   ]
  },
  {
   "cell_type": "code",
   "execution_count": 9,
   "metadata": {
    "collapsed": true
   },
   "outputs": [],
   "source": [
    "trmm_date = today - timedelta(days=lag)"
   ]
  },
  {
   "cell_type": "code",
   "execution_count": 10,
   "metadata": {
    "collapsed": false
   },
   "outputs": [
    {
     "name": "stdout",
     "output_type": "stream",
     "text": [
      "2016-08-17 22:08:49.151638\n"
     ]
    }
   ],
   "source": [
    "print(trmm_date)"
   ]
  },
  {
   "cell_type": "code",
   "execution_count": 11,
   "metadata": {
    "collapsed": true
   },
   "outputs": [],
   "source": [
    "ndays = 90"
   ]
  },
  {
   "cell_type": "code",
   "execution_count": 12,
   "metadata": {
    "collapsed": true
   },
   "outputs": [],
   "source": [
    "realtime = pd.date_range(start=trmm_date - timedelta(days=ndays-1), end=trmm_date)"
   ]
  },
  {
   "cell_type": "code",
   "execution_count": 13,
   "metadata": {
    "collapsed": true
   },
   "outputs": [],
   "source": [
    "lfiles = []\n",
    "for d in realtime: \n",
    "    fname  = dpath + \"3B42RT_daily.{}.nc\".format(d.strftime(\"%Y.%m.%d\"))\n",
    "    lfiles.append(fname)"
   ]
  },
  {
   "cell_type": "code",
   "execution_count": 14,
   "metadata": {
    "collapsed": true
   },
   "outputs": [],
   "source": [
    "dset_realtime = read_netcdfs(lfiles, 'time')"
   ]
  },
  {
   "cell_type": "code",
   "execution_count": 15,
   "metadata": {
    "collapsed": true
   },
   "outputs": [],
   "source": [
    "dset_realtime = dset_realtime.sel(lat=slice(domain['latmin'], domain['latmax']), \\\n",
    "                                  lon=slice(domain['lonmin'], domain['lonmax']))"
   ]
  },
  {
   "cell_type": "code",
   "execution_count": 16,
   "metadata": {
    "collapsed": true
   },
   "outputs": [],
   "source": [
    "clim_files = []\n",
    "for d in realtime: \n",
    "    fname  = climpath + \"3B42_daily.{}.nc\".format(d.strftime(\"%m.%d\"))\n",
    "    clim_files.append(fname)"
   ]
  },
  {
   "cell_type": "code",
   "execution_count": 17,
   "metadata": {
    "collapsed": true
   },
   "outputs": [],
   "source": [
    "dset_clim = read_netcdfs(clim_files, 'time')"
   ]
  },
  {
   "cell_type": "code",
   "execution_count": 18,
   "metadata": {
    "collapsed": true
   },
   "outputs": [],
   "source": [
    "dset_clim = dset_clim.sel(lat=slice(domain['latmin'], domain['latmax']), \\\n",
    "                          lon=slice(domain['lonmin'], domain['lonmax']))"
   ]
  },
  {
   "cell_type": "code",
   "execution_count": 19,
   "metadata": {
    "collapsed": false
   },
   "outputs": [
    {
     "data": {
      "text/plain": [
       "<xarray.Dataset>\n",
       "Dimensions:  (lat: 32, lon: 52, time: 90)\n",
       "Coordinates:\n",
       "  * lon      (lon) float32 155.125 155.375 155.625 155.875 156.125 156.375 ...\n",
       "  * lat      (lat) float32 -12.875 -12.625 -12.375 -12.125 -11.875 -11.625 ...\n",
       "  * time     (time) int64 0 1 2 3 4 5 6 7 8 9 10 11 12 13 14 15 16 17 18 19 ...\n",
       "Data variables:\n",
       "    trmm     (time, lat, lon) float64 9.234 8.619 9.266 10.12 13.15 13.23 ..."
      ]
     },
     "execution_count": 19,
     "metadata": {},
     "output_type": "execute_result"
    }
   ],
   "source": [
    "dset_clim"
   ]
  },
  {
   "cell_type": "markdown",
   "metadata": {},
   "source": [
    "### reads in the location for the virtual stations"
   ]
  },
  {
   "cell_type": "code",
   "execution_count": 20,
   "metadata": {
    "collapsed": true
   },
   "outputs": [],
   "source": [
    "Virtual_Stations = pd.read_csv('../data/station_list_Solomon_lat_lon.csv', index_col=0)"
   ]
  },
  {
   "cell_type": "code",
   "execution_count": 21,
   "metadata": {
    "collapsed": false
   },
   "outputs": [
    {
     "data": {
      "text/html": [
       "<div>\n",
       "<table border=\"1\" class=\"dataframe\">\n",
       "  <thead>\n",
       "    <tr style=\"text-align: right;\">\n",
       "      <th></th>\n",
       "      <th>name_primary</th>\n",
       "      <th>name_secondary</th>\n",
       "      <th>latitude</th>\n",
       "      <th>longitude</th>\n",
       "    </tr>\n",
       "  </thead>\n",
       "  <tbody>\n",
       "    <tr>\n",
       "      <th>33</th>\n",
       "      <td>Gizo</td>\n",
       "      <td>NaN</td>\n",
       "      <td>-8.1000</td>\n",
       "      <td>156.8500</td>\n",
       "    </tr>\n",
       "    <tr>\n",
       "      <th>36</th>\n",
       "      <td>Barora</td>\n",
       "      <td>NaN</td>\n",
       "      <td>-8.0333</td>\n",
       "      <td>157.5833</td>\n",
       "    </tr>\n",
       "    <tr>\n",
       "      <th>37</th>\n",
       "      <td>Seghe</td>\n",
       "      <td>NaN</td>\n",
       "      <td>-8.5667</td>\n",
       "      <td>157.8833</td>\n",
       "    </tr>\n",
       "    <tr>\n",
       "      <th>40</th>\n",
       "      <td>Gibiri</td>\n",
       "      <td>AutoRain</td>\n",
       "      <td>-7.7058</td>\n",
       "      <td>156.7256</td>\n",
       "    </tr>\n",
       "    <tr>\n",
       "      <th>41</th>\n",
       "      <td>Mbeulah</td>\n",
       "      <td>AutoRain</td>\n",
       "      <td>-8.2632</td>\n",
       "      <td>157.4279</td>\n",
       "    </tr>\n",
       "  </tbody>\n",
       "</table>\n",
       "</div>"
      ],
      "text/plain": [
       "   name_primary name_secondary  latitude  longitude\n",
       "33         Gizo            NaN   -8.1000   156.8500\n",
       "36       Barora            NaN   -8.0333   157.5833\n",
       "37        Seghe            NaN   -8.5667   157.8833\n",
       "40       Gibiri       AutoRain   -7.7058   156.7256\n",
       "41      Mbeulah       AutoRain   -8.2632   157.4279"
      ]
     },
     "execution_count": 21,
     "metadata": {},
     "output_type": "execute_result"
    }
   ],
   "source": [
    "Virtual_Stations.tail()"
   ]
  },
  {
   "cell_type": "code",
   "execution_count": 22,
   "metadata": {
    "collapsed": false
   },
   "outputs": [],
   "source": [
    "dsums = {}\n",
    "\n",
    "for i, row in Virtual_Stations.iterrows(): \n",
    "    stn_name = row['name_primary']\n",
    "    lat_V = row['latitude']\n",
    "    lon_V = row['longitude']\n",
    "\n",
    "    \n",
    "    clim_ts = dset_clim.sel(lat=lat_V, lon=lon_V, method='nearest')['trmm']\n",
    "    realtime_ts = dset_realtime.sel(lat=lat_V, lon=lon_V, method='nearest')['trmm']\n",
    "    df_ts = realtime_ts.to_dataframe()[['trmm']]\n",
    "    df_ts.loc[:,'clim'] = clim_ts.data\n",
    "    df_ts.columns = ['observed','climatology']\n",
    "    sums = df_ts.sum()\n",
    "    dsums[stn_name] = sums"
   ]
  },
  {
   "cell_type": "code",
   "execution_count": 23,
   "metadata": {
    "collapsed": false
   },
   "outputs": [],
   "source": [
    "df_dsums = pd.DataFrame(dsums)"
   ]
  },
  {
   "cell_type": "code",
   "execution_count": 24,
   "metadata": {
    "collapsed": false
   },
   "outputs": [],
   "source": [
    "df_dsums = df_dsums.T"
   ]
  },
  {
   "cell_type": "code",
   "execution_count": 25,
   "metadata": {
    "collapsed": false
   },
   "outputs": [],
   "source": [
    "df_dsums = df_dsums.astype(np.int)"
   ]
  },
  {
   "cell_type": "code",
   "execution_count": 26,
   "metadata": {
    "collapsed": false
   },
   "outputs": [
    {
     "data": {
      "text/html": [
       "<div>\n",
       "<table border=\"1\" class=\"dataframe\">\n",
       "  <thead>\n",
       "    <tr style=\"text-align: right;\">\n",
       "      <th></th>\n",
       "      <th>observed</th>\n",
       "      <th>climatology</th>\n",
       "    </tr>\n",
       "  </thead>\n",
       "  <tbody>\n",
       "    <tr>\n",
       "      <th>Afio</th>\n",
       "      <td>555</td>\n",
       "      <td>890</td>\n",
       "    </tr>\n",
       "    <tr>\n",
       "      <th>Atoifi</th>\n",
       "      <td>986</td>\n",
       "      <td>1106</td>\n",
       "    </tr>\n",
       "    <tr>\n",
       "      <th>Atori</th>\n",
       "      <td>612</td>\n",
       "      <td>927</td>\n",
       "    </tr>\n",
       "    <tr>\n",
       "      <th>Avu Avu</th>\n",
       "      <td>625</td>\n",
       "      <td>803</td>\n",
       "    </tr>\n",
       "    <tr>\n",
       "      <th>Barora</th>\n",
       "      <td>528</td>\n",
       "      <td>850</td>\n",
       "    </tr>\n",
       "  </tbody>\n",
       "</table>\n",
       "</div>"
      ],
      "text/plain": [
       "         observed  climatology\n",
       "Afio          555          890\n",
       "Atoifi        986         1106\n",
       "Atori         612          927\n",
       "Avu Avu       625          803\n",
       "Barora        528          850"
      ]
     },
     "execution_count": 26,
     "metadata": {},
     "output_type": "execute_result"
    }
   ],
   "source": [
    "df_dsums.head()"
   ]
  },
  {
   "cell_type": "code",
   "execution_count": 27,
   "metadata": {
    "collapsed": true
   },
   "outputs": [],
   "source": [
    "cities = {}\n",
    "for i, row in Virtual_Stations.iterrows():         \n",
    "    stn_name = row['name_primary']\n",
    "    lat_V = row['latitude']\n",
    "    lon_V = row['longitude']\n",
    "    cities[stn_name] = (lat_V, lon_V)"
   ]
  },
  {
   "cell_type": "markdown",
   "metadata": {},
   "source": [
    "## map with Folium"
   ]
  },
  {
   "cell_type": "code",
   "execution_count": 28,
   "metadata": {
    "collapsed": false
   },
   "outputs": [
    {
     "data": {
      "text/html": [
       "<div>\n",
       "<table border=\"1\" class=\"dataframe\">\n",
       "  <thead>\n",
       "    <tr style=\"text-align: right;\">\n",
       "      <th></th>\n",
       "      <th>name_primary</th>\n",
       "      <th>name_secondary</th>\n",
       "      <th>latitude</th>\n",
       "      <th>longitude</th>\n",
       "    </tr>\n",
       "  </thead>\n",
       "  <tbody>\n",
       "    <tr>\n",
       "      <th>33</th>\n",
       "      <td>Gizo</td>\n",
       "      <td>NaN</td>\n",
       "      <td>-8.1000</td>\n",
       "      <td>156.8500</td>\n",
       "    </tr>\n",
       "    <tr>\n",
       "      <th>36</th>\n",
       "      <td>Barora</td>\n",
       "      <td>NaN</td>\n",
       "      <td>-8.0333</td>\n",
       "      <td>157.5833</td>\n",
       "    </tr>\n",
       "    <tr>\n",
       "      <th>37</th>\n",
       "      <td>Seghe</td>\n",
       "      <td>NaN</td>\n",
       "      <td>-8.5667</td>\n",
       "      <td>157.8833</td>\n",
       "    </tr>\n",
       "    <tr>\n",
       "      <th>40</th>\n",
       "      <td>Gibiri</td>\n",
       "      <td>AutoRain</td>\n",
       "      <td>-7.7058</td>\n",
       "      <td>156.7256</td>\n",
       "    </tr>\n",
       "    <tr>\n",
       "      <th>41</th>\n",
       "      <td>Mbeulah</td>\n",
       "      <td>AutoRain</td>\n",
       "      <td>-8.2632</td>\n",
       "      <td>157.4279</td>\n",
       "    </tr>\n",
       "  </tbody>\n",
       "</table>\n",
       "</div>"
      ],
      "text/plain": [
       "   name_primary name_secondary  latitude  longitude\n",
       "33         Gizo            NaN   -8.1000   156.8500\n",
       "36       Barora            NaN   -8.0333   157.5833\n",
       "37        Seghe            NaN   -8.5667   157.8833\n",
       "40       Gibiri       AutoRain   -7.7058   156.7256\n",
       "41      Mbeulah       AutoRain   -8.2632   157.4279"
      ]
     },
     "execution_count": 28,
     "metadata": {},
     "output_type": "execute_result"
    }
   ],
   "source": [
    "Virtual_Stations.tail()"
   ]
  },
  {
   "cell_type": "code",
   "execution_count": 29,
   "metadata": {
    "collapsed": false
   },
   "outputs": [],
   "source": [
    "fmap = folium.Map(location=[-9, 163], zoom_start=6, min_lon = 0., max_lon = 360., detect_retina=True)"
   ]
  },
  {
   "cell_type": "markdown",
   "metadata": {},
   "source": [
    "### add the background layers"
   ]
  },
  {
   "cell_type": "code",
   "execution_count": 30,
   "metadata": {
    "collapsed": true
   },
   "outputs": [],
   "source": [
    "add = '/tile/{z}/{y}/{x}'\n",
    "\n",
    "ESRI = {}\n",
    "ESRI['World Imagery'] = 'http://server.arcgisonline.com/ArcGIS/rest/services/World_Imagery/MapServer'\n",
    "ESRI['World Topography'] = 'http://services.arcgisonline.com/arcgis/rest/services/World_Topo_Map/MapServer'\n",
    "ESRI['Street Map'] = 'http://services.arcgisonline.com/arcgis/rest/services/World_Street_Map/MapServer'\n",
    "\n",
    "for tile_name in ['World Imagery','World Topography','Street Map']:\n",
    "    tile_url = ESRI[tile_name]\n",
    "    tile_url += add\n",
    "    fmap.add_tile_layer(name=tile_name,\n",
    "                     tiles=tile_url, attr='ESRI')"
   ]
  },
  {
   "cell_type": "markdown",
   "metadata": {},
   "source": [
    "### create a feature group which will include the stations markers "
   ]
  },
  {
   "cell_type": "code",
   "execution_count": 31,
   "metadata": {
    "collapsed": false
   },
   "outputs": [],
   "source": [
    "Solomon_stations = FeatureGroup(name='Show Solomon Islands Stations')"
   ]
  },
  {
   "cell_type": "code",
   "execution_count": 32,
   "metadata": {
    "collapsed": false
   },
   "outputs": [],
   "source": [
    "size_icon = (188, 325)"
   ]
  },
  {
   "cell_type": "markdown",
   "metadata": {},
   "source": [
    "### loops over the stations "
   ]
  },
  {
   "cell_type": "code",
   "execution_count": 33,
   "metadata": {
    "collapsed": false
   },
   "outputs": [],
   "source": [
    "for i in Virtual_Stations.index:\n",
    "    \n",
    "    data = Virtual_Stations.ix[i]\n",
    "    \n",
    "    name_primary = data.name_primary\n",
    "    \n",
    "    obs = df_dsums.ix[name_primary].values[0]\n",
    "    clim = df_dsums.ix[name_primary].values[1]\n",
    "    \n",
    "    anom = (obs / clim) * 100\n",
    "    \n",
    "    html = \"\"\"\n",
    "    <font face=\"verdana\">\n",
    "    <div align='center'><h4>\n",
    "    Last 90 days (to the {:%Y-%m-%d UTC}) estimates [TRMM/TMPA] for {}</h4>\n",
    "    observed = <b>{}</b> mm <br>\n",
    "    climatology = <b>{}</b> mm <br>\n",
    "    percent. of normal = <b>{:4.2f}<b> %\n",
    "    <br><br>\n",
    "    <a href=\"https://cdn.rawgit.com/nicolasfauchereau/SIMS/master/TRMM/www/Virtual_Station_{}_90ndays.html\" target=\"_blank\">click here for the time-series</a>\n",
    "    </font>\n",
    "    \"\"\".format(trmm_date, name_primary, obs, clim, anom, name_primary)\n",
    "        \n",
    "    iframe = folium.element.IFrame(html=html, width=300, height=200)\n",
    "    \n",
    "    popup = folium.Popup(iframe, max_width=600)\n",
    "    \n",
    "    if anom <= 40: \n",
    "        icon = folium.features.CustomIcon('https://raw.githubusercontent.com/nicolasfauchereau/SIMS/master/TRMM/images/icons/orange.png',\\\n",
    "                                         icon_size=(size_icon[0]*0.05, size_icon[1]*0.05))\n",
    "        marker = folium.map.Marker([data.latitude, data.longitude], icon=icon, popup=popup)   \n",
    "    elif (anom > 40) & (anom <= 80):\n",
    "        icon = folium.features.CustomIcon('https://raw.githubusercontent.com/nicolasfauchereau/SIMS/master/TRMM/images/icons/yellow.png',\\\n",
    "                                         icon_size=(size_icon[0]*0.1, size_icon[1]*0.1))\n",
    "        marker = folium.map.Marker([data.latitude, data.longitude], icon=icon, popup=popup)   \n",
    "    elif (anom > 80) & (anom < 120):\n",
    "        icon = folium.features.CustomIcon('https://raw.githubusercontent.com/nicolasfauchereau/SIMS/master/TRMM/images/icons/green.png',\\\n",
    "                                         icon_size=(size_icon[0]*0.15, size_icon[1]*0.15))\n",
    "        marker = folium.map.Marker([data.latitude, data.longitude], icon=icon, popup=popup)  \n",
    "    elif (anom >= 120) & (anom < 160):\n",
    "        icon = folium.features.CustomIcon('https://raw.githubusercontent.com/nicolasfauchereau/SIMS/master/TRMM/images/icons/blue.png',\\\n",
    "                                         icon_size=(size_icon[0]*0.2, size_icon[1]*0.2))\n",
    "        marker = folium.map.Marker([data.latitude, data.longitude], icon=icon, popup=popup)  \n",
    "    elif anom > 160:\n",
    "        icon = folium.features.CustomIcon('https://raw.githubusercontent.com/nicolasfauchereau/SIMS/master/TRMM/images/icons/deepblue.png',\\\n",
    "                                         icon_size=(size_icon[0]*0.25, size_icon[1]*0.25))\n",
    "        marker = folium.map.Marker([data.latitude, data.longitude], icon=icon, popup=popup)  \n",
    "    \n",
    "#     c = folium.CircleMarker(location=[data.latitude, data.longitude], popup=popup, color='red', fill_color='red', \\\n",
    "#                         fill_opacity=0.4, radius=5000)\n",
    "    \n",
    "#     c  = folium.Marker(location=[data.latitude, data.longitude], popup=popup)\n",
    "    \n",
    "    # add to fature group\n",
    "    Solomon_stations.add_children(marker)"
   ]
  },
  {
   "cell_type": "code",
   "execution_count": 34,
   "metadata": {
    "collapsed": false
   },
   "outputs": [
    {
     "data": {
      "text/html": [
       "<div style=\"width:100%;\"><div style=\"position:relative;width:100%;height:0;padding-bottom:60%;\"><iframe src=\"data:text/html;base64,CiAgICAgICAgPCFET0NUWVBFIGh0bWw+CiAgICAgICAgPGhlYWQ+CiAgICAgICAgICAgIAogICAgICAgIAogICAgICAgICAgICA8bWV0YSBodHRwLWVxdWl2PSJjb250ZW50LXR5cGUiIGNvbnRlbnQ9InRleHQvaHRtbDsgY2hhcnNldD1VVEYtOCIgLz4KICAgICAgICAKICAgICAgICAgICAgCiAgICAgICAgCiAgICAgICAgICAgIDxzY3JpcHQgc3JjPSJodHRwczovL2NkbmpzLmNsb3VkZmxhcmUuY29tL2FqYXgvbGlicy9sZWFmbGV0LzAuNy4zL2xlYWZsZXQuanMiPjwvc2NyaXB0PgogICAgICAgIAogICAgICAgIAogICAgICAgIAogICAgICAgICAgICAKICAgICAgICAKICAgICAgICAgICAgPHNjcmlwdCBzcmM9Imh0dHBzOi8vYWpheC5nb29nbGVhcGlzLmNvbS9hamF4L2xpYnMvanF1ZXJ5LzEuMTEuMS9qcXVlcnkubWluLmpzIj48L3NjcmlwdD4KICAgICAgICAKICAgICAgICAKICAgICAgICAKICAgICAgICAgICAgCiAgICAgICAgCiAgICAgICAgICAgIDxzY3JpcHQgc3JjPSJodHRwczovL21heGNkbi5ib290c3RyYXBjZG4uY29tL2Jvb3RzdHJhcC8zLjIuMC9qcy9ib290c3RyYXAubWluLmpzIj48L3NjcmlwdD4KICAgICAgICAKICAgICAgICAKICAgICAgICAKICAgICAgICAgICAgCiAgICAgICAgCiAgICAgICAgICAgIDxzY3JpcHQgc3JjPSJodHRwczovL2NkbmpzLmNsb3VkZmxhcmUuY29tL2FqYXgvbGlicy9MZWFmbGV0LmF3ZXNvbWUtbWFya2Vycy8yLjAuMi9sZWFmbGV0LmF3ZXNvbWUtbWFya2Vycy5taW4uanMiPjwvc2NyaXB0PgogICAgICAgIAogICAgICAgIAogICAgICAgIAogICAgICAgICAgICAKICAgICAgICAKICAgICAgICAgICAgPHNjcmlwdCBzcmM9Imh0dHBzOi8vY2RuanMuY2xvdWRmbGFyZS5jb20vYWpheC9saWJzL2xlYWZsZXQubWFya2VyY2x1c3Rlci8wLjQuMC9sZWFmbGV0Lm1hcmtlcmNsdXN0ZXItc3JjLmpzIj48L3NjcmlwdD4KICAgICAgICAKICAgICAgICAKICAgICAgICAKICAgICAgICAgICAgCiAgICAgICAgCiAgICAgICAgICAgIDxzY3JpcHQgc3JjPSJodHRwczovL2NkbmpzLmNsb3VkZmxhcmUuY29tL2FqYXgvbGlicy9sZWFmbGV0Lm1hcmtlcmNsdXN0ZXIvMC40LjAvbGVhZmxldC5tYXJrZXJjbHVzdGVyLmpzIj48L3NjcmlwdD4KICAgICAgICAKICAgICAgICAKICAgICAgICAKICAgICAgICAgICAgCiAgICAgICAgCiAgICAgICAgICAgIDxsaW5rIHJlbD0ic3R5bGVzaGVldCIgaHJlZj0iaHR0cHM6Ly9jZG5qcy5jbG91ZGZsYXJlLmNvbS9hamF4L2xpYnMvbGVhZmxldC8wLjcuMy9sZWFmbGV0LmNzcyIgLz4KICAgICAgICAKICAgICAgICAKICAgICAgICAKICAgICAgICAgICAgCiAgICAgICAgCiAgICAgICAgICAgIDxsaW5rIHJlbD0ic3R5bGVzaGVldCIgaHJlZj0iaHR0cHM6Ly9tYXhjZG4uYm9vdHN0cmFwY2RuLmNvbS9ib290c3RyYXAvMy4yLjAvY3NzL2Jvb3RzdHJhcC5taW4uY3NzIiAvPgogICAgICAgIAogICAgICAgIAogICAgICAgIAogICAgICAgICAgICAKICAgICAgICAKICAgICAgICAgICAgPGxpbmsgcmVsPSJzdHlsZXNoZWV0IiBocmVmPSJodHRwczovL21heGNkbi5ib290c3RyYXBjZG4uY29tL2Jvb3RzdHJhcC8zLjIuMC9jc3MvYm9vdHN0cmFwLXRoZW1lLm1pbi5jc3MiIC8+CiAgICAgICAgCiAgICAgICAgCiAgICAgICAgCiAgICAgICAgICAgIAogICAgICAgIAogICAgICAgICAgICA8bGluayByZWw9InN0eWxlc2hlZXQiIGhyZWY9Imh0dHBzOi8vbWF4Y2RuLmJvb3RzdHJhcGNkbi5jb20vZm9udC1hd2Vzb21lLzQuMS4wL2Nzcy9mb250LWF3ZXNvbWUubWluLmNzcyIgLz4KICAgICAgICAKICAgICAgICAKICAgICAgICAKICAgICAgICAgICAgCiAgICAgICAgCiAgICAgICAgICAgIDxsaW5rIHJlbD0ic3R5bGVzaGVldCIgaHJlZj0iaHR0cHM6Ly9jZG5qcy5jbG91ZGZsYXJlLmNvbS9hamF4L2xpYnMvTGVhZmxldC5hd2Vzb21lLW1hcmtlcnMvMi4wLjIvbGVhZmxldC5hd2Vzb21lLW1hcmtlcnMuY3NzIiAvPgogICAgICAgIAogICAgICAgIAogICAgICAgIAogICAgICAgICAgICAKICAgICAgICAKICAgICAgICAgICAgPGxpbmsgcmVsPSJzdHlsZXNoZWV0IiBocmVmPSJodHRwczovL2NkbmpzLmNsb3VkZmxhcmUuY29tL2FqYXgvbGlicy9sZWFmbGV0Lm1hcmtlcmNsdXN0ZXIvMC40LjAvTWFya2VyQ2x1c3Rlci5EZWZhdWx0LmNzcyIgLz4KICAgICAgICAKICAgICAgICAKICAgICAgICAKICAgICAgICAgICAgCiAgICAgICAgCiAgICAgICAgICAgIDxsaW5rIHJlbD0ic3R5bGVzaGVldCIgaHJlZj0iaHR0cHM6Ly9jZG5qcy5jbG91ZGZsYXJlLmNvbS9hamF4L2xpYnMvbGVhZmxldC5tYXJrZXJjbHVzdGVyLzAuNC4wL01hcmtlckNsdXN0ZXIuY3NzIiAvPgogICAgICAgIAogICAgICAgIAogICAgICAgIAogICAgICAgICAgICAKICAgICAgICAKICAgICAgICAgICAgPGxpbmsgcmVsPSJzdHlsZXNoZWV0IiBocmVmPSJodHRwczovL3Jhdy5naXRodWJ1c2VyY29udGVudC5jb20vcHl0aG9uLXZpc3VhbGl6YXRpb24vZm9saXVtL21hc3Rlci9mb2xpdW0vdGVtcGxhdGVzL2xlYWZsZXQuYXdlc29tZS5yb3RhdGUuY3NzIiAvPgogICAgICAgIAogICAgICAgIAogICAgICAgIAogICAgICAgICAgICAKICAgICAgICAgICAgPHN0eWxlPgoKICAgICAgICAgICAgaHRtbCwgYm9keSB7CiAgICAgICAgICAgICAgICB3aWR0aDogMTAwJTsKICAgICAgICAgICAgICAgIGhlaWdodDogMTAwJTsKICAgICAgICAgICAgICAgIG1hcmdpbjogMDsKICAgICAgICAgICAgICAgIHBhZGRpbmc6IDA7CiAgICAgICAgICAgICAgICB9CgogICAgICAgICAgICAjbWFwIHsKICAgICAgICAgICAgICAgIHBvc2l0aW9uOmFic29sdXRlOwogICAgICAgICAgICAgICAgdG9wOjA7CiAgICAgICAgICAgICAgICBib3R0b206MDsKICAgICAgICAgICAgICAgIHJpZ2h0OjA7CiAgICAgICAgICAgICAgICBsZWZ0OjA7CiAgICAgICAgICAgICAgICB9CiAgICAgICAgICAgIDwvc3R5bGU+CiAgICAgICAgICAgIAogICAgICAgIAogICAgICAgICAgICAKICAgICAgICAgICAgPHN0eWxlPiAjbWFwXzJhNzRmNTEwZGMzNDQ1YzU4OTI3YTgzOTA1MTNmN2ZhIHsKICAgICAgICAgICAgICAgIHBvc2l0aW9uIDogcmVsYXRpdmU7CiAgICAgICAgICAgICAgICB3aWR0aCA6IDEwMC4wJTsKICAgICAgICAgICAgICAgIGhlaWdodDogMTAwLjAlOwogICAgICAgICAgICAgICAgbGVmdDogMC4wJTsKICAgICAgICAgICAgICAgIHRvcDogMC4wJTsKICAgICAgICAgICAgICAgIH0KICAgICAgICAgICAgPC9zdHlsZT4KICAgICAgICAKICAgICAgICAKICAgICAgICAKICAgICAgICA8L2hlYWQ+CiAgICAgICAgPGJvZHk+CiAgICAgICAgICAgIAogICAgICAgIAogICAgICAgICAgICAKICAgICAgICAgICAgPGRpdiBjbGFzcz0iZm9saXVtLW1hcCIgaWQ9Im1hcF8yYTc0ZjUxMGRjMzQ0NWM1ODkyN2E4MzkwNTEzZjdmYSIgPjwvZGl2PgogICAgICAgIAogICAgICAgIAogICAgICAgIAogICAgICAgIDwvYm9keT4KICAgICAgICA8c2NyaXB0PgogICAgICAgICAgICAKICAgICAgICAKICAgICAgICAgICAgCgogICAgICAgICAgICB2YXIgc291dGhXZXN0ID0gTC5sYXRMbmcoLTkwLCAwLjApOwogICAgICAgICAgICB2YXIgbm9ydGhFYXN0ID0gTC5sYXRMbmcoOTAsIDM2MC4wKTsKICAgICAgICAgICAgdmFyIGJvdW5kcyA9IEwubGF0TG5nQm91bmRzKHNvdXRoV2VzdCwgbm9ydGhFYXN0KTsKCiAgICAgICAgICAgIHZhciBtYXBfMmE3NGY1MTBkYzM0NDVjNTg5MjdhODM5MDUxM2Y3ZmEgPSBMLm1hcCgnbWFwXzJhNzRmNTEwZGMzNDQ1YzU4OTI3YTgzOTA1MTNmN2ZhJywgewogICAgICAgICAgICAgICAgICAgICAgICAgICAgICAgICAgICAgICAgICAgY2VudGVyOlstOSwxNjNdLAogICAgICAgICAgICAgICAgICAgICAgICAgICAgICAgICAgICAgICAgICAgem9vbTogNiwKICAgICAgICAgICAgICAgICAgICAgICAgICAgICAgICAgICAgICAgICAgIG1heEJvdW5kczogYm91bmRzLAogICAgICAgICAgICAgICAgICAgICAgICAgICAgICAgICAgICAgICAgICAgbGF5ZXJzOiBbXSwKICAgICAgICAgICAgICAgICAgICAgICAgICAgICAgICAgICAgICAgICAgIGNyczogTC5DUlMuRVBTRzM4NTcKICAgICAgICAgICAgICAgICAgICAgICAgICAgICAgICAgICAgICAgICB9KTsKICAgICAgICAgICAgCiAgICAgICAgCiAgICAgICAgCiAgICAgICAgICAgIAogICAgICAgICAgICB2YXIgdGlsZV9sYXllcl9hODhiZGEyYjdiNDg0MGQwODk2MjcxNGFiYzA1ZWNmOSA9IEwudGlsZUxheWVyKAogICAgICAgICAgICAgICAgJ2h0dHBzOi8ve3N9LnRpbGUub3BlbnN0cmVldG1hcC5vcmcve3p9L3t4fS97eX0ucG5nJywKICAgICAgICAgICAgICAgIHsKICAgICAgICAgICAgICAgICAgICBtYXhab29tOiAxOCwKICAgICAgICAgICAgICAgICAgICBtaW5ab29tOiAxLAogICAgICAgICAgICAgICAgICAgIGF0dHJpYnV0aW9uOiAnRGF0YSBieSA8YSBocmVmPSJodHRwOi8vb3BlbnN0cmVldG1hcC5vcmciPk9wZW5TdHJlZXRNYXA8L2E+LCB1bmRlciA8YSBocmVmPSJodHRwOi8vd3d3Lm9wZW5zdHJlZXRtYXAub3JnL2NvcHlyaWdodCI+T0RiTDwvYT4uJywKICAgICAgICAgICAgICAgICAgICBkZXRlY3RSZXRpbmE6IHRydWUKICAgICAgICAgICAgICAgICAgICB9CiAgICAgICAgICAgICAgICApLmFkZFRvKG1hcF8yYTc0ZjUxMGRjMzQ0NWM1ODkyN2E4MzkwNTEzZjdmYSk7CgogICAgICAgIAogICAgICAgIAogICAgICAgICAgICAKICAgICAgICAgICAgdmFyIHRpbGVfbGF5ZXJfZmFmODVlYzk0ZmU0NDk0MzlhOThhNTgyZTExY2M5ZDUgPSBMLnRpbGVMYXllcigKICAgICAgICAgICAgICAgICdodHRwOi8vc2VydmVyLmFyY2dpc29ubGluZS5jb20vQXJjR0lTL3Jlc3Qvc2VydmljZXMvV29ybGRfSW1hZ2VyeS9NYXBTZXJ2ZXIvdGlsZS97en0ve3l9L3t4fScsCiAgICAgICAgICAgICAgICB7CiAgICAgICAgICAgICAgICAgICAgbWF4Wm9vbTogMTgsCiAgICAgICAgICAgICAgICAgICAgbWluWm9vbTogMSwKICAgICAgICAgICAgICAgICAgICBhdHRyaWJ1dGlvbjogJ0VTUkknLAogICAgICAgICAgICAgICAgICAgIGRldGVjdFJldGluYTogZmFsc2UKICAgICAgICAgICAgICAgICAgICB9CiAgICAgICAgICAgICAgICApLmFkZFRvKG1hcF8yYTc0ZjUxMGRjMzQ0NWM1ODkyN2E4MzkwNTEzZjdmYSk7CgogICAgICAgIAogICAgICAgIAogICAgICAgICAgICAKICAgICAgICAgICAgdmFyIHRpbGVfbGF5ZXJfZDY1Yzg1NDg0YTUwNGJkMzk3NmNmN2Y0NjRlNmJmYzMgPSBMLnRpbGVMYXllcigKICAgICAgICAgICAgICAgICdodHRwOi8vc2VydmljZXMuYXJjZ2lzb25saW5lLmNvbS9hcmNnaXMvcmVzdC9zZXJ2aWNlcy9Xb3JsZF9Ub3BvX01hcC9NYXBTZXJ2ZXIvdGlsZS97en0ve3l9L3t4fScsCiAgICAgICAgICAgICAgICB7CiAgICAgICAgICAgICAgICAgICAgbWF4Wm9vbTogMTgsCiAgICAgICAgICAgICAgICAgICAgbWluWm9vbTogMSwKICAgICAgICAgICAgICAgICAgICBhdHRyaWJ1dGlvbjogJ0VTUkknLAogICAgICAgICAgICAgICAgICAgIGRldGVjdFJldGluYTogZmFsc2UKICAgICAgICAgICAgICAgICAgICB9CiAgICAgICAgICAgICAgICApLmFkZFRvKG1hcF8yYTc0ZjUxMGRjMzQ0NWM1ODkyN2E4MzkwNTEzZjdmYSk7CgogICAgICAgIAogICAgICAgIAogICAgICAgICAgICAKICAgICAgICAgICAgdmFyIHRpbGVfbGF5ZXJfMmFiZWZhN2E2NmQxNDFjM2I3ZTNjYjliZjY1NDdlMWMgPSBMLnRpbGVMYXllcigKICAgICAgICAgICAgICAgICdodHRwOi8vc2VydmljZXMuYXJjZ2lzb25saW5lLmNvbS9hcmNnaXMvcmVzdC9zZXJ2aWNlcy9Xb3JsZF9TdHJlZXRfTWFwL01hcFNlcnZlci90aWxlL3t6fS97eX0ve3h9JywKICAgICAgICAgICAgICAgIHsKICAgICAgICAgICAgICAgICAgICBtYXhab29tOiAxOCwKICAgICAgICAgICAgICAgICAgICBtaW5ab29tOiAxLAogICAgICAgICAgICAgICAgICAgIGF0dHJpYnV0aW9uOiAnRVNSSScsCiAgICAgICAgICAgICAgICAgICAgZGV0ZWN0UmV0aW5hOiBmYWxzZQogICAgICAgICAgICAgICAgICAgIH0KICAgICAgICAgICAgICAgICkuYWRkVG8obWFwXzJhNzRmNTEwZGMzNDQ1YzU4OTI3YTgzOTA1MTNmN2ZhKTsKCiAgICAgICAgCiAgICAgICAgCiAgICAgICAgICAgIAogICAgICAgICAgICB2YXIgZmVhdHVyZV9ncm91cF8zMDYzZmQ0MjE1Yzg0NTc2OTgxNWE2ZGI2ZTM2M2Y2YSA9IEwuZmVhdHVyZUdyb3VwKAogICAgICAgICAgICAgICAgKS5hZGRUbyhtYXBfMmE3NGY1MTBkYzM0NDVjNTg5MjdhODM5MDUxM2Y3ZmEpOwogICAgICAgIAogICAgICAgIAogICAgICAgICAgICAKCiAgICAgICAgICAgIHZhciBtYXJrZXJfOTdjZmQ3ZWQ3OWM5NDUwMGE1NGFmMTdiNjE2YjNiYzAgPSBMLm1hcmtlcigKICAgICAgICAgICAgICAgIFstOS4wNjY3LDE1OS4yMTY3XSwKICAgICAgICAgICAgICAgIHsKICAgICAgICAgICAgICAgICAgICBpY29uOiBuZXcgTC5JY29uLkRlZmF1bHQoKQogICAgICAgICAgICAgICAgICAgIH0KICAgICAgICAgICAgICAgICkKICAgICAgICAgICAgICAgIC5hZGRUbyhmZWF0dXJlX2dyb3VwXzMwNjNmZDQyMTVjODQ1NzY5ODE1YTZkYjZlMzYzZjZhKTsKICAgICAgICAgICAgCiAgICAgICAgCiAgICAgICAgICAgIAoKICAgICAgICAgICAgICAgIHZhciBjdXN0b21faWNvbl9jZGU4ZDViNTI0OTU0NTc0OTczNzM4NDQwZTY2ZDIzZiA9IEwuaWNvbih7CiAgICAgICAgICAgICAgICAgICAgaWNvblVybDogJ2h0dHBzOi8vcmF3LmdpdGh1YnVzZXJjb250ZW50LmNvbS9uaWNvbGFzZmF1Y2hlcmVhdS9TSU1TL21hc3Rlci9UUk1NL2ltYWdlcy9pY29ucy95ZWxsb3cucG5nJywKICAgICAgICAgICAgICAgICAgICBpY29uU2l6ZTogWzE4LjgsMzIuNV0sCiAgICAgICAgICAgICAgICAgICAgCgogICAgICAgICAgICAgICAgICAgIAogICAgICAgICAgICAgICAgICAgIAogICAgICAgICAgICAgICAgICAgIAoKICAgICAgICAgICAgICAgICAgICAKICAgICAgICAgICAgICAgICAgICB9KTsKICAgICAgICAgICAgICAgIG1hcmtlcl85N2NmZDdlZDc5Yzk0NTAwYTU0YWYxN2I2MTZiM2JjMC5zZXRJY29uKGN1c3RvbV9pY29uX2NkZThkNWI1MjQ5NTQ1NzQ5NzM3Mzg0NDBlNjZkMjNmKTsKICAgICAgICAgICAgCiAgICAgICAgCiAgICAgICAgICAgIAogICAgICAgICAgICB2YXIgcG9wdXBfMGJlNzVkNzRmZmExNDQ1YzkzZWQ0ZjA4YTc1NDcyMmYgPSBMLnBvcHVwKHttYXhXaWR0aDogJzYwMCd9KTsKCiAgICAgICAgICAgIAogICAgICAgICAgICAgICAgdmFyIGlfZnJhbWVfZjVhYWFiMGRiY2E0NGRkNGEzM2U5N2M1YjE4NWZlMzAgPSAkKCc8aWZyYW1lIHNyYz0iZGF0YTp0ZXh0L2h0bWw7YmFzZTY0LENpQWdJQ0FnSUNBZ0NpQWdJQ0FnSUNBZ0lDQWdJQW9nSUNBZ1BHWnZiblFnWm1GalpUMGlkbVZ5WkdGdVlTSStDaUFnSUNBOFpHbDJJR0ZzYVdkdVBTZGpaVzUwWlhJblBqeG9ORDRLSUNBZ0lFeGhjM1FnT1RBZ1pHRjVjeUFvZEc4Z2RHaGxJREl3TVRZdE1EZ3RNVGNnVlZSREtTQmxjM1JwYldGMFpYTWdXMVJTVFUwdlZFMVFRVjBnWm05eUlGbGhibVJwYm1FOEwyZzBQZ29nSUNBZ2IySnpaWEoyWldRZ1BTQThZajQwTWpFOEwySStJRzF0SUR4aWNqNEtJQ0FnSUdOc2FXMWhkRzlzYjJkNUlEMGdQR0krTlRZeFBDOWlQaUJ0YlNBOFluSStDaUFnSUNCd1pYSmpaVzUwTGlCdlppQnViM0p0WVd3Z1BTQThZajQzTlM0d05EeGlQaUFsQ2lBZ0lDQThZbkkrUEdKeVBnb2dJQ0FnUEdFZ2FISmxaajBpYUhSMGNITTZMeTlqWkc0dWNtRjNaMmwwTG1OdmJTOXVhV052YkdGelptRjFZMmhsY21WaGRTOVRTVTFUTDIxaGMzUmxjaTlVVWsxTkwzZDNkeTlXYVhKMGRXRnNYMU4wWVhScGIyNWZXV0Z1WkdsdVlWODVNRzVrWVhsekxtaDBiV3dpSUhSaGNtZGxkRDBpWDJKc1lXNXJJajVqYkdsamF5Qm9aWEpsSUdadmNpQjBhR1VnZEdsdFpTMXpaWEpwWlhNOEwyRStDaUFnSUNBOEwyWnZiblErQ2lBZ0lDQUtJQ0FnSUNBZ0lDQUtJQ0FnSUNBZ0lDQT0iIHdpZHRoPSIzMDAiIGhlaWdodD0iMjAwIj48L2lmcmFtZT4nKVswXTsKICAgICAgICAgICAgICAgIHBvcHVwXzBiZTc1ZDc0ZmZhMTQ0NWM5M2VkNGYwOGE3NTQ3MjJmLnNldENvbnRlbnQoaV9mcmFtZV9mNWFhYWIwZGJjYTQ0ZGQ0YTMzZTk3YzViMTg1ZmUzMCk7CiAgICAgICAgICAgIAoKICAgICAgICAgICAgbWFya2VyXzk3Y2ZkN2VkNzljOTQ1MDBhNTRhZjE3YjYxNmIzYmMwLmJpbmRQb3B1cChwb3B1cF8wYmU3NWQ3NGZmYTE0NDVjOTNlZDRmMDhhNzU0NzIyZik7CgogICAgICAgICAgICAKICAgICAgICAKICAgICAgICAKICAgICAgICAgICAgCgogICAgICAgICAgICB2YXIgbWFya2VyXzIxNDc3OTE2ODBmZDRlMWRhOWEzYzllYjUzYjg2YTFjID0gTC5tYXJrZXIoCiAgICAgICAgICAgICAgICBbLTYuNzExOTQ0LDE1Ni4zOTYxMTFdLAogICAgICAgICAgICAgICAgewogICAgICAgICAgICAgICAgICAgIGljb246IG5ldyBMLkljb24uRGVmYXVsdCgpCiAgICAgICAgICAgICAgICAgICAgfQogICAgICAgICAgICAgICAgKQogICAgICAgICAgICAgICAgLmFkZFRvKGZlYXR1cmVfZ3JvdXBfMzA2M2ZkNDIxNWM4NDU3Njk4MTVhNmRiNmUzNjNmNmEpOwogICAgICAgICAgICAKICAgICAgICAKICAgICAgICAgICAgCgogICAgICAgICAgICAgICAgdmFyIGN1c3RvbV9pY29uXzY0OGQxMjg3ZGY1NjRhYWFiMjVjMjlmODI4Njc0OGVhID0gTC5pY29uKHsKICAgICAgICAgICAgICAgICAgICBpY29uVXJsOiAnaHR0cHM6Ly9yYXcuZ2l0aHVidXNlcmNvbnRlbnQuY29tL25pY29sYXNmYXVjaGVyZWF1L1NJTVMvbWFzdGVyL1RSTU0vaW1hZ2VzL2ljb25zL2dyZWVuLnBuZycsCiAgICAgICAgICAgICAgICAgICAgaWNvblNpemU6IFsyOC4yLDQ4Ljc1XSwKICAgICAgICAgICAgICAgICAgICAKCiAgICAgICAgICAgICAgICAgICAgCiAgICAgICAgICAgICAgICAgICAgCiAgICAgICAgICAgICAgICAgICAgCgogICAgICAgICAgICAgICAgICAgIAogICAgICAgICAgICAgICAgICAgIH0pOwogICAgICAgICAgICAgICAgbWFya2VyXzIxNDc3OTE2ODBmZDRlMWRhOWEzYzllYjUzYjg2YTFjLnNldEljb24oY3VzdG9tX2ljb25fNjQ4ZDEyODdkZjU2NGFhYWIyNWMyOWY4Mjg2NzQ4ZWEpOwogICAgICAgICAgICAKICAgICAgICAKICAgICAgICAgICAgCiAgICAgICAgICAgIHZhciBwb3B1cF9kNGM4OTM2NWVkNjU0YWRiYmFlMDlmYzIwZTA2MDNjZCA9IEwucG9wdXAoe21heFdpZHRoOiAnNjAwJ30pOwoKICAgICAgICAgICAgCiAgICAgICAgICAgICAgICB2YXIgaV9mcmFtZV83YmFlZTU4NTI5ZTA0YTZhOWFmMDRiOTc0ZmRiN2U3YSA9ICQoJzxpZnJhbWUgc3JjPSJkYXRhOnRleHQvaHRtbDtiYXNlNjQsQ2lBZ0lDQWdJQ0FnQ2lBZ0lDQWdJQ0FnSUNBZ0lBb2dJQ0FnUEdadmJuUWdabUZqWlQwaWRtVnlaR0Z1WVNJK0NpQWdJQ0E4WkdsMklHRnNhV2R1UFNkalpXNTBaWEluUGp4b05ENEtJQ0FnSUV4aGMzUWdPVEFnWkdGNWN5QW9kRzhnZEdobElESXdNVFl0TURndE1UY2dWVlJES1NCbGMzUnBiV0YwWlhNZ1cxUlNUVTB2VkUxUVFWMGdabTl5SUVOb2IybHpkV1ZzSUVKaGVUd3ZhRFErQ2lBZ0lDQnZZbk5sY25abFpDQTlJRHhpUGpjNU9Ed3ZZajRnYlcwZ1BHSnlQZ29nSUNBZ1kyeHBiV0YwYjJ4dloza2dQU0E4WWo0NU5EZzhMMkkrSUcxdElEeGljajRLSUNBZ0lIQmxjbU5sYm5RdUlHOW1JRzV2Y20xaGJDQTlJRHhpUGpnMExqRTRQR0krSUNVS0lDQWdJRHhpY2o0OFluSStDaUFnSUNBOFlTQm9jbVZtUFNKb2RIUndjem92TDJOa2JpNXlZWGRuYVhRdVkyOXRMMjVwWTI5c1lYTm1ZWFZqYUdWeVpXRjFMMU5KVFZNdmJXRnpkR1Z5TDFSU1RVMHZkM2QzTDFacGNuUjFZV3hmVTNSaGRHbHZibDlEYUc5cGMzVmxiQ0JDWVhsZk9UQnVaR0Y1Y3k1b2RHMXNJaUIwWVhKblpYUTlJbDlpYkdGdWF5SStZMnhwWTJzZ2FHVnlaU0JtYjNJZ2RHaGxJSFJwYldVdGMyVnlhV1Z6UEM5aFBnb2dJQ0FnUEM5bWIyNTBQZ29nSUNBZ0NpQWdJQ0FnSUNBZ0NpQWdJQ0FnSUNBZyIgd2lkdGg9IjMwMCIgaGVpZ2h0PSIyMDAiPjwvaWZyYW1lPicpWzBdOwogICAgICAgICAgICAgICAgcG9wdXBfZDRjODkzNjVlZDY1NGFkYmJhZTA5ZmMyMGUwNjAzY2Quc2V0Q29udGVudChpX2ZyYW1lXzdiYWVlNTg1MjllMDRhNmE5YWYwNGI5NzRmZGI3ZTdhKTsKICAgICAgICAgICAgCgogICAgICAgICAgICBtYXJrZXJfMjE0Nzc5MTY4MGZkNGUxZGE5YTNjOWViNTNiODZhMWMuYmluZFBvcHVwKHBvcHVwX2Q0Yzg5MzY1ZWQ2NTRhZGJiYWUwOWZjMjBlMDYwM2NkKTsKCiAgICAgICAgICAgIAogICAgICAgIAogICAgICAgIAogICAgICAgICAgICAKCiAgICAgICAgICAgIHZhciBtYXJrZXJfYzBmMDE5MTk1YjdlNGFkOGI2MzM1MDdiYzZmYWY5ZjEgPSBMLm1hcmtlcigKICAgICAgICAgICAgICAgIFstNy4wODMzLDE1Ni43NV0sCiAgICAgICAgICAgICAgICB7CiAgICAgICAgICAgICAgICAgICAgaWNvbjogbmV3IEwuSWNvbi5EZWZhdWx0KCkKICAgICAgICAgICAgICAgICAgICB9CiAgICAgICAgICAgICAgICApCiAgICAgICAgICAgICAgICAuYWRkVG8oZmVhdHVyZV9ncm91cF8zMDYzZmQ0MjE1Yzg0NTc2OTgxNWE2ZGI2ZTM2M2Y2YSk7CiAgICAgICAgICAgIAogICAgICAgIAogICAgICAgICAgICAKCiAgICAgICAgICAgICAgICB2YXIgY3VzdG9tX2ljb25fZGE1YjY5Y2RiM2UwNDM2OTgzMTVhMDE4YzlhODc3YzIgPSBMLmljb24oewogICAgICAgICAgICAgICAgICAgIGljb25Vcmw6ICdodHRwczovL3Jhdy5naXRodWJ1c2VyY29udGVudC5jb20vbmljb2xhc2ZhdWNoZXJlYXUvU0lNUy9tYXN0ZXIvVFJNTS9pbWFnZXMvaWNvbnMveWVsbG93LnBuZycsCiAgICAgICAgICAgICAgICAgICAgaWNvblNpemU6IFsxOC44LDMyLjVdLAogICAgICAgICAgICAgICAgICAgIAoKICAgICAgICAgICAgICAgICAgICAKICAgICAgICAgICAgICAgICAgICAKICAgICAgICAgICAgICAgICAgICAKCiAgICAgICAgICAgICAgICAgICAgCiAgICAgICAgICAgICAgICAgICAgfSk7CiAgICAgICAgICAgICAgICBtYXJrZXJfYzBmMDE5MTk1YjdlNGFkOGI2MzM1MDdiYzZmYWY5ZjEuc2V0SWNvbihjdXN0b21faWNvbl9kYTViNjljZGIzZTA0MzY5ODMxNWEwMThjOWE4NzdjMik7CiAgICAgICAgICAgIAogICAgICAgIAogICAgICAgICAgICAKICAgICAgICAgICAgdmFyIHBvcHVwXzFjM2RiNDZkYjdmYzRkNDZhYTZkMzc1NmU1N2RkZDBjID0gTC5wb3B1cCh7bWF4V2lkdGg6ICc2MDAnfSk7CgogICAgICAgICAgICAKICAgICAgICAgICAgICAgIHZhciBpX2ZyYW1lXzNjZDMwZTg5N2ExMDRlZjNhMDI2NzMwYTQxYjJlNDQ4ID0gJCgnPGlmcmFtZSBzcmM9ImRhdGE6dGV4dC9odG1sO2Jhc2U2NCxDaUFnSUNBZ0lDQWdDaUFnSUNBZ0lDQWdJQ0FnSUFvZ0lDQWdQR1p2Ym5RZ1ptRmpaVDBpZG1WeVpHRnVZU0krQ2lBZ0lDQThaR2wySUdGc2FXZHVQU2RqWlc1MFpYSW5QanhvTkQ0S0lDQWdJRXhoYzNRZ09UQWdaR0Y1Y3lBb2RHOGdkR2hsSURJd01UWXRNRGd0TVRjZ1ZWUkRLU0JsYzNScGJXRjBaWE1nVzFSU1RVMHZWRTFRUVYwZ1ptOXlJRk5oYzJGdGRXNW5aMkU4TDJnMFBnb2dJQ0FnYjJKelpYSjJaV1FnUFNBOFlqNDFNemc4TDJJK0lHMXRJRHhpY2o0S0lDQWdJR05zYVcxaGRHOXNiMmQ1SUQwZ1BHSStOemcxUEM5aVBpQnRiU0E4WW5JK0NpQWdJQ0J3WlhKalpXNTBMaUJ2WmlCdWIzSnRZV3dnUFNBOFlqNDJPQzQxTkR4aVBpQWxDaUFnSUNBOFluSStQR0p5UGdvZ0lDQWdQR0VnYUhKbFpqMGlhSFIwY0hNNkx5OWpaRzR1Y21GM1oybDBMbU52YlM5dWFXTnZiR0Z6Wm1GMVkyaGxjbVZoZFM5VFNVMVRMMjFoYzNSbGNpOVVVazFOTDNkM2R5OVdhWEowZFdGc1gxTjBZWFJwYjI1ZlUyRnpZVzExYm1kbllWODVNRzVrWVhsekxtaDBiV3dpSUhSaGNtZGxkRDBpWDJKc1lXNXJJajVqYkdsamF5Qm9aWEpsSUdadmNpQjBhR1VnZEdsdFpTMXpaWEpwWlhNOEwyRStDaUFnSUNBOEwyWnZiblErQ2lBZ0lDQUtJQ0FnSUNBZ0lDQUtJQ0FnSUNBZ0lDQT0iIHdpZHRoPSIzMDAiIGhlaWdodD0iMjAwIj48L2lmcmFtZT4nKVswXTsKICAgICAgICAgICAgICAgIHBvcHVwXzFjM2RiNDZkYjdmYzRkNDZhYTZkMzc1NmU1N2RkZDBjLnNldENvbnRlbnQoaV9mcmFtZV8zY2QzMGU4OTdhMTA0ZWYzYTAyNjczMGE0MWIyZTQ0OCk7CiAgICAgICAgICAgIAoKICAgICAgICAgICAgbWFya2VyX2MwZjAxOTE5NWI3ZTRhZDhiNjMzNTA3YmM2ZmFmOWYxLmJpbmRQb3B1cChwb3B1cF8xYzNkYjQ2ZGI3ZmM0ZDQ2YWE2ZDM3NTZlNTdkZGQwYyk7CgogICAgICAgICAgICAKICAgICAgICAKICAgICAgICAKICAgICAgICAgICAgCgogICAgICAgICAgICB2YXIgbWFya2VyX2M3ZmJiMzE0MDRmZTQwYTc5NjY3OTlmNzE0YjMwNjBjID0gTC5tYXJrZXIoCiAgICAgICAgICAgICAgICBbLTcuNDY5LDE1Ny43NDM0XSwKICAgICAgICAgICAgICAgIHsKICAgICAgICAgICAgICAgICAgICBpY29uOiBuZXcgTC5JY29uLkRlZmF1bHQoKQogICAgICAgICAgICAgICAgICAgIH0KICAgICAgICAgICAgICAgICkKICAgICAgICAgICAgICAgIC5hZGRUbyhmZWF0dXJlX2dyb3VwXzMwNjNmZDQyMTVjODQ1NzY5ODE1YTZkYjZlMzYzZjZhKTsKICAgICAgICAgICAgCiAgICAgICAgCiAgICAgICAgICAgIAoKICAgICAgICAgICAgICAgIHZhciBjdXN0b21faWNvbl85NjJlZjNiNDYxNmI0YTUwYmEwNTA4ZGZhMjhhMzM1NSA9IEwuaWNvbih7CiAgICAgICAgICAgICAgICAgICAgaWNvblVybDogJ2h0dHBzOi8vcmF3LmdpdGh1YnVzZXJjb250ZW50LmNvbS9uaWNvbGFzZmF1Y2hlcmVhdS9TSU1TL21hc3Rlci9UUk1NL2ltYWdlcy9pY29ucy95ZWxsb3cucG5nJywKICAgICAgICAgICAgICAgICAgICBpY29uU2l6ZTogWzE4LjgsMzIuNV0sCiAgICAgICAgICAgICAgICAgICAgCgogICAgICAgICAgICAgICAgICAgIAogICAgICAgICAgICAgICAgICAgIAogICAgICAgICAgICAgICAgICAgIAoKICAgICAgICAgICAgICAgICAgICAKICAgICAgICAgICAgICAgICAgICB9KTsKICAgICAgICAgICAgICAgIG1hcmtlcl9jN2ZiYjMxNDA0ZmU0MGE3OTY2Nzk5ZjcxNGIzMDYwYy5zZXRJY29uKGN1c3RvbV9pY29uXzk2MmVmM2I0NjE2YjRhNTBiYTA1MDhkZmEyOGEzMzU1KTsKICAgICAgICAgICAgCiAgICAgICAgCiAgICAgICAgICAgIAogICAgICAgICAgICB2YXIgcG9wdXBfY2JlOTg1YzE4MTVjNDhjODg3ZDdlMjQxYTgyNmE1MDIgPSBMLnBvcHVwKHttYXhXaWR0aDogJzYwMCd9KTsKCiAgICAgICAgICAgIAogICAgICAgICAgICAgICAgdmFyIGlfZnJhbWVfMmFhOTljNDhjZjUyNGQwZjhjNDMxYTdmMTdhNjZkZmMgPSAkKCc8aWZyYW1lIHNyYz0iZGF0YTp0ZXh0L2h0bWw7YmFzZTY0LENpQWdJQ0FnSUNBZ0NpQWdJQ0FnSUNBZ0lDQWdJQW9nSUNBZ1BHWnZiblFnWm1GalpUMGlkbVZ5WkdGdVlTSStDaUFnSUNBOFpHbDJJR0ZzYVdkdVBTZGpaVzUwWlhJblBqeG9ORDRLSUNBZ0lFeGhjM1FnT1RBZ1pHRjVjeUFvZEc4Z2RHaGxJREl3TVRZdE1EZ3RNVGNnVlZSREtTQmxjM1JwYldGMFpYTWdXMVJTVFUwdlZFMVFRVjBnWm05eUlGZGhaMmx1WVR3dmFEUStDaUFnSUNCdlluTmxjblpsWkNBOUlEeGlQall6T1R3dllqNGdiVzBnUEdKeVBnb2dJQ0FnWTJ4cGJXRjBiMnh2WjNrZ1BTQThZajQ1T0RBOEwySStJRzF0SUR4aWNqNEtJQ0FnSUhCbGNtTmxiblF1SUc5bUlHNXZjbTFoYkNBOUlEeGlQalkxTGpJd1BHSStJQ1VLSUNBZ0lEeGljajQ4WW5JK0NpQWdJQ0E4WVNCb2NtVm1QU0pvZEhSd2N6b3ZMMk5rYmk1eVlYZG5hWFF1WTI5dEwyNXBZMjlzWVhObVlYVmphR1Z5WldGMUwxTkpUVk12YldGemRHVnlMMVJTVFUwdmQzZDNMMVpwY25SMVlXeGZVM1JoZEdsdmJsOVhZV2RwYm1GZk9UQnVaR0Y1Y3k1b2RHMXNJaUIwWVhKblpYUTlJbDlpYkdGdWF5SStZMnhwWTJzZ2FHVnlaU0JtYjNJZ2RHaGxJSFJwYldVdGMyVnlhV1Z6UEM5aFBnb2dJQ0FnUEM5bWIyNTBQZ29nSUNBZ0NpQWdJQ0FnSUNBZ0NpQWdJQ0FnSUNBZyIgd2lkdGg9IjMwMCIgaGVpZ2h0PSIyMDAiPjwvaWZyYW1lPicpWzBdOwogICAgICAgICAgICAgICAgcG9wdXBfY2JlOTg1YzE4MTVjNDhjODg3ZDdlMjQxYTgyNmE1MDIuc2V0Q29udGVudChpX2ZyYW1lXzJhYTk5YzQ4Y2Y1MjRkMGY4YzQzMWE3ZjE3YTY2ZGZjKTsKICAgICAgICAgICAgCgogICAgICAgICAgICBtYXJrZXJfYzdmYmIzMTQwNGZlNDBhNzk2Njc5OWY3MTRiMzA2MGMuYmluZFBvcHVwKHBvcHVwX2NiZTk4NWMxODE1YzQ4Yzg4N2Q3ZTI0MWE4MjZhNTAyKTsKCiAgICAgICAgICAgIAogICAgICAgIAogICAgICAgIAogICAgICAgICAgICAKCiAgICAgICAgICAgIHZhciBtYXJrZXJfYjY5MTllYTM1NjMzNGIyOGE0ZTBiNTIyYTlkZWIzZDIgPSBMLm1hcmtlcigKICAgICAgICAgICAgICAgIFstOS4yNSwxNTkuNjVdLAogICAgICAgICAgICAgICAgewogICAgICAgICAgICAgICAgICAgIGljb246IG5ldyBMLkljb24uRGVmYXVsdCgpCiAgICAgICAgICAgICAgICAgICAgfQogICAgICAgICAgICAgICAgKQogICAgICAgICAgICAgICAgLmFkZFRvKGZlYXR1cmVfZ3JvdXBfMzA2M2ZkNDIxNWM4NDU3Njk4MTVhNmRiNmUzNjNmNmEpOwogICAgICAgICAgICAKICAgICAgICAKICAgICAgICAgICAgCgogICAgICAgICAgICAgICAgdmFyIGN1c3RvbV9pY29uXzI5ZThlZWRiOWI4ZDQzMjZiYzhlZmU4NzczYzJiODVjID0gTC5pY29uKHsKICAgICAgICAgICAgICAgICAgICBpY29uVXJsOiAnaHR0cHM6Ly9yYXcuZ2l0aHVidXNlcmNvbnRlbnQuY29tL25pY29sYXNmYXVjaGVyZWF1L1NJTVMvbWFzdGVyL1RSTU0vaW1hZ2VzL2ljb25zL2dyZWVuLnBuZycsCiAgICAgICAgICAgICAgICAgICAgaWNvblNpemU6IFsyOC4yLDQ4Ljc1XSwKICAgICAgICAgICAgICAgICAgICAKCiAgICAgICAgICAgICAgICAgICAgCiAgICAgICAgICAgICAgICAgICAgCiAgICAgICAgICAgICAgICAgICAgCgogICAgICAgICAgICAgICAgICAgIAogICAgICAgICAgICAgICAgICAgIH0pOwogICAgICAgICAgICAgICAgbWFya2VyX2I2OTE5ZWEzNTYzMzRiMjhhNGUwYjUyMmE5ZGViM2QyLnNldEljb24oY3VzdG9tX2ljb25fMjllOGVlZGI5YjhkNDMyNmJjOGVmZTg3NzNjMmI4NWMpOwogICAgICAgICAgICAKICAgICAgICAKICAgICAgICAgICAgCiAgICAgICAgICAgIHZhciBwb3B1cF85MTI5NDRmNzU2OWY0YThmYmI1MGZmMGFkODUyN2UzNyA9IEwucG9wdXAoe21heFdpZHRoOiAnNjAwJ30pOwoKICAgICAgICAgICAgCiAgICAgICAgICAgICAgICB2YXIgaV9mcmFtZV80Y2Y1ZTNhNzM1MjI0YmE4YTNiOTRhY2FlMDVjNmFhYyA9ICQoJzxpZnJhbWUgc3JjPSJkYXRhOnRleHQvaHRtbDtiYXNlNjQsQ2lBZ0lDQWdJQ0FnQ2lBZ0lDQWdJQ0FnSUNBZ0lBb2dJQ0FnUEdadmJuUWdabUZqWlQwaWRtVnlaR0Z1WVNJK0NpQWdJQ0E4WkdsMklHRnNhV2R1UFNkalpXNTBaWEluUGp4b05ENEtJQ0FnSUV4aGMzUWdPVEFnWkdGNWN5QW9kRzhnZEdobElESXdNVFl0TURndE1UY2dWVlJES1NCbGMzUnBiV0YwWlhNZ1cxUlNUVTB2VkUxUVFWMGdabTl5SUV0bGMyRnZQQzlvTkQ0S0lDQWdJRzlpYzJWeWRtVmtJRDBnUEdJK016UXlQQzlpUGlCdGJTQThZbkkrQ2lBZ0lDQmpiR2x0WVhSdmJHOW5lU0E5SUR4aVBqUXlNend2WWo0Z2JXMGdQR0p5UGdvZ0lDQWdjR1Z5WTJWdWRDNGdiMllnYm05eWJXRnNJRDBnUEdJK09EQXVPRFU4WWo0Z0pRb2dJQ0FnUEdKeVBqeGljajRLSUNBZ0lEeGhJR2h5WldZOUltaDBkSEJ6T2k4dlkyUnVMbkpoZDJkcGRDNWpiMjB2Ym1samIyeGhjMlpoZFdOb1pYSmxZWFV2VTBsTlV5OXRZWE4wWlhJdlZGSk5UUzkzZDNjdlZtbHlkSFZoYkY5VGRHRjBhVzl1WDB0bGMyRnZYemt3Ym1SaGVYTXVhSFJ0YkNJZ2RHRnlaMlYwUFNKZllteGhibXNpUG1Oc2FXTnJJR2hsY21VZ1ptOXlJSFJvWlNCMGFXMWxMWE5sY21sbGN6d3ZZVDRLSUNBZ0lEd3ZabTl1ZEQ0S0lDQWdJQW9nSUNBZ0lDQWdJQW9nSUNBZ0lDQWdJQT09IiB3aWR0aD0iMzAwIiBoZWlnaHQ9IjIwMCI+PC9pZnJhbWU+JylbMF07CiAgICAgICAgICAgICAgICBwb3B1cF85MTI5NDRmNzU2OWY0YThmYmI1MGZmMGFkODUyN2UzNy5zZXRDb250ZW50KGlfZnJhbWVfNGNmNWUzYTczNTIyNGJhOGEzYjk0YWNhZTA1YzZhYWMpOwogICAgICAgICAgICAKCiAgICAgICAgICAgIG1hcmtlcl9iNjkxOWVhMzU2MzM0YjI4YTRlMGI1MjJhOWRlYjNkMi5iaW5kUG9wdXAocG9wdXBfOTEyOTQ0Zjc1NjlmNGE4ZmJiNTBmZjBhZDg1MjdlMzcpOwoKICAgICAgICAgICAgCiAgICAgICAgCiAgICAgICAgCiAgICAgICAgICAgIAoKICAgICAgICAgICAgdmFyIG1hcmtlcl85MjY1YzI3MjE1MmY0YmE1OTA5MTgwMDkxYWYyNGFmMiA9IEwubWFya2VyKAogICAgICAgICAgICAgICAgWy05LjQxLDE1OS45Nl0sCiAgICAgICAgICAgICAgICB7CiAgICAgICAgICAgICAgICAgICAgaWNvbjogbmV3IEwuSWNvbi5EZWZhdWx0KCkKICAgICAgICAgICAgICAgICAgICB9CiAgICAgICAgICAgICAgICApCiAgICAgICAgICAgICAgICAuYWRkVG8oZmVhdHVyZV9ncm91cF8zMDYzZmQ0MjE1Yzg0NTc2OTgxNWE2ZGI2ZTM2M2Y2YSk7CiAgICAgICAgICAgIAogICAgICAgIAogICAgICAgICAgICAKCiAgICAgICAgICAgICAgICB2YXIgY3VzdG9tX2ljb25fYWI5NDZiZDZlZjgyNDQ1MWJmZDk4NmFiNmIyZmE2NjMgPSBMLmljb24oewogICAgICAgICAgICAgICAgICAgIGljb25Vcmw6ICdodHRwczovL3Jhdy5naXRodWJ1c2VyY29udGVudC5jb20vbmljb2xhc2ZhdWNoZXJlYXUvU0lNUy9tYXN0ZXIvVFJNTS9pbWFnZXMvaWNvbnMveWVsbG93LnBuZycsCiAgICAgICAgICAgICAgICAgICAgaWNvblNpemU6IFsxOC44LDMyLjVdLAogICAgICAgICAgICAgICAgICAgIAoKICAgICAgICAgICAgICAgICAgICAKICAgICAgICAgICAgICAgICAgICAKICAgICAgICAgICAgICAgICAgICAKCiAgICAgICAgICAgICAgICAgICAgCiAgICAgICAgICAgICAgICAgICAgfSk7CiAgICAgICAgICAgICAgICBtYXJrZXJfOTI2NWMyNzIxNTJmNGJhNTkwOTE4MDA5MWFmMjRhZjIuc2V0SWNvbihjdXN0b21faWNvbl9hYjk0NmJkNmVmODI0NDUxYmZkOTg2YWI2YjJmYTY2Myk7CiAgICAgICAgICAgIAogICAgICAgIAogICAgICAgICAgICAKICAgICAgICAgICAgdmFyIHBvcHVwXzBmMDM1Y2Q3OTZjYzQ3ZmFhNTgzMTZmYTgyMDgwZDFlID0gTC5wb3B1cCh7bWF4V2lkdGg6ICc2MDAnfSk7CgogICAgICAgICAgICAKICAgICAgICAgICAgICAgIHZhciBpX2ZyYW1lX2M1NzU3N2UwOTRmNTQzZjE5ZDVhYmQzYTAzODNlMTA3ID0gJCgnPGlmcmFtZSBzcmM9ImRhdGE6dGV4dC9odG1sO2Jhc2U2NCxDaUFnSUNBZ0lDQWdDaUFnSUNBZ0lDQWdJQ0FnSUFvZ0lDQWdQR1p2Ym5RZ1ptRmpaVDBpZG1WeVpHRnVZU0krQ2lBZ0lDQThaR2wySUdGc2FXZHVQU2RqWlc1MFpYSW5QanhvTkQ0S0lDQWdJRXhoYzNRZ09UQWdaR0Y1Y3lBb2RHOGdkR2hsSURJd01UWXRNRGd0TVRjZ1ZWUkRLU0JsYzNScGJXRjBaWE1nVzFSU1RVMHZWRTFRUVYwZ1ptOXlJRWh2Ym1saGNtRWdLRlpoZG1GNVlTQlNhV1JuWlNrOEwyZzBQZ29nSUNBZ2IySnpaWEoyWldRZ1BTQThZajR5TkRFOEwySStJRzF0SUR4aWNqNEtJQ0FnSUdOc2FXMWhkRzlzYjJkNUlEMGdQR0krTkRBeFBDOWlQaUJ0YlNBOFluSStDaUFnSUNCd1pYSmpaVzUwTGlCdlppQnViM0p0WVd3Z1BTQThZajQyTUM0eE1EeGlQaUFsQ2lBZ0lDQThZbkkrUEdKeVBnb2dJQ0FnUEdFZ2FISmxaajBpYUhSMGNITTZMeTlqWkc0dWNtRjNaMmwwTG1OdmJTOXVhV052YkdGelptRjFZMmhsY21WaGRTOVRTVTFUTDIxaGMzUmxjaTlVVWsxTkwzZDNkeTlXYVhKMGRXRnNYMU4wWVhScGIyNWZTRzl1YVdGeVlTQW9WbUYyWVhsaElGSnBaR2RsS1Y4NU1HNWtZWGx6TG1oMGJXd2lJSFJoY21kbGREMGlYMkpzWVc1cklqNWpiR2xqYXlCb1pYSmxJR1p2Y2lCMGFHVWdkR2x0WlMxelpYSnBaWE04TDJFK0NpQWdJQ0E4TDJadmJuUStDaUFnSUNBS0lDQWdJQ0FnSUNBS0lDQWdJQ0FnSUNBPSIgd2lkdGg9IjMwMCIgaGVpZ2h0PSIyMDAiPjwvaWZyYW1lPicpWzBdOwogICAgICAgICAgICAgICAgcG9wdXBfMGYwMzVjZDc5NmNjNDdmYWE1ODMxNmZhODIwODBkMWUuc2V0Q29udGVudChpX2ZyYW1lX2M1NzU3N2UwOTRmNTQzZjE5ZDVhYmQzYTAzODNlMTA3KTsKICAgICAgICAgICAgCgogICAgICAgICAgICBtYXJrZXJfOTI2NWMyNzIxNTJmNGJhNTkwOTE4MDA5MWFmMjRhZjIuYmluZFBvcHVwKHBvcHVwXzBmMDM1Y2Q3OTZjYzQ3ZmFhNTgzMTZmYTgyMDgwZDFlKTsKCiAgICAgICAgICAgIAogICAgICAgIAogICAgICAgIAogICAgICAgICAgICAKCiAgICAgICAgICAgIHZhciBtYXJrZXJfNWZhYzE5Yzc1ODdjNGU4NzhkNWQ0OTU3NDg4ODcyOGYgPSBMLm1hcmtlcigKICAgICAgICAgICAgICAgIFstOS44NjkzLDE2MC40MTE1XSwKICAgICAgICAgICAgICAgIHsKICAgICAgICAgICAgICAgICAgICBpY29uOiBuZXcgTC5JY29uLkRlZmF1bHQoKQogICAgICAgICAgICAgICAgICAgIH0KICAgICAgICAgICAgICAgICkKICAgICAgICAgICAgICAgIC5hZGRUbyhmZWF0dXJlX2dyb3VwXzMwNjNmZDQyMTVjODQ1NzY5ODE1YTZkYjZlMzYzZjZhKTsKICAgICAgICAgICAgCiAgICAgICAgCiAgICAgICAgICAgIAoKICAgICAgICAgICAgICAgIHZhciBjdXN0b21faWNvbl8yMmQ5NjBhODFiYzY0MDE1OWM0NTA0ZWQwMTVjY2U4YyA9IEwuaWNvbih7CiAgICAgICAgICAgICAgICAgICAgaWNvblVybDogJ2h0dHBzOi8vcmF3LmdpdGh1YnVzZXJjb250ZW50LmNvbS9uaWNvbGFzZmF1Y2hlcmVhdS9TSU1TL21hc3Rlci9UUk1NL2ltYWdlcy9pY29ucy95ZWxsb3cucG5nJywKICAgICAgICAgICAgICAgICAgICBpY29uU2l6ZTogWzE4LjgsMzIuNV0sCiAgICAgICAgICAgICAgICAgICAgCgogICAgICAgICAgICAgICAgICAgIAogICAgICAgICAgICAgICAgICAgIAogICAgICAgICAgICAgICAgICAgIAoKICAgICAgICAgICAgICAgICAgICAKICAgICAgICAgICAgICAgICAgICB9KTsKICAgICAgICAgICAgICAgIG1hcmtlcl81ZmFjMTljNzU4N2M0ZTg3OGQ1ZDQ5NTc0ODg4NzI4Zi5zZXRJY29uKGN1c3RvbV9pY29uXzIyZDk2MGE4MWJjNjQwMTU5YzQ1MDRlZDAxNWNjZThjKTsKICAgICAgICAgICAgCiAgICAgICAgCiAgICAgICAgICAgIAogICAgICAgICAgICB2YXIgcG9wdXBfMjcwOTZjNzUxMDhkNDBiMThlY2ViNGI2ZjhjMGMyNDEgPSBMLnBvcHVwKHttYXhXaWR0aDogJzYwMCd9KTsKCiAgICAgICAgICAgIAogICAgICAgICAgICAgICAgdmFyIGlfZnJhbWVfZGFlYzBlNDE3MWJmNDZjOTg0NTA4NmVjOGMyYTJiMzcgPSAkKCc8aWZyYW1lIHNyYz0iZGF0YTp0ZXh0L2h0bWw7YmFzZTY0LENpQWdJQ0FnSUNBZ0NpQWdJQ0FnSUNBZ0lDQWdJQW9nSUNBZ1BHWnZiblFnWm1GalpUMGlkbVZ5WkdGdVlTSStDaUFnSUNBOFpHbDJJR0ZzYVdkdVBTZGpaVzUwWlhJblBqeG9ORDRLSUNBZ0lFeGhjM1FnT1RBZ1pHRjVjeUFvZEc4Z2RHaGxJREl3TVRZdE1EZ3RNVGNnVlZSREtTQmxjM1JwYldGMFpYTWdXMVJTVFUwdlZFMVFRVjBnWm05eUlFRjJkU0JCZG5VOEwyZzBQZ29nSUNBZ2IySnpaWEoyWldRZ1BTQThZajQyTWpVOEwySStJRzF0SUR4aWNqNEtJQ0FnSUdOc2FXMWhkRzlzYjJkNUlEMGdQR0krT0RBelBDOWlQaUJ0YlNBOFluSStDaUFnSUNCd1pYSmpaVzUwTGlCdlppQnViM0p0WVd3Z1BTQThZajQzTnk0NE16eGlQaUFsQ2lBZ0lDQThZbkkrUEdKeVBnb2dJQ0FnUEdFZ2FISmxaajBpYUhSMGNITTZMeTlqWkc0dWNtRjNaMmwwTG1OdmJTOXVhV052YkdGelptRjFZMmhsY21WaGRTOVRTVTFUTDIxaGMzUmxjaTlVVWsxTkwzZDNkeTlXYVhKMGRXRnNYMU4wWVhScGIyNWZRWFoxSUVGMmRWODVNRzVrWVhsekxtaDBiV3dpSUhSaGNtZGxkRDBpWDJKc1lXNXJJajVqYkdsamF5Qm9aWEpsSUdadmNpQjBhR1VnZEdsdFpTMXpaWEpwWlhNOEwyRStDaUFnSUNBOEwyWnZiblErQ2lBZ0lDQUtJQ0FnSUNBZ0lDQUtJQ0FnSUNBZ0lDQT0iIHdpZHRoPSIzMDAiIGhlaWdodD0iMjAwIj48L2lmcmFtZT4nKVswXTsKICAgICAgICAgICAgICAgIHBvcHVwXzI3MDk2Yzc1MTA4ZDQwYjE4ZWNlYjRiNmY4YzBjMjQxLnNldENvbnRlbnQoaV9mcmFtZV9kYWVjMGU0MTcxYmY0NmM5ODQ1MDg2ZWM4YzJhMmIzNyk7CiAgICAgICAgICAgIAoKICAgICAgICAgICAgbWFya2VyXzVmYWMxOWM3NTg3YzRlODc4ZDVkNDk1NzQ4ODg3MjhmLmJpbmRQb3B1cChwb3B1cF8yNzA5NmM3NTEwOGQ0MGIxOGVjZWI0YjZmOGMwYzI0MSk7CgogICAgICAgICAgICAKICAgICAgICAKICAgICAgICAKICAgICAgICAgICAgCgogICAgICAgICAgICB2YXIgbWFya2VyXzFiZjA4YzJjZGM2NTQ1MjY5NTk5ODYwNjU4MmQ2MmNkID0gTC5tYXJrZXIoCiAgICAgICAgICAgICAgICBbLTkuMjgzOCwxNTkuNzMyNF0sCiAgICAgICAgICAgICAgICB7CiAgICAgICAgICAgICAgICAgICAgaWNvbjogbmV3IEwuSWNvbi5EZWZhdWx0KCkKICAgICAgICAgICAgICAgICAgICB9CiAgICAgICAgICAgICAgICApCiAgICAgICAgICAgICAgICAuYWRkVG8oZmVhdHVyZV9ncm91cF8zMDYzZmQ0MjE1Yzg0NTc2OTgxNWE2ZGI2ZTM2M2Y2YSk7CiAgICAgICAgICAgIAogICAgICAgIAogICAgICAgICAgICAKCiAgICAgICAgICAgICAgICB2YXIgY3VzdG9tX2ljb25fOTVmNzJhOTk3MDhiNDhiOThjMDc2NDA0NmY3YzAyNzkgPSBMLmljb24oewogICAgICAgICAgICAgICAgICAgIGljb25Vcmw6ICdodHRwczovL3Jhdy5naXRodWJ1c2VyY29udGVudC5jb20vbmljb2xhc2ZhdWNoZXJlYXUvU0lNUy9tYXN0ZXIvVFJNTS9pbWFnZXMvaWNvbnMveWVsbG93LnBuZycsCiAgICAgICAgICAgICAgICAgICAgaWNvblNpemU6IFsxOC44LDMyLjVdLAogICAgICAgICAgICAgICAgICAgIAoKICAgICAgICAgICAgICAgICAgICAKICAgICAgICAgICAgICAgICAgICAKICAgICAgICAgICAgICAgICAgICAKCiAgICAgICAgICAgICAgICAgICAgCiAgICAgICAgICAgICAgICAgICAgfSk7CiAgICAgICAgICAgICAgICBtYXJrZXJfMWJmMDhjMmNkYzY1NDUyNjk1OTk4NjA2NTgyZDYyY2Quc2V0SWNvbihjdXN0b21faWNvbl85NWY3MmE5OTcwOGI0OGI5OGMwNzY0MDQ2ZjdjMDI3OSk7CiAgICAgICAgICAgIAogICAgICAgIAogICAgICAgICAgICAKICAgICAgICAgICAgdmFyIHBvcHVwXzY5ODU0ODc2ZmExNDQ4ZGI4ZDNjNDNiNDVmMDgxYzdiID0gTC5wb3B1cCh7bWF4V2lkdGg6ICc2MDAnfSk7CgogICAgICAgICAgICAKICAgICAgICAgICAgICAgIHZhciBpX2ZyYW1lXzI5ODkzMTJjMDNmMDQ0MDQ4NzI5MzYyZDA5MTdmMjUxID0gJCgnPGlmcmFtZSBzcmM9ImRhdGE6dGV4dC9odG1sO2Jhc2U2NCxDaUFnSUNBZ0lDQWdDaUFnSUNBZ0lDQWdJQ0FnSUFvZ0lDQWdQR1p2Ym5RZ1ptRmpaVDBpZG1WeVpHRnVZU0krQ2lBZ0lDQThaR2wySUdGc2FXZHVQU2RqWlc1MFpYSW5QanhvTkQ0S0lDQWdJRXhoYzNRZ09UQWdaR0Y1Y3lBb2RHOGdkR2hsSURJd01UWXRNRGd0TVRjZ1ZWUkRLU0JsYzNScGJXRjBaWE1nVzFSU1RVMHZWRTFRUVYwZ1ptOXlJRXR2YUdsdFlYSmhiV0U4TDJnMFBnb2dJQ0FnYjJKelpYSjJaV1FnUFNBOFlqNHlORE04TDJJK0lHMXRJRHhpY2o0S0lDQWdJR05zYVcxaGRHOXNiMmQ1SUQwZ1BHSStNemN6UEM5aVBpQnRiU0E4WW5JK0NpQWdJQ0J3WlhKalpXNTBMaUJ2WmlCdWIzSnRZV3dnUFNBOFlqNDJOUzR4TlR4aVBpQWxDaUFnSUNBOFluSStQR0p5UGdvZ0lDQWdQR0VnYUhKbFpqMGlhSFIwY0hNNkx5OWpaRzR1Y21GM1oybDBMbU52YlM5dWFXTnZiR0Z6Wm1GMVkyaGxjbVZoZFM5VFNVMVRMMjFoYzNSbGNpOVVVazFOTDNkM2R5OVdhWEowZFdGc1gxTjBZWFJwYjI1ZlMyOW9hVzFoY21GdFlWODVNRzVrWVhsekxtaDBiV3dpSUhSaGNtZGxkRDBpWDJKc1lXNXJJajVqYkdsamF5Qm9aWEpsSUdadmNpQjBhR1VnZEdsdFpTMXpaWEpwWlhNOEwyRStDaUFnSUNBOEwyWnZiblErQ2lBZ0lDQUtJQ0FnSUNBZ0lDQUtJQ0FnSUNBZ0lDQT0iIHdpZHRoPSIzMDAiIGhlaWdodD0iMjAwIj48L2lmcmFtZT4nKVswXTsKICAgICAgICAgICAgICAgIHBvcHVwXzY5ODU0ODc2ZmExNDQ4ZGI4ZDNjNDNiNDVmMDgxYzdiLnNldENvbnRlbnQoaV9mcmFtZV8yOTg5MzEyYzAzZjA0NDA0ODcyOTM2MmQwOTE3ZjI1MSk7CiAgICAgICAgICAgIAoKICAgICAgICAgICAgbWFya2VyXzFiZjA4YzJjZGM2NTQ1MjY5NTk5ODYwNjU4MmQ2MmNkLmJpbmRQb3B1cChwb3B1cF82OTg1NDg3NmZhMTQ0OGRiOGQzYzQzYjQ1ZjA4MWM3Yik7CgogICAgICAgICAgICAKICAgICAgICAKICAgICAgICAKICAgICAgICAgICAgCgogICAgICAgICAgICB2YXIgbWFya2VyX2UzMmE3MjQwZWFmZjRhNmQ4MGYwMTljZjMzMTQzYjMzID0gTC5tYXJrZXIoCiAgICAgICAgICAgICAgICBbLTkuNzI3NywxNTkuNzUxM10sCiAgICAgICAgICAgICAgICB7CiAgICAgICAgICAgICAgICAgICAgaWNvbjogbmV3IEwuSWNvbi5EZWZhdWx0KCkKICAgICAgICAgICAgICAgICAgICB9CiAgICAgICAgICAgICAgICApCiAgICAgICAgICAgICAgICAuYWRkVG8oZmVhdHVyZV9ncm91cF8zMDYzZmQ0MjE1Yzg0NTc2OTgxNWE2ZGI2ZTM2M2Y2YSk7CiAgICAgICAgICAgIAogICAgICAgIAogICAgICAgICAgICAKCiAgICAgICAgICAgICAgICB2YXIgY3VzdG9tX2ljb25fZmMyYTM2ZDFlMGEzNGIwM2FkODg4M2IyYzdiMmVhN2EgPSBMLmljb24oewogICAgICAgICAgICAgICAgICAgIGljb25Vcmw6ICdodHRwczovL3Jhdy5naXRodWJ1c2VyY29udGVudC5jb20vbmljb2xhc2ZhdWNoZXJlYXUvU0lNUy9tYXN0ZXIvVFJNTS9pbWFnZXMvaWNvbnMveWVsbG93LnBuZycsCiAgICAgICAgICAgICAgICAgICAgaWNvblNpemU6IFsxOC44LDMyLjVdLAogICAgICAgICAgICAgICAgICAgIAoKICAgICAgICAgICAgICAgICAgICAKICAgICAgICAgICAgICAgICAgICAKICAgICAgICAgICAgICAgICAgICAKCiAgICAgICAgICAgICAgICAgICAgCiAgICAgICAgICAgICAgICAgICAgfSk7CiAgICAgICAgICAgICAgICBtYXJrZXJfZTMyYTcyNDBlYWZmNGE2ZDgwZjAxOWNmMzMxNDNiMzMuc2V0SWNvbihjdXN0b21faWNvbl9mYzJhMzZkMWUwYTM0YjAzYWQ4ODgzYjJjN2IyZWE3YSk7CiAgICAgICAgICAgIAogICAgICAgIAogICAgICAgICAgICAKICAgICAgICAgICAgdmFyIHBvcHVwXzRjNzQ4NzZhMzFhMjQxYWY5NDA4ZmI4NDdmODA4NjAxID0gTC5wb3B1cCh7bWF4V2lkdGg6ICc2MDAnfSk7CgogICAgICAgICAgICAKICAgICAgICAgICAgICAgIHZhciBpX2ZyYW1lXzkzNThmYTYzYWZhZDRjMGViYjJlZmJkYzEzODRlZDVjID0gJCgnPGlmcmFtZSBzcmM9ImRhdGE6dGV4dC9odG1sO2Jhc2U2NCxDaUFnSUNBZ0lDQWdDaUFnSUNBZ0lDQWdJQ0FnSUFvZ0lDQWdQR1p2Ym5RZ1ptRmpaVDBpZG1WeVpHRnVZU0krQ2lBZ0lDQThaR2wySUdGc2FXZHVQU2RqWlc1MFpYSW5QanhvTkQ0S0lDQWdJRXhoYzNRZ09UQWdaR0Y1Y3lBb2RHOGdkR2hsSURJd01UWXRNRGd0TVRjZ1ZWUkRLU0JsYzNScGJXRjBaWE1nVzFSU1RVMHZWRTFRUVYwZ1ptOXlJRTFpYVhScFBDOW9ORDRLSUNBZ0lHOWljMlZ5ZG1Wa0lEMGdQR0krTkRFMFBDOWlQaUJ0YlNBOFluSStDaUFnSUNCamJHbHRZWFJ2Ykc5bmVTQTlJRHhpUGpVNU16d3ZZajRnYlcwZ1BHSnlQZ29nSUNBZ2NHVnlZMlZ1ZEM0Z2IyWWdibTl5YldGc0lEMGdQR0krTmprdU9ERThZajRnSlFvZ0lDQWdQR0p5UGp4aWNqNEtJQ0FnSUR4aElHaHlaV1k5SW1oMGRIQnpPaTh2WTJSdUxuSmhkMmRwZEM1amIyMHZibWxqYjJ4aGMyWmhkV05vWlhKbFlYVXZVMGxOVXk5dFlYTjBaWEl2VkZKTlRTOTNkM2N2Vm1seWRIVmhiRjlUZEdGMGFXOXVYMDFpYVhScFh6a3dibVJoZVhNdWFIUnRiQ0lnZEdGeVoyVjBQU0pmWW14aGJtc2lQbU5zYVdOcklHaGxjbVVnWm05eUlIUm9aU0IwYVcxbExYTmxjbWxsY3p3dllUNEtJQ0FnSUR3dlptOXVkRDRLSUNBZ0lBb2dJQ0FnSUNBZ0lBb2dJQ0FnSUNBZ0lBPT0iIHdpZHRoPSIzMDAiIGhlaWdodD0iMjAwIj48L2lmcmFtZT4nKVswXTsKICAgICAgICAgICAgICAgIHBvcHVwXzRjNzQ4NzZhMzFhMjQxYWY5NDA4ZmI4NDdmODA4NjAxLnNldENvbnRlbnQoaV9mcmFtZV85MzU4ZmE2M2FmYWQ0YzBlYmIyZWZiZGMxMzg0ZWQ1Yyk7CiAgICAgICAgICAgIAoKICAgICAgICAgICAgbWFya2VyX2UzMmE3MjQwZWFmZjRhNmQ4MGYwMTljZjMzMTQzYjMzLmJpbmRQb3B1cChwb3B1cF80Yzc0ODc2YTMxYTI0MWFmOTQwOGZiODQ3ZjgwODYwMSk7CgogICAgICAgICAgICAKICAgICAgICAKICAgICAgICAKICAgICAgICAgICAgCgogICAgICAgICAgICB2YXIgbWFya2VyX2FlNzRmYWJkOWM1MjQxZDk4OGRhN2VlYThmYTI3YjViID0gTC5tYXJrZXIoCiAgICAgICAgICAgICAgICBbLTkuODMzMywxNjAuODE2N10sCiAgICAgICAgICAgICAgICB7CiAgICAgICAgICAgICAgICAgICAgaWNvbjogbmV3IEwuSWNvbi5EZWZhdWx0KCkKICAgICAgICAgICAgICAgICAgICB9CiAgICAgICAgICAgICAgICApCiAgICAgICAgICAgICAgICAuYWRkVG8oZmVhdHVyZV9ncm91cF8zMDYzZmQ0MjE1Yzg0NTc2OTgxNWE2ZGI2ZTM2M2Y2YSk7CiAgICAgICAgICAgIAogICAgICAgIAogICAgICAgICAgICAKCiAgICAgICAgICAgICAgICB2YXIgY3VzdG9tX2ljb25fNDIxM2IxMGU1NzEzNDFkN2JmMWU0NWIyYmM5MTc3NzkgPSBMLmljb24oewogICAgICAgICAgICAgICAgICAgIGljb25Vcmw6ICdodHRwczovL3Jhdy5naXRodWJ1c2VyY29udGVudC5jb20vbmljb2xhc2ZhdWNoZXJlYXUvU0lNUy9tYXN0ZXIvVFJNTS9pbWFnZXMvaWNvbnMvZ3JlZW4ucG5nJywKICAgICAgICAgICAgICAgICAgICBpY29uU2l6ZTogWzI4LjIsNDguNzVdLAogICAgICAgICAgICAgICAgICAgIAoKICAgICAgICAgICAgICAgICAgICAKICAgICAgICAgICAgICAgICAgICAKICAgICAgICAgICAgICAgICAgICAKCiAgICAgICAgICAgICAgICAgICAgCiAgICAgICAgICAgICAgICAgICAgfSk7CiAgICAgICAgICAgICAgICBtYXJrZXJfYWU3NGZhYmQ5YzUyNDFkOTg4ZGE3ZWVhOGZhMjdiNWIuc2V0SWNvbihjdXN0b21faWNvbl80MjEzYjEwZTU3MTM0MWQ3YmYxZTQ1YjJiYzkxNzc3OSk7CiAgICAgICAgICAgIAogICAgICAgIAogICAgICAgICAgICAKICAgICAgICAgICAgdmFyIHBvcHVwX2QwMDM4MDQxZmQ3ZTRjYTI5ODJiYjk4YjU4NTQwZTI1ID0gTC5wb3B1cCh7bWF4V2lkdGg6ICc2MDAnfSk7CgogICAgICAgICAgICAKICAgICAgICAgICAgICAgIHZhciBpX2ZyYW1lXzM0MmMzNzQ2YTg0ODQ5Mzg4MzU1NTA1OTgwOTA3MjE1ID0gJCgnPGlmcmFtZSBzcmM9ImRhdGE6dGV4dC9odG1sO2Jhc2U2NCxDaUFnSUNBZ0lDQWdDaUFnSUNBZ0lDQWdJQ0FnSUFvZ0lDQWdQR1p2Ym5RZ1ptRmpaVDBpZG1WeVpHRnVZU0krQ2lBZ0lDQThaR2wySUdGc2FXZHVQU2RqWlc1MFpYSW5QanhvTkQ0S0lDQWdJRXhoYzNRZ09UQWdaR0Y1Y3lBb2RHOGdkR2hsSURJd01UWXRNRGd0TVRjZ1ZWUkRLU0JsYzNScGJXRjBaWE1nVzFSU1RVMHZWRTFRUVYwZ1ptOXlJRTFoY21GMUlEd3ZhRFErQ2lBZ0lDQnZZbk5sY25abFpDQTlJRHhpUGpjME9Ud3ZZajRnYlcwZ1BHSnlQZ29nSUNBZ1kyeHBiV0YwYjJ4dloza2dQU0E4WWo0NU1ESThMMkkrSUcxdElEeGljajRLSUNBZ0lIQmxjbU5sYm5RdUlHOW1JRzV2Y20xaGJDQTlJRHhpUGpnekxqQTBQR0krSUNVS0lDQWdJRHhpY2o0OFluSStDaUFnSUNBOFlTQm9jbVZtUFNKb2RIUndjem92TDJOa2JpNXlZWGRuYVhRdVkyOXRMMjVwWTI5c1lYTm1ZWFZqYUdWeVpXRjFMMU5KVFZNdmJXRnpkR1Z5TDFSU1RVMHZkM2QzTDFacGNuUjFZV3hmVTNSaGRHbHZibDlOWVhKaGRTQmZPVEJ1WkdGNWN5NW9kRzFzSWlCMFlYSm5aWFE5SWw5aWJHRnVheUkrWTJ4cFkyc2dhR1Z5WlNCbWIzSWdkR2hsSUhScGJXVXRjMlZ5YVdWelBDOWhQZ29nSUNBZ1BDOW1iMjUwUGdvZ0lDQWdDaUFnSUNBZ0lDQWdDaUFnSUNBZ0lDQWciIHdpZHRoPSIzMDAiIGhlaWdodD0iMjAwIj48L2lmcmFtZT4nKVswXTsKICAgICAgICAgICAgICAgIHBvcHVwX2QwMDM4MDQxZmQ3ZTRjYTI5ODJiYjk4YjU4NTQwZTI1LnNldENvbnRlbnQoaV9mcmFtZV8zNDJjMzc0NmE4NDg0OTM4ODM1NTUwNTk4MDkwNzIxNSk7CiAgICAgICAgICAgIAoKICAgICAgICAgICAgbWFya2VyX2FlNzRmYWJkOWM1MjQxZDk4OGRhN2VlYThmYTI3YjViLmJpbmRQb3B1cChwb3B1cF9kMDAzODA0MWZkN2U0Y2EyOTgyYmI5OGI1ODU0MGUyNSk7CgogICAgICAgICAgICAKICAgICAgICAKICAgICAgICAKICAgICAgICAgICAgCgogICAgICAgICAgICB2YXIgbWFya2VyXzdhNWE5MGI0NmIzZDQ2ODI5MTA2OGZlNmE1ZGIyZmY3ID0gTC5tYXJrZXIoCiAgICAgICAgICAgICAgICBbLTcuNTY3OCwxNTguNDM4MV0sCiAgICAgICAgICAgICAgICB7CiAgICAgICAgICAgICAgICAgICAgaWNvbjogbmV3IEwuSWNvbi5EZWZhdWx0KCkKICAgICAgICAgICAgICAgICAgICB9CiAgICAgICAgICAgICAgICApCiAgICAgICAgICAgICAgICAuYWRkVG8oZmVhdHVyZV9ncm91cF8zMDYzZmQ0MjE1Yzg0NTc2OTgxNWE2ZGI2ZTM2M2Y2YSk7CiAgICAgICAgICAgIAogICAgICAgIAogICAgICAgICAgICAKCiAgICAgICAgICAgICAgICB2YXIgY3VzdG9tX2ljb25fNTA5ZmVhN2Q2MjAzNDFmNzk5NzdhZWU4MDMwNTdmN2MgPSBMLmljb24oewogICAgICAgICAgICAgICAgICAgIGljb25Vcmw6ICdodHRwczovL3Jhdy5naXRodWJ1c2VyY29udGVudC5jb20vbmljb2xhc2ZhdWNoZXJlYXUvU0lNUy9tYXN0ZXIvVFJNTS9pbWFnZXMvaWNvbnMveWVsbG93LnBuZycsCiAgICAgICAgICAgICAgICAgICAgaWNvblNpemU6IFsxOC44LDMyLjVdLAogICAgICAgICAgICAgICAgICAgIAoKICAgICAgICAgICAgICAgICAgICAKICAgICAgICAgICAgICAgICAgICAKICAgICAgICAgICAgICAgICAgICAKCiAgICAgICAgICAgICAgICAgICAgCiAgICAgICAgICAgICAgICAgICAgfSk7CiAgICAgICAgICAgICAgICBtYXJrZXJfN2E1YTkwYjQ2YjNkNDY4MjkxMDY4ZmU2YTVkYjJmZjcuc2V0SWNvbihjdXN0b21faWNvbl81MDlmZWE3ZDYyMDM0MWY3OTk3N2FlZTgwMzA1N2Y3Yyk7CiAgICAgICAgICAgIAogICAgICAgIAogICAgICAgICAgICAKICAgICAgICAgICAgdmFyIHBvcHVwXzIxYjkyOGMyMzg2OTQ0ZDZhNzU1ZTIxNDVmMGQ4NTliID0gTC5wb3B1cCh7bWF4V2lkdGg6ICc2MDAnfSk7CgogICAgICAgICAgICAKICAgICAgICAgICAgICAgIHZhciBpX2ZyYW1lX2FhOTA0NDhmNTBjZDRmMGI4NzllYmYxOWIxYzAxYTg0ID0gJCgnPGlmcmFtZSBzcmM9ImRhdGE6dGV4dC9odG1sO2Jhc2U2NCxDaUFnSUNBZ0lDQWdDaUFnSUNBZ0lDQWdJQ0FnSUFvZ0lDQWdQR1p2Ym5RZ1ptRmpaVDBpZG1WeVpHRnVZU0krQ2lBZ0lDQThaR2wySUdGc2FXZHVQU2RqWlc1MFpYSW5QanhvTkQ0S0lDQWdJRXhoYzNRZ09UQWdaR0Y1Y3lBb2RHOGdkR2hsSURJd01UWXRNRGd0TVRjZ1ZWUkRLU0JsYzNScGJXRjBaWE1nVzFSU1RVMHZWRTFRUVYwZ1ptOXlJRXRwWVR3dmFEUStDaUFnSUNCdlluTmxjblpsWkNBOUlEeGlQalE0TlR3dllqNGdiVzBnUEdKeVBnb2dJQ0FnWTJ4cGJXRjBiMnh2WjNrZ1BTQThZajQzTVRnOEwySStJRzF0SUR4aWNqNEtJQ0FnSUhCbGNtTmxiblF1SUc5bUlHNXZjbTFoYkNBOUlEeGlQalkzTGpVMVBHSStJQ1VLSUNBZ0lEeGljajQ4WW5JK0NpQWdJQ0E4WVNCb2NtVm1QU0pvZEhSd2N6b3ZMMk5rYmk1eVlYZG5hWFF1WTI5dEwyNXBZMjlzWVhObVlYVmphR1Z5WldGMUwxTkpUVk12YldGemRHVnlMMVJTVFUwdmQzZDNMMVpwY25SMVlXeGZVM1JoZEdsdmJsOUxhV0ZmT1RCdVpHRjVjeTVvZEcxc0lpQjBZWEpuWlhROUlsOWliR0Z1YXlJK1kyeHBZMnNnYUdWeVpTQm1iM0lnZEdobElIUnBiV1V0YzJWeWFXVnpQQzloUGdvZ0lDQWdQQzltYjI1MFBnb2dJQ0FnQ2lBZ0lDQWdJQ0FnQ2lBZ0lDQWdJQ0FnIiB3aWR0aD0iMzAwIiBoZWlnaHQ9IjIwMCI+PC9pZnJhbWU+JylbMF07CiAgICAgICAgICAgICAgICBwb3B1cF8yMWI5MjhjMjM4Njk0NGQ2YTc1NWUyMTQ1ZjBkODU5Yi5zZXRDb250ZW50KGlfZnJhbWVfYWE5MDQ0OGY1MGNkNGYwYjg3OWViZjE5YjFjMDFhODQpOwogICAgICAgICAgICAKCiAgICAgICAgICAgIG1hcmtlcl83YTVhOTBiNDZiM2Q0NjgyOTEwNjhmZTZhNWRiMmZmNy5iaW5kUG9wdXAocG9wdXBfMjFiOTI4YzIzODY5NDRkNmE3NTVlMjE0NWYwZDg1OWIpOwoKICAgICAgICAgICAgCiAgICAgICAgCiAgICAgICAgCiAgICAgICAgICAgIAoKICAgICAgICAgICAgdmFyIG1hcmtlcl9lYmM4Yjk1YWRmMTI0OGU2YjQ4OGRkNTU3NzMyNTc3OSA9IEwubWFya2VyKAogICAgICAgICAgICAgICAgWy04LjEwMzQsMTU5LjU3N10sCiAgICAgICAgICAgICAgICB7CiAgICAgICAgICAgICAgICAgICAgaWNvbjogbmV3IEwuSWNvbi5EZWZhdWx0KCkKICAgICAgICAgICAgICAgICAgICB9CiAgICAgICAgICAgICAgICApCiAgICAgICAgICAgICAgICAuYWRkVG8oZmVhdHVyZV9ncm91cF8zMDYzZmQ0MjE1Yzg0NTc2OTgxNWE2ZGI2ZTM2M2Y2YSk7CiAgICAgICAgICAgIAogICAgICAgIAogICAgICAgICAgICAKCiAgICAgICAgICAgICAgICB2YXIgY3VzdG9tX2ljb25fYjQ0NTFhZmQxODAwNGRiYzlkMmFlNGY0MDUxMjA0OTUgPSBMLmljb24oewogICAgICAgICAgICAgICAgICAgIGljb25Vcmw6ICdodHRwczovL3Jhdy5naXRodWJ1c2VyY29udGVudC5jb20vbmljb2xhc2ZhdWNoZXJlYXUvU0lNUy9tYXN0ZXIvVFJNTS9pbWFnZXMvaWNvbnMveWVsbG93LnBuZycsCiAgICAgICAgICAgICAgICAgICAgaWNvblNpemU6IFsxOC44LDMyLjVdLAogICAgICAgICAgICAgICAgICAgIAoKICAgICAgICAgICAgICAgICAgICAKICAgICAgICAgICAgICAgICAgICAKICAgICAgICAgICAgICAgICAgICAKCiAgICAgICAgICAgICAgICAgICAgCiAgICAgICAgICAgICAgICAgICAgfSk7CiAgICAgICAgICAgICAgICBtYXJrZXJfZWJjOGI5NWFkZjEyNDhlNmI0ODhkZDU1NzczMjU3Nzkuc2V0SWNvbihjdXN0b21faWNvbl9iNDQ1MWFmZDE4MDA0ZGJjOWQyYWU0ZjQwNTEyMDQ5NSk7CiAgICAgICAgICAgIAogICAgICAgIAogICAgICAgICAgICAKICAgICAgICAgICAgdmFyIHBvcHVwXzkzNzRhNWYwODQyODRkYTA5NzUwMGNlY2E2ZmQ1YTc3ID0gTC5wb3B1cCh7bWF4V2lkdGg6ICc2MDAnfSk7CgogICAgICAgICAgICAKICAgICAgICAgICAgICAgIHZhciBpX2ZyYW1lXzE1YmU5YWJiZGRiZDQwMTBiNTg0ODk4ZTdmNjQ4MTg3ID0gJCgnPGlmcmFtZSBzcmM9ImRhdGE6dGV4dC9odG1sO2Jhc2U2NCxDaUFnSUNBZ0lDQWdDaUFnSUNBZ0lDQWdJQ0FnSUFvZ0lDQWdQR1p2Ym5RZ1ptRmpaVDBpZG1WeVpHRnVZU0krQ2lBZ0lDQThaR2wySUdGc2FXZHVQU2RqWlc1MFpYSW5QanhvTkQ0S0lDQWdJRXhoYzNRZ09UQWdaR0Y1Y3lBb2RHOGdkR2hsSURJd01UWXRNRGd0TVRjZ1ZWUkRLU0JsYzNScGJXRjBaWE1nVzFSU1RVMHZWRTFRUVYwZ1ptOXlJRVpsY21FOEwyZzBQZ29nSUNBZ2IySnpaWEoyWldRZ1BTQThZajQwTXpFOEwySStJRzF0SUR4aWNqNEtJQ0FnSUdOc2FXMWhkRzlzYjJkNUlEMGdQR0krTmprNVBDOWlQaUJ0YlNBOFluSStDaUFnSUNCd1pYSmpaVzUwTGlCdlppQnViM0p0WVd3Z1BTQThZajQyTVM0Mk5qeGlQaUFsQ2lBZ0lDQThZbkkrUEdKeVBnb2dJQ0FnUEdFZ2FISmxaajBpYUhSMGNITTZMeTlqWkc0dWNtRjNaMmwwTG1OdmJTOXVhV052YkdGelptRjFZMmhsY21WaGRTOVRTVTFUTDIxaGMzUmxjaTlVVWsxTkwzZDNkeTlXYVhKMGRXRnNYMU4wWVhScGIyNWZSbVZ5WVY4NU1HNWtZWGx6TG1oMGJXd2lJSFJoY21kbGREMGlYMkpzWVc1cklqNWpiR2xqYXlCb1pYSmxJR1p2Y2lCMGFHVWdkR2x0WlMxelpYSnBaWE04TDJFK0NpQWdJQ0E4TDJadmJuUStDaUFnSUNBS0lDQWdJQ0FnSUNBS0lDQWdJQ0FnSUNBPSIgd2lkdGg9IjMwMCIgaGVpZ2h0PSIyMDAiPjwvaWZyYW1lPicpWzBdOwogICAgICAgICAgICAgICAgcG9wdXBfOTM3NGE1ZjA4NDI4NGRhMDk3NTAwY2VjYTZmZDVhNzcuc2V0Q29udGVudChpX2ZyYW1lXzE1YmU5YWJiZGRiZDQwMTBiNTg0ODk4ZTdmNjQ4MTg3KTsKICAgICAgICAgICAgCgogICAgICAgICAgICBtYXJrZXJfZWJjOGI5NWFkZjEyNDhlNmI0ODhkZDU1NzczMjU3NzkuYmluZFBvcHVwKHBvcHVwXzkzNzRhNWYwODQyODRkYTA5NzUwMGNlY2E2ZmQ1YTc3KTsKCiAgICAgICAgICAgIAogICAgICAgIAogICAgICAgIAogICAgICAgICAgICAKCiAgICAgICAgICAgIHZhciBtYXJrZXJfYTM1ZDU3NTczOWY5NGI4ZGExNmRjNDkyNDcxMDgzNDEgPSBMLm1hcmtlcigKICAgICAgICAgICAgICAgIFstMTAuNDE2NywxNjEuODgzM10sCiAgICAgICAgICAgICAgICB7CiAgICAgICAgICAgICAgICAgICAgaWNvbjogbmV3IEwuSWNvbi5EZWZhdWx0KCkKICAgICAgICAgICAgICAgICAgICB9CiAgICAgICAgICAgICAgICApCiAgICAgICAgICAgICAgICAuYWRkVG8oZmVhdHVyZV9ncm91cF8zMDYzZmQ0MjE1Yzg0NTc2OTgxNWE2ZGI2ZTM2M2Y2YSk7CiAgICAgICAgICAgIAogICAgICAgIAogICAgICAgICAgICAKCiAgICAgICAgICAgICAgICB2YXIgY3VzdG9tX2ljb25fYjczNTAyM2ZlYTg4NDg4ZjkzZDhmNDcyZWMxMTAyYjggPSBMLmljb24oewogICAgICAgICAgICAgICAgICAgIGljb25Vcmw6ICdodHRwczovL3Jhdy5naXRodWJ1c2VyY29udGVudC5jb20vbmljb2xhc2ZhdWNoZXJlYXUvU0lNUy9tYXN0ZXIvVFJNTS9pbWFnZXMvaWNvbnMveWVsbG93LnBuZycsCiAgICAgICAgICAgICAgICAgICAgaWNvblNpemU6IFsxOC44LDMyLjVdLAogICAgICAgICAgICAgICAgICAgIAoKICAgICAgICAgICAgICAgICAgICAKICAgICAgICAgICAgICAgICAgICAKICAgICAgICAgICAgICAgICAgICAKCiAgICAgICAgICAgICAgICAgICAgCiAgICAgICAgICAgICAgICAgICAgfSk7CiAgICAgICAgICAgICAgICBtYXJrZXJfYTM1ZDU3NTczOWY5NGI4ZGExNmRjNDkyNDcxMDgzNDEuc2V0SWNvbihjdXN0b21faWNvbl9iNzM1MDIzZmVhODg0ODhmOTNkOGY0NzJlYzExMDJiOCk7CiAgICAgICAgICAgIAogICAgICAgIAogICAgICAgICAgICAKICAgICAgICAgICAgdmFyIHBvcHVwX2M0NGZhYzkyYjgxOTRlZWRiNzg5OGI4YTg2MDkxZThiID0gTC5wb3B1cCh7bWF4V2lkdGg6ICc2MDAnfSk7CgogICAgICAgICAgICAKICAgICAgICAgICAgICAgIHZhciBpX2ZyYW1lX2U5ODMwYzU0ZGM1ZDQ0NzFiYTZjNmUwMTdiMDVlMThiID0gJCgnPGlmcmFtZSBzcmM9ImRhdGE6dGV4dC9odG1sO2Jhc2U2NCxDaUFnSUNBZ0lDQWdDaUFnSUNBZ0lDQWdJQ0FnSUFvZ0lDQWdQR1p2Ym5RZ1ptRmpaVDBpZG1WeVpHRnVZU0krQ2lBZ0lDQThaR2wySUdGc2FXZHVQU2RqWlc1MFpYSW5QanhvTkQ0S0lDQWdJRXhoYzNRZ09UQWdaR0Y1Y3lBb2RHOGdkR2hsSURJd01UWXRNRGd0TVRjZ1ZWUkRLU0JsYzNScGJXRjBaWE1nVzFSU1RVMHZWRTFRUVYwZ1ptOXlJRXRwY21FZ1MybHlZVHd2YURRK0NpQWdJQ0J2WW5ObGNuWmxaQ0E5SUR4aVBqTTVORHd2WWo0Z2JXMGdQR0p5UGdvZ0lDQWdZMnhwYldGMGIyeHZaM2tnUFNBOFlqNDNOamM4TDJJK0lHMXRJRHhpY2o0S0lDQWdJSEJsY21ObGJuUXVJRzltSUc1dmNtMWhiQ0E5SUR4aVBqVXhMak0zUEdJK0lDVUtJQ0FnSUR4aWNqNDhZbkkrQ2lBZ0lDQThZU0JvY21WbVBTSm9kSFJ3Y3pvdkwyTmtiaTV5WVhkbmFYUXVZMjl0TDI1cFkyOXNZWE5tWVhWamFHVnlaV0YxTDFOSlRWTXZiV0Z6ZEdWeUwxUlNUVTB2ZDNkM0wxWnBjblIxWVd4ZlUzUmhkR2x2Ymw5TGFYSmhJRXRwY21GZk9UQnVaR0Y1Y3k1b2RHMXNJaUIwWVhKblpYUTlJbDlpYkdGdWF5SStZMnhwWTJzZ2FHVnlaU0JtYjNJZ2RHaGxJSFJwYldVdGMyVnlhV1Z6UEM5aFBnb2dJQ0FnUEM5bWIyNTBQZ29nSUNBZ0NpQWdJQ0FnSUNBZ0NpQWdJQ0FnSUNBZyIgd2lkdGg9IjMwMCIgaGVpZ2h0PSIyMDAiPjwvaWZyYW1lPicpWzBdOwogICAgICAgICAgICAgICAgcG9wdXBfYzQ0ZmFjOTJiODE5NGVlZGI3ODk4YjhhODYwOTFlOGIuc2V0Q29udGVudChpX2ZyYW1lX2U5ODMwYzU0ZGM1ZDQ0NzFiYTZjNmUwMTdiMDVlMThiKTsKICAgICAgICAgICAgCgogICAgICAgICAgICBtYXJrZXJfYTM1ZDU3NTczOWY5NGI4ZGExNmRjNDkyNDcxMDgzNDEuYmluZFBvcHVwKHBvcHVwX2M0NGZhYzkyYjgxOTRlZWRiNzg5OGI4YTg2MDkxZThiKTsKCiAgICAgICAgICAgIAogICAgICAgIAogICAgICAgIAogICAgICAgICAgICAKCiAgICAgICAgICAgIHZhciBtYXJrZXJfMmRiNzQzYzEyMDVlNDZjOWE1YmI3ZTk2NzI0NGE3NTQgPSBMLm1hcmtlcigKICAgICAgICAgICAgICAgIFstMTAuMjAwMSwxNjEuMzMwOV0sCiAgICAgICAgICAgICAgICB7CiAgICAgICAgICAgICAgICAgICAgaWNvbjogbmV3IEwuSWNvbi5EZWZhdWx0KCkKICAgICAgICAgICAgICAgICAgICB9CiAgICAgICAgICAgICAgICApCiAgICAgICAgICAgICAgICAuYWRkVG8oZmVhdHVyZV9ncm91cF8zMDYzZmQ0MjE1Yzg0NTc2OTgxNWE2ZGI2ZTM2M2Y2YSk7CiAgICAgICAgICAgIAogICAgICAgIAogICAgICAgICAgICAKCiAgICAgICAgICAgICAgICB2YXIgY3VzdG9tX2ljb25fYTEzN2U1NDhkMWUyNGZlMDkxZTNkZWU1YWFkMTEyZGYgPSBMLmljb24oewogICAgICAgICAgICAgICAgICAgIGljb25Vcmw6ICdodHRwczovL3Jhdy5naXRodWJ1c2VyY29udGVudC5jb20vbmljb2xhc2ZhdWNoZXJlYXUvU0lNUy9tYXN0ZXIvVFJNTS9pbWFnZXMvaWNvbnMveWVsbG93LnBuZycsCiAgICAgICAgICAgICAgICAgICAgaWNvblNpemU6IFsxOC44LDMyLjVdLAogICAgICAgICAgICAgICAgICAgIAoKICAgICAgICAgICAgICAgICAgICAKICAgICAgICAgICAgICAgICAgICAKICAgICAgICAgICAgICAgICAgICAKCiAgICAgICAgICAgICAgICAgICAgCiAgICAgICAgICAgICAgICAgICAgfSk7CiAgICAgICAgICAgICAgICBtYXJrZXJfMmRiNzQzYzEyMDVlNDZjOWE1YmI3ZTk2NzI0NGE3NTQuc2V0SWNvbihjdXN0b21faWNvbl9hMTM3ZTU0OGQxZTI0ZmUwOTFlM2RlZTVhYWQxMTJkZik7CiAgICAgICAgICAgIAogICAgICAgIAogICAgICAgICAgICAKICAgICAgICAgICAgdmFyIHBvcHVwXzNlYTRkMDZkMjc3MjRhZmNhYWVlNzcxZWQxMDA2NDA3ID0gTC5wb3B1cCh7bWF4V2lkdGg6ICc2MDAnfSk7CgogICAgICAgICAgICAKICAgICAgICAgICAgICAgIHZhciBpX2ZyYW1lXzBiYTgxNDQwNzM5ZTQ4OWVhMTg3OGZjOTNjYmIzN2U1ID0gJCgnPGlmcmFtZSBzcmM9ImRhdGE6dGV4dC9odG1sO2Jhc2U2NCxDaUFnSUNBZ0lDQWdDaUFnSUNBZ0lDQWdJQ0FnSUFvZ0lDQWdQR1p2Ym5RZ1ptRmpaVDBpZG1WeVpHRnVZU0krQ2lBZ0lDQThaR2wySUdGc2FXZHVQU2RqWlc1MFpYSW5QanhvTkQ0S0lDQWdJRXhoYzNRZ09UQWdaR0Y1Y3lBb2RHOGdkR2hsSURJd01UWXRNRGd0TVRjZ1ZWUkRLU0JsYzNScGJXRjBaWE1nVzFSU1RVMHZWRTFRUVYwZ1ptOXlJRTFoY205MUlFSmhlVHd2YURRK0NpQWdJQ0J2WW5ObGNuWmxaQ0E5SUR4aVBqVXpPRHd2WWo0Z2JXMGdQR0p5UGdvZ0lDQWdZMnhwYldGMGIyeHZaM2tnUFNBOFlqNDROak04TDJJK0lHMXRJRHhpY2o0S0lDQWdJSEJsY21ObGJuUXVJRzltSUc1dmNtMWhiQ0E5SUR4aVBqWXlMak0wUEdJK0lDVUtJQ0FnSUR4aWNqNDhZbkkrQ2lBZ0lDQThZU0JvY21WbVBTSm9kSFJ3Y3pvdkwyTmtiaTV5WVhkbmFYUXVZMjl0TDI1cFkyOXNZWE5tWVhWamFHVnlaV0YxTDFOSlRWTXZiV0Z6ZEdWeUwxUlNUVTB2ZDNkM0wxWnBjblIxWVd4ZlUzUmhkR2x2Ymw5TllYSnZkU0JDWVhsZk9UQnVaR0Y1Y3k1b2RHMXNJaUIwWVhKblpYUTlJbDlpYkdGdWF5SStZMnhwWTJzZ2FHVnlaU0JtYjNJZ2RHaGxJSFJwYldVdGMyVnlhV1Z6UEM5aFBnb2dJQ0FnUEM5bWIyNTBQZ29nSUNBZ0NpQWdJQ0FnSUNBZ0NpQWdJQ0FnSUNBZyIgd2lkdGg9IjMwMCIgaGVpZ2h0PSIyMDAiPjwvaWZyYW1lPicpWzBdOwogICAgICAgICAgICAgICAgcG9wdXBfM2VhNGQwNmQyNzcyNGFmY2FhZWU3NzFlZDEwMDY0MDcuc2V0Q29udGVudChpX2ZyYW1lXzBiYTgxNDQwNzM5ZTQ4OWVhMTg3OGZjOTNjYmIzN2U1KTsKICAgICAgICAgICAgCgogICAgICAgICAgICBtYXJrZXJfMmRiNzQzYzEyMDVlNDZjOWE1YmI3ZTk2NzI0NGE3NTQuYmluZFBvcHVwKHBvcHVwXzNlYTRkMDZkMjc3MjRhZmNhYWVlNzcxZWQxMDA2NDA3KTsKCiAgICAgICAgICAgIAogICAgICAgIAogICAgICAgIAogICAgICAgICAgICAKCiAgICAgICAgICAgIHZhciBtYXJrZXJfNGJlYzgyOTE2Y2JiNDVhMDhiMTZiMzQ5ZGVmYjNlNDggPSBMLm1hcmtlcigKICAgICAgICAgICAgICAgIFstMTAuODQ3OSwxNjIuNDU0N10sCiAgICAgICAgICAgICAgICB7CiAgICAgICAgICAgICAgICAgICAgaWNvbjogbmV3IEwuSWNvbi5EZWZhdWx0KCkKICAgICAgICAgICAgICAgICAgICB9CiAgICAgICAgICAgICAgICApCiAgICAgICAgICAgICAgICAuYWRkVG8oZmVhdHVyZV9ncm91cF8zMDYzZmQ0MjE1Yzg0NTc2OTgxNWE2ZGI2ZTM2M2Y2YSk7CiAgICAgICAgICAgIAogICAgICAgIAogICAgICAgICAgICAKCiAgICAgICAgICAgICAgICB2YXIgY3VzdG9tX2ljb25fMWYwZjA0YjZlMDNjNDk4Yzk0ZmQ1ZGU0MjVhMzk5YTAgPSBMLmljb24oewogICAgICAgICAgICAgICAgICAgIGljb25Vcmw6ICdodHRwczovL3Jhdy5naXRodWJ1c2VyY29udGVudC5jb20vbmljb2xhc2ZhdWNoZXJlYXUvU0lNUy9tYXN0ZXIvVFJNTS9pbWFnZXMvaWNvbnMvZ3JlZW4ucG5nJywKICAgICAgICAgICAgICAgICAgICBpY29uU2l6ZTogWzI4LjIsNDguNzVdLAogICAgICAgICAgICAgICAgICAgIAoKICAgICAgICAgICAgICAgICAgICAKICAgICAgICAgICAgICAgICAgICAKICAgICAgICAgICAgICAgICAgICAKCiAgICAgICAgICAgICAgICAgICAgCiAgICAgICAgICAgICAgICAgICAgfSk7CiAgICAgICAgICAgICAgICBtYXJrZXJfNGJlYzgyOTE2Y2JiNDVhMDhiMTZiMzQ5ZGVmYjNlNDguc2V0SWNvbihjdXN0b21faWNvbl8xZjBmMDRiNmUwM2M0OThjOTRmZDVkZTQyNWEzOTlhMCk7CiAgICAgICAgICAgIAogICAgICAgIAogICAgICAgICAgICAKICAgICAgICAgICAgdmFyIHBvcHVwXzNiYjc0MzZlMjYyMTRkYjhhMGEzMmI5NDE2ODAwMDc4ID0gTC5wb3B1cCh7bWF4V2lkdGg6ICc2MDAnfSk7CgogICAgICAgICAgICAKICAgICAgICAgICAgICAgIHZhciBpX2ZyYW1lXzc2NjhkMGNiYjMyNDQ0NDFiYWExNGViM2RlZTNkODdlID0gJCgnPGlmcmFtZSBzcmM9ImRhdGE6dGV4dC9odG1sO2Jhc2U2NCxDaUFnSUNBZ0lDQWdDaUFnSUNBZ0lDQWdJQ0FnSUFvZ0lDQWdQR1p2Ym5RZ1ptRmpaVDBpZG1WeVpHRnVZU0krQ2lBZ0lDQThaR2wySUdGc2FXZHVQU2RqWlc1MFpYSW5QanhvTkQ0S0lDQWdJRXhoYzNRZ09UQWdaR0Y1Y3lBb2RHOGdkR2hsSURJd01UWXRNRGd0TVRjZ1ZWUkRLU0JsYzNScGJXRjBaWE1nVzFSU1RVMHZWRTFRUVYwZ1ptOXlJRk5oYm5SaElFRnVZVHd2YURRK0NpQWdJQ0J2WW5ObGNuWmxaQ0E5SUR4aVBqYzRORHd2WWo0Z2JXMGdQR0p5UGdvZ0lDQWdZMnhwYldGMGIyeHZaM2tnUFNBOFlqNDROakk4TDJJK0lHMXRJRHhpY2o0S0lDQWdJSEJsY21ObGJuUXVJRzltSUc1dmNtMWhiQ0E5SUR4aVBqa3dMamsxUEdJK0lDVUtJQ0FnSUR4aWNqNDhZbkkrQ2lBZ0lDQThZU0JvY21WbVBTSm9kSFJ3Y3pvdkwyTmtiaTV5WVhkbmFYUXVZMjl0TDI1cFkyOXNZWE5tWVhWamFHVnlaV0YxTDFOSlRWTXZiV0Z6ZEdWeUwxUlNUVTB2ZDNkM0wxWnBjblIxWVd4ZlUzUmhkR2x2Ymw5VFlXNTBZU0JCYm1GZk9UQnVaR0Y1Y3k1b2RHMXNJaUIwWVhKblpYUTlJbDlpYkdGdWF5SStZMnhwWTJzZ2FHVnlaU0JtYjNJZ2RHaGxJSFJwYldVdGMyVnlhV1Z6UEM5aFBnb2dJQ0FnUEM5bWIyNTBQZ29nSUNBZ0NpQWdJQ0FnSUNBZ0NpQWdJQ0FnSUNBZyIgd2lkdGg9IjMwMCIgaGVpZ2h0PSIyMDAiPjwvaWZyYW1lPicpWzBdOwogICAgICAgICAgICAgICAgcG9wdXBfM2JiNzQzNmUyNjIxNGRiOGEwYTMyYjk0MTY4MDAwNzguc2V0Q29udGVudChpX2ZyYW1lXzc2NjhkMGNiYjMyNDQ0NDFiYWExNGViM2RlZTNkODdlKTsKICAgICAgICAgICAgCgogICAgICAgICAgICBtYXJrZXJfNGJlYzgyOTE2Y2JiNDVhMDhiMTZiMzQ5ZGVmYjNlNDguYmluZFBvcHVwKHBvcHVwXzNiYjc0MzZlMjYyMTRkYjhhMGEzMmI5NDE2ODAwMDc4KTsKCiAgICAgICAgICAgIAogICAgICAgIAogICAgICAgIAogICAgICAgICAgICAKCiAgICAgICAgICAgIHZhciBtYXJrZXJfNzFhMzk1YzYzOGNkNDJkY2IyNzcyMzEzMmE4ZjMzNTkgPSBMLm1hcmtlcigKICAgICAgICAgICAgICAgIFstOC4zMzMzLDE2MC42MTY3XSwKICAgICAgICAgICAgICAgIHsKICAgICAgICAgICAgICAgICAgICBpY29uOiBuZXcgTC5JY29uLkRlZmF1bHQoKQogICAgICAgICAgICAgICAgICAgIH0KICAgICAgICAgICAgICAgICkKICAgICAgICAgICAgICAgIC5hZGRUbyhmZWF0dXJlX2dyb3VwXzMwNjNmZDQyMTVjODQ1NzY5ODE1YTZkYjZlMzYzZjZhKTsKICAgICAgICAgICAgCiAgICAgICAgCiAgICAgICAgICAgIAoKICAgICAgICAgICAgICAgIHZhciBjdXN0b21faWNvbl8zMWVkYWM2ZjM1ODQ0YzlhODdjMjliMzM1MWQ3MmY0ZiA9IEwuaWNvbih7CiAgICAgICAgICAgICAgICAgICAgaWNvblVybDogJ2h0dHBzOi8vcmF3LmdpdGh1YnVzZXJjb250ZW50LmNvbS9uaWNvbGFzZmF1Y2hlcmVhdS9TSU1TL21hc3Rlci9UUk1NL2ltYWdlcy9pY29ucy95ZWxsb3cucG5nJywKICAgICAgICAgICAgICAgICAgICBpY29uU2l6ZTogWzE4LjgsMzIuNV0sCiAgICAgICAgICAgICAgICAgICAgCgogICAgICAgICAgICAgICAgICAgIAogICAgICAgICAgICAgICAgICAgIAogICAgICAgICAgICAgICAgICAgIAoKICAgICAgICAgICAgICAgICAgICAKICAgICAgICAgICAgICAgICAgICB9KTsKICAgICAgICAgICAgICAgIG1hcmtlcl83MWEzOTVjNjM4Y2Q0MmRjYjI3NzIzMTMyYThmMzM1OS5zZXRJY29uKGN1c3RvbV9pY29uXzMxZWRhYzZmMzU4NDRjOWE4N2MyOWIzMzUxZDcyZjRmKTsKICAgICAgICAgICAgCiAgICAgICAgCiAgICAgICAgICAgIAogICAgICAgICAgICB2YXIgcG9wdXBfNzYzNGFhZDFiODc3NDFiZWE4NjE0NjllZTA0NmU1OTUgPSBMLnBvcHVwKHttYXhXaWR0aDogJzYwMCd9KTsKCiAgICAgICAgICAgIAogICAgICAgICAgICAgICAgdmFyIGlfZnJhbWVfODM0ZjhhNjRlYTEzNGQyNWIxMGI0NTQ2Y2Y4MmI3MDAgPSAkKCc8aWZyYW1lIHNyYz0iZGF0YTp0ZXh0L2h0bWw7YmFzZTY0LENpQWdJQ0FnSUNBZ0NpQWdJQ0FnSUNBZ0lDQWdJQW9nSUNBZ1BHWnZiblFnWm1GalpUMGlkbVZ5WkdGdVlTSStDaUFnSUNBOFpHbDJJR0ZzYVdkdVBTZGpaVzUwWlhJblBqeG9ORDRLSUNBZ0lFeGhjM1FnT1RBZ1pHRjVjeUFvZEc4Z2RHaGxJREl3TVRZdE1EZ3RNVGNnVlZSREtTQmxjM1JwYldGMFpYTWdXMVJTVFUwdlZFMVFRVjBnWm05eUlFMWhiSFVuZFR3dmFEUStDaUFnSUNCdlluTmxjblpsWkNBOUlEeGlQalF5TVR3dllqNGdiVzBnUEdKeVBnb2dJQ0FnWTJ4cGJXRjBiMnh2WjNrZ1BTQThZajQzT1RjOEwySStJRzF0SUR4aWNqNEtJQ0FnSUhCbGNtTmxiblF1SUc5bUlHNXZjbTFoYkNBOUlEeGlQalV5TGpneVBHSStJQ1VLSUNBZ0lEeGljajQ4WW5JK0NpQWdJQ0E4WVNCb2NtVm1QU0pvZEhSd2N6b3ZMMk5rYmk1eVlYZG5hWFF1WTI5dEwyNXBZMjlzWVhObVlYVmphR1Z5WldGMUwxTkpUVk12YldGemRHVnlMMVJTVFUwdmQzZDNMMVpwY25SMVlXeGZVM1JoZEdsdmJsOU5ZV3gxSjNWZk9UQnVaR0Y1Y3k1b2RHMXNJaUIwWVhKblpYUTlJbDlpYkdGdWF5SStZMnhwWTJzZ2FHVnlaU0JtYjNJZ2RHaGxJSFJwYldVdGMyVnlhV1Z6UEM5aFBnb2dJQ0FnUEM5bWIyNTBQZ29nSUNBZ0NpQWdJQ0FnSUNBZ0NpQWdJQ0FnSUNBZyIgd2lkdGg9IjMwMCIgaGVpZ2h0PSIyMDAiPjwvaWZyYW1lPicpWzBdOwogICAgICAgICAgICAgICAgcG9wdXBfNzYzNGFhZDFiODc3NDFiZWE4NjE0NjllZTA0NmU1OTUuc2V0Q29udGVudChpX2ZyYW1lXzgzNGY4YTY0ZWExMzRkMjViMTBiNDU0NmNmODJiNzAwKTsKICAgICAgICAgICAgCgogICAgICAgICAgICBtYXJrZXJfNzFhMzk1YzYzOGNkNDJkY2IyNzcyMzEzMmE4ZjMzNTkuYmluZFBvcHVwKHBvcHVwXzc2MzRhYWQxYjg3NzQxYmVhODYxNDY5ZWUwNDZlNTk1KTsKCiAgICAgICAgICAgIAogICAgICAgIAogICAgICAgIAogICAgICAgICAgICAKCiAgICAgICAgICAgIHZhciBtYXJrZXJfMDlmOTk4ODVlZWExNGU5Mzk1MjY4ZGYzYjEwNjAzNzEgPSBMLm1hcmtlcigKICAgICAgICAgICAgICAgIFstOC43MzkyLDE2MC45MzM5XSwKICAgICAgICAgICAgICAgIHsKICAgICAgICAgICAgICAgICAgICBpY29uOiBuZXcgTC5JY29uLkRlZmF1bHQoKQogICAgICAgICAgICAgICAgICAgIH0KICAgICAgICAgICAgICAgICkKICAgICAgICAgICAgICAgIC5hZGRUbyhmZWF0dXJlX2dyb3VwXzMwNjNmZDQyMTVjODQ1NzY5ODE1YTZkYjZlMzYzZjZhKTsKICAgICAgICAgICAgCiAgICAgICAgCiAgICAgICAgICAgIAoKICAgICAgICAgICAgICAgIHZhciBjdXN0b21faWNvbl85ZTcwNWQ0MmEyMjk0OWE2YmFlODM1YmFiOTg0ZWI1NSA9IEwuaWNvbih7CiAgICAgICAgICAgICAgICAgICAgaWNvblVybDogJ2h0dHBzOi8vcmF3LmdpdGh1YnVzZXJjb250ZW50LmNvbS9uaWNvbGFzZmF1Y2hlcmVhdS9TSU1TL21hc3Rlci9UUk1NL2ltYWdlcy9pY29ucy95ZWxsb3cucG5nJywKICAgICAgICAgICAgICAgICAgICBpY29uU2l6ZTogWzE4LjgsMzIuNV0sCiAgICAgICAgICAgICAgICAgICAgCgogICAgICAgICAgICAgICAgICAgIAogICAgICAgICAgICAgICAgICAgIAogICAgICAgICAgICAgICAgICAgIAoKICAgICAgICAgICAgICAgICAgICAKICAgICAgICAgICAgICAgICAgICB9KTsKICAgICAgICAgICAgICAgIG1hcmtlcl8wOWY5OTg4NWVlYTE0ZTkzOTUyNjhkZjNiMTA2MDM3MS5zZXRJY29uKGN1c3RvbV9pY29uXzllNzA1ZDQyYTIyOTQ5YTZiYWU4MzViYWI5ODRlYjU1KTsKICAgICAgICAgICAgCiAgICAgICAgCiAgICAgICAgICAgIAogICAgICAgICAgICB2YXIgcG9wdXBfZjRlZjdmMTUyMzM2NGZjZDg4NDNmNzI1ZjliYTM0MGEgPSBMLnBvcHVwKHttYXhXaWR0aDogJzYwMCd9KTsKCiAgICAgICAgICAgIAogICAgICAgICAgICAgICAgdmFyIGlfZnJhbWVfNTU5ZTM2MzMxMzFmNGIzNzlhMjI0NGJkMDM0YTM5NTIgPSAkKCc8aWZyYW1lIHNyYz0iZGF0YTp0ZXh0L2h0bWw7YmFzZTY0LENpQWdJQ0FnSUNBZ0NpQWdJQ0FnSUNBZ0lDQWdJQW9nSUNBZ1BHWnZiblFnWm1GalpUMGlkbVZ5WkdGdVlTSStDaUFnSUNBOFpHbDJJR0ZzYVdkdVBTZGpaVzUwWlhJblBqeG9ORDRLSUNBZ0lFeGhjM1FnT1RBZ1pHRjVjeUFvZEc4Z2RHaGxJREl3TVRZdE1EZ3RNVGNnVlZSREtTQmxjM1JwYldGMFpYTWdXMVJTVFUwdlZFMVFRVjBnWm05eUlFRjBiM0pwUEM5b05ENEtJQ0FnSUc5aWMyVnlkbVZrSUQwZ1BHSStOakV5UEM5aVBpQnRiU0E4WW5JK0NpQWdJQ0JqYkdsdFlYUnZiRzluZVNBOUlEeGlQamt5Tnp3dllqNGdiVzBnUEdKeVBnb2dJQ0FnY0dWeVkyVnVkQzRnYjJZZ2JtOXliV0ZzSUQwZ1BHSStOall1TURJOFlqNGdKUW9nSUNBZ1BHSnlQanhpY2o0S0lDQWdJRHhoSUdoeVpXWTlJbWgwZEhCek9pOHZZMlJ1TG5KaGQyZHBkQzVqYjIwdmJtbGpiMnhoYzJaaGRXTm9aWEpsWVhVdlUwbE5VeTl0WVhOMFpYSXZWRkpOVFM5M2QzY3ZWbWx5ZEhWaGJGOVRkR0YwYVc5dVgwRjBiM0pwWHprd2JtUmhlWE11YUhSdGJDSWdkR0Z5WjJWMFBTSmZZbXhoYm1zaVBtTnNhV05ySUdobGNtVWdabTl5SUhSb1pTQjBhVzFsTFhObGNtbGxjend2WVQ0S0lDQWdJRHd2Wm05dWRENEtJQ0FnSUFvZ0lDQWdJQ0FnSUFvZ0lDQWdJQ0FnSUE9PSIgd2lkdGg9IjMwMCIgaGVpZ2h0PSIyMDAiPjwvaWZyYW1lPicpWzBdOwogICAgICAgICAgICAgICAgcG9wdXBfZjRlZjdmMTUyMzM2NGZjZDg4NDNmNzI1ZjliYTM0MGEuc2V0Q29udGVudChpX2ZyYW1lXzU1OWUzNjMzMTMxZjRiMzc5YTIyNDRiZDAzNGEzOTUyKTsKICAgICAgICAgICAgCgogICAgICAgICAgICBtYXJrZXJfMDlmOTk4ODVlZWExNGU5Mzk1MjY4ZGYzYjEwNjAzNzEuYmluZFBvcHVwKHBvcHVwX2Y0ZWY3ZjE1MjMzNjRmY2Q4ODQzZjcyNWY5YmEzNDBhKTsKCiAgICAgICAgICAgIAogICAgICAgIAogICAgICAgIAogICAgICAgICAgICAKCiAgICAgICAgICAgIHZhciBtYXJrZXJfYjFjYjJlNTQ4MGNjNDQzMWE3ZjcwMjY2MmE5ODJhN2EgPSBMLm1hcmtlcigKICAgICAgICAgICAgICAgIFstOC42MTY3LDE2MC42NV0sCiAgICAgICAgICAgICAgICB7CiAgICAgICAgICAgICAgICAgICAgaWNvbjogbmV3IEwuSWNvbi5EZWZhdWx0KCkKICAgICAgICAgICAgICAgICAgICB9CiAgICAgICAgICAgICAgICApCiAgICAgICAgICAgICAgICAuYWRkVG8oZmVhdHVyZV9ncm91cF8zMDYzZmQ0MjE1Yzg0NTc2OTgxNWE2ZGI2ZTM2M2Y2YSk7CiAgICAgICAgICAgIAogICAgICAgIAogICAgICAgICAgICAKCiAgICAgICAgICAgICAgICB2YXIgY3VzdG9tX2ljb25fYzI0MmFmMzA0ODE0NGY2NTg1MWNiNGE5OTRlNjJiZGEgPSBMLmljb24oewogICAgICAgICAgICAgICAgICAgIGljb25Vcmw6ICdodHRwczovL3Jhdy5naXRodWJ1c2VyY29udGVudC5jb20vbmljb2xhc2ZhdWNoZXJlYXUvU0lNUy9tYXN0ZXIvVFJNTS9pbWFnZXMvaWNvbnMveWVsbG93LnBuZycsCiAgICAgICAgICAgICAgICAgICAgaWNvblNpemU6IFsxOC44LDMyLjVdLAogICAgICAgICAgICAgICAgICAgIAoKICAgICAgICAgICAgICAgICAgICAKICAgICAgICAgICAgICAgICAgICAKICAgICAgICAgICAgICAgICAgICAKCiAgICAgICAgICAgICAgICAgICAgCiAgICAgICAgICAgICAgICAgICAgfSk7CiAgICAgICAgICAgICAgICBtYXJrZXJfYjFjYjJlNTQ4MGNjNDQzMWE3ZjcwMjY2MmE5ODJhN2Euc2V0SWNvbihjdXN0b21faWNvbl9jMjQyYWYzMDQ4MTQ0ZjY1ODUxY2I0YTk5NGU2MmJkYSk7CiAgICAgICAgICAgIAogICAgICAgIAogICAgICAgICAgICAKICAgICAgICAgICAgdmFyIHBvcHVwXzllNGMwNmJkOWYyYjQ4NjM5ZGQ0MzUwMmExNTE2ZTFiID0gTC5wb3B1cCh7bWF4V2lkdGg6ICc2MDAnfSk7CgogICAgICAgICAgICAKICAgICAgICAgICAgICAgIHZhciBpX2ZyYW1lX2Y0NjkyOGYxNGU1ZTRhYmY4Zjc3ZDkxZTM4NjcwNTBjID0gJCgnPGlmcmFtZSBzcmM9ImRhdGE6dGV4dC9odG1sO2Jhc2U2NCxDaUFnSUNBZ0lDQWdDaUFnSUNBZ0lDQWdJQ0FnSUFvZ0lDQWdQR1p2Ym5RZ1ptRmpaVDBpZG1WeVpHRnVZU0krQ2lBZ0lDQThaR2wySUdGc2FXZHVQU2RqWlc1MFpYSW5QanhvTkQ0S0lDQWdJRXhoYzNRZ09UQWdaR0Y1Y3lBb2RHOGdkR2hsSURJd01UWXRNRGd0TVRjZ1ZWUkRLU0JsYzNScGJXRjBaWE1nVzFSU1RVMHZWRTFRUVYwZ1ptOXlJRVp2ZEdVOEwyZzBQZ29nSUNBZ2IySnpaWEoyWldRZ1BTQThZajQwTmpFOEwySStJRzF0SUR4aWNqNEtJQ0FnSUdOc2FXMWhkRzlzYjJkNUlEMGdQR0krTmprelBDOWlQaUJ0YlNBOFluSStDaUFnSUNCd1pYSmpaVzUwTGlCdlppQnViM0p0WVd3Z1BTQThZajQyTmk0MU1qeGlQaUFsQ2lBZ0lDQThZbkkrUEdKeVBnb2dJQ0FnUEdFZ2FISmxaajBpYUhSMGNITTZMeTlqWkc0dWNtRjNaMmwwTG1OdmJTOXVhV052YkdGelptRjFZMmhsY21WaGRTOVRTVTFUTDIxaGMzUmxjaTlVVWsxTkwzZDNkeTlXYVhKMGRXRnNYMU4wWVhScGIyNWZSbTkwWlY4NU1HNWtZWGx6TG1oMGJXd2lJSFJoY21kbGREMGlYMkpzWVc1cklqNWpiR2xqYXlCb1pYSmxJR1p2Y2lCMGFHVWdkR2x0WlMxelpYSnBaWE04TDJFK0NpQWdJQ0E4TDJadmJuUStDaUFnSUNBS0lDQWdJQ0FnSUNBS0lDQWdJQ0FnSUNBPSIgd2lkdGg9IjMwMCIgaGVpZ2h0PSIyMDAiPjwvaWZyYW1lPicpWzBdOwogICAgICAgICAgICAgICAgcG9wdXBfOWU0YzA2YmQ5ZjJiNDg2MzlkZDQzNTAyYTE1MTZlMWIuc2V0Q29udGVudChpX2ZyYW1lX2Y0NjkyOGYxNGU1ZTRhYmY4Zjc3ZDkxZTM4NjcwNTBjKTsKICAgICAgICAgICAgCgogICAgICAgICAgICBtYXJrZXJfYjFjYjJlNTQ4MGNjNDQzMWE3ZjcwMjY2MmE5ODJhN2EuYmluZFBvcHVwKHBvcHVwXzllNGMwNmJkOWYyYjQ4NjM5ZGQ0MzUwMmExNTE2ZTFiKTsKCiAgICAgICAgICAgIAogICAgICAgIAogICAgICAgIAogICAgICAgICAgICAKCiAgICAgICAgICAgIHZhciBtYXJrZXJfYzk4NjAxNmE5MWFkNDU1MDliNTdhM2UzYmFjZDRhYWEgPSBMLm1hcmtlcigKICAgICAgICAgICAgICAgIFstOC44NSwxNjEuMF0sCiAgICAgICAgICAgICAgICB7CiAgICAgICAgICAgICAgICAgICAgaWNvbjogbmV3IEwuSWNvbi5EZWZhdWx0KCkKICAgICAgICAgICAgICAgICAgICB9CiAgICAgICAgICAgICAgICApCiAgICAgICAgICAgICAgICAuYWRkVG8oZmVhdHVyZV9ncm91cF8zMDYzZmQ0MjE1Yzg0NTc2OTgxNWE2ZGI2ZTM2M2Y2YSk7CiAgICAgICAgICAgIAogICAgICAgIAogICAgICAgICAgICAKCiAgICAgICAgICAgICAgICB2YXIgY3VzdG9tX2ljb25fZThjNDllZjhlOTY2NGQ3ZWIxMGEwMDRkMGU4M2Q0NzggPSBMLmljb24oewogICAgICAgICAgICAgICAgICAgIGljb25Vcmw6ICdodHRwczovL3Jhdy5naXRodWJ1c2VyY29udGVudC5jb20vbmljb2xhc2ZhdWNoZXJlYXUvU0lNUy9tYXN0ZXIvVFJNTS9pbWFnZXMvaWNvbnMvZ3JlZW4ucG5nJywKICAgICAgICAgICAgICAgICAgICBpY29uU2l6ZTogWzI4LjIsNDguNzVdLAogICAgICAgICAgICAgICAgICAgIAoKICAgICAgICAgICAgICAgICAgICAKICAgICAgICAgICAgICAgICAgICAKICAgICAgICAgICAgICAgICAgICAKCiAgICAgICAgICAgICAgICAgICAgCiAgICAgICAgICAgICAgICAgICAgfSk7CiAgICAgICAgICAgICAgICBtYXJrZXJfYzk4NjAxNmE5MWFkNDU1MDliNTdhM2UzYmFjZDRhYWEuc2V0SWNvbihjdXN0b21faWNvbl9lOGM0OWVmOGU5NjY0ZDdlYjEwYTAwNGQwZTgzZDQ3OCk7CiAgICAgICAgICAgIAogICAgICAgIAogICAgICAgICAgICAKICAgICAgICAgICAgdmFyIHBvcHVwXzNkOGMwYTJiNzUyMzQxYWRhMjAzNGNkNjg0NDQ1MDk5ID0gTC5wb3B1cCh7bWF4V2lkdGg6ICc2MDAnfSk7CgogICAgICAgICAgICAKICAgICAgICAgICAgICAgIHZhciBpX2ZyYW1lX2YwNWNjYTI4Y2I2ZjRlNGViNmFkZmZkYmVlODYxN2IyID0gJCgnPGlmcmFtZSBzcmM9ImRhdGE6dGV4dC9odG1sO2Jhc2U2NCxDaUFnSUNBZ0lDQWdDaUFnSUNBZ0lDQWdJQ0FnSUFvZ0lDQWdQR1p2Ym5RZ1ptRmpaVDBpZG1WeVpHRnVZU0krQ2lBZ0lDQThaR2wySUdGc2FXZHVQU2RqWlc1MFpYSW5QanhvTkQ0S0lDQWdJRXhoYzNRZ09UQWdaR0Y1Y3lBb2RHOGdkR2hsSURJd01UWXRNRGd0TVRjZ1ZWUkRLU0JsYzNScGJXRjBaWE1nVzFSU1RVMHZWRTFRUVYwZ1ptOXlJRUYwYjJsbWFUd3ZhRFErQ2lBZ0lDQnZZbk5sY25abFpDQTlJRHhpUGprNE5qd3ZZajRnYlcwZ1BHSnlQZ29nSUNBZ1kyeHBiV0YwYjJ4dloza2dQU0E4WWo0eE1UQTJQQzlpUGlCdGJTQThZbkkrQ2lBZ0lDQndaWEpqWlc1MExpQnZaaUJ1YjNKdFlXd2dQU0E4WWo0NE9TNHhOVHhpUGlBbENpQWdJQ0E4WW5JK1BHSnlQZ29nSUNBZ1BHRWdhSEpsWmowaWFIUjBjSE02THk5alpHNHVjbUYzWjJsMExtTnZiUzl1YVdOdmJHRnpabUYxWTJobGNtVmhkUzlUU1UxVEwyMWhjM1JsY2k5VVVrMU5MM2QzZHk5V2FYSjBkV0ZzWDFOMFlYUnBiMjVmUVhSdmFXWnBYemt3Ym1SaGVYTXVhSFJ0YkNJZ2RHRnlaMlYwUFNKZllteGhibXNpUG1Oc2FXTnJJR2hsY21VZ1ptOXlJSFJvWlNCMGFXMWxMWE5sY21sbGN6d3ZZVDRLSUNBZ0lEd3ZabTl1ZEQ0S0lDQWdJQW9nSUNBZ0lDQWdJQW9nSUNBZ0lDQWdJQT09IiB3aWR0aD0iMzAwIiBoZWlnaHQ9IjIwMCI+PC9pZnJhbWU+JylbMF07CiAgICAgICAgICAgICAgICBwb3B1cF8zZDhjMGEyYjc1MjM0MWFkYTIwMzRjZDY4NDQ0NTA5OS5zZXRDb250ZW50KGlfZnJhbWVfZjA1Y2NhMjhjYjZmNGU0ZWI2YWRmZmRiZWU4NjE3YjIpOwogICAgICAgICAgICAKCiAgICAgICAgICAgIG1hcmtlcl9jOTg2MDE2YTkxYWQ0NTUwOWI1N2EzZTNiYWNkNGFhYS5iaW5kUG9wdXAocG9wdXBfM2Q4YzBhMmI3NTIzNDFhZGEyMDM0Y2Q2ODQ0NDUwOTkpOwoKICAgICAgICAgICAgCiAgICAgICAgCiAgICAgICAgCiAgICAgICAgICAgIAoKICAgICAgICAgICAgdmFyIG1hcmtlcl8yYTlhYmVlYzc0OGE0M2NjYjM2NDM0NjcxYjVhNDJkNSA9IEwubWFya2VyKAogICAgICAgICAgICAgICAgWy05LjMxNjcsMTYxLjA4MzNdLAogICAgICAgICAgICAgICAgewogICAgICAgICAgICAgICAgICAgIGljb246IG5ldyBMLkljb24uRGVmYXVsdCgpCiAgICAgICAgICAgICAgICAgICAgfQogICAgICAgICAgICAgICAgKQogICAgICAgICAgICAgICAgLmFkZFRvKGZlYXR1cmVfZ3JvdXBfMzA2M2ZkNDIxNWM4NDU3Njk4MTVhNmRiNmUzNjNmNmEpOwogICAgICAgICAgICAKICAgICAgICAKICAgICAgICAgICAgCgogICAgICAgICAgICAgICAgdmFyIGN1c3RvbV9pY29uX2U4MGU5YjljNTZlNDRlMjg5MGNkY2NjNjE4ODMxY2Q5ID0gTC5pY29uKHsKICAgICAgICAgICAgICAgICAgICBpY29uVXJsOiAnaHR0cHM6Ly9yYXcuZ2l0aHVidXNlcmNvbnRlbnQuY29tL25pY29sYXNmYXVjaGVyZWF1L1NJTVMvbWFzdGVyL1RSTU0vaW1hZ2VzL2ljb25zL3llbGxvdy5wbmcnLAogICAgICAgICAgICAgICAgICAgIGljb25TaXplOiBbMTguOCwzMi41XSwKICAgICAgICAgICAgICAgICAgICAKCiAgICAgICAgICAgICAgICAgICAgCiAgICAgICAgICAgICAgICAgICAgCiAgICAgICAgICAgICAgICAgICAgCgogICAgICAgICAgICAgICAgICAgIAogICAgICAgICAgICAgICAgICAgIH0pOwogICAgICAgICAgICAgICAgbWFya2VyXzJhOWFiZWVjNzQ4YTQzY2NiMzY0MzQ2NzFiNWE0MmQ1LnNldEljb24oY3VzdG9tX2ljb25fZTgwZTliOWM1NmU0NGUyODkwY2RjY2M2MTg4MzFjZDkpOwogICAgICAgICAgICAKICAgICAgICAKICAgICAgICAgICAgCiAgICAgICAgICAgIHZhciBwb3B1cF8zNDZiOTYzOTRkZTI0YTM1YjMxYzVlYzU1ZThhNzQzMSA9IEwucG9wdXAoe21heFdpZHRoOiAnNjAwJ30pOwoKICAgICAgICAgICAgCiAgICAgICAgICAgICAgICB2YXIgaV9mcmFtZV83MjgwZWQ4OWQ2M2I0MjM1OGVjNGEyZmUyYzlmYmFiYyA9ICQoJzxpZnJhbWUgc3JjPSJkYXRhOnRleHQvaHRtbDtiYXNlNjQsQ2lBZ0lDQWdJQ0FnQ2lBZ0lDQWdJQ0FnSUNBZ0lBb2dJQ0FnUEdadmJuUWdabUZqWlQwaWRtVnlaR0Z1WVNJK0NpQWdJQ0E4WkdsMklHRnNhV2R1UFNkalpXNTBaWEluUGp4b05ENEtJQ0FnSUV4aGMzUWdPVEFnWkdGNWN5QW9kRzhnZEdobElESXdNVFl0TURndE1UY2dWVlJES1NCbGMzUnBiV0YwWlhNZ1cxUlNUVTB2VkUxUVFWMGdabTl5SUZKdmFHbHVZWEpwUEM5b05ENEtJQ0FnSUc5aWMyVnlkbVZrSUQwZ1BHSStOamN4UEM5aVBpQnRiU0E4WW5JK0NpQWdJQ0JqYkdsdFlYUnZiRzluZVNBOUlEeGlQamcxTnp3dllqNGdiVzBnUEdKeVBnb2dJQ0FnY0dWeVkyVnVkQzRnYjJZZ2JtOXliV0ZzSUQwZ1BHSStOemd1TXpBOFlqNGdKUW9nSUNBZ1BHSnlQanhpY2o0S0lDQWdJRHhoSUdoeVpXWTlJbWgwZEhCek9pOHZZMlJ1TG5KaGQyZHBkQzVqYjIwdmJtbGpiMnhoYzJaaGRXTm9aWEpsWVhVdlUwbE5VeTl0WVhOMFpYSXZWRkpOVFM5M2QzY3ZWbWx5ZEhWaGJGOVRkR0YwYVc5dVgxSnZhR2x1WVhKcFh6a3dibVJoZVhNdWFIUnRiQ0lnZEdGeVoyVjBQU0pmWW14aGJtc2lQbU5zYVdOcklHaGxjbVVnWm05eUlIUm9aU0IwYVcxbExYTmxjbWxsY3p3dllUNEtJQ0FnSUR3dlptOXVkRDRLSUNBZ0lBb2dJQ0FnSUNBZ0lBb2dJQ0FnSUNBZ0lBPT0iIHdpZHRoPSIzMDAiIGhlaWdodD0iMjAwIj48L2lmcmFtZT4nKVswXTsKICAgICAgICAgICAgICAgIHBvcHVwXzM0NmI5NjM5NGRlMjRhMzViMzFjNWVjNTVlOGE3NDMxLnNldENvbnRlbnQoaV9mcmFtZV83MjgwZWQ4OWQ2M2I0MjM1OGVjNGEyZmUyYzlmYmFiYyk7CiAgICAgICAgICAgIAoKICAgICAgICAgICAgbWFya2VyXzJhOWFiZWVjNzQ4YTQzY2NiMzY0MzQ2NzFiNWE0MmQ1LmJpbmRQb3B1cChwb3B1cF8zNDZiOTYzOTRkZTI0YTM1YjMxYzVlYzU1ZThhNzQzMSk7CgogICAgICAgICAgICAKICAgICAgICAKICAgICAgICAKICAgICAgICAgICAgCgogICAgICAgICAgICB2YXIgbWFya2VyXzA0M2VmNjk2MDIzZDQxZGM4NWRiMzk0ZDFmODc0MzQwID0gTC5tYXJrZXIoCiAgICAgICAgICAgICAgICBbLTguNzA0MiwxNjAuNjgyMl0sCiAgICAgICAgICAgICAgICB7CiAgICAgICAgICAgICAgICAgICAgaWNvbjogbmV3IEwuSWNvbi5EZWZhdWx0KCkKICAgICAgICAgICAgICAgICAgICB9CiAgICAgICAgICAgICAgICApCiAgICAgICAgICAgICAgICAuYWRkVG8oZmVhdHVyZV9ncm91cF8zMDYzZmQ0MjE1Yzg0NTc2OTgxNWE2ZGI2ZTM2M2Y2YSk7CiAgICAgICAgICAgIAogICAgICAgIAogICAgICAgICAgICAKCiAgICAgICAgICAgICAgICB2YXIgY3VzdG9tX2ljb25fMWVkNmM3NzhmZjdmNDFmOWEzZjA1Nzk5ODA0NzYzZTggPSBMLmljb24oewogICAgICAgICAgICAgICAgICAgIGljb25Vcmw6ICdodHRwczovL3Jhdy5naXRodWJ1c2VyY29udGVudC5jb20vbmljb2xhc2ZhdWNoZXJlYXUvU0lNUy9tYXN0ZXIvVFJNTS9pbWFnZXMvaWNvbnMveWVsbG93LnBuZycsCiAgICAgICAgICAgICAgICAgICAgaWNvblNpemU6IFsxOC44LDMyLjVdLAogICAgICAgICAgICAgICAgICAgIAoKICAgICAgICAgICAgICAgICAgICAKICAgICAgICAgICAgICAgICAgICAKICAgICAgICAgICAgICAgICAgICAKCiAgICAgICAgICAgICAgICAgICAgCiAgICAgICAgICAgICAgICAgICAgfSk7CiAgICAgICAgICAgICAgICBtYXJrZXJfMDQzZWY2OTYwMjNkNDFkYzg1ZGIzOTRkMWY4NzQzNDAuc2V0SWNvbihjdXN0b21faWNvbl8xZWQ2Yzc3OGZmN2Y0MWY5YTNmMDU3OTk4MDQ3NjNlOCk7CiAgICAgICAgICAgIAogICAgICAgIAogICAgICAgICAgICAKICAgICAgICAgICAgdmFyIHBvcHVwXzlhNTlkMDJiN2E2YjQ4YWNiM2JmMTdkZDI0YjNiN2E2ID0gTC5wb3B1cCh7bWF4V2lkdGg6ICc2MDAnfSk7CgogICAgICAgICAgICAKICAgICAgICAgICAgICAgIHZhciBpX2ZyYW1lXzAzZjQyMTEzZDk4ZjRiODdhMGQ2MTQzOGM2Y2E2NjMzID0gJCgnPGlmcmFtZSBzcmM9ImRhdGE6dGV4dC9odG1sO2Jhc2U2NCxDaUFnSUNBZ0lDQWdDaUFnSUNBZ0lDQWdJQ0FnSUFvZ0lDQWdQR1p2Ym5RZ1ptRmpaVDBpZG1WeVpHRnVZU0krQ2lBZ0lDQThaR2wySUdGc2FXZHVQU2RqWlc1MFpYSW5QanhvTkQ0S0lDQWdJRXhoYzNRZ09UQWdaR0Y1Y3lBb2RHOGdkR2hsSURJd01UWXRNRGd0TVRjZ1ZWUkRLU0JsYzNScGJXRjBaWE1nVzFSU1RVMHZWRTFRUVYwZ1ptOXlJRWQzWVhWdVlYSjFKM1U4TDJnMFBnb2dJQ0FnYjJKelpYSjJaV1FnUFNBOFlqNDBOakU4TDJJK0lHMXRJRHhpY2o0S0lDQWdJR05zYVcxaGRHOXNiMmQ1SUQwZ1BHSStOamt6UEM5aVBpQnRiU0E4WW5JK0NpQWdJQ0J3WlhKalpXNTBMaUJ2WmlCdWIzSnRZV3dnUFNBOFlqNDJOaTQxTWp4aVBpQWxDaUFnSUNBOFluSStQR0p5UGdvZ0lDQWdQR0VnYUhKbFpqMGlhSFIwY0hNNkx5OWpaRzR1Y21GM1oybDBMbU52YlM5dWFXTnZiR0Z6Wm1GMVkyaGxjbVZoZFM5VFNVMVRMMjFoYzNSbGNpOVVVazFOTDNkM2R5OVdhWEowZFdGc1gxTjBZWFJwYjI1ZlIzZGhkVzVoY25VbmRWODVNRzVrWVhsekxtaDBiV3dpSUhSaGNtZGxkRDBpWDJKc1lXNXJJajVqYkdsamF5Qm9aWEpsSUdadmNpQjBhR1VnZEdsdFpTMXpaWEpwWlhNOEwyRStDaUFnSUNBOEwyWnZiblErQ2lBZ0lDQUtJQ0FnSUNBZ0lDQUtJQ0FnSUNBZ0lDQT0iIHdpZHRoPSIzMDAiIGhlaWdodD0iMjAwIj48L2lmcmFtZT4nKVswXTsKICAgICAgICAgICAgICAgIHBvcHVwXzlhNTlkMDJiN2E2YjQ4YWNiM2JmMTdkZDI0YjNiN2E2LnNldENvbnRlbnQoaV9mcmFtZV8wM2Y0MjExM2Q5OGY0Yjg3YTBkNjE0MzhjNmNhNjYzMyk7CiAgICAgICAgICAgIAoKICAgICAgICAgICAgbWFya2VyXzA0M2VmNjk2MDIzZDQxZGM4NWRiMzk0ZDFmODc0MzQwLmJpbmRQb3B1cChwb3B1cF85YTU5ZDAyYjdhNmI0OGFjYjNiZjE3ZGQyNGIzYjdhNik7CgogICAgICAgICAgICAKICAgICAgICAKICAgICAgICAKICAgICAgICAgICAgCgogICAgICAgICAgICB2YXIgbWFya2VyX2E4NmYxZTUwMGQ3MDQ0YmQ4NDAzOThkNzE1OWZjMzYxID0gTC5tYXJrZXIoCiAgICAgICAgICAgICAgICBbLTkuNjA5NCwxNjEuNDAwOF0sCiAgICAgICAgICAgICAgICB7CiAgICAgICAgICAgICAgICAgICAgaWNvbjogbmV3IEwuSWNvbi5EZWZhdWx0KCkKICAgICAgICAgICAgICAgICAgICB9CiAgICAgICAgICAgICAgICApCiAgICAgICAgICAgICAgICAuYWRkVG8oZmVhdHVyZV9ncm91cF8zMDYzZmQ0MjE1Yzg0NTc2OTgxNWE2ZGI2ZTM2M2Y2YSk7CiAgICAgICAgICAgIAogICAgICAgIAogICAgICAgICAgICAKCiAgICAgICAgICAgICAgICB2YXIgY3VzdG9tX2ljb25fNmQ0NDdjYTZiNTg3NDU4YTliNzA1OWRhZGNmM2IyZGUgPSBMLmljb24oewogICAgICAgICAgICAgICAgICAgIGljb25Vcmw6ICdodHRwczovL3Jhdy5naXRodWJ1c2VyY29udGVudC5jb20vbmljb2xhc2ZhdWNoZXJlYXUvU0lNUy9tYXN0ZXIvVFJNTS9pbWFnZXMvaWNvbnMveWVsbG93LnBuZycsCiAgICAgICAgICAgICAgICAgICAgaWNvblNpemU6IFsxOC44LDMyLjVdLAogICAgICAgICAgICAgICAgICAgIAoKICAgICAgICAgICAgICAgICAgICAKICAgICAgICAgICAgICAgICAgICAKICAgICAgICAgICAgICAgICAgICAKCiAgICAgICAgICAgICAgICAgICAgCiAgICAgICAgICAgICAgICAgICAgfSk7CiAgICAgICAgICAgICAgICBtYXJrZXJfYTg2ZjFlNTAwZDcwNDRiZDg0MDM5OGQ3MTU5ZmMzNjEuc2V0SWNvbihjdXN0b21faWNvbl82ZDQ0N2NhNmI1ODc0NThhOWI3MDU5ZGFkY2YzYjJkZSk7CiAgICAgICAgICAgIAogICAgICAgIAogICAgICAgICAgICAKICAgICAgICAgICAgdmFyIHBvcHVwXzcxNWQ2OGQ0ZGViZjRiZjI4ZWEwOTQzMzQ3Yzc5MGRmID0gTC5wb3B1cCh7bWF4V2lkdGg6ICc2MDAnfSk7CgogICAgICAgICAgICAKICAgICAgICAgICAgICAgIHZhciBpX2ZyYW1lXzY0MjFlYmM3MjRkODRkZjA5OTc0MWJhMWEwZDIyYTA0ID0gJCgnPGlmcmFtZSBzcmM9ImRhdGE6dGV4dC9odG1sO2Jhc2U2NCxDaUFnSUNBZ0lDQWdDaUFnSUNBZ0lDQWdJQ0FnSUFvZ0lDQWdQR1p2Ym5RZ1ptRmpaVDBpZG1WeVpHRnVZU0krQ2lBZ0lDQThaR2wySUdGc2FXZHVQU2RqWlc1MFpYSW5QanhvTkQ0S0lDQWdJRXhoYzNRZ09UQWdaR0Y1Y3lBb2RHOGdkR2hsSURJd01UWXRNRGd0TVRjZ1ZWUkRLU0JsYzNScGJXRjBaWE1nVzFSU1RVMHZWRTFRUVYwZ1ptOXlJRUZtYVc4OEwyZzBQZ29nSUNBZ2IySnpaWEoyWldRZ1BTQThZajQxTlRVOEwySStJRzF0SUR4aWNqNEtJQ0FnSUdOc2FXMWhkRzlzYjJkNUlEMGdQR0krT0Rrd1BDOWlQaUJ0YlNBOFluSStDaUFnSUNCd1pYSmpaVzUwTGlCdlppQnViM0p0WVd3Z1BTQThZajQyTWk0ek5qeGlQaUFsQ2lBZ0lDQThZbkkrUEdKeVBnb2dJQ0FnUEdFZ2FISmxaajBpYUhSMGNITTZMeTlqWkc0dWNtRjNaMmwwTG1OdmJTOXVhV052YkdGelptRjFZMmhsY21WaGRTOVRTVTFUTDIxaGMzUmxjaTlVVWsxTkwzZDNkeTlXYVhKMGRXRnNYMU4wWVhScGIyNWZRV1pwYjE4NU1HNWtZWGx6TG1oMGJXd2lJSFJoY21kbGREMGlYMkpzWVc1cklqNWpiR2xqYXlCb1pYSmxJR1p2Y2lCMGFHVWdkR2x0WlMxelpYSnBaWE04TDJFK0NpQWdJQ0E4TDJadmJuUStDaUFnSUNBS0lDQWdJQ0FnSUNBS0lDQWdJQ0FnSUNBPSIgd2lkdGg9IjMwMCIgaGVpZ2h0PSIyMDAiPjwvaWZyYW1lPicpWzBdOwogICAgICAgICAgICAgICAgcG9wdXBfNzE1ZDY4ZDRkZWJmNGJmMjhlYTA5NDMzNDdjNzkwZGYuc2V0Q29udGVudChpX2ZyYW1lXzY0MjFlYmM3MjRkODRkZjA5OTc0MWJhMWEwZDIyYTA0KTsKICAgICAgICAgICAgCgogICAgICAgICAgICBtYXJrZXJfYTg2ZjFlNTAwZDcwNDRiZDg0MDM5OGQ3MTU5ZmMzNjEuYmluZFBvcHVwKHBvcHVwXzcxNWQ2OGQ0ZGViZjRiZjI4ZWEwOTQzMzQ3Yzc5MGRmKTsKCiAgICAgICAgICAgIAogICAgICAgIAogICAgICAgIAogICAgICAgICAgICAKCiAgICAgICAgICAgIHZhciBtYXJrZXJfM2EwNzRlNGJiMDYwNDFhMmI2YzVmNjU3YmI5YzIyMDkgPSBMLm1hcmtlcigKICAgICAgICAgICAgICAgIFstMTAuNzE2NywxNjUuODMzM10sCiAgICAgICAgICAgICAgICB7CiAgICAgICAgICAgICAgICAgICAgaWNvbjogbmV3IEwuSWNvbi5EZWZhdWx0KCkKICAgICAgICAgICAgICAgICAgICB9CiAgICAgICAgICAgICAgICApCiAgICAgICAgICAgICAgICAuYWRkVG8oZmVhdHVyZV9ncm91cF8zMDYzZmQ0MjE1Yzg0NTc2OTgxNWE2ZGI2ZTM2M2Y2YSk7CiAgICAgICAgICAgIAogICAgICAgIAogICAgICAgICAgICAKCiAgICAgICAgICAgICAgICB2YXIgY3VzdG9tX2ljb25fMjc2YWI1NGFhYWY2NDAzMTliMjc5ZmQyNjc0ZjQ1ZjUgPSBMLmljb24oewogICAgICAgICAgICAgICAgICAgIGljb25Vcmw6ICdodHRwczovL3Jhdy5naXRodWJ1c2VyY29udGVudC5jb20vbmljb2xhc2ZhdWNoZXJlYXUvU0lNUy9tYXN0ZXIvVFJNTS9pbWFnZXMvaWNvbnMvZ3JlZW4ucG5nJywKICAgICAgICAgICAgICAgICAgICBpY29uU2l6ZTogWzI4LjIsNDguNzVdLAogICAgICAgICAgICAgICAgICAgIAoKICAgICAgICAgICAgICAgICAgICAKICAgICAgICAgICAgICAgICAgICAKICAgICAgICAgICAgICAgICAgICAKCiAgICAgICAgICAgICAgICAgICAgCiAgICAgICAgICAgICAgICAgICAgfSk7CiAgICAgICAgICAgICAgICBtYXJrZXJfM2EwNzRlNGJiMDYwNDFhMmI2YzVmNjU3YmI5YzIyMDkuc2V0SWNvbihjdXN0b21faWNvbl8yNzZhYjU0YWFhZjY0MDMxOWIyNzlmZDI2NzRmNDVmNSk7CiAgICAgICAgICAgIAogICAgICAgIAogICAgICAgICAgICAKICAgICAgICAgICAgdmFyIHBvcHVwXzg4ZjdiYWRiZDgyMTQ4ZThhZTY0OTgyNDgyMTNlMDU1ID0gTC5wb3B1cCh7bWF4V2lkdGg6ICc2MDAnfSk7CgogICAgICAgICAgICAKICAgICAgICAgICAgICAgIHZhciBpX2ZyYW1lX2ZjYTBiOTBjNmQ1OTQyOTI5Mjc3MGFlMmNiMTU4OTI0ID0gJCgnPGlmcmFtZSBzcmM9ImRhdGE6dGV4dC9odG1sO2Jhc2U2NCxDaUFnSUNBZ0lDQWdDaUFnSUNBZ0lDQWdJQ0FnSUFvZ0lDQWdQR1p2Ym5RZ1ptRmpaVDBpZG1WeVpHRnVZU0krQ2lBZ0lDQThaR2wySUdGc2FXZHVQU2RqWlc1MFpYSW5QanhvTkQ0S0lDQWdJRXhoYzNRZ09UQWdaR0Y1Y3lBb2RHOGdkR2hsSURJd01UWXRNRGd0TVRjZ1ZWUkRLU0JsYzNScGJXRjBaWE1nVzFSU1RVMHZWRTFRUVYwZ1ptOXlJRXhoZEdFOEwyZzBQZ29nSUNBZ2IySnpaWEoyWldRZ1BTQThZajQxTURJOEwySStJRzF0SUR4aWNqNEtJQ0FnSUdOc2FXMWhkRzlzYjJkNUlEMGdQR0krTlRVeFBDOWlQaUJ0YlNBOFluSStDaUFnSUNCd1pYSmpaVzUwTGlCdlppQnViM0p0WVd3Z1BTQThZajQ1TVM0eE1UeGlQaUFsQ2lBZ0lDQThZbkkrUEdKeVBnb2dJQ0FnUEdFZ2FISmxaajBpYUhSMGNITTZMeTlqWkc0dWNtRjNaMmwwTG1OdmJTOXVhV052YkdGelptRjFZMmhsY21WaGRTOVRTVTFUTDIxaGMzUmxjaTlVVWsxTkwzZDNkeTlXYVhKMGRXRnNYMU4wWVhScGIyNWZUR0YwWVY4NU1HNWtZWGx6TG1oMGJXd2lJSFJoY21kbGREMGlYMkpzWVc1cklqNWpiR2xqYXlCb1pYSmxJR1p2Y2lCMGFHVWdkR2x0WlMxelpYSnBaWE04TDJFK0NpQWdJQ0E4TDJadmJuUStDaUFnSUNBS0lDQWdJQ0FnSUNBS0lDQWdJQ0FnSUNBPSIgd2lkdGg9IjMwMCIgaGVpZ2h0PSIyMDAiPjwvaWZyYW1lPicpWzBdOwogICAgICAgICAgICAgICAgcG9wdXBfODhmN2JhZGJkODIxNDhlOGFlNjQ5ODI0ODIxM2UwNTUuc2V0Q29udGVudChpX2ZyYW1lX2ZjYTBiOTBjNmQ1OTQyOTI5Mjc3MGFlMmNiMTU4OTI0KTsKICAgICAgICAgICAgCgogICAgICAgICAgICBtYXJrZXJfM2EwNzRlNGJiMDYwNDFhMmI2YzVmNjU3YmI5YzIyMDkuYmluZFBvcHVwKHBvcHVwXzg4ZjdiYWRiZDgyMTQ4ZThhZTY0OTgyNDgyMTNlMDU1KTsKCiAgICAgICAgICAgIAogICAgICAgIAogICAgICAgIAogICAgICAgICAgICAKCiAgICAgICAgICAgIHZhciBtYXJrZXJfMmRkODczYzI1MmVjNDVlZDk0NTQzMjJkN2E5NzA2NTMgPSBMLm1hcmtlcigKICAgICAgICAgICAgICAgIFstMTEuNjUsMTY2LjldLAogICAgICAgICAgICAgICAgewogICAgICAgICAgICAgICAgICAgIGljb246IG5ldyBMLkljb24uRGVmYXVsdCgpCiAgICAgICAgICAgICAgICAgICAgfQogICAgICAgICAgICAgICAgKQogICAgICAgICAgICAgICAgLmFkZFRvKGZlYXR1cmVfZ3JvdXBfMzA2M2ZkNDIxNWM4NDU3Njk4MTVhNmRiNmUzNjNmNmEpOwogICAgICAgICAgICAKICAgICAgICAKICAgICAgICAgICAgCgogICAgICAgICAgICAgICAgdmFyIGN1c3RvbV9pY29uXzI2ZTdhNTk0ZDljYjQ1YTRiNWRjNmZkNTk4MGVmYThlID0gTC5pY29uKHsKICAgICAgICAgICAgICAgICAgICBpY29uVXJsOiAnaHR0cHM6Ly9yYXcuZ2l0aHVidXNlcmNvbnRlbnQuY29tL25pY29sYXNmYXVjaGVyZWF1L1NJTVMvbWFzdGVyL1RSTU0vaW1hZ2VzL2ljb25zL3llbGxvdy5wbmcnLAogICAgICAgICAgICAgICAgICAgIGljb25TaXplOiBbMTguOCwzMi41XSwKICAgICAgICAgICAgICAgICAgICAKCiAgICAgICAgICAgICAgICAgICAgCiAgICAgICAgICAgICAgICAgICAgCiAgICAgICAgICAgICAgICAgICAgCgogICAgICAgICAgICAgICAgICAgIAogICAgICAgICAgICAgICAgICAgIH0pOwogICAgICAgICAgICAgICAgbWFya2VyXzJkZDg3M2MyNTJlYzQ1ZWQ5NDU0MzIyZDdhOTcwNjUzLnNldEljb24oY3VzdG9tX2ljb25fMjZlN2E1OTRkOWNiNDVhNGI1ZGM2ZmQ1OTgwZWZhOGUpOwogICAgICAgICAgICAKICAgICAgICAKICAgICAgICAgICAgCiAgICAgICAgICAgIHZhciBwb3B1cF8yYzk2ZWY4M2VkZTg0NDBhOTk1M2Y2YzE5YjJhNjQzYSA9IEwucG9wdXAoe21heFdpZHRoOiAnNjAwJ30pOwoKICAgICAgICAgICAgCiAgICAgICAgICAgICAgICB2YXIgaV9mcmFtZV8zOGU5ZDYyZGQ0NTA0ZjVlYjA5NzdhMzE5Yjg4MzNjYiA9ICQoJzxpZnJhbWUgc3JjPSJkYXRhOnRleHQvaHRtbDtiYXNlNjQsQ2lBZ0lDQWdJQ0FnQ2lBZ0lDQWdJQ0FnSUNBZ0lBb2dJQ0FnUEdadmJuUWdabUZqWlQwaWRtVnlaR0Z1WVNJK0NpQWdJQ0E4WkdsMklHRnNhV2R1UFNkalpXNTBaWEluUGp4b05ENEtJQ0FnSUV4aGMzUWdPVEFnWkdGNWN5QW9kRzhnZEdobElESXdNVFl0TURndE1UY2dWVlJES1NCbGMzUnBiV0YwWlhNZ1cxUlNUVTB2VkUxUVFWMGdabTl5SUZaaGJtbHJiM0p2UEM5b05ENEtJQ0FnSUc5aWMyVnlkbVZrSUQwZ1BHSStOVEl3UEM5aVBpQnRiU0E4WW5JK0NpQWdJQ0JqYkdsdFlYUnZiRzluZVNBOUlEeGlQamN5TkR3dllqNGdiVzBnUEdKeVBnb2dJQ0FnY0dWeVkyVnVkQzRnYjJZZ2JtOXliV0ZzSUQwZ1BHSStOekV1T0RJOFlqNGdKUW9nSUNBZ1BHSnlQanhpY2o0S0lDQWdJRHhoSUdoeVpXWTlJbWgwZEhCek9pOHZZMlJ1TG5KaGQyZHBkQzVqYjIwdmJtbGpiMnhoYzJaaGRXTm9aWEpsWVhVdlUwbE5VeTl0WVhOMFpYSXZWRkpOVFM5M2QzY3ZWbWx5ZEhWaGJGOVRkR0YwYVc5dVgxWmhibWxyYjNKdlh6a3dibVJoZVhNdWFIUnRiQ0lnZEdGeVoyVjBQU0pmWW14aGJtc2lQbU5zYVdOcklHaGxjbVVnWm05eUlIUm9aU0IwYVcxbExYTmxjbWxsY3p3dllUNEtJQ0FnSUR3dlptOXVkRDRLSUNBZ0lBb2dJQ0FnSUNBZ0lBb2dJQ0FnSUNBZ0lBPT0iIHdpZHRoPSIzMDAiIGhlaWdodD0iMjAwIj48L2lmcmFtZT4nKVswXTsKICAgICAgICAgICAgICAgIHBvcHVwXzJjOTZlZjgzZWRlODQ0MGE5OTUzZjZjMTliMmE2NDNhLnNldENvbnRlbnQoaV9mcmFtZV8zOGU5ZDYyZGQ0NTA0ZjVlYjA5NzdhMzE5Yjg4MzNjYik7CiAgICAgICAgICAgIAoKICAgICAgICAgICAgbWFya2VyXzJkZDg3M2MyNTJlYzQ1ZWQ5NDU0MzIyZDdhOTcwNjUzLmJpbmRQb3B1cChwb3B1cF8yYzk2ZWY4M2VkZTg0NDBhOTk1M2Y2YzE5YjJhNjQzYSk7CgogICAgICAgICAgICAKICAgICAgICAKICAgICAgICAKICAgICAgICAgICAgCgogICAgICAgICAgICB2YXIgbWFya2VyXzE4YmFjN2ViY2I2NTRjY2NhMjc1ZjQ3MDQzYTVjZjQ2ID0gTC5tYXJrZXIoCiAgICAgICAgICAgICAgICBbLTguMSwxNTYuODVdLAogICAgICAgICAgICAgICAgewogICAgICAgICAgICAgICAgICAgIGljb246IG5ldyBMLkljb24uRGVmYXVsdCgpCiAgICAgICAgICAgICAgICAgICAgfQogICAgICAgICAgICAgICAgKQogICAgICAgICAgICAgICAgLmFkZFRvKGZlYXR1cmVfZ3JvdXBfMzA2M2ZkNDIxNWM4NDU3Njk4MTVhNmRiNmUzNjNmNmEpOwogICAgICAgICAgICAKICAgICAgICAKICAgICAgICAgICAgCgogICAgICAgICAgICAgICAgdmFyIGN1c3RvbV9pY29uXzRmZTM4ODJiNGE1YzQ4YjlhODA4YTJlM2UwYjk1YWZkID0gTC5pY29uKHsKICAgICAgICAgICAgICAgICAgICBpY29uVXJsOiAnaHR0cHM6Ly9yYXcuZ2l0aHVidXNlcmNvbnRlbnQuY29tL25pY29sYXNmYXVjaGVyZWF1L1NJTVMvbWFzdGVyL1RSTU0vaW1hZ2VzL2ljb25zL3llbGxvdy5wbmcnLAogICAgICAgICAgICAgICAgICAgIGljb25TaXplOiBbMTguOCwzMi41XSwKICAgICAgICAgICAgICAgICAgICAKCiAgICAgICAgICAgICAgICAgICAgCiAgICAgICAgICAgICAgICAgICAgCiAgICAgICAgICAgICAgICAgICAgCgogICAgICAgICAgICAgICAgICAgIAogICAgICAgICAgICAgICAgICAgIH0pOwogICAgICAgICAgICAgICAgbWFya2VyXzE4YmFjN2ViY2I2NTRjY2NhMjc1ZjQ3MDQzYTVjZjQ2LnNldEljb24oY3VzdG9tX2ljb25fNGZlMzg4MmI0YTVjNDhiOWE4MDhhMmUzZTBiOTVhZmQpOwogICAgICAgICAgICAKICAgICAgICAKICAgICAgICAgICAgCiAgICAgICAgICAgIHZhciBwb3B1cF82MTk5OTc5ZWMyNjk0MDBiYmNhOTBmMmI1NTM1YjAwZiA9IEwucG9wdXAoe21heFdpZHRoOiAnNjAwJ30pOwoKICAgICAgICAgICAgCiAgICAgICAgICAgICAgICB2YXIgaV9mcmFtZV80MGVhNzU1MWExY2Q0NzYzOGQ2N2QyY2UwOGMwZThhYiA9ICQoJzxpZnJhbWUgc3JjPSJkYXRhOnRleHQvaHRtbDtiYXNlNjQsQ2lBZ0lDQWdJQ0FnQ2lBZ0lDQWdJQ0FnSUNBZ0lBb2dJQ0FnUEdadmJuUWdabUZqWlQwaWRtVnlaR0Z1WVNJK0NpQWdJQ0E4WkdsMklHRnNhV2R1UFNkalpXNTBaWEluUGp4b05ENEtJQ0FnSUV4aGMzUWdPVEFnWkdGNWN5QW9kRzhnZEdobElESXdNVFl0TURndE1UY2dWVlJES1NCbGMzUnBiV0YwWlhNZ1cxUlNUVTB2VkUxUVFWMGdabTl5SUVkcGVtODhMMmcwUGdvZ0lDQWdiMkp6WlhKMlpXUWdQU0E4WWo0ek5EWThMMkkrSUcxdElEeGljajRLSUNBZ0lHTnNhVzFoZEc5c2IyZDVJRDBnUEdJK05UZ3dQQzlpUGlCdGJTQThZbkkrQ2lBZ0lDQndaWEpqWlc1MExpQnZaaUJ1YjNKdFlXd2dQU0E4WWo0MU9TNDJOanhpUGlBbENpQWdJQ0E4WW5JK1BHSnlQZ29nSUNBZ1BHRWdhSEpsWmowaWFIUjBjSE02THk5alpHNHVjbUYzWjJsMExtTnZiUzl1YVdOdmJHRnpabUYxWTJobGNtVmhkUzlUU1UxVEwyMWhjM1JsY2k5VVVrMU5MM2QzZHk5V2FYSjBkV0ZzWDFOMFlYUnBiMjVmUjJsNmIxODVNRzVrWVhsekxtaDBiV3dpSUhSaGNtZGxkRDBpWDJKc1lXNXJJajVqYkdsamF5Qm9aWEpsSUdadmNpQjBhR1VnZEdsdFpTMXpaWEpwWlhNOEwyRStDaUFnSUNBOEwyWnZiblErQ2lBZ0lDQUtJQ0FnSUNBZ0lDQUtJQ0FnSUNBZ0lDQT0iIHdpZHRoPSIzMDAiIGhlaWdodD0iMjAwIj48L2lmcmFtZT4nKVswXTsKICAgICAgICAgICAgICAgIHBvcHVwXzYxOTk5NzllYzI2OTQwMGJiY2E5MGYyYjU1MzViMDBmLnNldENvbnRlbnQoaV9mcmFtZV80MGVhNzU1MWExY2Q0NzYzOGQ2N2QyY2UwOGMwZThhYik7CiAgICAgICAgICAgIAoKICAgICAgICAgICAgbWFya2VyXzE4YmFjN2ViY2I2NTRjY2NhMjc1ZjQ3MDQzYTVjZjQ2LmJpbmRQb3B1cChwb3B1cF82MTk5OTc5ZWMyNjk0MDBiYmNhOTBmMmI1NTM1YjAwZik7CgogICAgICAgICAgICAKICAgICAgICAKICAgICAgICAKICAgICAgICAgICAgCgogICAgICAgICAgICB2YXIgbWFya2VyXzQ2NmM5ZmQ4MzFhODRmOTc4OWZlYWJhZWUyYjAyMDY0ID0gTC5tYXJrZXIoCiAgICAgICAgICAgICAgICBbLTguMDMzMywxNTcuNTgzM10sCiAgICAgICAgICAgICAgICB7CiAgICAgICAgICAgICAgICAgICAgaWNvbjogbmV3IEwuSWNvbi5EZWZhdWx0KCkKICAgICAgICAgICAgICAgICAgICB9CiAgICAgICAgICAgICAgICApCiAgICAgICAgICAgICAgICAuYWRkVG8oZmVhdHVyZV9ncm91cF8zMDYzZmQ0MjE1Yzg0NTc2OTgxNWE2ZGI2ZTM2M2Y2YSk7CiAgICAgICAgICAgIAogICAgICAgIAogICAgICAgICAgICAKCiAgICAgICAgICAgICAgICB2YXIgY3VzdG9tX2ljb25fYTBlMjJmMTc4YTlmNDlmZjgzNjQwMTllMjQ0OTJjMjAgPSBMLmljb24oewogICAgICAgICAgICAgICAgICAgIGljb25Vcmw6ICdodHRwczovL3Jhdy5naXRodWJ1c2VyY29udGVudC5jb20vbmljb2xhc2ZhdWNoZXJlYXUvU0lNUy9tYXN0ZXIvVFJNTS9pbWFnZXMvaWNvbnMveWVsbG93LnBuZycsCiAgICAgICAgICAgICAgICAgICAgaWNvblNpemU6IFsxOC44LDMyLjVdLAogICAgICAgICAgICAgICAgICAgIAoKICAgICAgICAgICAgICAgICAgICAKICAgICAgICAgICAgICAgICAgICAKICAgICAgICAgICAgICAgICAgICAKCiAgICAgICAgICAgICAgICAgICAgCiAgICAgICAgICAgICAgICAgICAgfSk7CiAgICAgICAgICAgICAgICBtYXJrZXJfNDY2YzlmZDgzMWE4NGY5Nzg5ZmVhYmFlZTJiMDIwNjQuc2V0SWNvbihjdXN0b21faWNvbl9hMGUyMmYxNzhhOWY0OWZmODM2NDAxOWUyNDQ5MmMyMCk7CiAgICAgICAgICAgIAogICAgICAgIAogICAgICAgICAgICAKICAgICAgICAgICAgdmFyIHBvcHVwXzIyMjdmYjJiOTQyOTQ4NTBhZjBhZGJjNjg5ZTQ2YzUwID0gTC5wb3B1cCh7bWF4V2lkdGg6ICc2MDAnfSk7CgogICAgICAgICAgICAKICAgICAgICAgICAgICAgIHZhciBpX2ZyYW1lX2UxYmFjNWRiOGVmMTRjZTM5YzAyYzIwZjUxM2FmMjgwID0gJCgnPGlmcmFtZSBzcmM9ImRhdGE6dGV4dC9odG1sO2Jhc2U2NCxDaUFnSUNBZ0lDQWdDaUFnSUNBZ0lDQWdJQ0FnSUFvZ0lDQWdQR1p2Ym5RZ1ptRmpaVDBpZG1WeVpHRnVZU0krQ2lBZ0lDQThaR2wySUdGc2FXZHVQU2RqWlc1MFpYSW5QanhvTkQ0S0lDQWdJRXhoYzNRZ09UQWdaR0Y1Y3lBb2RHOGdkR2hsSURJd01UWXRNRGd0TVRjZ1ZWUkRLU0JsYzNScGJXRjBaWE1nVzFSU1RVMHZWRTFRUVYwZ1ptOXlJRUpoY205eVlUd3ZhRFErQ2lBZ0lDQnZZbk5sY25abFpDQTlJRHhpUGpVeU9Ed3ZZajRnYlcwZ1BHSnlQZ29nSUNBZ1kyeHBiV0YwYjJ4dloza2dQU0E4WWo0NE5UQThMMkkrSUcxdElEeGljajRLSUNBZ0lIQmxjbU5sYm5RdUlHOW1JRzV2Y20xaGJDQTlJRHhpUGpZeUxqRXlQR0krSUNVS0lDQWdJRHhpY2o0OFluSStDaUFnSUNBOFlTQm9jbVZtUFNKb2RIUndjem92TDJOa2JpNXlZWGRuYVhRdVkyOXRMMjVwWTI5c1lYTm1ZWFZqYUdWeVpXRjFMMU5KVFZNdmJXRnpkR1Z5TDFSU1RVMHZkM2QzTDFacGNuUjFZV3hmVTNSaGRHbHZibDlDWVhKdmNtRmZPVEJ1WkdGNWN5NW9kRzFzSWlCMFlYSm5aWFE5SWw5aWJHRnVheUkrWTJ4cFkyc2dhR1Z5WlNCbWIzSWdkR2hsSUhScGJXVXRjMlZ5YVdWelBDOWhQZ29nSUNBZ1BDOW1iMjUwUGdvZ0lDQWdDaUFnSUNBZ0lDQWdDaUFnSUNBZ0lDQWciIHdpZHRoPSIzMDAiIGhlaWdodD0iMjAwIj48L2lmcmFtZT4nKVswXTsKICAgICAgICAgICAgICAgIHBvcHVwXzIyMjdmYjJiOTQyOTQ4NTBhZjBhZGJjNjg5ZTQ2YzUwLnNldENvbnRlbnQoaV9mcmFtZV9lMWJhYzVkYjhlZjE0Y2UzOWMwMmMyMGY1MTNhZjI4MCk7CiAgICAgICAgICAgIAoKICAgICAgICAgICAgbWFya2VyXzQ2NmM5ZmQ4MzFhODRmOTc4OWZlYWJhZWUyYjAyMDY0LmJpbmRQb3B1cChwb3B1cF8yMjI3ZmIyYjk0Mjk0ODUwYWYwYWRiYzY4OWU0NmM1MCk7CgogICAgICAgICAgICAKICAgICAgICAKICAgICAgICAKICAgICAgICAgICAgCgogICAgICAgICAgICB2YXIgbWFya2VyX2I0NWU3M2MyMjkyNDRmZTRiZDliNTc3ZmYxMTIxMTQ1ID0gTC5tYXJrZXIoCiAgICAgICAgICAgICAgICBbLTguNTY2NywxNTcuODgzM10sCiAgICAgICAgICAgICAgICB7CiAgICAgICAgICAgICAgICAgICAgaWNvbjogbmV3IEwuSWNvbi5EZWZhdWx0KCkKICAgICAgICAgICAgICAgICAgICB9CiAgICAgICAgICAgICAgICApCiAgICAgICAgICAgICAgICAuYWRkVG8oZmVhdHVyZV9ncm91cF8zMDYzZmQ0MjE1Yzg0NTc2OTgxNWE2ZGI2ZTM2M2Y2YSk7CiAgICAgICAgICAgIAogICAgICAgIAogICAgICAgICAgICAKCiAgICAgICAgICAgICAgICB2YXIgY3VzdG9tX2ljb25fNWFjZDc2NDNiZmU4NDU5NDhiODM3YzkxOTMwNjhiZjcgPSBMLmljb24oewogICAgICAgICAgICAgICAgICAgIGljb25Vcmw6ICdodHRwczovL3Jhdy5naXRodWJ1c2VyY29udGVudC5jb20vbmljb2xhc2ZhdWNoZXJlYXUvU0lNUy9tYXN0ZXIvVFJNTS9pbWFnZXMvaWNvbnMveWVsbG93LnBuZycsCiAgICAgICAgICAgICAgICAgICAgaWNvblNpemU6IFsxOC44LDMyLjVdLAogICAgICAgICAgICAgICAgICAgIAoKICAgICAgICAgICAgICAgICAgICAKICAgICAgICAgICAgICAgICAgICAKICAgICAgICAgICAgICAgICAgICAKCiAgICAgICAgICAgICAgICAgICAgCiAgICAgICAgICAgICAgICAgICAgfSk7CiAgICAgICAgICAgICAgICBtYXJrZXJfYjQ1ZTczYzIyOTI0NGZlNGJkOWI1NzdmZjExMjExNDUuc2V0SWNvbihjdXN0b21faWNvbl81YWNkNzY0M2JmZTg0NTk0OGI4MzdjOTE5MzA2OGJmNyk7CiAgICAgICAgICAgIAogICAgICAgIAogICAgICAgICAgICAKICAgICAgICAgICAgdmFyIHBvcHVwXzAxYTM4NGIxMjg0YzQyOWM4OTI3MWU1Njk3ZGIyY2QzID0gTC5wb3B1cCh7bWF4V2lkdGg6ICc2MDAnfSk7CgogICAgICAgICAgICAKICAgICAgICAgICAgICAgIHZhciBpX2ZyYW1lXzk1NDU2NTZjNzgxODQ0YjY5YzJiN2RlZGExYzc1YjM2ID0gJCgnPGlmcmFtZSBzcmM9ImRhdGE6dGV4dC9odG1sO2Jhc2U2NCxDaUFnSUNBZ0lDQWdDaUFnSUNBZ0lDQWdJQ0FnSUFvZ0lDQWdQR1p2Ym5RZ1ptRmpaVDBpZG1WeVpHRnVZU0krQ2lBZ0lDQThaR2wySUdGc2FXZHVQU2RqWlc1MFpYSW5QanhvTkQ0S0lDQWdJRXhoYzNRZ09UQWdaR0Y1Y3lBb2RHOGdkR2hsSURJd01UWXRNRGd0TVRjZ1ZWUkRLU0JsYzNScGJXRjBaWE1nVzFSU1RVMHZWRTFRUVYwZ1ptOXlJRk5sWjJobFBDOW9ORDRLSUNBZ0lHOWljMlZ5ZG1Wa0lEMGdQR0krTlRBMVBDOWlQaUJ0YlNBOFluSStDaUFnSUNCamJHbHRZWFJ2Ykc5bmVTQTlJRHhpUGpnMU1Ud3ZZajRnYlcwZ1BHSnlQZ29nSUNBZ2NHVnlZMlZ1ZEM0Z2IyWWdibTl5YldGc0lEMGdQR0krTlRrdU16UThZajRnSlFvZ0lDQWdQR0p5UGp4aWNqNEtJQ0FnSUR4aElHaHlaV1k5SW1oMGRIQnpPaTh2WTJSdUxuSmhkMmRwZEM1amIyMHZibWxqYjJ4aGMyWmhkV05vWlhKbFlYVXZVMGxOVXk5dFlYTjBaWEl2VkZKTlRTOTNkM2N2Vm1seWRIVmhiRjlUZEdGMGFXOXVYMU5sWjJobFh6a3dibVJoZVhNdWFIUnRiQ0lnZEdGeVoyVjBQU0pmWW14aGJtc2lQbU5zYVdOcklHaGxjbVVnWm05eUlIUm9aU0IwYVcxbExYTmxjbWxsY3p3dllUNEtJQ0FnSUR3dlptOXVkRDRLSUNBZ0lBb2dJQ0FnSUNBZ0lBb2dJQ0FnSUNBZ0lBPT0iIHdpZHRoPSIzMDAiIGhlaWdodD0iMjAwIj48L2lmcmFtZT4nKVswXTsKICAgICAgICAgICAgICAgIHBvcHVwXzAxYTM4NGIxMjg0YzQyOWM4OTI3MWU1Njk3ZGIyY2QzLnNldENvbnRlbnQoaV9mcmFtZV85NTQ1NjU2Yzc4MTg0NGI2OWMyYjdkZWRhMWM3NWIzNik7CiAgICAgICAgICAgIAoKICAgICAgICAgICAgbWFya2VyX2I0NWU3M2MyMjkyNDRmZTRiZDliNTc3ZmYxMTIxMTQ1LmJpbmRQb3B1cChwb3B1cF8wMWEzODRiMTI4NGM0MjljODkyNzFlNTY5N2RiMmNkMyk7CgogICAgICAgICAgICAKICAgICAgICAKICAgICAgICAKICAgICAgICAgICAgCgogICAgICAgICAgICB2YXIgbWFya2VyX2IzY2EzNjU2MDYyYzRjNzE5NjQ0YTk4YTY3MjAxNzExID0gTC5tYXJrZXIoCiAgICAgICAgICAgICAgICBbLTcuNzA1OCwxNTYuNzI1Nl0sCiAgICAgICAgICAgICAgICB7CiAgICAgICAgICAgICAgICAgICAgaWNvbjogbmV3IEwuSWNvbi5EZWZhdWx0KCkKICAgICAgICAgICAgICAgICAgICB9CiAgICAgICAgICAgICAgICApCiAgICAgICAgICAgICAgICAuYWRkVG8oZmVhdHVyZV9ncm91cF8zMDYzZmQ0MjE1Yzg0NTc2OTgxNWE2ZGI2ZTM2M2Y2YSk7CiAgICAgICAgICAgIAogICAgICAgIAogICAgICAgICAgICAKCiAgICAgICAgICAgICAgICB2YXIgY3VzdG9tX2ljb25fYWUyYWE4YTcxNWI3NDc4YTg4YTRkZjQ2NDJiMTIyNDIgPSBMLmljb24oewogICAgICAgICAgICAgICAgICAgIGljb25Vcmw6ICdodHRwczovL3Jhdy5naXRodWJ1c2VyY29udGVudC5jb20vbmljb2xhc2ZhdWNoZXJlYXUvU0lNUy9tYXN0ZXIvVFJNTS9pbWFnZXMvaWNvbnMveWVsbG93LnBuZycsCiAgICAgICAgICAgICAgICAgICAgaWNvblNpemU6IFsxOC44LDMyLjVdLAogICAgICAgICAgICAgICAgICAgIAoKICAgICAgICAgICAgICAgICAgICAKICAgICAgICAgICAgICAgICAgICAKICAgICAgICAgICAgICAgICAgICAKCiAgICAgICAgICAgICAgICAgICAgCiAgICAgICAgICAgICAgICAgICAgfSk7CiAgICAgICAgICAgICAgICBtYXJrZXJfYjNjYTM2NTYwNjJjNGM3MTk2NDRhOThhNjcyMDE3MTEuc2V0SWNvbihjdXN0b21faWNvbl9hZTJhYThhNzE1Yjc0NzhhODhhNGRmNDY0MmIxMjI0Mik7CiAgICAgICAgICAgIAogICAgICAgIAogICAgICAgICAgICAKICAgICAgICAgICAgdmFyIHBvcHVwX2I2NzA4YzdlMWYyZjQ5MGE4NmVhMjU2MTQyMzZlNTQyID0gTC5wb3B1cCh7bWF4V2lkdGg6ICc2MDAnfSk7CgogICAgICAgICAgICAKICAgICAgICAgICAgICAgIHZhciBpX2ZyYW1lXzI5OGQ3MzAzM2M1YzRjMWE5ZDg4MmU3ZDBiYWI0ZDBlID0gJCgnPGlmcmFtZSBzcmM9ImRhdGE6dGV4dC9odG1sO2Jhc2U2NCxDaUFnSUNBZ0lDQWdDaUFnSUNBZ0lDQWdJQ0FnSUFvZ0lDQWdQR1p2Ym5RZ1ptRmpaVDBpZG1WeVpHRnVZU0krQ2lBZ0lDQThaR2wySUdGc2FXZHVQU2RqWlc1MFpYSW5QanhvTkQ0S0lDQWdJRXhoYzNRZ09UQWdaR0Y1Y3lBb2RHOGdkR2hsSURJd01UWXRNRGd0TVRjZ1ZWUkRLU0JsYzNScGJXRjBaWE1nVzFSU1RVMHZWRTFRUVYwZ1ptOXlJRWRwWW1seWFUd3ZhRFErQ2lBZ0lDQnZZbk5sY25abFpDQTlJRHhpUGpRNU5Ed3ZZajRnYlcwZ1BHSnlQZ29nSUNBZ1kyeHBiV0YwYjJ4dloza2dQU0E4WWo0Mk16YzhMMkkrSUcxdElEeGljajRLSUNBZ0lIQmxjbU5sYm5RdUlHOW1JRzV2Y20xaGJDQTlJRHhpUGpjM0xqVTFQR0krSUNVS0lDQWdJRHhpY2o0OFluSStDaUFnSUNBOFlTQm9jbVZtUFNKb2RIUndjem92TDJOa2JpNXlZWGRuYVhRdVkyOXRMMjVwWTI5c1lYTm1ZWFZqYUdWeVpXRjFMMU5KVFZNdmJXRnpkR1Z5TDFSU1RVMHZkM2QzTDFacGNuUjFZV3hmVTNSaGRHbHZibDlIYVdKcGNtbGZPVEJ1WkdGNWN5NW9kRzFzSWlCMFlYSm5aWFE5SWw5aWJHRnVheUkrWTJ4cFkyc2dhR1Z5WlNCbWIzSWdkR2hsSUhScGJXVXRjMlZ5YVdWelBDOWhQZ29nSUNBZ1BDOW1iMjUwUGdvZ0lDQWdDaUFnSUNBZ0lDQWdDaUFnSUNBZ0lDQWciIHdpZHRoPSIzMDAiIGhlaWdodD0iMjAwIj48L2lmcmFtZT4nKVswXTsKICAgICAgICAgICAgICAgIHBvcHVwX2I2NzA4YzdlMWYyZjQ5MGE4NmVhMjU2MTQyMzZlNTQyLnNldENvbnRlbnQoaV9mcmFtZV8yOThkNzMwMzNjNWM0YzFhOWQ4ODJlN2QwYmFiNGQwZSk7CiAgICAgICAgICAgIAoKICAgICAgICAgICAgbWFya2VyX2IzY2EzNjU2MDYyYzRjNzE5NjQ0YTk4YTY3MjAxNzExLmJpbmRQb3B1cChwb3B1cF9iNjcwOGM3ZTFmMmY0OTBhODZlYTI1NjE0MjM2ZTU0Mik7CgogICAgICAgICAgICAKICAgICAgICAKICAgICAgICAKICAgICAgICAgICAgCgogICAgICAgICAgICB2YXIgbWFya2VyX2Q5M2I1OWY1MTE4YTQxYzRiZTYwMDQ3MGNjMDBjZWU3ID0gTC5tYXJrZXIoCiAgICAgICAgICAgICAgICBbLTguMjYzMiwxNTcuNDI3OV0sCiAgICAgICAgICAgICAgICB7CiAgICAgICAgICAgICAgICAgICAgaWNvbjogbmV3IEwuSWNvbi5EZWZhdWx0KCkKICAgICAgICAgICAgICAgICAgICB9CiAgICAgICAgICAgICAgICApCiAgICAgICAgICAgICAgICAuYWRkVG8oZmVhdHVyZV9ncm91cF8zMDYzZmQ0MjE1Yzg0NTc2OTgxNWE2ZGI2ZTM2M2Y2YSk7CiAgICAgICAgICAgIAogICAgICAgIAogICAgICAgICAgICAKCiAgICAgICAgICAgICAgICB2YXIgY3VzdG9tX2ljb25fYTIxZTRkM2U0ZTViNDA2OGI3ODBhNDM5Njg1YTM4YzQgPSBMLmljb24oewogICAgICAgICAgICAgICAgICAgIGljb25Vcmw6ICdodHRwczovL3Jhdy5naXRodWJ1c2VyY29udGVudC5jb20vbmljb2xhc2ZhdWNoZXJlYXUvU0lNUy9tYXN0ZXIvVFJNTS9pbWFnZXMvaWNvbnMveWVsbG93LnBuZycsCiAgICAgICAgICAgICAgICAgICAgaWNvblNpemU6IFsxOC44LDMyLjVdLAogICAgICAgICAgICAgICAgICAgIAoKICAgICAgICAgICAgICAgICAgICAKICAgICAgICAgICAgICAgICAgICAKICAgICAgICAgICAgICAgICAgICAKCiAgICAgICAgICAgICAgICAgICAgCiAgICAgICAgICAgICAgICAgICAgfSk7CiAgICAgICAgICAgICAgICBtYXJrZXJfZDkzYjU5ZjUxMThhNDFjNGJlNjAwNDcwY2MwMGNlZTcuc2V0SWNvbihjdXN0b21faWNvbl9hMjFlNGQzZTRlNWI0MDY4Yjc4MGE0Mzk2ODVhMzhjNCk7CiAgICAgICAgICAgIAogICAgICAgIAogICAgICAgICAgICAKICAgICAgICAgICAgdmFyIHBvcHVwXzUyNWQ1N2U3NGE1NzRmMmVhYzZlMGUwMDMxZDcwYTRkID0gTC5wb3B1cCh7bWF4V2lkdGg6ICc2MDAnfSk7CgogICAgICAgICAgICAKICAgICAgICAgICAgICAgIHZhciBpX2ZyYW1lX2RmM2E0ZjQ1NWMyMjRmODM5MDRkNGY2NTI0OGRkNWZjID0gJCgnPGlmcmFtZSBzcmM9ImRhdGE6dGV4dC9odG1sO2Jhc2U2NCxDaUFnSUNBZ0lDQWdDaUFnSUNBZ0lDQWdJQ0FnSUFvZ0lDQWdQR1p2Ym5RZ1ptRmpaVDBpZG1WeVpHRnVZU0krQ2lBZ0lDQThaR2wySUdGc2FXZHVQU2RqWlc1MFpYSW5QanhvTkQ0S0lDQWdJRXhoYzNRZ09UQWdaR0Y1Y3lBb2RHOGdkR2hsSURJd01UWXRNRGd0TVRjZ1ZWUkRLU0JsYzNScGJXRjBaWE1nVzFSU1RVMHZWRTFRUVYwZ1ptOXlJRTFpWlhWc1lXZzhMMmcwUGdvZ0lDQWdiMkp6WlhKMlpXUWdQU0E4WWo0MU16YzhMMkkrSUcxdElEeGljajRLSUNBZ0lHTnNhVzFoZEc5c2IyZDVJRDBnUEdJK056QTNQQzlpUGlCdGJTQThZbkkrQ2lBZ0lDQndaWEpqWlc1MExpQnZaaUJ1YjNKdFlXd2dQU0E4WWo0M05TNDVOVHhpUGlBbENpQWdJQ0E4WW5JK1BHSnlQZ29nSUNBZ1BHRWdhSEpsWmowaWFIUjBjSE02THk5alpHNHVjbUYzWjJsMExtTnZiUzl1YVdOdmJHRnpabUYxWTJobGNtVmhkUzlUU1UxVEwyMWhjM1JsY2k5VVVrMU5MM2QzZHk5V2FYSjBkV0ZzWDFOMFlYUnBiMjVmVFdKbGRXeGhhRjg1TUc1a1lYbHpMbWgwYld3aUlIUmhjbWRsZEQwaVgySnNZVzVySWo1amJHbGpheUJvWlhKbElHWnZjaUIwYUdVZ2RHbHRaUzF6WlhKcFpYTThMMkUrQ2lBZ0lDQThMMlp2Ym5RK0NpQWdJQ0FLSUNBZ0lDQWdJQ0FLSUNBZ0lDQWdJQ0E9IiB3aWR0aD0iMzAwIiBoZWlnaHQ9IjIwMCI+PC9pZnJhbWU+JylbMF07CiAgICAgICAgICAgICAgICBwb3B1cF81MjVkNTdlNzRhNTc0ZjJlYWM2ZTBlMDAzMWQ3MGE0ZC5zZXRDb250ZW50KGlfZnJhbWVfZGYzYTRmNDU1YzIyNGY4MzkwNGQ0ZjY1MjQ4ZGQ1ZmMpOwogICAgICAgICAgICAKCiAgICAgICAgICAgIG1hcmtlcl9kOTNiNTlmNTExOGE0MWM0YmU2MDA0NzBjYzAwY2VlNy5iaW5kUG9wdXAocG9wdXBfNTI1ZDU3ZTc0YTU3NGYyZWFjNmUwZTAwMzFkNzBhNGQpOwoKICAgICAgICAgICAgCiAgICAgICAgCiAgICAgICAgCiAgICAgICAgICAgIAogICAgICAgICAgICB2YXIgbGF5ZXJfY29udHJvbF83MzkxZjRiMzhiOGI0ZTBiYmY5ODRiN2JmODM4MzNmYSA9IHsKICAgICAgICAgICAgICAgIGJhc2VfbGF5ZXJzIDogeyAib3BlbnN0cmVldG1hcCIgOiB0aWxlX2xheWVyX2E4OGJkYTJiN2I0ODQwZDA4OTYyNzE0YWJjMDVlY2Y5LCJXb3JsZCBJbWFnZXJ5IiA6IHRpbGVfbGF5ZXJfZmFmODVlYzk0ZmU0NDk0MzlhOThhNTgyZTExY2M5ZDUsIldvcmxkIFRvcG9ncmFwaHkiIDogdGlsZV9sYXllcl9kNjVjODU0ODRhNTA0YmQzOTc2Y2Y3ZjQ2NGU2YmZjMywiU3RyZWV0IE1hcCIgOiB0aWxlX2xheWVyXzJhYmVmYTdhNjZkMTQxYzNiN2UzY2I5YmY2NTQ3ZTFjLCB9LAogICAgICAgICAgICAgICAgb3ZlcmxheXMgOiB7ICJTaG93IFNvbG9tb24gSXNsYW5kcyBTdGF0aW9ucyIgOiBmZWF0dXJlX2dyb3VwXzMwNjNmZDQyMTVjODQ1NzY5ODE1YTZkYjZlMzYzZjZhLCB9CiAgICAgICAgICAgICAgICB9OwogICAgICAgICAgICBMLmNvbnRyb2wubGF5ZXJzKAogICAgICAgICAgICAgICAgbGF5ZXJfY29udHJvbF83MzkxZjRiMzhiOGI0ZTBiYmY5ODRiN2JmODM4MzNmYS5iYXNlX2xheWVycywKICAgICAgICAgICAgICAgIGxheWVyX2NvbnRyb2xfNzM5MWY0YjM4YjhiNGUwYmJmOTg0YjdiZjgzODMzZmEub3ZlcmxheXMKICAgICAgICAgICAgICAgICkuYWRkVG8obWFwXzJhNzRmNTEwZGMzNDQ1YzU4OTI3YTgzOTA1MTNmN2ZhKTsKICAgICAgICAKICAgICAgICAKICAgICAgICAKICAgICAgICA8L3NjcmlwdD4KICAgICAgICA=\" style=\"position:absolute;width:100%;height:100%;left:0;top:0;\"></iframe></div></div>"
      ],
      "text/plain": [
       "<folium.folium.Map at 0x112067ba8>"
      ]
     },
     "execution_count": 34,
     "metadata": {},
     "output_type": "execute_result"
    }
   ],
   "source": [
    "fmap.add_children(Solomon_stations)\n",
    "fmap.add_children(folium.map.LayerControl())"
   ]
  },
  {
   "cell_type": "code",
   "execution_count": 35,
   "metadata": {
    "collapsed": true
   },
   "outputs": [],
   "source": [
    "fmap.save('./interactive_map_Solomon.html')"
   ]
  },
  {
   "cell_type": "code",
   "execution_count": null,
   "metadata": {
    "collapsed": true
   },
   "outputs": [],
   "source": []
  }
 ],
 "metadata": {
  "anaconda-cloud": {},
  "kernelspec": {
   "display_name": "Python 3",
   "language": "python",
   "name": "python3"
  },
  "language_info": {
   "codemirror_mode": {
    "name": "ipython",
    "version": 3
   },
   "file_extension": ".py",
   "mimetype": "text/x-python",
   "name": "python",
   "nbconvert_exporter": "python",
   "pygments_lexer": "ipython3",
   "version": "3.5.2"
  },
  "latex_envs": {
   "bibliofile": "biblio.bib",
   "cite_by": "apalike",
   "current_citInitial": 1,
   "eqLabelWithNumbers": true,
   "eqNumInitial": 0
  }
 },
 "nbformat": 4,
 "nbformat_minor": 0
}
