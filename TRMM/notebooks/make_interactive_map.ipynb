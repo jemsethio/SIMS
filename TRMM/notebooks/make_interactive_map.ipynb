{
 "cells": [
  {
   "cell_type": "markdown",
   "metadata": {},
   "source": [
    "### TRMM PNG monitoring"
   ]
  },
  {
   "cell_type": "code",
   "execution_count": 1,
   "metadata": {
    "collapsed": true
   },
   "outputs": [],
   "source": [
    "%matplotlib inline\n",
    "from matplotlib import pyplot as plt"
   ]
  },
  {
   "cell_type": "code",
   "execution_count": 2,
   "metadata": {
    "collapsed": false
   },
   "outputs": [],
   "source": [
    "import numpy as np\n",
    "import pandas as pd\n",
    "import xarray as xray\n",
    "from netCDF4 import MFDataset\n",
    "from datetime import datetime, timedelta\n",
    "from glob import glob\n",
    "import palettable\n",
    "import folium\n",
    "from folium.map import FeatureGroup"
   ]
  },
  {
   "cell_type": "code",
   "execution_count": 3,
   "metadata": {
    "collapsed": true
   },
   "outputs": [],
   "source": [
    "domain = {'latmin':-13, 'lonmin':155., 'latmax':-5, 'lonmax':168.}"
   ]
  },
  {
   "cell_type": "code",
   "execution_count": 4,
   "metadata": {
    "collapsed": true
   },
   "outputs": [],
   "source": [
    "import warnings\n",
    "warnings.simplefilter(action = \"ignore\", category = FutureWarning)"
   ]
  },
  {
   "cell_type": "code",
   "execution_count": 5,
   "metadata": {
    "collapsed": true
   },
   "outputs": [],
   "source": [
    "def read_netcdfs(files, dim, transform_func=None):\n",
    "    def process_one_path(path):\n",
    "        # use a context manager, to ensure the file gets closed after use\n",
    "        with xray.open_dataset(path) as ds:\n",
    "            # transform_func shdset_clim = dset_clim.sel(lat=slice(domain['latmin'], domain['latmax']), could do some sort of selection or\n",
    "            # aggregation\n",
    "            if transform_func is not None:\n",
    "                ds = transform_func(ds)\n",
    "            # load all data from the transformed dataset, to ensure we can\n",
    "            # use it after closing each original file\n",
    "            ds.load()\n",
    "            return ds\n",
    "\n",
    "    #paths = sorted(glob(files))\n",
    "    datasets = [process_one_path(p) for p in files]\n",
    "    combined = xray.concat(datasets, dim)\n",
    "    return combined"
   ]
  },
  {
   "cell_type": "code",
   "execution_count": 6,
   "metadata": {
    "collapsed": true
   },
   "outputs": [],
   "source": [
    "dpath = '/Users/nicolasf/data/TRMM/daily/'\n",
    "climpath = '/Users/nicolasf/data/TRMM/climatology/daily/2001_2015/'"
   ]
  },
  {
   "cell_type": "code",
   "execution_count": 7,
   "metadata": {
    "collapsed": false
   },
   "outputs": [],
   "source": [
    "today = datetime.utcnow()"
   ]
  },
  {
   "cell_type": "code",
   "execution_count": 8,
   "metadata": {
    "collapsed": true
   },
   "outputs": [],
   "source": [
    "lag = 1"
   ]
  },
  {
   "cell_type": "code",
   "execution_count": 9,
   "metadata": {
    "collapsed": true
   },
   "outputs": [],
   "source": [
    "trmm_date = today - timedelta(days=lag)"
   ]
  },
  {
   "cell_type": "code",
   "execution_count": 10,
   "metadata": {
    "collapsed": false
   },
   "outputs": [
    {
     "name": "stdout",
     "output_type": "stream",
     "text": [
      "2016-08-27 23:44:12.529027\n"
     ]
    }
   ],
   "source": [
    "print(trmm_date)"
   ]
  },
  {
   "cell_type": "code",
   "execution_count": 11,
   "metadata": {
    "collapsed": true
   },
   "outputs": [],
   "source": [
    "ndays = 90"
   ]
  },
  {
   "cell_type": "code",
   "execution_count": 12,
   "metadata": {
    "collapsed": true
   },
   "outputs": [],
   "source": [
    "realtime = pd.date_range(start=trmm_date - timedelta(days=ndays-1), end=trmm_date)"
   ]
  },
  {
   "cell_type": "code",
   "execution_count": 13,
   "metadata": {
    "collapsed": true
   },
   "outputs": [],
   "source": [
    "lfiles = []\n",
    "for d in realtime: \n",
    "    fname  = dpath + \"3B42RT_daily.{}.nc\".format(d.strftime(\"%Y.%m.%d\"))\n",
    "    lfiles.append(fname)"
   ]
  },
  {
   "cell_type": "code",
   "execution_count": 14,
   "metadata": {
    "collapsed": true
   },
   "outputs": [],
   "source": [
    "dset_realtime = read_netcdfs(lfiles, 'time')"
   ]
  },
  {
   "cell_type": "code",
   "execution_count": 15,
   "metadata": {
    "collapsed": true
   },
   "outputs": [],
   "source": [
    "dset_realtime = dset_realtime.sel(lat=slice(domain['latmin'], domain['latmax']), \\\n",
    "                                  lon=slice(domain['lonmin'], domain['lonmax']))"
   ]
  },
  {
   "cell_type": "code",
   "execution_count": 16,
   "metadata": {
    "collapsed": true
   },
   "outputs": [],
   "source": [
    "clim_files = []\n",
    "for d in realtime: \n",
    "    fname  = climpath + \"3B42_daily.{}.nc\".format(d.strftime(\"%m.%d\"))\n",
    "    clim_files.append(fname)"
   ]
  },
  {
   "cell_type": "code",
   "execution_count": 17,
   "metadata": {
    "collapsed": true
   },
   "outputs": [],
   "source": [
    "dset_clim = read_netcdfs(clim_files, 'time')"
   ]
  },
  {
   "cell_type": "code",
   "execution_count": 18,
   "metadata": {
    "collapsed": true
   },
   "outputs": [],
   "source": [
    "dset_clim = dset_clim.sel(lat=slice(domain['latmin'], domain['latmax']), \\\n",
    "                          lon=slice(domain['lonmin'], domain['lonmax']))"
   ]
  },
  {
   "cell_type": "code",
   "execution_count": 19,
   "metadata": {
    "collapsed": false
   },
   "outputs": [
    {
     "data": {
      "text/plain": [
       "<xarray.Dataset>\n",
       "Dimensions:  (lat: 32, lon: 52, time: 90)\n",
       "Coordinates:\n",
       "  * lon      (lon) float32 155.125 155.375 155.625 155.875 156.125 156.375 ...\n",
       "  * lat      (lat) float32 -12.875 -12.625 -12.375 -12.125 -11.875 -11.625 ...\n",
       "  * time     (time) int64 0 1 2 3 4 5 6 7 8 9 10 11 12 13 14 15 16 17 18 19 ...\n",
       "Data variables:\n",
       "    trmm     (time, lat, lon) float64 5.822 7.361 8.361 10.63 12.87 12.55 ..."
      ]
     },
     "execution_count": 19,
     "metadata": {},
     "output_type": "execute_result"
    }
   ],
   "source": [
    "dset_clim"
   ]
  },
  {
   "cell_type": "markdown",
   "metadata": {},
   "source": [
    "### reads in the location for the virtual stations"
   ]
  },
  {
   "cell_type": "code",
   "execution_count": 20,
   "metadata": {
    "collapsed": true
   },
   "outputs": [],
   "source": [
    "Virtual_Stations = pd.read_csv('../data/station_list_Solomon_lat_lon.csv', index_col=0)"
   ]
  },
  {
   "cell_type": "code",
   "execution_count": 21,
   "metadata": {
    "collapsed": false
   },
   "outputs": [
    {
     "data": {
      "text/html": [
       "<div>\n",
       "<table border=\"1\" class=\"dataframe\">\n",
       "  <thead>\n",
       "    <tr style=\"text-align: right;\">\n",
       "      <th></th>\n",
       "      <th>name_primary</th>\n",
       "      <th>name_secondary</th>\n",
       "      <th>latitude</th>\n",
       "      <th>longitude</th>\n",
       "    </tr>\n",
       "  </thead>\n",
       "  <tbody>\n",
       "    <tr>\n",
       "      <th>33</th>\n",
       "      <td>Gizo</td>\n",
       "      <td>NaN</td>\n",
       "      <td>-8.1000</td>\n",
       "      <td>156.8500</td>\n",
       "    </tr>\n",
       "    <tr>\n",
       "      <th>36</th>\n",
       "      <td>Barora</td>\n",
       "      <td>NaN</td>\n",
       "      <td>-8.0333</td>\n",
       "      <td>157.5833</td>\n",
       "    </tr>\n",
       "    <tr>\n",
       "      <th>37</th>\n",
       "      <td>Seghe</td>\n",
       "      <td>NaN</td>\n",
       "      <td>-8.5667</td>\n",
       "      <td>157.8833</td>\n",
       "    </tr>\n",
       "    <tr>\n",
       "      <th>40</th>\n",
       "      <td>Gibiri</td>\n",
       "      <td>AutoRain</td>\n",
       "      <td>-7.7058</td>\n",
       "      <td>156.7256</td>\n",
       "    </tr>\n",
       "    <tr>\n",
       "      <th>41</th>\n",
       "      <td>Mbeulah</td>\n",
       "      <td>AutoRain</td>\n",
       "      <td>-8.2632</td>\n",
       "      <td>157.4279</td>\n",
       "    </tr>\n",
       "  </tbody>\n",
       "</table>\n",
       "</div>"
      ],
      "text/plain": [
       "   name_primary name_secondary  latitude  longitude\n",
       "33         Gizo            NaN   -8.1000   156.8500\n",
       "36       Barora            NaN   -8.0333   157.5833\n",
       "37        Seghe            NaN   -8.5667   157.8833\n",
       "40       Gibiri       AutoRain   -7.7058   156.7256\n",
       "41      Mbeulah       AutoRain   -8.2632   157.4279"
      ]
     },
     "execution_count": 21,
     "metadata": {},
     "output_type": "execute_result"
    }
   ],
   "source": [
    "Virtual_Stations.tail()"
   ]
  },
  {
   "cell_type": "code",
   "execution_count": 22,
   "metadata": {
    "collapsed": false
   },
   "outputs": [],
   "source": [
    "dsums = {}\n",
    "\n",
    "for i, row in Virtual_Stations.iterrows(): \n",
    "    stn_name = row['name_primary']\n",
    "    lat_V = row['latitude']\n",
    "    lon_V = row['longitude']\n",
    "\n",
    "    \n",
    "    clim_ts = dset_clim.sel(lat=lat_V, lon=lon_V, method='nearest')['trmm']\n",
    "    realtime_ts = dset_realtime.sel(lat=lat_V, lon=lon_V, method='nearest')['trmm']\n",
    "    df_ts = realtime_ts.to_dataframe()[['trmm']]\n",
    "    df_ts.loc[:,'clim'] = clim_ts.data\n",
    "    df_ts.columns = ['observed','climatology']\n",
    "    sums = df_ts.sum()\n",
    "    dsums[stn_name] = sums"
   ]
  },
  {
   "cell_type": "code",
   "execution_count": 23,
   "metadata": {
    "collapsed": false
   },
   "outputs": [],
   "source": [
    "df_dsums = pd.DataFrame(dsums)"
   ]
  },
  {
   "cell_type": "code",
   "execution_count": 24,
   "metadata": {
    "collapsed": false
   },
   "outputs": [],
   "source": [
    "df_dsums = df_dsums.T"
   ]
  },
  {
   "cell_type": "code",
   "execution_count": 25,
   "metadata": {
    "collapsed": false
   },
   "outputs": [],
   "source": [
    "df_dsums = df_dsums.astype(np.int)"
   ]
  },
  {
   "cell_type": "code",
   "execution_count": 26,
   "metadata": {
    "collapsed": false
   },
   "outputs": [
    {
     "data": {
      "text/html": [
       "<div>\n",
       "<table border=\"1\" class=\"dataframe\">\n",
       "  <thead>\n",
       "    <tr style=\"text-align: right;\">\n",
       "      <th></th>\n",
       "      <th>observed</th>\n",
       "      <th>climatology</th>\n",
       "    </tr>\n",
       "  </thead>\n",
       "  <tbody>\n",
       "    <tr>\n",
       "      <th>Afio</th>\n",
       "      <td>482</td>\n",
       "      <td>885</td>\n",
       "    </tr>\n",
       "    <tr>\n",
       "      <th>Atoifi</th>\n",
       "      <td>897</td>\n",
       "      <td>1114</td>\n",
       "    </tr>\n",
       "    <tr>\n",
       "      <th>Atori</th>\n",
       "      <td>507</td>\n",
       "      <td>940</td>\n",
       "    </tr>\n",
       "    <tr>\n",
       "      <th>Avu Avu</th>\n",
       "      <td>581</td>\n",
       "      <td>812</td>\n",
       "    </tr>\n",
       "    <tr>\n",
       "      <th>Barora</th>\n",
       "      <td>513</td>\n",
       "      <td>849</td>\n",
       "    </tr>\n",
       "  </tbody>\n",
       "</table>\n",
       "</div>"
      ],
      "text/plain": [
       "         observed  climatology\n",
       "Afio          482          885\n",
       "Atoifi        897         1114\n",
       "Atori         507          940\n",
       "Avu Avu       581          812\n",
       "Barora        513          849"
      ]
     },
     "execution_count": 26,
     "metadata": {},
     "output_type": "execute_result"
    }
   ],
   "source": [
    "df_dsums.head()"
   ]
  },
  {
   "cell_type": "code",
   "execution_count": 27,
   "metadata": {
    "collapsed": true
   },
   "outputs": [],
   "source": [
    "cities = {}\n",
    "for i, row in Virtual_Stations.iterrows():         \n",
    "    stn_name = row['name_primary']\n",
    "    lat_V = row['latitude']\n",
    "    lon_V = row['longitude']\n",
    "    cities[stn_name] = (lat_V, lon_V)"
   ]
  },
  {
   "cell_type": "markdown",
   "metadata": {},
   "source": [
    "## map with Folium"
   ]
  },
  {
   "cell_type": "code",
   "execution_count": 28,
   "metadata": {
    "collapsed": false
   },
   "outputs": [
    {
     "data": {
      "text/html": [
       "<div>\n",
       "<table border=\"1\" class=\"dataframe\">\n",
       "  <thead>\n",
       "    <tr style=\"text-align: right;\">\n",
       "      <th></th>\n",
       "      <th>name_primary</th>\n",
       "      <th>name_secondary</th>\n",
       "      <th>latitude</th>\n",
       "      <th>longitude</th>\n",
       "    </tr>\n",
       "  </thead>\n",
       "  <tbody>\n",
       "    <tr>\n",
       "      <th>33</th>\n",
       "      <td>Gizo</td>\n",
       "      <td>NaN</td>\n",
       "      <td>-8.1000</td>\n",
       "      <td>156.8500</td>\n",
       "    </tr>\n",
       "    <tr>\n",
       "      <th>36</th>\n",
       "      <td>Barora</td>\n",
       "      <td>NaN</td>\n",
       "      <td>-8.0333</td>\n",
       "      <td>157.5833</td>\n",
       "    </tr>\n",
       "    <tr>\n",
       "      <th>37</th>\n",
       "      <td>Seghe</td>\n",
       "      <td>NaN</td>\n",
       "      <td>-8.5667</td>\n",
       "      <td>157.8833</td>\n",
       "    </tr>\n",
       "    <tr>\n",
       "      <th>40</th>\n",
       "      <td>Gibiri</td>\n",
       "      <td>AutoRain</td>\n",
       "      <td>-7.7058</td>\n",
       "      <td>156.7256</td>\n",
       "    </tr>\n",
       "    <tr>\n",
       "      <th>41</th>\n",
       "      <td>Mbeulah</td>\n",
       "      <td>AutoRain</td>\n",
       "      <td>-8.2632</td>\n",
       "      <td>157.4279</td>\n",
       "    </tr>\n",
       "  </tbody>\n",
       "</table>\n",
       "</div>"
      ],
      "text/plain": [
       "   name_primary name_secondary  latitude  longitude\n",
       "33         Gizo            NaN   -8.1000   156.8500\n",
       "36       Barora            NaN   -8.0333   157.5833\n",
       "37        Seghe            NaN   -8.5667   157.8833\n",
       "40       Gibiri       AutoRain   -7.7058   156.7256\n",
       "41      Mbeulah       AutoRain   -8.2632   157.4279"
      ]
     },
     "execution_count": 28,
     "metadata": {},
     "output_type": "execute_result"
    }
   ],
   "source": [
    "Virtual_Stations.tail()"
   ]
  },
  {
   "cell_type": "code",
   "execution_count": 29,
   "metadata": {
    "collapsed": false
   },
   "outputs": [],
   "source": [
    "fmap = folium.Map(location=[-9, 163], zoom_start=6, min_lon = 0., max_lon = 360., detect_retina=True)"
   ]
  },
  {
   "cell_type": "markdown",
   "metadata": {},
   "source": [
    "### add the background layers"
   ]
  },
  {
   "cell_type": "code",
   "execution_count": 30,
   "metadata": {
    "collapsed": true
   },
   "outputs": [],
   "source": [
    "add = '/tile/{z}/{y}/{x}'\n",
    "\n",
    "ESRI = {}\n",
    "ESRI['World Imagery'] = 'http://server.arcgisonline.com/ArcGIS/rest/services/World_Imagery/MapServer'\n",
    "ESRI['World Topography'] = 'http://services.arcgisonline.com/arcgis/rest/services/World_Topo_Map/MapServer'\n",
    "ESRI['Street Map'] = 'http://services.arcgisonline.com/arcgis/rest/services/World_Street_Map/MapServer'\n",
    "\n",
    "for tile_name in ['World Imagery','World Topography','Street Map']:\n",
    "    tile_url = ESRI[tile_name]\n",
    "    tile_url += add\n",
    "    fmap.add_tile_layer(name=tile_name,\n",
    "                     tiles=tile_url, attr='ESRI')"
   ]
  },
  {
   "cell_type": "markdown",
   "metadata": {},
   "source": [
    "### create a feature group which will include the stations markers "
   ]
  },
  {
   "cell_type": "code",
   "execution_count": 31,
   "metadata": {
    "collapsed": false
   },
   "outputs": [],
   "source": [
    "Solomon_stations = FeatureGroup(name='Show Solomon Islands Stations')"
   ]
  },
  {
   "cell_type": "code",
   "execution_count": 32,
   "metadata": {
    "collapsed": false
   },
   "outputs": [],
   "source": [
    "size_icon = (188, 325)"
   ]
  },
  {
   "cell_type": "markdown",
   "metadata": {},
   "source": [
    "### loops over the stations "
   ]
  },
  {
   "cell_type": "code",
   "execution_count": 33,
   "metadata": {
    "collapsed": false
   },
   "outputs": [],
   "source": [
    "for i in Virtual_Stations.index:\n",
    "    \n",
    "    data = Virtual_Stations.ix[i]\n",
    "    \n",
    "    name_primary = data.name_primary\n",
    "    \n",
    "    obs = df_dsums.ix[name_primary].values[0]\n",
    "    clim = df_dsums.ix[name_primary].values[1]\n",
    "    \n",
    "    anom = (obs / clim) * 100\n",
    "    \n",
    "    html = \"\"\"\n",
    "    <font face=\"verdana\">\n",
    "    <div align='center'><h4>\n",
    "    Last 90 days (to the {:%Y-%m-%d UTC}) estimates [TRMM/TMPA] for {}</h4>\n",
    "    observed = <b>{}</b> mm <br>\n",
    "    climatology = <b>{}</b> mm <br>\n",
    "    percent. of normal = <b>{:4.2f}<b> %\n",
    "    <br><br>\n",
    "    <a href=\"https://cdn.rawgit.com/nicolasfauchereau/SIMS/master/TRMM/www/Virtual_Station_{}_90ndays.html\" target=\"_blank\">click here for the time-series</a>\n",
    "    </font>\n",
    "    \"\"\".format(trmm_date, name_primary, obs, clim, anom, name_primary)\n",
    "        \n",
    "    iframe = folium.element.IFrame(html=html, width=300, height=200)\n",
    "    \n",
    "    popup = folium.Popup(iframe, max_width=600)\n",
    "    \n",
    "    if anom <= 40: \n",
    "        icon = folium.features.CustomIcon('https://raw.githubusercontent.com/nicolasfauchereau/SIMS/master/TRMM/images/icons/orange.png',\\\n",
    "                                         icon_size=(size_icon[0]*0.05, size_icon[1]*0.05))\n",
    "        marker = folium.map.Marker([data.latitude, data.longitude], icon=icon, popup=popup)   \n",
    "    elif (anom > 40) & (anom <= 80):\n",
    "        icon = folium.features.CustomIcon('https://raw.githubusercontent.com/nicolasfauchereau/SIMS/master/TRMM/images/icons/yellow.png',\\\n",
    "                                         icon_size=(size_icon[0]*0.1, size_icon[1]*0.1))\n",
    "        marker = folium.map.Marker([data.latitude, data.longitude], icon=icon, popup=popup)   \n",
    "    elif (anom > 80) & (anom < 120):\n",
    "        icon = folium.features.CustomIcon('https://raw.githubusercontent.com/nicolasfauchereau/SIMS/master/TRMM/images/icons/green.png',\\\n",
    "                                         icon_size=(size_icon[0]*0.15, size_icon[1]*0.15))\n",
    "        marker = folium.map.Marker([data.latitude, data.longitude], icon=icon, popup=popup)  \n",
    "    elif (anom >= 120) & (anom < 160):\n",
    "        icon = folium.features.CustomIcon('https://raw.githubusercontent.com/nicolasfauchereau/SIMS/master/TRMM/images/icons/blue.png',\\\n",
    "                                         icon_size=(size_icon[0]*0.2, size_icon[1]*0.2))\n",
    "        marker = folium.map.Marker([data.latitude, data.longitude], icon=icon, popup=popup)  \n",
    "    elif anom > 160:\n",
    "        icon = folium.features.CustomIcon('https://raw.githubusercontent.com/nicolasfauchereau/SIMS/master/TRMM/images/icons/deepblue.png',\\\n",
    "                                         icon_size=(size_icon[0]*0.25, size_icon[1]*0.25))\n",
    "        marker = folium.map.Marker([data.latitude, data.longitude], icon=icon, popup=popup)  \n",
    "    \n",
    "#     c = folium.CircleMarker(location=[data.latitude, data.longitude], popup=popup, color='red', fill_color='red', \\\n",
    "#                         fill_opacity=0.4, radius=5000)\n",
    "    \n",
    "#     c  = folium.Marker(location=[data.latitude, data.longitude], popup=popup)\n",
    "    \n",
    "    # add to fature group\n",
    "    Solomon_stations.add_children(marker)"
   ]
  },
  {
   "cell_type": "code",
   "execution_count": 34,
   "metadata": {
    "collapsed": false
   },
   "outputs": [
    {
     "data": {
      "text/html": [
       "<div style=\"width:100%;\"><div style=\"position:relative;width:100%;height:0;padding-bottom:60%;\"><iframe src=\"data:text/html;base64,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\" style=\"position:absolute;width:100%;height:100%;left:0;top:0;\"></iframe></div></div>"
      ],
      "text/plain": [
       "<folium.folium.Map at 0x1123939e8>"
      ]
     },
     "execution_count": 34,
     "metadata": {},
     "output_type": "execute_result"
    }
   ],
   "source": [
    "fmap.add_children(Solomon_stations)\n",
    "fmap.add_children(folium.map.LayerControl())"
   ]
  },
  {
   "cell_type": "code",
   "execution_count": 35,
   "metadata": {
    "collapsed": true
   },
   "outputs": [],
   "source": [
    "fmap.save('./interactive_map_Solomon.html')"
   ]
  },
  {
   "cell_type": "code",
   "execution_count": null,
   "metadata": {
    "collapsed": true
   },
   "outputs": [],
   "source": []
  }
 ],
 "metadata": {
  "anaconda-cloud": {},
  "kernelspec": {
   "display_name": "Python [default]",
   "language": "python",
   "name": "python3"
  },
  "language_info": {
   "codemirror_mode": {
    "name": "ipython",
    "version": 3
   },
   "file_extension": ".py",
   "mimetype": "text/x-python",
   "name": "python",
   "nbconvert_exporter": "python",
   "pygments_lexer": "ipython3",
   "version": "3.5.2"
  },
  "latex_envs": {
   "bibliofile": "biblio.bib",
   "cite_by": "apalike",
   "current_citInitial": 1,
   "eqLabelWithNumbers": true,
   "eqNumInitial": 0
  }
 },
 "nbformat": 4,
 "nbformat_minor": 0
}
